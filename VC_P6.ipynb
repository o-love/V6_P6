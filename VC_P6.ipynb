{
 "cells": [
  {
   "cell_type": "code",
   "execution_count": 1,
   "metadata": {},
   "outputs": [],
   "source": [
    "import cv2\n",
    "from deepface import DeepFace"
   ]
  },
  {
   "cell_type": "code",
   "execution_count": 7,
   "metadata": {},
   "outputs": [
    {
     "name": "stderr",
     "output_type": "stream",
     "text": [
      "Action: emotion: 100%|██████████| 1/1 [00:00<00:00,  5.42it/s]\n"
     ]
    },
    {
     "name": "stdout",
     "output_type": "stream",
     "text": [
      "{'emotion': {'angry': 81.55336599905897, 'disgust': 0.001864180154059958, 'fear': 0.06494021898848187, 'happy': 2.1491998107195127, 'sad': 3.1513418970892553, 'surprise': 2.9778288852776424, 'neutral': 10.101451265638916}, 'dominant_emotion': 'angry', 'region': {'x': 0, 'y': 0, 'w': 1920, 'h': 1080}}\n"
     ]
    },
    {
     "name": "stderr",
     "output_type": "stream",
     "text": [
      "Action: emotion: 100%|██████████| 1/1 [00:00<00:00, 11.09it/s]\n"
     ]
    },
    {
     "name": "stdout",
     "output_type": "stream",
     "text": [
      "{'emotion': {'angry': 81.0159683227539, 'disgust': 3.491782141207267e-08, 'fear': 18.893061578273773, 'happy': 0.00028652584660449065, 'sad': 6.26715973339742e-05, 'surprise': 0.09061834425665438, 'neutral': 5.583669704378735e-06}, 'dominant_emotion': 'angry', 'region': {'x': 0, 'y': 0, 'w': 1920, 'h': 1080}}\n"
     ]
    },
    {
     "name": "stderr",
     "output_type": "stream",
     "text": [
      "Action: emotion: 100%|██████████| 1/1 [00:00<00:00, 30.59it/s]\n"
     ]
    },
    {
     "name": "stdout",
     "output_type": "stream",
     "text": [
      "{'emotion': {'angry': 7.3652502814084455, 'disgust': 0.0019063479384698607, 'fear': 87.21170349190852, 'happy': 2.161563130412288, 'sad': 2.2526282297151226, 'surprise': 0.8231417766595945, 'neutral': 0.18381030463041692}, 'dominant_emotion': 'fear', 'region': {'x': 105, 'y': 431, 'w': 128, 'h': 128}}\n"
     ]
    },
    {
     "name": "stderr",
     "output_type": "stream",
     "text": [
      "Action: emotion: 100%|██████████| 1/1 [00:00<00:00, 31.23it/s]\n"
     ]
    },
    {
     "name": "stdout",
     "output_type": "stream",
     "text": [
      "{'emotion': {'angry': 99.99846816053797, 'disgust': 1.472318665576296e-10, 'fear': 0.0015119740956731533, 'happy': 2.0285385248301288e-05, 'sad': 1.1716758262546222e-07, 'surprise': 1.123201251786341e-08, 'neutral': 2.2221260879134852e-08}, 'dominant_emotion': 'angry', 'region': {'x': 0, 'y': 0, 'w': 1920, 'h': 1080}}\n"
     ]
    },
    {
     "name": "stderr",
     "output_type": "stream",
     "text": [
      "Action: emotion: 100%|██████████| 1/1 [00:00<00:00, 25.25it/s]\n"
     ]
    },
    {
     "name": "stdout",
     "output_type": "stream",
     "text": [
      "{'emotion': {'angry': 0.19394749558970384, 'disgust': 2.3291748684281554e-05, 'fear': 14.82981117608414, 'happy': 0.11117892411453437, 'sad': 0.01767961883406042, 'surprise': 84.77566423706243, 'neutral': 0.07168861648427051}, 'dominant_emotion': 'surprise', 'region': {'x': 698, 'y': 86, 'w': 307, 'h': 307}}\n"
     ]
    },
    {
     "name": "stderr",
     "output_type": "stream",
     "text": [
      "Action: emotion: 100%|██████████| 1/1 [00:00<00:00, 29.77it/s]\n"
     ]
    },
    {
     "name": "stdout",
     "output_type": "stream",
     "text": [
      "{'emotion': {'angry': 99.99198913574219, 'disgust': 7.491383381685868e-10, 'fear': 0.00800244088168256, 'happy': 4.32509210668286e-06, 'sad': 1.3143840460472234e-07, 'surprise': 3.4428488504545385e-06, 'neutral': 2.5790723723329023e-09}, 'dominant_emotion': 'angry', 'region': {'x': 0, 'y': 0, 'w': 1920, 'h': 1080}}\n"
     ]
    },
    {
     "name": "stderr",
     "output_type": "stream",
     "text": [
      "Action: emotion: 100%|██████████| 1/1 [00:00<00:00, 30.89it/s]\n"
     ]
    },
    {
     "name": "stdout",
     "output_type": "stream",
     "text": [
      "{'emotion': {'angry': 99.75786805152893, 'disgust': 3.56653395705564e-07, 'fear': 0.24164356291294098, 'happy': 0.00012276429970370373, 'sad': 1.9980712195888373e-06, 'surprise': 0.00036785884276469005, 'neutral': 3.318658958750831e-08}, 'dominant_emotion': 'angry', 'region': {'x': 0, 'y': 0, 'w': 1920, 'h': 1080}}\n"
     ]
    },
    {
     "name": "stderr",
     "output_type": "stream",
     "text": [
      "Action: emotion: 100%|██████████| 1/1 [00:00<00:00, 32.90it/s]\n"
     ]
    },
    {
     "name": "stdout",
     "output_type": "stream",
     "text": [
      "{'emotion': {'angry': 99.5288610458374, 'disgust': 3.9498669224258265e-06, 'fear': 0.4698644857853651, 'happy': 0.000453282700618729, 'sad': 4.030206923744117e-06, 'surprise': 0.0008129550224111881, 'neutral': 9.056393412976149e-08}, 'dominant_emotion': 'angry', 'region': {'x': 0, 'y': 0, 'w': 1920, 'h': 1080}}\n"
     ]
    },
    {
     "name": "stderr",
     "output_type": "stream",
     "text": [
      "Action: emotion: 100%|██████████| 1/1 [00:00<00:00, 31.96it/s]\n"
     ]
    },
    {
     "name": "stdout",
     "output_type": "stream",
     "text": [
      "{'emotion': {'angry': 0.3064139148025018, 'disgust': 7.738033433052334e-05, 'fear': 84.45043749208003, 'happy': 1.0702773584094811, 'sad': 1.5313020013210772, 'surprise': 11.695117599354077, 'neutral': 0.9463756148367387}, 'dominant_emotion': 'fear', 'region': {'x': 685, 'y': 76, 'w': 336, 'h': 336}}\n"
     ]
    },
    {
     "name": "stderr",
     "output_type": "stream",
     "text": [
      "Action: emotion: 100%|██████████| 1/1 [00:00<00:00, 31.00it/s]\n"
     ]
    },
    {
     "name": "stdout",
     "output_type": "stream",
     "text": [
      "{'emotion': {'angry': 0.0014856233065074775, 'disgust': 3.476585122216824e-10, 'fear': 0.6438303738832474, 'happy': 0.009200631029671058, 'sad': 3.265247866511345, 'surprise': 0.00018457861870047054, 'neutral': 96.08005285263062}, 'dominant_emotion': 'neutral', 'region': {'x': 692, 'y': 83, 'w': 326, 'h': 326}}\n"
     ]
    },
    {
     "name": "stderr",
     "output_type": "stream",
     "text": [
      "Action: emotion: 100%|██████████| 1/1 [00:00<00:00, 24.61it/s]\n"
     ]
    },
    {
     "name": "stdout",
     "output_type": "stream",
     "text": [
      "{'emotion': {'angry': 0.2627470763400197, 'disgust': 2.9195350581545654e-07, 'fear': 51.16679072380066, 'happy': 1.1723503470420837, 'sad': 0.4140442702919245, 'surprise': 42.08317995071411, 'neutral': 4.9008868634700775}, 'dominant_emotion': 'fear', 'region': {'x': 697, 'y': 81, 'w': 324, 'h': 324}}\n"
     ]
    },
    {
     "name": "stderr",
     "output_type": "stream",
     "text": [
      "Action: emotion: 100%|██████████| 1/1 [00:00<00:00, 33.13it/s]\n"
     ]
    },
    {
     "name": "stdout",
     "output_type": "stream",
     "text": [
      "{'emotion': {'angry': 89.59407744372352, 'disgust': 0.00011152340658445425, 'fear': 10.40132927306469, 'happy': 0.002014137982767849, 'sad': 1.4562432128844696e-05, 'surprise': 0.002458049458337636, 'neutral': 5.987607988819095e-08}, 'dominant_emotion': 'angry', 'region': {'x': 0, 'y': 0, 'w': 1920, 'h': 1080}}\n"
     ]
    },
    {
     "name": "stderr",
     "output_type": "stream",
     "text": [
      "Action: emotion: 100%|██████████| 1/1 [00:00<00:00, 34.07it/s]\n"
     ]
    },
    {
     "name": "stdout",
     "output_type": "stream",
     "text": [
      "{'emotion': {'angry': 94.69884101166237, 'disgust': 3.552191432761141e-05, 'fear': 5.298361668185989, 'happy': 0.0010704918710766737, 'sad': 2.2616689112133213e-05, 'surprise': 0.0016632395108862246, 'neutral': 6.171929453395864e-08}, 'dominant_emotion': 'angry', 'region': {'x': 0, 'y': 0, 'w': 1920, 'h': 1080}}\n"
     ]
    },
    {
     "name": "stderr",
     "output_type": "stream",
     "text": [
      "Action: emotion: 100%|██████████| 1/1 [00:00<00:00, 33.01it/s]\n"
     ]
    },
    {
     "name": "stdout",
     "output_type": "stream",
     "text": [
      "{'emotion': {'angry': 98.30560664005358, 'disgust': 7.806546385126828e-06, 'fear': 1.6935784525964799, 'happy': 0.0005477954999156753, 'sad': 7.72726117504824e-06, 'surprise': 0.0002567088664794433, 'neutral': 3.612776897553533e-08}, 'dominant_emotion': 'angry', 'region': {'x': 0, 'y': 0, 'w': 1920, 'h': 1080}}\n"
     ]
    },
    {
     "name": "stderr",
     "output_type": "stream",
     "text": [
      "Action: emotion: 100%|██████████| 1/1 [00:00<00:00, 32.79it/s]\n"
     ]
    },
    {
     "name": "stdout",
     "output_type": "stream",
     "text": [
      "{'emotion': {'angry': 99.02912974357605, 'disgust': 0.0004305236416257685, 'fear': 0.9523142129182816, 'happy': 0.017500721151009202, 'sad': 0.0001163824094874144, 'surprise': 0.0005091564617032418, 'neutral': 1.2299994800457625e-06}, 'dominant_emotion': 'angry', 'region': {'x': 0, 'y': 0, 'w': 1920, 'h': 1080}}\n"
     ]
    },
    {
     "name": "stderr",
     "output_type": "stream",
     "text": [
      "Action: emotion: 100%|██████████| 1/1 [00:00<00:00, 33.78it/s]\n"
     ]
    },
    {
     "name": "stdout",
     "output_type": "stream",
     "text": [
      "{'emotion': {'angry': 99.70729945345518, 'disgust': 1.463095243347343e-06, 'fear': 0.2882582307313818, 'happy': 0.004406478082076271, 'sad': 7.458334839079209e-07, 'surprise': 3.8573630857137205e-05, 'neutral': 3.732273324147271e-08}, 'dominant_emotion': 'angry', 'region': {'x': 0, 'y': 0, 'w': 1920, 'h': 1080}}\n"
     ]
    },
    {
     "name": "stderr",
     "output_type": "stream",
     "text": [
      "Action: emotion: 100%|██████████| 1/1 [00:00<00:00, 32.34it/s]\n"
     ]
    },
    {
     "name": "stdout",
     "output_type": "stream",
     "text": [
      "{'emotion': {'angry': 93.78359913825989, 'disgust': 3.560843564454075e-08, 'fear': 6.21587298810482, 'happy': 0.0004664216248784214, 'sad': 4.344020976265739e-08, 'surprise': 6.414744007088302e-05, 'neutral': 2.3510691657402383e-09}, 'dominant_emotion': 'angry', 'region': {'x': 0, 'y': 0, 'w': 1920, 'h': 1080}}\n"
     ]
    },
    {
     "name": "stderr",
     "output_type": "stream",
     "text": [
      "Action: emotion: 100%|██████████| 1/1 [00:00<00:00, 32.22it/s]\n"
     ]
    },
    {
     "name": "stdout",
     "output_type": "stream",
     "text": [
      "{'emotion': {'angry': 19.99437272615758, 'disgust': 1.2325232544455523e-12, 'fear': 80.00560045175547, 'happy': 1.0784656148128805e-05, 'sad': 9.95626986377969e-10, 'surprise': 1.3185527185893608e-05, 'neutral': 1.629874513124415e-09}, 'dominant_emotion': 'fear', 'region': {'x': 0, 'y': 0, 'w': 1920, 'h': 1080}}\n"
     ]
    },
    {
     "name": "stderr",
     "output_type": "stream",
     "text": [
      "Action: emotion: 100%|██████████| 1/1 [00:00<00:00, 33.37it/s]\n"
     ]
    },
    {
     "name": "stdout",
     "output_type": "stream",
     "text": [
      "{'emotion': {'angry': 14.040709378761612, 'disgust': 2.5249306579567163e-12, 'fear': 85.95917737240656, 'happy': 1.4687028647157704e-05, 'sad': 9.425422810042698e-10, 'surprise': 9.96908798091149e-05, 'neutral': 2.1345137000648235e-09}, 'dominant_emotion': 'fear', 'region': {'x': 0, 'y': 0, 'w': 1920, 'h': 1080}}\n"
     ]
    },
    {
     "name": "stderr",
     "output_type": "stream",
     "text": [
      "Action: emotion: 100%|██████████| 1/1 [00:00<00:00, 28.27it/s]\n"
     ]
    },
    {
     "name": "stdout",
     "output_type": "stream",
     "text": [
      "{'emotion': {'angry': 1.2418720871210098, 'disgust': 0.00016874734001248726, 'fear': 11.473514884710312, 'happy': 0.09400604758411646, 'sad': 9.258431941270828, 'surprise': 0.018947801436297596, 'neutral': 77.91306376457214}, 'dominant_emotion': 'neutral', 'region': {'x': 687, 'y': 84, 'w': 328, 'h': 328}}\n"
     ]
    },
    {
     "name": "stderr",
     "output_type": "stream",
     "text": [
      "Action: emotion: 100%|██████████| 1/1 [00:00<00:00, 33.04it/s]\n"
     ]
    },
    {
     "name": "stdout",
     "output_type": "stream",
     "text": [
      "{'emotion': {'angry': 98.13004124939688, 'disgust': 6.015765577870263e-07, 'fear': 1.8661190936636385, 'happy': 0.0007471602648055478, 'sad': 8.926935279053514e-07, 'surprise': 0.0030955290666211956, 'neutral': 9.994009549429197e-08}, 'dominant_emotion': 'angry', 'region': {'x': 0, 'y': 0, 'w': 1920, 'h': 1080}}\n"
     ]
    },
    {
     "name": "stderr",
     "output_type": "stream",
     "text": [
      "Action: emotion: 100%|██████████| 1/1 [00:00<00:00, 33.14it/s]\n"
     ]
    },
    {
     "name": "stdout",
     "output_type": "stream",
     "text": [
      "{'emotion': {'angry': 99.98179078102112, 'disgust': 5.044686335331505e-08, 'fear': 0.017713094712235034, 'happy': 1.5874581649200081e-06, 'sad': 6.929895448593015e-05, 'surprise': 0.0004266199994162889, 'neutral': 7.355394515684566e-07}, 'dominant_emotion': 'angry', 'region': {'x': 0, 'y': 0, 'w': 1920, 'h': 1080}}\n"
     ]
    },
    {
     "name": "stderr",
     "output_type": "stream",
     "text": [
      "Action: emotion: 100%|██████████| 1/1 [00:00<00:00, 34.24it/s]\n"
     ]
    },
    {
     "name": "stdout",
     "output_type": "stream",
     "text": [
      "{'emotion': {'angry': 99.92177486419678, 'disgust': 4.125850355807259e-09, 'fear': 0.078054319601506, 'happy': 1.410332473028575e-06, 'sad': 0.0001373208988297847, 'surprise': 3.3973165614042955e-05, 'neutral': 3.2560161233874396e-07}, 'dominant_emotion': 'angry', 'region': {'x': 0, 'y': 0, 'w': 1920, 'h': 1080}}\n"
     ]
    },
    {
     "name": "stderr",
     "output_type": "stream",
     "text": [
      "Action: emotion: 100%|██████████| 1/1 [00:00<00:00, 33.44it/s]\n"
     ]
    },
    {
     "name": "stdout",
     "output_type": "stream",
     "text": [
      "{'emotion': {'angry': 99.96849298477173, 'disgust': 5.067087721633001e-09, 'fear': 0.03031463420484215, 'happy': 1.9294683628601206e-07, 'sad': 0.001171909025288187, 'surprise': 1.349527991578725e-05, 'neutral': 3.8951750269689e-06}, 'dominant_emotion': 'angry', 'region': {'x': 0, 'y': 0, 'w': 1920, 'h': 1080}}\n"
     ]
    },
    {
     "name": "stderr",
     "output_type": "stream",
     "text": [
      "Action: emotion: 100%|██████████| 1/1 [00:00<00:00, 33.27it/s]\n"
     ]
    },
    {
     "name": "stdout",
     "output_type": "stream",
     "text": [
      "{'emotion': {'angry': 99.97727274894714, 'disgust': 7.222235396536769e-10, 'fear': 0.02261885820189491, 'happy': 5.960516080705247e-07, 'sad': 6.441745767915563e-05, 'surprise': 4.4158687728668156e-05, 'neutral': 2.0024121027972797e-06}, 'dominant_emotion': 'angry', 'region': {'x': 0, 'y': 0, 'w': 1920, 'h': 1080}}\n"
     ]
    },
    {
     "name": "stderr",
     "output_type": "stream",
     "text": [
      "Action: emotion: 100%|██████████| 1/1 [00:00<00:00, 28.01it/s]\n"
     ]
    },
    {
     "name": "stdout",
     "output_type": "stream",
     "text": [
      "{'emotion': {'angry': 99.96881484985352, 'disgust': 2.5787683620437374e-10, 'fear': 0.030919534037820995, 'happy': 1.7358765092012618e-06, 'sad': 7.563714348179928e-05, 'surprise': 0.00018261201830682694, 'neutral': 6.981839106856569e-06}, 'dominant_emotion': 'angry', 'region': {'x': 0, 'y': 0, 'w': 1920, 'h': 1080}}\n"
     ]
    },
    {
     "name": "stderr",
     "output_type": "stream",
     "text": [
      "Action: emotion: 100%|██████████| 1/1 [00:00<00:00, 21.84it/s]\n"
     ]
    },
    {
     "name": "stdout",
     "output_type": "stream",
     "text": [
      "{'emotion': {'angry': 99.96713400278878, 'disgust': 1.0985381432797203e-09, 'fear': 0.032559248695537606, 'happy': 1.975040340087173e-06, 'sad': 0.0002487043660965549, 'surprise': 4.431721874084679e-05, 'neutral': 8.134064895650086e-06}, 'dominant_emotion': 'angry', 'region': {'x': 0, 'y': 0, 'w': 1920, 'h': 1080}}\n"
     ]
    },
    {
     "name": "stderr",
     "output_type": "stream",
     "text": [
      "Action: emotion: 100%|██████████| 1/1 [00:00<00:00, 19.32it/s]\n"
     ]
    },
    {
     "name": "stdout",
     "output_type": "stream",
     "text": [
      "{'emotion': {'angry': 99.9490857063634, 'disgust': 1.7481424643476993e-09, 'fear': 0.05027499882057295, 'happy': 1.6111274236879523e-06, 'sad': 0.0005956697151083253, 'surprise': 3.1081857240643504e-05, 'neutral': 1.247588705631594e-05}, 'dominant_emotion': 'angry', 'region': {'x': 0, 'y': 0, 'w': 1920, 'h': 1080}}\n"
     ]
    },
    {
     "name": "stderr",
     "output_type": "stream",
     "text": [
      "Action: emotion: 100%|██████████| 1/1 [00:00<00:00, 33.95it/s]\n"
     ]
    },
    {
     "name": "stdout",
     "output_type": "stream",
     "text": [
      "{'emotion': {'angry': 96.48000001907349, 'disgust': 3.1454445093004324e-05, 'fear': 3.517301380634308, 'happy': 0.0009654510904510971, 'sad': 5.768584188103887e-06, 'surprise': 0.0017001639207592234, 'neutral': 2.4444712920512757e-08}, 'dominant_emotion': 'angry', 'region': {'x': 0, 'y': 0, 'w': 1920, 'h': 1080}}\n"
     ]
    },
    {
     "name": "stderr",
     "output_type": "stream",
     "text": [
      "Action: emotion: 100%|██████████| 1/1 [00:00<00:00, 34.30it/s]\n"
     ]
    },
    {
     "name": "stdout",
     "output_type": "stream",
     "text": [
      "{'emotion': {'angry': 91.69254302978516, 'disgust': 3.9450884226077676e-08, 'fear': 8.306807279586792, 'happy': 0.0005380862603487913, 'sad': 1.5578943690641722e-08, 'surprise': 0.00011065652643083013, 'neutral': 1.6511138289931893e-08}, 'dominant_emotion': 'angry', 'region': {'x': 0, 'y': 0, 'w': 1920, 'h': 1080}}\n"
     ]
    },
    {
     "name": "stderr",
     "output_type": "stream",
     "text": [
      "Action: emotion: 100%|██████████| 1/1 [00:00<00:00, 31.48it/s]\n"
     ]
    },
    {
     "name": "stdout",
     "output_type": "stream",
     "text": [
      "{'emotion': {'angry': 54.39167022705078, 'disgust': 1.2762075250749572e-09, 'fear': 45.607778429985046, 'happy': 0.00020222776129230624, 'sad': 2.3568830914699745e-09, 'surprise': 0.0003496485987852793, 'neutral': 1.2960947419482505e-09}, 'dominant_emotion': 'angry', 'region': {'x': 0, 'y': 0, 'w': 1920, 'h': 1080}}\n"
     ]
    },
    {
     "name": "stderr",
     "output_type": "stream",
     "text": [
      "Action: emotion: 100%|██████████| 1/1 [00:00<00:00, 29.61it/s]\n"
     ]
    },
    {
     "name": "stdout",
     "output_type": "stream",
     "text": [
      "{'emotion': {'angry': 2.26414679567256, 'disgust': 4.069975951893475e-15, 'fear': 97.73281839694758, 'happy': 7.236432367767599e-07, 'sad': 3.4606036130263767e-09, 'surprise': 0.0030321460167856977, 'neutral': 4.3449619274307963e-08}, 'dominant_emotion': 'fear', 'region': {'x': 0, 'y': 0, 'w': 1920, 'h': 1080}}\n"
     ]
    },
    {
     "name": "stderr",
     "output_type": "stream",
     "text": [
      "Action: emotion: 100%|██████████| 1/1 [00:00<00:00, 35.88it/s]\n"
     ]
    },
    {
     "name": "stdout",
     "output_type": "stream",
     "text": [
      "{'emotion': {'angry': 11.187551327043614, 'disgust': 3.22945778081787e-14, 'fear': 88.80869879618898, 'happy': 4.447596604831795e-06, 'sad': 3.6810769485333375e-08, 'surprise': 0.0037399607297592115, 'neutral': 1.6575576267342573e-06}, 'dominant_emotion': 'fear', 'region': {'x': 0, 'y': 0, 'w': 1920, 'h': 1080}}\n"
     ]
    },
    {
     "name": "stderr",
     "output_type": "stream",
     "text": [
      "Action: emotion: 100%|██████████| 1/1 [00:00<00:00, 34.83it/s]\n"
     ]
    },
    {
     "name": "stdout",
     "output_type": "stream",
     "text": [
      "{'emotion': {'angry': 9.809397161006927, 'disgust': 2.5274219066427042e-14, 'fear': 90.17685055732727, 'happy': 1.3726368308653036e-05, 'sad': 2.2353221496018705e-07, 'surprise': 0.013718732225243002, 'neutral': 2.3066726839715557e-05}, 'dominant_emotion': 'fear', 'region': {'x': 0, 'y': 0, 'w': 1920, 'h': 1080}}\n"
     ]
    },
    {
     "name": "stderr",
     "output_type": "stream",
     "text": [
      "Action: emotion: 100%|██████████| 1/1 [00:00<00:00, 34.03it/s]\n"
     ]
    },
    {
     "name": "stdout",
     "output_type": "stream",
     "text": [
      "{'emotion': {'angry': 42.00994372367859, 'disgust': 2.078913328860122e-14, 'fear': 57.96880125999451, 'happy': 4.756265070682275e-05, 'sad': 3.558352723587177e-07, 'surprise': 0.02115812967531383, 'neutral': 5.149349817656912e-05}, 'dominant_emotion': 'fear', 'region': {'x': 0, 'y': 0, 'w': 1920, 'h': 1080}}\n"
     ]
    },
    {
     "name": "stderr",
     "output_type": "stream",
     "text": [
      "Action: emotion: 100%|██████████| 1/1 [00:00<00:00, 34.99it/s]\n"
     ]
    },
    {
     "name": "stdout",
     "output_type": "stream",
     "text": [
      "{'emotion': {'angry': 29.170146584510803, 'disgust': 1.8084322830468763e-14, 'fear': 70.82493901252747, 'happy': 9.25960463860065e-06, 'sad': 6.328209622985526e-08, 'surprise': 0.004899629857391119, 'neutral': 3.0744530477022636e-06}, 'dominant_emotion': 'fear', 'region': {'x': 0, 'y': 0, 'w': 1920, 'h': 1080}}\n"
     ]
    },
    {
     "name": "stderr",
     "output_type": "stream",
     "text": [
      "Action: emotion: 100%|██████████| 1/1 [00:00<00:00, 23.92it/s]\n"
     ]
    },
    {
     "name": "stdout",
     "output_type": "stream",
     "text": [
      "{'emotion': {'angry': 76.7723588022758, 'disgust': 4.971245044745473e-10, 'fear': 23.22562358073907, 'happy': 0.00020652782762225303, 'sad': 1.0398194398300452e-07, 'surprise': 0.00180505900371582, 'neutral': 1.0676276367020459e-07}, 'dominant_emotion': 'angry', 'region': {'x': 0, 'y': 0, 'w': 1920, 'h': 1080}}\n"
     ]
    },
    {
     "name": "stderr",
     "output_type": "stream",
     "text": [
      "Action: emotion: 100%|██████████| 1/1 [00:00<00:00, 35.63it/s]\n"
     ]
    },
    {
     "name": "stdout",
     "output_type": "stream",
     "text": [
      "{'emotion': {'angry': 64.57144021987915, 'disgust': 2.1388470161642914e-08, 'fear': 35.38985550403595, 'happy': 0.0007804992492310703, 'sad': 1.8006991453489718e-07, 'surprise': 0.03792739880736917, 'neutral': 2.1366219904450645e-07}, 'dominant_emotion': 'angry', 'region': {'x': 0, 'y': 0, 'w': 1920, 'h': 1080}}\n"
     ]
    },
    {
     "name": "stderr",
     "output_type": "stream",
     "text": [
      "Action: emotion: 100%|██████████| 1/1 [00:00<00:00, 32.47it/s]\n"
     ]
    },
    {
     "name": "stdout",
     "output_type": "stream",
     "text": [
      "{'emotion': {'angry': 98.11381124093398, 'disgust': 8.678054572942556e-07, 'fear': 1.8761992080570211, 'happy': 0.003318518761293589, 'sad': 4.220228285563497e-05, 'surprise': 0.006620863070738992, 'neutral': 9.328826020921147e-06}, 'dominant_emotion': 'angry', 'region': {'x': 0, 'y': 0, 'w': 1920, 'h': 1080}}\n"
     ]
    },
    {
     "name": "stderr",
     "output_type": "stream",
     "text": [
      "Action: emotion: 100%|██████████| 1/1 [00:00<00:00, 32.11it/s]\n"
     ]
    },
    {
     "name": "stdout",
     "output_type": "stream",
     "text": [
      "{'emotion': {'angry': 99.98382329940796, 'disgust': 5.667612212878481e-10, 'fear': 0.015566211368422955, 'happy': 0.0005889531166758388, 'sad': 1.8866845863385606e-06, 'surprise': 1.981521933203112e-05, 'neutral': 4.8699803301133215e-06}, 'dominant_emotion': 'angry', 'region': {'x': 0, 'y': 0, 'w': 1920, 'h': 1080}}\n"
     ]
    },
    {
     "name": "stderr",
     "output_type": "stream",
     "text": [
      "Action: emotion: 100%|██████████| 1/1 [00:00<00:00, 32.86it/s]\n"
     ]
    },
    {
     "name": "stdout",
     "output_type": "stream",
     "text": [
      "{'emotion': {'angry': 99.99526143045792, 'disgust': 9.848376092956277e-12, 'fear': 0.0014825990521454618, 'happy': 0.002819376991074651, 'sad': 8.688813742360341e-07, 'surprise': 5.939236088337362e-05, 'neutral': 0.0003760326986991267}, 'dominant_emotion': 'angry', 'region': {'x': 0, 'y': 0, 'w': 1920, 'h': 1080}}\n"
     ]
    },
    {
     "name": "stderr",
     "output_type": "stream",
     "text": [
      "Action: emotion: 100%|██████████| 1/1 [00:00<00:00, 32.95it/s]\n"
     ]
    },
    {
     "name": "stdout",
     "output_type": "stream",
     "text": [
      "{'emotion': {'angry': 99.84245895400399, 'disgust': 4.857779507490336e-11, 'fear': 0.002686982203244102, 'happy': 0.15269763280884224, 'sad': 1.4236421779569935e-06, 'surprise': 3.71627288000096e-05, 'neutral': 0.002122636341581797}, 'dominant_emotion': 'angry', 'region': {'x': 0, 'y': 0, 'w': 1920, 'h': 1080}}\n"
     ]
    },
    {
     "name": "stderr",
     "output_type": "stream",
     "text": [
      "Action: emotion: 100%|██████████| 1/1 [00:00<00:00, 35.61it/s]\n"
     ]
    },
    {
     "name": "stdout",
     "output_type": "stream",
     "text": [
      "{'emotion': {'angry': 99.84878301620483, 'disgust': 1.2012802861824379e-11, 'fear': 0.005423209222499281, 'happy': 0.13836795696988702, 'sad': 1.2646983016395552e-06, 'surprise': 2.9996709827173618e-05, 'neutral': 0.007394410204142332}, 'dominant_emotion': 'angry', 'region': {'x': 0, 'y': 0, 'w': 1920, 'h': 1080}}\n"
     ]
    },
    {
     "name": "stderr",
     "output_type": "stream",
     "text": [
      "Action: emotion: 100%|██████████| 1/1 [00:00<00:00, 31.65it/s]\n"
     ]
    },
    {
     "name": "stdout",
     "output_type": "stream",
     "text": [
      "{'emotion': {'angry': 99.83378648757935, 'disgust': 2.1919296239181207e-09, 'fear': 0.0017989754269365221, 'happy': 0.15473702223971486, 'sad': 2.422254681277991e-05, 'surprise': 1.0610058609472617e-05, 'neutral': 0.009635427704779431}, 'dominant_emotion': 'angry', 'region': {'x': 0, 'y': 0, 'w': 1920, 'h': 1080}}\n"
     ]
    },
    {
     "name": "stderr",
     "output_type": "stream",
     "text": [
      "Action: emotion: 100%|██████████| 1/1 [00:00<00:00, 35.92it/s]\n"
     ]
    },
    {
     "name": "stdout",
     "output_type": "stream",
     "text": [
      "{'emotion': {'angry': 93.91066504589736, 'disgust': 2.0342522982206543e-10, 'fear': 5.763342662055175, 'happy': 0.1924156098354626, 'sad': 4.4887733330574534e-05, 'surprise': 0.0015959869331807575, 'neutral': 0.13193169898608936}, 'dominant_emotion': 'angry', 'region': {'x': 0, 'y': 0, 'w': 1920, 'h': 1080}}\n"
     ]
    },
    {
     "name": "stderr",
     "output_type": "stream",
     "text": [
      "Action: emotion: 100%|██████████| 1/1 [00:00<00:00, 27.74it/s]\n"
     ]
    },
    {
     "name": "stdout",
     "output_type": "stream",
     "text": [
      "{'emotion': {'angry': 1.3052156501751364, 'disgust': 1.5520818889519241e-09, 'fear': 67.2728815945528, 'happy': 0.21855546815777205, 'sad': 0.005046170680169159, 'surprise': 14.634689434207745, 'neutral': 16.563601307439647}, 'dominant_emotion': 'fear', 'region': {'x': 0, 'y': 0, 'w': 1920, 'h': 1080}}\n"
     ]
    },
    {
     "name": "stderr",
     "output_type": "stream",
     "text": [
      "Action: emotion: 100%|██████████| 1/1 [00:00<00:00, 31.97it/s]\n"
     ]
    },
    {
     "name": "stdout",
     "output_type": "stream",
     "text": [
      "{'emotion': {'angry': 0.0318464842049172, 'disgust': 1.760964831051018e-12, 'fear': 99.08871049217645, 'happy': 0.00012749050788917696, 'sad': 8.764420823022267e-06, 'surprise': 0.8379599578952764, 'neutral': 0.041353792321535486}, 'dominant_emotion': 'fear', 'region': {'x': 0, 'y': 0, 'w': 1920, 'h': 1080}}\n"
     ]
    },
    {
     "name": "stderr",
     "output_type": "stream",
     "text": [
      "Action: emotion: 100%|██████████| 1/1 [00:00<00:00, 27.35it/s]\n"
     ]
    },
    {
     "name": "stdout",
     "output_type": "stream",
     "text": [
      "{'emotion': {'angry': 0.08978017046289688, 'disgust': 5.7989226892577826e-11, 'fear': 99.89836810807802, 'happy': 1.9873003036349703e-05, 'sad': 2.572655568840774e-05, 'surprise': 0.0010082834998299721, 'neutral': 0.010799445422439848}, 'dominant_emotion': 'fear', 'region': {'x': 0, 'y': 0, 'w': 1920, 'h': 1080}}\n"
     ]
    },
    {
     "name": "stderr",
     "output_type": "stream",
     "text": [
      "Action: emotion: 100%|██████████| 1/1 [00:00<00:00, 34.08it/s]\n"
     ]
    },
    {
     "name": "stdout",
     "output_type": "stream",
     "text": [
      "{'emotion': {'angry': 0.21373657729316678, 'disgust': 5.32445355281312e-13, 'fear': 49.098759782166454, 'happy': 2.0266711970997195e-05, 'sad': 0.051480625140965, 'surprise': 6.91732122997303e-06, 'neutral': 50.6359995169639}, 'dominant_emotion': 'neutral', 'region': {'x': 0, 'y': 0, 'w': 1920, 'h': 1080}}\n"
     ]
    },
    {
     "name": "stderr",
     "output_type": "stream",
     "text": [
      "Action: emotion: 100%|██████████| 1/1 [00:00<00:00, 30.12it/s]\n"
     ]
    },
    {
     "name": "stdout",
     "output_type": "stream",
     "text": [
      "{'emotion': {'angry': 19.770465791225433, 'disgust': 1.6103234024011925e-08, 'fear': 0.21126267965883017, 'happy': 61.27548813819885, 'sad': 0.08375469478778541, 'surprise': 0.0003104699544564937, 'neutral': 18.65871548652649}, 'dominant_emotion': 'happy', 'region': {'x': 0, 'y': 0, 'w': 1920, 'h': 1080}}\n"
     ]
    },
    {
     "name": "stderr",
     "output_type": "stream",
     "text": [
      "Action: emotion: 100%|██████████| 1/1 [00:00<00:00, 29.53it/s]\n"
     ]
    },
    {
     "name": "stdout",
     "output_type": "stream",
     "text": [
      "{'emotion': {'angry': 84.22190546989441, 'disgust': 1.2568121121603326e-05, 'fear': 0.0025860543246380985, 'happy': 0.0019246868760092184, 'sad': 13.924741744995117, 'surprise': 9.052270218135039e-10, 'neutral': 1.848832331597805}, 'dominant_emotion': 'angry', 'region': {'x': 0, 'y': 0, 'w': 1920, 'h': 1080}}\n"
     ]
    },
    {
     "name": "stderr",
     "output_type": "stream",
     "text": [
      "Action: emotion: 100%|██████████| 1/1 [00:00<00:00, 34.71it/s]\n"
     ]
    },
    {
     "name": "stdout",
     "output_type": "stream",
     "text": [
      "{'emotion': {'angry': 94.91310685355108, 'disgust': 2.5521318136784524e-06, 'fear': 0.04328251492239624, 'happy': 0.000126858011129813, 'sad': 4.607722810371089, 'surprise': 2.927206915363217e-09, 'neutral': 0.435757523298712}, 'dominant_emotion': 'angry', 'region': {'x': 0, 'y': 0, 'w': 1920, 'h': 1080}}\n"
     ]
    },
    {
     "name": "stderr",
     "output_type": "stream",
     "text": [
      "Action: emotion: 100%|██████████| 1/1 [00:00<00:00, 35.96it/s]\n"
     ]
    },
    {
     "name": "stdout",
     "output_type": "stream",
     "text": [
      "{'emotion': {'angry': 83.95892381668091, 'disgust': 0.0002214802634625812, 'fear': 0.03876573464367539, 'happy': 0.0032123854907695204, 'sad': 14.158166944980621, 'surprise': 8.031165954491826e-07, 'neutral': 1.840711198747158}, 'dominant_emotion': 'angry', 'region': {'x': 0, 'y': 0, 'w': 1920, 'h': 1080}}\n"
     ]
    },
    {
     "name": "stderr",
     "output_type": "stream",
     "text": [
      "Action: emotion: 100%|██████████| 1/1 [00:00<00:00, 33.89it/s]\n"
     ]
    },
    {
     "name": "stdout",
     "output_type": "stream",
     "text": [
      "{'emotion': {'angry': 27.208821607161855, 'disgust': 9.212435808191179e-07, 'fear': 0.0006389120170494952, 'happy': 0.0016523575216423547, 'sad': 17.500265985743166, 'surprise': 4.027382834135806e-09, 'neutral': 55.288622098482975}, 'dominant_emotion': 'neutral', 'region': {'x': 0, 'y': 0, 'w': 1920, 'h': 1080}}\n"
     ]
    },
    {
     "name": "stderr",
     "output_type": "stream",
     "text": [
      "Action: emotion: 100%|██████████| 1/1 [00:00<00:00, 35.00it/s]\n"
     ]
    },
    {
     "name": "stdout",
     "output_type": "stream",
     "text": [
      "{'emotion': {'angry': 65.7224953174591, 'disgust': 2.0418880808392714e-06, 'fear': 0.0010643519999575801, 'happy': 0.03913516702596098, 'sad': 1.2455307878553867, 'surprise': 1.0619220086605097e-08, 'neutral': 32.99177289009094}, 'dominant_emotion': 'angry', 'region': {'x': 0, 'y': 0, 'w': 1920, 'h': 1080}}\n"
     ]
    },
    {
     "name": "stderr",
     "output_type": "stream",
     "text": [
      "Action: emotion: 100%|██████████| 1/1 [00:00<00:00, 32.88it/s]\n"
     ]
    },
    {
     "name": "stdout",
     "output_type": "stream",
     "text": [
      "{'emotion': {'angry': 61.6742028801683, 'disgust': 5.919072882449429e-09, 'fear': 0.003118392495465688, 'happy': 2.692970079327073e-06, 'sad': 1.5347502161264677, 'surprise': 6.16072910631177e-07, 'neutral': 36.78792855595691}, 'dominant_emotion': 'angry', 'region': {'x': 0, 'y': 0, 'w': 1920, 'h': 1080}}\n"
     ]
    },
    {
     "name": "stderr",
     "output_type": "stream",
     "text": [
      "Action: emotion: 100%|██████████| 1/1 [00:00<00:00, 32.69it/s]\n"
     ]
    },
    {
     "name": "stdout",
     "output_type": "stream",
     "text": [
      "{'emotion': {'angry': 0.644319923594594, 'disgust': 2.2975121805046683e-08, 'fear': 0.0001309844947172678, 'happy': 2.7699141469383903e-05, 'sad': 0.3636854002252221, 'surprise': 9.156040509106234e-09, 'neutral': 98.99184107780457}, 'dominant_emotion': 'neutral', 'region': {'x': 0, 'y': 0, 'w': 1920, 'h': 1080}}\n"
     ]
    },
    {
     "name": "stderr",
     "output_type": "stream",
     "text": [
      "Action: emotion: 100%|██████████| 1/1 [00:00<00:00, 31.71it/s]\n"
     ]
    },
    {
     "name": "stdout",
     "output_type": "stream",
     "text": [
      "{'emotion': {'angry': 36.396899819374084, 'disgust': 1.7711961675104249e-06, 'fear': 0.020758893515449017, 'happy': 0.014006173296365887, 'sad': 3.637879714369774, 'surprise': 1.7141591968083958e-05, 'neutral': 59.93043780326843}, 'dominant_emotion': 'neutral', 'region': {'x': 0, 'y': 0, 'w': 1920, 'h': 1080}}\n"
     ]
    },
    {
     "name": "stderr",
     "output_type": "stream",
     "text": [
      "Action: emotion: 100%|██████████| 1/1 [00:00<00:00, 29.44it/s]\n"
     ]
    },
    {
     "name": "stdout",
     "output_type": "stream",
     "text": [
      "{'emotion': {'angry': 0.022045904188416898, 'disgust': 1.1221069629030467e-07, 'fear': 0.23968140594661236, 'happy': 0.01573077024659142, 'sad': 3.6703303456306458, 'surprise': 1.6774402700203694e-08, 'neutral': 96.05221748352051}, 'dominant_emotion': 'neutral', 'region': {'x': 0, 'y': 0, 'w': 1920, 'h': 1080}}\n"
     ]
    },
    {
     "name": "stderr",
     "output_type": "stream",
     "text": [
      "Action: emotion: 100%|██████████| 1/1 [00:00<00:00, 33.01it/s]\n"
     ]
    },
    {
     "name": "stdout",
     "output_type": "stream",
     "text": [
      "{'emotion': {'angry': 5.499972743905346e-06, 'disgust': 2.0285155341203902e-18, 'fear': 0.002664808926056139, 'happy': 13.062703609466553, 'sad': 3.429329709092599e-07, 'surprise': 1.431581853061914e-07, 'neutral': 86.93462610244751}, 'dominant_emotion': 'neutral', 'region': {'x': 0, 'y': 0, 'w': 1920, 'h': 1080}}\n"
     ]
    },
    {
     "name": "stderr",
     "output_type": "stream",
     "text": [
      "Action: emotion: 100%|██████████| 1/1 [00:00<00:00, 25.94it/s]\n"
     ]
    },
    {
     "name": "stdout",
     "output_type": "stream",
     "text": [
      "{'emotion': {'angry': 5.9605980595733854e-05, 'disgust': 3.249664773385952e-09, 'fear': 2.055612951517105, 'happy': 1.604858785867691, 'sad': 0.005908299135626294, 'surprise': 0.039413044578395784, 'neutral': 96.29414677619934}, 'dominant_emotion': 'neutral', 'region': {'x': 0, 'y': 0, 'w': 1920, 'h': 1080}}\n"
     ]
    },
    {
     "name": "stderr",
     "output_type": "stream",
     "text": [
      "Action: emotion: 100%|██████████| 1/1 [00:00<00:00, 32.87it/s]\n"
     ]
    },
    {
     "name": "stdout",
     "output_type": "stream",
     "text": [
      "{'emotion': {'angry': 79.3354200920713, 'disgust': 0.019393249814089377, 'fear': 6.690585266982631, 'happy': 0.19605831480373828, 'sad': 0.10805859408876861, 'surprise': 11.077611808634508, 'neutral': 2.5728722705168887}, 'dominant_emotion': 'angry', 'region': {'x': 0, 'y': 0, 'w': 1920, 'h': 1080}}\n"
     ]
    },
    {
     "name": "stderr",
     "output_type": "stream",
     "text": [
      "Action: emotion: 100%|██████████| 1/1 [00:00<00:00, 34.87it/s]\n"
     ]
    },
    {
     "name": "stdout",
     "output_type": "stream",
     "text": [
      "{'emotion': {'angry': 99.80712532997131, 'disgust': 2.780480734543289e-07, 'fear': 0.07651678170077503, 'happy': 0.0012625040653801989, 'sad': 0.014848924183752388, 'surprise': 0.0004949815775034949, 'neutral': 0.09975815191864967}, 'dominant_emotion': 'angry', 'region': {'x': 0, 'y': 0, 'w': 1920, 'h': 1080}}\n"
     ]
    },
    {
     "name": "stderr",
     "output_type": "stream",
     "text": [
      "Action: emotion: 100%|██████████| 1/1 [00:00<00:00, 32.87it/s]\n"
     ]
    },
    {
     "name": "stdout",
     "output_type": "stream",
     "text": [
      "{'emotion': {'angry': 0.7026941003021061, 'disgust': 0.00016012325931463958, 'fear': 54.136601336991866, 'happy': 43.935417767490016, 'sad': 1.1166793028521123, 'surprise': 0.004278368833535915, 'neutral': 0.10417060150477896}, 'dominant_emotion': 'fear', 'region': {'x': 116, 'y': 672, 'w': 125, 'h': 125}}\n"
     ]
    },
    {
     "name": "stderr",
     "output_type": "stream",
     "text": [
      "Action: emotion: 100%|██████████| 1/1 [00:00<00:00, 33.71it/s]\n"
     ]
    },
    {
     "name": "stdout",
     "output_type": "stream",
     "text": [
      "{'emotion': {'angry': 1.5511966296966826, 'disgust': 3.35278810048898e-05, 'fear': 72.88536106173528, 'happy': 24.820469298418676, 'sad': 0.720348062184222, 'surprise': 0.0013122973287003656, 'neutral': 0.02128449522370043}, 'dominant_emotion': 'fear', 'region': {'x': 121, 'y': 675, 'w': 117, 'h': 117}}\n"
     ]
    },
    {
     "name": "stderr",
     "output_type": "stream",
     "text": [
      "Action: emotion: 100%|██████████| 1/1 [00:00<00:00, 32.59it/s]\n"
     ]
    },
    {
     "name": "stdout",
     "output_type": "stream",
     "text": [
      "{'emotion': {'angry': 9.522391855716705, 'disgust': 0.00016004513554435107, 'fear': 13.389569520950317, 'happy': 1.0358016937971115, 'sad': 5.663579702377319, 'surprise': 1.3077779673039913, 'neutral': 69.08071637153625}, 'dominant_emotion': 'neutral', 'region': {'x': 518, 'y': 199, 'w': 395, 'h': 395}}\n"
     ]
    },
    {
     "name": "stderr",
     "output_type": "stream",
     "text": [
      "Action: emotion: 100%|██████████| 1/1 [00:00<00:00, 34.28it/s]\n"
     ]
    },
    {
     "name": "stdout",
     "output_type": "stream",
     "text": [
      "{'emotion': {'angry': 6.43859436877392e-05, 'disgust': 4.0137767241821276e-10, 'fear': 0.02837183710653335, 'happy': 31.80253803730011, 'sad': 0.007213133358163759, 'surprise': 0.2128285588696599, 'neutral': 67.94898509979248}, 'dominant_emotion': 'neutral', 'region': {'x': 527, 'y': 126, 'w': 421, 'h': 421}}\n"
     ]
    },
    {
     "name": "stderr",
     "output_type": "stream",
     "text": [
      "Action: emotion: 100%|██████████| 1/1 [00:00<00:00, 32.40it/s]\n"
     ]
    },
    {
     "name": "stdout",
     "output_type": "stream",
     "text": [
      "{'emotion': {'angry': 4.926295578479767, 'disgust': 0.00010461001238581957, 'fear': 31.40457272529602, 'happy': 1.8497345969080925, 'sad': 2.4012263864278793, 'surprise': 13.922622799873352, 'neutral': 45.49544155597687}, 'dominant_emotion': 'neutral', 'region': {'x': 523, 'y': 47, 'w': 460, 'h': 460}}\n"
     ]
    },
    {
     "name": "stderr",
     "output_type": "stream",
     "text": [
      "Action: emotion: 100%|██████████| 1/1 [00:00<00:00, 32.83it/s]\n"
     ]
    },
    {
     "name": "stdout",
     "output_type": "stream",
     "text": [
      "{'emotion': {'angry': 1.2045649707257646e-07, 'disgust': 8.55340892265838e-17, 'fear': 2.0529351769302416e-06, 'happy': 3.2576291555560885e-06, 'sad': 0.0011244507301089415, 'surprise': 1.37209249814495e-07, 'neutral': 99.99886751188427}, 'dominant_emotion': 'neutral', 'region': {'x': 0, 'y': 0, 'w': 1920, 'h': 1080}}\n"
     ]
    },
    {
     "name": "stderr",
     "output_type": "stream",
     "text": [
      "Action: emotion: 100%|██████████| 1/1 [00:00<00:00, 26.36it/s]\n"
     ]
    },
    {
     "name": "stdout",
     "output_type": "stream",
     "text": [
      "{'emotion': {'angry': 0.16849070088937879, 'disgust': 2.9133684353865874e-07, 'fear': 15.838736295700073, 'happy': 0.24309908039867878, 'sad': 0.3221184713765979, 'surprise': 0.6444529164582491, 'neutral': 82.78310298919678}, 'dominant_emotion': 'neutral', 'region': {'x': 553, 'y': 30, 'w': 442, 'h': 442}}\n"
     ]
    },
    {
     "name": "stderr",
     "output_type": "stream",
     "text": [
      "Action: emotion: 100%|██████████| 1/1 [00:00<00:00, 32.33it/s]\n"
     ]
    },
    {
     "name": "stdout",
     "output_type": "stream",
     "text": [
      "{'emotion': {'angry': 0.0797671324107796, 'disgust': 3.6532781244602575e-07, 'fear': 8.131027221679688, 'happy': 0.6559616886079311, 'sad': 0.3959402907639742, 'surprise': 0.9959312155842781, 'neutral': 89.74137306213379}, 'dominant_emotion': 'neutral', 'region': {'x': 567, 'y': 51, 'w': 466, 'h': 466}}\n"
     ]
    },
    {
     "name": "stderr",
     "output_type": "stream",
     "text": [
      "Action: emotion: 100%|██████████| 1/1 [00:00<00:00, 35.59it/s]\n"
     ]
    },
    {
     "name": "stdout",
     "output_type": "stream",
     "text": [
      "{'emotion': {'angry': 0.012851614155806601, 'disgust': 0.00011071864491896122, 'fear': 0.8642210625112057, 'happy': 12.179554253816605, 'sad': 3.4189406782388687, 'surprise': 0.017928903980646282, 'neutral': 83.50639343261719}, 'dominant_emotion': 'neutral', 'region': {'x': 600, 'y': 58, 'w': 498, 'h': 498}}\n"
     ]
    },
    {
     "name": "stderr",
     "output_type": "stream",
     "text": [
      "Action: emotion: 100%|██████████| 1/1 [00:00<00:00, 33.73it/s]\n"
     ]
    },
    {
     "name": "stdout",
     "output_type": "stream",
     "text": [
      "{'emotion': {'angry': 5.608198380958937, 'disgust': 4.270868855560967e-05, 'fear': 6.403331840236893, 'happy': 0.02356786857903338, 'sad': 5.764038459303287, 'surprise': 13.818960715470357, 'neutral': 68.38186194788587}, 'dominant_emotion': 'neutral', 'region': {'x': 0, 'y': 0, 'w': 1920, 'h': 1080}}\n"
     ]
    },
    {
     "name": "stderr",
     "output_type": "stream",
     "text": [
      "Action: emotion: 100%|██████████| 1/1 [00:00<00:00, 32.86it/s]\n"
     ]
    },
    {
     "name": "stdout",
     "output_type": "stream",
     "text": [
      "{'emotion': {'angry': 8.005248020026556e-06, 'disgust': 6.894160638124851e-15, 'fear': 4.3940480798482895, 'happy': 0.1924851443618536, 'sad': 1.524118005136188e-05, 'surprise': 57.29302763938904, 'neutral': 38.120415806770325}, 'dominant_emotion': 'surprise', 'region': {'x': 0, 'y': 0, 'w': 1920, 'h': 1080}}\n"
     ]
    },
    {
     "name": "stderr",
     "output_type": "stream",
     "text": [
      "Action: emotion: 100%|██████████| 1/1 [00:00<00:00, 33.13it/s]\n"
     ]
    },
    {
     "name": "stdout",
     "output_type": "stream",
     "text": [
      "{'emotion': {'angry': 9.800800171433366e-05, 'disgust': 1.5073614014968206e-10, 'fear': 36.87228560447693, 'happy': 0.0002067422656182316, 'sad': 0.000329239628626965, 'surprise': 0.0022311241991701536, 'neutral': 63.12485337257385}, 'dominant_emotion': 'neutral', 'region': {'x': 0, 'y': 0, 'w': 1920, 'h': 1080}}\n"
     ]
    },
    {
     "name": "stderr",
     "output_type": "stream",
     "text": [
      "Action: emotion: 100%|██████████| 1/1 [00:00<00:00, 34.11it/s]\n"
     ]
    },
    {
     "name": "stdout",
     "output_type": "stream",
     "text": [
      "{'emotion': {'angry': 0.11983348522335291, 'disgust': 2.0961907409855485e-05, 'fear': 16.12103432416916, 'happy': 0.04640824336092919, 'sad': 0.17880602972581983, 'surprise': 0.4727482795715332, 'neutral': 83.0611526966095}, 'dominant_emotion': 'neutral', 'region': {'x': 0, 'y': 0, 'w': 1920, 'h': 1080}}\n"
     ]
    },
    {
     "name": "stderr",
     "output_type": "stream",
     "text": [
      "Action: emotion: 100%|██████████| 1/1 [00:00<00:00, 32.28it/s]\n"
     ]
    },
    {
     "name": "stdout",
     "output_type": "stream",
     "text": [
      "{'emotion': {'angry': 0.0012807308702885878, 'disgust': 1.9411338971917853e-08, 'fear': 1.8447530624123254, 'happy': 0.04020823638264754, 'sad': 0.18467790150957714, 'surprise': 5.593513896839364e-06, 'neutral': 97.929072256629}, 'dominant_emotion': 'neutral', 'region': {'x': 0, 'y': 0, 'w': 1920, 'h': 1080}}\n"
     ]
    },
    {
     "name": "stderr",
     "output_type": "stream",
     "text": [
      "Action: emotion: 100%|██████████| 1/1 [00:00<00:00, 35.52it/s]\n"
     ]
    },
    {
     "name": "stdout",
     "output_type": "stream",
     "text": [
      "{'emotion': {'angry': 7.287571293090878e-05, 'disgust': 5.6324960158189025e-12, 'fear': 2.795807644724846, 'happy': 0.013596669305115938, 'sad': 0.004615008583641611, 'surprise': 0.00413213565479964, 'neutral': 97.18177318572998}, 'dominant_emotion': 'neutral', 'region': {'x': 0, 'y': 0, 'w': 1920, 'h': 1080}}\n"
     ]
    },
    {
     "name": "stderr",
     "output_type": "stream",
     "text": [
      "Action: emotion: 100%|██████████| 1/1 [00:00<00:00, 30.16it/s]\n"
     ]
    },
    {
     "name": "stdout",
     "output_type": "stream",
     "text": [
      "{'emotion': {'angry': 0.47933672428587387, 'disgust': 0.00041682505558665643, 'fear': 12.172710934554226, 'happy': 0.12596068799219273, 'sad': 0.12807850363287288, 'surprise': 86.61632101341236, 'neutral': 0.4771757302074754}, 'dominant_emotion': 'surprise', 'region': {'x': 809, 'y': 169, 'w': 423, 'h': 423}}\n"
     ]
    },
    {
     "name": "stderr",
     "output_type": "stream",
     "text": [
      "Action: emotion: 100%|██████████| 1/1 [00:00<00:00, 33.40it/s]\n"
     ]
    },
    {
     "name": "stdout",
     "output_type": "stream",
     "text": [
      "{'emotion': {'angry': 3.441713545271341e-05, 'disgust': 2.5741783114467794e-17, 'fear': 6.674332171678543, 'happy': 6.367656624206575e-05, 'sad': 6.4333683269524045e-06, 'surprise': 86.72675490379333, 'neutral': 6.5988123416900635}, 'dominant_emotion': 'surprise', 'region': {'x': 0, 'y': 0, 'w': 1920, 'h': 1080}}\n"
     ]
    },
    {
     "name": "stderr",
     "output_type": "stream",
     "text": [
      "Action: emotion: 100%|██████████| 1/1 [00:00<00:00, 32.24it/s]\n"
     ]
    },
    {
     "name": "stdout",
     "output_type": "stream",
     "text": [
      "{'emotion': {'angry': 0.020612463186679076, 'disgust': 4.349197705861589e-07, 'fear': 68.11208534908803, 'happy': 16.56566360984228, 'sad': 14.847154310176034, 'surprise': 0.0028776424993240462, 'neutral': 0.4516089604263878}, 'dominant_emotion': 'fear', 'region': {'x': 845, 'y': 141, 'w': 378, 'h': 378}}\n"
     ]
    },
    {
     "name": "stderr",
     "output_type": "stream",
     "text": [
      "Action: emotion: 100%|██████████| 1/1 [00:00<00:00, 32.86it/s]\n"
     ]
    },
    {
     "name": "stdout",
     "output_type": "stream",
     "text": [
      "{'emotion': {'angry': 0.02844485449182865, 'disgust': 8.888830468584632e-05, 'fear': 84.76591019427241, 'happy': 0.2719975704400283, 'sad': 14.803294229703798, 'surprise': 0.030800865005008282, 'neutral': 0.09946434885796003}, 'dominant_emotion': 'fear', 'region': {'x': 802, 'y': 130, 'w': 442, 'h': 442}}\n"
     ]
    },
    {
     "name": "stderr",
     "output_type": "stream",
     "text": [
      "Action: emotion: 100%|██████████| 1/1 [00:00<00:00, 31.90it/s]\n"
     ]
    },
    {
     "name": "stdout",
     "output_type": "stream",
     "text": [
      "{'emotion': {'angry': 0.00017125373571915116, 'disgust': 8.675650715351203e-08, 'fear': 3.4810217309607108, 'happy': 0.0008107924742363099, 'sad': 0.06064453407307172, 'surprise': 0.05256496683150332, 'neutral': 96.40478470353989}, 'dominant_emotion': 'neutral', 'region': {'x': 0, 'y': 0, 'w': 1920, 'h': 1080}}\n"
     ]
    },
    {
     "name": "stderr",
     "output_type": "stream",
     "text": [
      "Action: emotion: 100%|██████████| 1/1 [00:00<00:00, 31.07it/s]\n"
     ]
    },
    {
     "name": "stdout",
     "output_type": "stream",
     "text": [
      "{'emotion': {'angry': 1.5249909883467197e-09, 'disgust': 3.5456296705251327e-16, 'fear': 13.522119135982939, 'happy': 9.80563031486944e-06, 'sad': 6.896928382045279e-05, 'surprise': 67.29379697405082, 'neutral': 19.184007894039624}, 'dominant_emotion': 'surprise', 'region': {'x': 0, 'y': 0, 'w': 1920, 'h': 1080}}\n"
     ]
    },
    {
     "name": "stderr",
     "output_type": "stream",
     "text": [
      "Action: emotion: 100%|██████████| 1/1 [00:00<00:00, 36.30it/s]\n"
     ]
    },
    {
     "name": "stdout",
     "output_type": "stream",
     "text": [
      "{'emotion': {'angry': 4.833158467308052e-10, 'disgust': 3.3340644850562596e-15, 'fear': 24.52130910881216, 'happy': 0.00021769243564148517, 'sad': 2.5822872491815152e-05, 'surprise': 72.28190733682557, 'neutral': 3.1965455082980103}, 'dominant_emotion': 'surprise', 'region': {'x': 0, 'y': 0, 'w': 1920, 'h': 1080}}\n"
     ]
    },
    {
     "name": "stderr",
     "output_type": "stream",
     "text": [
      "Action: emotion: 100%|██████████| 1/1 [00:00<00:00, 32.76it/s]\n"
     ]
    },
    {
     "name": "stdout",
     "output_type": "stream",
     "text": [
      "{'emotion': {'angry': 0.0013944680176791735, 'disgust': 1.4268927185645541e-09, 'fear': 0.014599878340959549, 'happy': 1.952510473302027e-05, 'sad': 0.07856744923628867, 'surprise': 0.30461265705525875, 'neutral': 99.6008038520813}, 'dominant_emotion': 'neutral', 'region': {'x': 0, 'y': 0, 'w': 1920, 'h': 1080}}\n"
     ]
    },
    {
     "name": "stderr",
     "output_type": "stream",
     "text": [
      "Action: emotion: 100%|██████████| 1/1 [00:00<00:00, 30.17it/s]\n"
     ]
    },
    {
     "name": "stdout",
     "output_type": "stream",
     "text": [
      "{'emotion': {'angry': 9.356177343988747e-06, 'disgust': 1.090216892457585e-10, 'fear': 0.3732162294909358, 'happy': 1.4012216590344906, 'sad': 0.017376785399392247, 'surprise': 0.01630980405025184, 'neutral': 98.19186925888062}, 'dominant_emotion': 'neutral', 'region': {'x': 821, 'y': 199, 'w': 435, 'h': 435}}\n"
     ]
    },
    {
     "name": "stderr",
     "output_type": "stream",
     "text": [
      "Action: emotion: 100%|██████████| 1/1 [00:00<00:00, 32.84it/s]\n"
     ]
    },
    {
     "name": "stdout",
     "output_type": "stream",
     "text": [
      "{'emotion': {'angry': 8.183322961485828e-05, 'disgust': 9.180562560162642e-09, 'fear': 0.009877244156086817, 'happy': 5.005481094121933, 'sad': 0.03673731698654592, 'surprise': 0.0024831448172335513, 'neutral': 94.94534134864807}, 'dominant_emotion': 'neutral', 'region': {'x': 791, 'y': 161, 'w': 469, 'h': 469}}\n"
     ]
    },
    {
     "name": "stderr",
     "output_type": "stream",
     "text": [
      "Action: emotion: 100%|██████████| 1/1 [00:00<00:00, 34.63it/s]\n"
     ]
    },
    {
     "name": "stdout",
     "output_type": "stream",
     "text": [
      "{'emotion': {'angry': 0.01891060237539932, 'disgust': 2.7774534408497864e-09, 'fear': 2.6325520128011703, 'happy': 0.011224642366869375, 'sad': 21.408723294734955, 'surprise': 3.591857478113525e-06, 'neutral': 75.92858672142029}, 'dominant_emotion': 'neutral', 'region': {'x': 800, 'y': 170, 'w': 432, 'h': 432}}\n"
     ]
    },
    {
     "name": "stderr",
     "output_type": "stream",
     "text": [
      "Action: emotion: 100%|██████████| 1/1 [00:00<00:00, 33.69it/s]\n"
     ]
    },
    {
     "name": "stdout",
     "output_type": "stream",
     "text": [
      "{'emotion': {'angry': 0.004558340515359305, 'disgust': 1.9792462113699116e-08, 'fear': 1.1606321670114994, 'happy': 2.5659428909420967, 'sad': 0.6395753007382154, 'surprise': 0.25729339104145765, 'neutral': 95.3719973564148}, 'dominant_emotion': 'neutral', 'region': {'x': 784, 'y': 146, 'w': 451, 'h': 451}}\n"
     ]
    },
    {
     "name": "stderr",
     "output_type": "stream",
     "text": [
      "Action: emotion: 100%|██████████| 1/1 [00:00<00:00, 35.73it/s]\n"
     ]
    },
    {
     "name": "stdout",
     "output_type": "stream",
     "text": [
      "{'emotion': {'angry': 1.9558258657070837e-05, 'disgust': 6.082251130697103e-11, 'fear': 0.08345554815605283, 'happy': 0.5296681541949511, 'sad': 0.08750007837079465, 'surprise': 0.0031863663025433198, 'neutral': 99.29617047309875}, 'dominant_emotion': 'neutral', 'region': {'x': 781, 'y': 138, 'w': 452, 'h': 452}}\n"
     ]
    },
    {
     "name": "stderr",
     "output_type": "stream",
     "text": [
      "Action: emotion: 100%|██████████| 1/1 [00:00<00:00, 29.61it/s]\n"
     ]
    },
    {
     "name": "stdout",
     "output_type": "stream",
     "text": [
      "{'emotion': {'angry': 1.3454546220600605, 'disgust': 1.1315269432543573e-05, 'fear': 6.445301324129105, 'happy': 0.038111925823614, 'sad': 18.492713570594788, 'surprise': 0.25766356848180294, 'neutral': 73.42074513435364}, 'dominant_emotion': 'neutral', 'region': {'x': 779, 'y': 136, 'w': 440, 'h': 440}}\n"
     ]
    },
    {
     "name": "stderr",
     "output_type": "stream",
     "text": [
      "Action: emotion: 100%|██████████| 1/1 [00:00<00:00, 34.27it/s]\n"
     ]
    },
    {
     "name": "stdout",
     "output_type": "stream",
     "text": [
      "{'emotion': {'angry': 2.1716015170391774e-06, 'disgust': 5.434255393497653e-13, 'fear': 5.4169136534281765, 'happy': 2.1651530066223743, 'sad': 0.0001456597688465614, 'surprise': 26.36012294054764, 'neutral': 66.0576621328391}, 'dominant_emotion': 'neutral', 'region': {'x': 730, 'y': 127, 'w': 430, 'h': 430}}\n"
     ]
    },
    {
     "name": "stderr",
     "output_type": "stream",
     "text": [
      "Action: emotion: 100%|██████████| 1/1 [00:00<00:00, 34.60it/s]\n"
     ]
    },
    {
     "name": "stdout",
     "output_type": "stream",
     "text": [
      "{'emotion': {'angry': 9.285460578212223e-05, 'disgust': 6.278132961418104e-10, 'fear': 1.6224933788180351, 'happy': 1.061871089041233, 'sad': 0.0025212435502908193, 'surprise': 10.84030270576477, 'neutral': 86.47271990776062}, 'dominant_emotion': 'neutral', 'region': {'x': 671, 'y': 126, 'w': 429, 'h': 429}}\n"
     ]
    },
    {
     "name": "stderr",
     "output_type": "stream",
     "text": [
      "Action: emotion: 100%|██████████| 1/1 [00:00<00:00, 30.92it/s]\n"
     ]
    },
    {
     "name": "stdout",
     "output_type": "stream",
     "text": [
      "{'emotion': {'angry': 0.2342192456126213, 'disgust': 2.1319658571883338e-05, 'fear': 0.26603415608406067, 'happy': 0.12285906122997403, 'sad': 4.5715682208538055, 'surprise': 0.006546932854689658, 'neutral': 94.79875564575195}, 'dominant_emotion': 'neutral', 'region': {'x': 615, 'y': 122, 'w': 441, 'h': 441}}\n"
     ]
    },
    {
     "name": "stderr",
     "output_type": "stream",
     "text": [
      "Action: emotion: 100%|██████████| 1/1 [00:00<00:00, 32.12it/s]\n"
     ]
    },
    {
     "name": "stdout",
     "output_type": "stream",
     "text": [
      "{'emotion': {'angry': 1.1683075484825167e-05, 'disgust': 1.0786497563197717e-10, 'fear': 0.9816533885896206, 'happy': 4.999039322137833, 'sad': 0.00015446836414412246, 'surprise': 75.46294927597046, 'neutral': 18.55619251728058}, 'dominant_emotion': 'surprise', 'region': {'x': 592, 'y': 126, 'w': 433, 'h': 433}}\n"
     ]
    },
    {
     "name": "stderr",
     "output_type": "stream",
     "text": [
      "Action: emotion: 100%|██████████| 1/1 [00:00<00:00, 32.03it/s]\n"
     ]
    },
    {
     "name": "stdout",
     "output_type": "stream",
     "text": [
      "{'emotion': {'angry': 0.0006783093289902173, 'disgust': 5.041833362674905e-08, 'fear': 4.766472340611955, 'happy': 1.8214048040750506, 'sad': 0.02115080404668251, 'surprise': 26.110802657056013, 'neutral': 67.27949185845208}, 'dominant_emotion': 'neutral', 'region': {'x': 563, 'y': 112, 'w': 458, 'h': 458}}\n"
     ]
    },
    {
     "name": "stderr",
     "output_type": "stream",
     "text": [
      "Action: emotion: 100%|██████████| 1/1 [00:00<00:00, 32.07it/s]\n"
     ]
    },
    {
     "name": "stdout",
     "output_type": "stream",
     "text": [
      "{'emotion': {'angry': 0.11072418419644237, 'disgust': 8.592327738199401e-07, 'fear': 69.90299820899963, 'happy': 0.027718715136870742, 'sad': 28.014826774597168, 'surprise': 6.799700713600032e-06, 'neutral': 1.9437281414866447}, 'dominant_emotion': 'fear', 'region': {'x': 551, 'y': 111, 'w': 467, 'h': 467}}\n"
     ]
    },
    {
     "name": "stderr",
     "output_type": "stream",
     "text": [
      "Action: emotion: 100%|██████████| 1/1 [00:00<00:00, 32.72it/s]\n"
     ]
    },
    {
     "name": "stdout",
     "output_type": "stream",
     "text": [
      "{'emotion': {'angry': 0.084576370032295, 'disgust': 5.149099982926676e-07, 'fear': 54.30594734024374, 'happy': 0.17662853711140597, 'sad': 41.896455514008466, 'surprise': 1.8533287338136722e-06, 'neutral': 3.5363942875140055}, 'dominant_emotion': 'fear', 'region': {'x': 598, 'y': 111, 'w': 458, 'h': 458}}\n"
     ]
    },
    {
     "name": "stderr",
     "output_type": "stream",
     "text": [
      "Action: emotion: 100%|██████████| 1/1 [00:00<00:00, 34.33it/s]\n"
     ]
    },
    {
     "name": "stdout",
     "output_type": "stream",
     "text": [
      "{'emotion': {'angry': 0.4873989149928093, 'disgust': 8.307688759146004e-07, 'fear': 4.189445823431015, 'happy': 0.10697001125663519, 'sad': 13.073216378688812, 'surprise': 1.4195437543094158, 'neutral': 80.72342276573181}, 'dominant_emotion': 'neutral', 'region': {'x': 691, 'y': 116, 'w': 450, 'h': 450}}\n"
     ]
    },
    {
     "name": "stderr",
     "output_type": "stream",
     "text": [
      "Action: emotion: 100%|██████████| 1/1 [00:00<00:00, 37.23it/s]\n"
     ]
    },
    {
     "name": "stdout",
     "output_type": "stream",
     "text": [
      "{'emotion': {'angry': 4.146227250423351e-08, 'disgust': 2.1026092409956835e-15, 'fear': 0.9244090877473354, 'happy': 0.003225154068786651, 'sad': 0.0005948879334027879, 'surprise': 0.004201297997497022, 'neutral': 99.0675687789917}, 'dominant_emotion': 'neutral', 'region': {'x': 768, 'y': 101, 'w': 478, 'h': 478}}\n"
     ]
    },
    {
     "name": "stderr",
     "output_type": "stream",
     "text": [
      "Action: emotion: 100%|██████████| 1/1 [00:00<00:00, 27.53it/s]\n"
     ]
    },
    {
     "name": "stdout",
     "output_type": "stream",
     "text": [
      "{'emotion': {'angry': 0.00015202415397652658, 'disgust': 1.5352968896209518e-09, 'fear': 0.26562290731817484, 'happy': 0.19539834465831518, 'sad': 0.009271494491258636, 'surprise': 0.0577056547626853, 'neutral': 99.47185516357422}, 'dominant_emotion': 'neutral', 'region': {'x': 832, 'y': 87, 'w': 497, 'h': 497}}\n"
     ]
    },
    {
     "name": "stderr",
     "output_type": "stream",
     "text": [
      "Action: emotion: 100%|██████████| 1/1 [00:00<00:00, 28.65it/s]\n"
     ]
    },
    {
     "name": "stdout",
     "output_type": "stream",
     "text": [
      "{'emotion': {'angry': 0.000179025346369599, 'disgust': 1.6953738413150177e-08, 'fear': 0.10874967556446791, 'happy': 0.11750553967431188, 'sad': 0.04220480332151055, 'surprise': 0.012868177145719528, 'neutral': 99.71849322319031}, 'dominant_emotion': 'neutral', 'region': {'x': 876, 'y': 82, 'w': 516, 'h': 516}}\n"
     ]
    },
    {
     "name": "stderr",
     "output_type": "stream",
     "text": [
      "Action: emotion: 100%|██████████| 1/1 [00:00<00:00, 34.35it/s]\n"
     ]
    },
    {
     "name": "stdout",
     "output_type": "stream",
     "text": [
      "{'emotion': {'angry': 0.0002877016868296778, 'disgust': 1.4882023391393773e-07, 'fear': 0.037994340527802706, 'happy': 0.8136441931128502, 'sad': 0.2822405193001032, 'surprise': 0.0057898629165720195, 'neutral': 98.86004328727722}, 'dominant_emotion': 'neutral', 'region': {'x': 878, 'y': 96, 'w': 512, 'h': 512}}\n"
     ]
    },
    {
     "name": "stderr",
     "output_type": "stream",
     "text": [
      "Action: emotion: 100%|██████████| 1/1 [00:00<00:00, 33.85it/s]\n"
     ]
    },
    {
     "name": "stdout",
     "output_type": "stream",
     "text": [
      "{'emotion': {'angry': 1.4250573702156544, 'disgust': 2.7456907858436352e-06, 'fear': 9.882597625255585, 'happy': 0.0165395307703875, 'sad': 22.353965044021606, 'surprise': 0.06504327757284045, 'neutral': 66.25679135322571}, 'dominant_emotion': 'neutral', 'region': {'x': 826, 'y': 96, 'w': 487, 'h': 487}}\n"
     ]
    },
    {
     "name": "stderr",
     "output_type": "stream",
     "text": [
      "Action: emotion: 100%|██████████| 1/1 [00:00<00:00, 35.55it/s]\n"
     ]
    },
    {
     "name": "stdout",
     "output_type": "stream",
     "text": [
      "{'emotion': {'angry': 4.071081889378547e-05, 'disgust': 1.0712590753705897e-10, 'fear': 2.3279961198568344, 'happy': 0.007442011701641604, 'sad': 21.04616016149521, 'surprise': 3.001936192958965e-05, 'neutral': 76.61833167076111}, 'dominant_emotion': 'neutral', 'region': {'x': 708, 'y': 99, 'w': 482, 'h': 482}}\n"
     ]
    },
    {
     "name": "stderr",
     "output_type": "stream",
     "text": [
      "Action: emotion: 100%|██████████| 1/1 [00:00<00:00, 33.83it/s]\n"
     ]
    },
    {
     "name": "stdout",
     "output_type": "stream",
     "text": [
      "{'emotion': {'angry': 1.098799891769886, 'disgust': 3.8562855131374363e-07, 'fear': 5.994036793708801, 'happy': 0.0018549693777458742, 'sad': 16.483627259731293, 'surprise': 0.014838232891634107, 'neutral': 76.40684247016907}, 'dominant_emotion': 'neutral', 'region': {'x': 628, 'y': 102, 'w': 482, 'h': 482}}\n"
     ]
    },
    {
     "name": "stderr",
     "output_type": "stream",
     "text": [
      "Action: emotion: 100%|██████████| 1/1 [00:00<00:00, 35.56it/s]\n"
     ]
    },
    {
     "name": "stdout",
     "output_type": "stream",
     "text": [
      "{'emotion': {'angry': 0.13777144964295027, 'disgust': 2.0359966808197503e-06, 'fear': 0.2196257031635288, 'happy': 0.016315165465549734, 'sad': 3.4465849782925817, 'surprise': 0.0001332838610049132, 'neutral': 96.17956831211666}, 'dominant_emotion': 'neutral', 'region': {'x': 569, 'y': 104, 'w': 508, 'h': 508}}\n"
     ]
    },
    {
     "name": "stderr",
     "output_type": "stream",
     "text": [
      "Action: emotion: 100%|██████████| 1/1 [00:00<00:00, 31.76it/s]\n"
     ]
    },
    {
     "name": "stdout",
     "output_type": "stream",
     "text": [
      "{'emotion': {'angry': 0.16240366967394948, 'disgust': 8.781407133569286e-11, 'fear': 70.63589096069336, 'happy': 1.8738208207302876e-08, 'sad': 8.088861405849457, 'surprise': 0.002971612229885068, 'neutral': 21.109868586063385}, 'dominant_emotion': 'fear', 'region': {'x': 0, 'y': 0, 'w': 1920, 'h': 1080}}\n"
     ]
    },
    {
     "name": "stderr",
     "output_type": "stream",
     "text": [
      "Action: emotion: 100%|██████████| 1/1 [00:00<00:00, 26.15it/s]\n"
     ]
    },
    {
     "name": "stdout",
     "output_type": "stream",
     "text": [
      "{'emotion': {'angry': 4.89425929117715e-05, 'disgust': 4.597397462724473e-09, 'fear': 0.374114653095603, 'happy': 52.6188850402832, 'sad': 0.2700759330764413, 'surprise': 0.014785828534513712, 'neutral': 46.722087264060974}, 'dominant_emotion': 'happy', 'region': {'x': 576, 'y': 120, 'w': 489, 'h': 489}}\n"
     ]
    },
    {
     "name": "stderr",
     "output_type": "stream",
     "text": [
      "Action: emotion: 100%|██████████| 1/1 [00:00<00:00, 35.20it/s]\n"
     ]
    },
    {
     "name": "stdout",
     "output_type": "stream",
     "text": [
      "{'emotion': {'angry': 0.045113053056411445, 'disgust': 3.564109456784953e-11, 'fear': 60.22452712059021, 'happy': 7.703795240621147e-09, 'sad': 12.612324953079224, 'surprise': 7.988570587258437e-05, 'neutral': 27.117958664894104}, 'dominant_emotion': 'fear', 'region': {'x': 0, 'y': 0, 'w': 1920, 'h': 1080}}\n"
     ]
    },
    {
     "name": "stderr",
     "output_type": "stream",
     "text": [
      "Action: emotion: 100%|██████████| 1/1 [00:00<00:00, 33.74it/s]\n"
     ]
    },
    {
     "name": "stdout",
     "output_type": "stream",
     "text": [
      "{'emotion': {'angry': 1.7042839899659157, 'disgust': 0.0004679982794186799, 'fear': 2.232627011835575, 'happy': 0.018569338135421276, 'sad': 33.876246213912964, 'surprise': 0.0019366252672625706, 'neutral': 62.16587424278259}, 'dominant_emotion': 'neutral', 'region': {'x': 631, 'y': 94, 'w': 493, 'h': 493}}\n"
     ]
    },
    {
     "name": "stderr",
     "output_type": "stream",
     "text": [
      "Action: emotion: 100%|██████████| 1/1 [00:00<00:00, 34.95it/s]\n"
     ]
    },
    {
     "name": "stdout",
     "output_type": "stream",
     "text": [
      "{'emotion': {'angry': 1.9616207107901573, 'disgust': 2.5904223210915234e-07, 'fear': 1.2767733074724674, 'happy': 0.00034764477732096566, 'sad': 50.78597664833069, 'surprise': 0.0003177224471073714, 'neutral': 45.974963903427124}, 'dominant_emotion': 'sad', 'region': {'x': 668, 'y': 77, 'w': 490, 'h': 490}}\n"
     ]
    },
    {
     "name": "stderr",
     "output_type": "stream",
     "text": [
      "Action: emotion: 100%|██████████| 1/1 [00:00<00:00, 27.44it/s]\n"
     ]
    },
    {
     "name": "stdout",
     "output_type": "stream",
     "text": [
      "{'emotion': {'angry': 3.5271361298327975e-05, 'disgust': 9.437873524148141e-12, 'fear': 1.0236281901597977, 'happy': 1.206501480191946, 'sad': 0.007580267993034795, 'surprise': 0.001372467158944346, 'neutral': 97.76087999343872}, 'dominant_emotion': 'neutral', 'region': {'x': 703, 'y': 85, 'w': 488, 'h': 488}}\n"
     ]
    },
    {
     "name": "stderr",
     "output_type": "stream",
     "text": [
      "Action: emotion: 100%|██████████| 1/1 [00:00<00:00, 36.34it/s]\n"
     ]
    },
    {
     "name": "stdout",
     "output_type": "stream",
     "text": [
      "{'emotion': {'angry': 0.0025670401223878044, 'disgust': 9.263188264606379e-14, 'fear': 0.004945429238244013, 'happy': 0.7172598579812219, 'sad': 0.0037018961982403756, 'surprise': 4.304785703209862e-06, 'neutral': 99.27151807886146}, 'dominant_emotion': 'neutral', 'region': {'x': 750, 'y': 102, 'w': 480, 'h': 480}}\n"
     ]
    },
    {
     "name": "stderr",
     "output_type": "stream",
     "text": [
      "Action: emotion: 100%|██████████| 1/1 [00:00<00:00, 35.01it/s]\n"
     ]
    },
    {
     "name": "stdout",
     "output_type": "stream",
     "text": [
      "{'emotion': {'angry': 1.3976391244341357e-05, 'disgust': 1.2303732251778277e-10, 'fear': 0.0593454169575125, 'happy': 2.191842347383499, 'sad': 0.0061916121921967715, 'surprise': 0.056062883231788874, 'neutral': 97.68654108047485}, 'dominant_emotion': 'neutral', 'region': {'x': 760, 'y': 80, 'w': 522, 'h': 522}}\n"
     ]
    },
    {
     "name": "stderr",
     "output_type": "stream",
     "text": [
      "Action: emotion: 100%|██████████| 1/1 [00:00<00:00, 36.42it/s]\n"
     ]
    },
    {
     "name": "stdout",
     "output_type": "stream",
     "text": [
      "{'emotion': {'angry': 3.021472849695783e-07, 'disgust': 4.33417035171791e-12, 'fear': 0.052888639038428664, 'happy': 0.35331593826413155, 'sad': 0.0059196063375566155, 'surprise': 0.006442779704229906, 'neutral': 99.58143830299377}, 'dominant_emotion': 'neutral', 'region': {'x': 784, 'y': 90, 'w': 505, 'h': 505}}\n"
     ]
    },
    {
     "name": "stderr",
     "output_type": "stream",
     "text": [
      "Action: emotion: 100%|██████████| 1/1 [00:00<00:00, 31.12it/s]\n"
     ]
    },
    {
     "name": "stdout",
     "output_type": "stream",
     "text": [
      "{'emotion': {'angry': 6.049430472972267e-06, 'disgust': 1.6252033240737196e-10, 'fear': 0.10826693096112794, 'happy': 0.6072911795849311, 'sad': 0.015038334263910906, 'surprise': 0.01642276718146829, 'neutral': 99.25297494250387}, 'dominant_emotion': 'neutral', 'region': {'x': 782, 'y': 84, 'w': 522, 'h': 522}}\n"
     ]
    },
    {
     "name": "stderr",
     "output_type": "stream",
     "text": [
      "Action: emotion: 100%|██████████| 1/1 [00:00<00:00, 36.60it/s]\n"
     ]
    },
    {
     "name": "stdout",
     "output_type": "stream",
     "text": [
      "{'emotion': {'angry': 1.4428019667889203e-06, 'disgust': 2.437018414760267e-11, 'fear': 0.055743614211678505, 'happy': 0.3920409828424454, 'sad': 0.01750301744323224, 'surprise': 0.013016792945563793, 'neutral': 99.5216965675354}, 'dominant_emotion': 'neutral', 'region': {'x': 779, 'y': 85, 'w': 518, 'h': 518}}\n"
     ]
    },
    {
     "name": "stderr",
     "output_type": "stream",
     "text": [
      "Action: emotion: 100%|██████████| 1/1 [00:00<00:00, 36.76it/s]\n"
     ]
    },
    {
     "name": "stdout",
     "output_type": "stream",
     "text": [
      "{'emotion': {'angry': 3.8741222318953754e-05, 'disgust': 8.000918113644251e-10, 'fear': 0.1536522617877878, 'happy': 2.7476807831335535, 'sad': 0.03434091545438263, 'surprise': 0.2308322021488668, 'neutral': 96.83345537385078}, 'dominant_emotion': 'neutral', 'region': {'x': 769, 'y': 89, 'w': 511, 'h': 511}}\n"
     ]
    },
    {
     "name": "stderr",
     "output_type": "stream",
     "text": [
      "Action: emotion: 100%|██████████| 1/1 [00:00<00:00, 35.69it/s]\n"
     ]
    },
    {
     "name": "stdout",
     "output_type": "stream",
     "text": [
      "{'emotion': {'angry': 0.17758957110345364, 'disgust': 2.863594090740662e-05, 'fear': 6.585708260536194, 'happy': 91.5586769580841, 'sad': 1.6720004379749298, 'surprise': 4.434502329786483e-05, 'neutral': 0.005953088111709803}, 'dominant_emotion': 'happy', 'region': {'x': 757, 'y': 90, 'w': 513, 'h': 513}}\n"
     ]
    },
    {
     "name": "stderr",
     "output_type": "stream",
     "text": [
      "Action: emotion: 100%|██████████| 1/1 [00:00<00:00, 33.54it/s]\n"
     ]
    },
    {
     "name": "stdout",
     "output_type": "stream",
     "text": [
      "{'emotion': {'angry': 5.541369269002055e-06, 'disgust': 1.4541470890753803e-10, 'fear': 0.8048506481767473, 'happy': 51.22591867755874, 'sad': 0.03573310521788659, 'surprise': 0.10293965523715677, 'neutral': 47.83056054479606}, 'dominant_emotion': 'happy', 'region': {'x': 757, 'y': 77, 'w': 523, 'h': 523}}\n"
     ]
    },
    {
     "name": "stderr",
     "output_type": "stream",
     "text": [
      "Action: emotion: 100%|██████████| 1/1 [00:00<00:00, 35.48it/s]\n"
     ]
    },
    {
     "name": "stdout",
     "output_type": "stream",
     "text": [
      "{'emotion': {'angry': 0.00021039928814273277, 'disgust': 5.103677784836352e-08, 'fear': 0.007103580415369148, 'happy': 0.20553352139344938, 'sad': 0.2915613759867177, 'surprise': 0.0011243334244539394, 'neutral': 99.49446913567002}, 'dominant_emotion': 'neutral', 'region': {'x': 738, 'y': 78, 'w': 525, 'h': 525}}\n"
     ]
    },
    {
     "name": "stderr",
     "output_type": "stream",
     "text": [
      "Action: emotion: 100%|██████████| 1/1 [00:00<00:00, 34.08it/s]\n"
     ]
    },
    {
     "name": "stdout",
     "output_type": "stream",
     "text": [
      "{'emotion': {'angry': 8.34720954547099, 'disgust': 3.1879807254722565e-05, 'fear': 48.14139571334047, 'happy': 3.912390723059903, 'sad': 7.787798247539683, 'surprise': 0.00026898294698566975, 'neutral': 31.81090923742817}, 'dominant_emotion': 'fear', 'region': {'x': 741, 'y': 76, 'w': 525, 'h': 525}}\n"
     ]
    },
    {
     "name": "stderr",
     "output_type": "stream",
     "text": [
      "Action: emotion: 100%|██████████| 1/1 [00:00<00:00, 22.36it/s]\n"
     ]
    },
    {
     "name": "stdout",
     "output_type": "stream",
     "text": [
      "{'emotion': {'angry': 0.0004670021553465631, 'disgust': 3.438267194826733e-11, 'fear': 22.365768253803253, 'happy': 4.442370737933743e-06, 'sad': 0.0028036165531375445, 'surprise': 17.412787675857544, 'neutral': 60.218167304992676}, 'dominant_emotion': 'neutral', 'region': {'x': 0, 'y': 0, 'w': 1920, 'h': 1080}}\n"
     ]
    },
    {
     "name": "stderr",
     "output_type": "stream",
     "text": [
      "Action: emotion: 100%|██████████| 1/1 [00:00<00:00, 35.08it/s]\n"
     ]
    },
    {
     "name": "stdout",
     "output_type": "stream",
     "text": [
      "{'emotion': {'angry': 0.00011286633707641158, 'disgust': 1.010914529170348e-09, 'fear': 0.21500303409993649, 'happy': 1.2315545231103897, 'sad': 0.026460268418304622, 'surprise': 0.6403897888958454, 'neutral': 97.88647890090942}, 'dominant_emotion': 'neutral', 'region': {'x': 752, 'y': 100, 'w': 518, 'h': 518}}\n"
     ]
    },
    {
     "name": "stderr",
     "output_type": "stream",
     "text": [
      "Action: emotion: 100%|██████████| 1/1 [00:00<00:00, 31.59it/s]\n"
     ]
    },
    {
     "name": "stdout",
     "output_type": "stream",
     "text": [
      "{'emotion': {'angry': 2.3114859004635946e-05, 'disgust': 4.323910587217261e-10, 'fear': 0.9554405696690083, 'happy': 2.97546423971653, 'sad': 0.055610795971006155, 'surprise': 0.01889784325612709, 'neutral': 95.99456787109375}, 'dominant_emotion': 'neutral', 'region': {'x': 740, 'y': 95, 'w': 535, 'h': 535}}\n"
     ]
    },
    {
     "name": "stderr",
     "output_type": "stream",
     "text": [
      "Action: emotion: 100%|██████████| 1/1 [00:00<00:00, 32.62it/s]\n"
     ]
    },
    {
     "name": "stdout",
     "output_type": "stream",
     "text": [
      "{'emotion': {'angry': 0.9075714816195656, 'disgust': 0.00011018641518710584, 'fear': 2.5033129008598864, 'happy': 0.031696197836246956, 'sad': 13.362605176127266, 'surprise': 0.0018672198369769097, 'neutral': 83.19283623652674}, 'dominant_emotion': 'neutral', 'region': {'x': 733, 'y': 93, 'w': 544, 'h': 544}}\n"
     ]
    },
    {
     "name": "stderr",
     "output_type": "stream",
     "text": [
      "Action: emotion: 100%|██████████| 1/1 [00:00<00:00, 36.56it/s]\n"
     ]
    },
    {
     "name": "stdout",
     "output_type": "stream",
     "text": [
      "{'emotion': {'angry': 0.0002423237508645422, 'disgust': 2.53063701599033e-13, 'fear': 39.0119062676318, 'happy': 7.334737026144946e-08, 'sad': 0.008179203243402778, 'surprise': 2.0359468279417547, 'neutral': 58.94373165890356}, 'dominant_emotion': 'neutral', 'region': {'x': 0, 'y': 0, 'w': 1920, 'h': 1080}}\n"
     ]
    },
    {
     "name": "stderr",
     "output_type": "stream",
     "text": [
      "Action: emotion: 100%|██████████| 1/1 [00:00<00:00, 32.54it/s]\n"
     ]
    },
    {
     "name": "stdout",
     "output_type": "stream",
     "text": [
      "{'emotion': {'angry': 0.0002863915824491414, 'disgust': 2.3563573560767123e-13, 'fear': 35.296979546546936, 'happy': 6.199695201658528e-08, 'sad': 0.014751515118405223, 'surprise': 0.9329822845757008, 'neutral': 63.75499963760376}, 'dominant_emotion': 'neutral', 'region': {'x': 0, 'y': 0, 'w': 1920, 'h': 1080}}\n"
     ]
    },
    {
     "name": "stderr",
     "output_type": "stream",
     "text": [
      "Action: emotion: 100%|██████████| 1/1 [00:00<00:00, 34.90it/s]\n"
     ]
    },
    {
     "name": "stdout",
     "output_type": "stream",
     "text": [
      "{'emotion': {'angry': 0.00011555391665751813, 'disgust': 2.6290505883430626e-08, 'fear': 0.4504427779465914, 'happy': 0.9156197309494019, 'sad': 0.0746564706787467, 'surprise': 0.2777477726340294, 'neutral': 98.28141927719116}, 'dominant_emotion': 'neutral', 'region': {'x': 749, 'y': 101, 'w': 526, 'h': 526}}\n"
     ]
    },
    {
     "name": "stderr",
     "output_type": "stream",
     "text": [
      "Action: emotion: 100%|██████████| 1/1 [00:00<00:00, 21.93it/s]\n"
     ]
    },
    {
     "name": "stdout",
     "output_type": "stream",
     "text": [
      "{'emotion': {'angry': 0.000985169299383415, 'disgust': 1.1374013981092085e-11, 'fear': 42.17027723789215, 'happy': 5.416622261833481e-07, 'sad': 0.007413176354020834, 'surprise': 8.468153327703476, 'neutral': 49.3531733751297}, 'dominant_emotion': 'neutral', 'region': {'x': 0, 'y': 0, 'w': 1920, 'h': 1080}}\n"
     ]
    },
    {
     "name": "stderr",
     "output_type": "stream",
     "text": [
      "Action: emotion: 100%|██████████| 1/1 [00:00<00:00, 35.65it/s]\n"
     ]
    },
    {
     "name": "stdout",
     "output_type": "stream",
     "text": [
      "{'emotion': {'angry': 3.7910515970907e-05, 'disgust': 2.6131588212741086e-09, 'fear': 0.14982467982918024, 'happy': 0.587879866361618, 'sad': 0.004738747520605102, 'surprise': 0.00678939904901199, 'neutral': 99.250727891922}, 'dominant_emotion': 'neutral', 'region': {'x': 745, 'y': 75, 'w': 546, 'h': 546}}\n"
     ]
    },
    {
     "name": "stderr",
     "output_type": "stream",
     "text": [
      "Action: emotion: 100%|██████████| 1/1 [00:00<00:00, 34.84it/s]\n"
     ]
    },
    {
     "name": "stdout",
     "output_type": "stream",
     "text": [
      "{'emotion': {'angry': 2.1497363224625587, 'disgust': 0.00023728509859211044, 'fear': 36.235374212265015, 'happy': 0.1390625024214387, 'sad': 31.465783715248108, 'surprise': 0.029300869209691882, 'neutral': 29.980507493019104}, 'dominant_emotion': 'fear', 'region': {'x': 749, 'y': 84, 'w': 533, 'h': 533}}\n"
     ]
    },
    {
     "name": "stderr",
     "output_type": "stream",
     "text": [
      "Action: emotion: 100%|██████████| 1/1 [00:00<00:00, 34.02it/s]\n"
     ]
    },
    {
     "name": "stdout",
     "output_type": "stream",
     "text": [
      "{'emotion': {'angry': 2.444052395149736e-06, 'disgust': 1.2099256780028104e-10, 'fear': 0.11631663185010147, 'happy': 0.680077395890796, 'sad': 0.006229157232368424, 'surprise': 0.14651288220363154, 'neutral': 99.0508615404881}, 'dominant_emotion': 'neutral', 'region': {'x': 746, 'y': 84, 'w': 527, 'h': 527}}\n"
     ]
    },
    {
     "name": "stderr",
     "output_type": "stream",
     "text": [
      "Action: emotion: 100%|██████████| 1/1 [00:00<00:00, 31.81it/s]\n"
     ]
    },
    {
     "name": "stdout",
     "output_type": "stream",
     "text": [
      "{'emotion': {'angry': 8.052305080835473e-07, 'disgust': 1.4176438917470773e-12, 'fear': 0.9671963396487439, 'happy': 0.9180004324317236, 'sad': 0.0002572816055009819, 'surprise': 14.95184987496435, 'neutral': 83.16269416586722}, 'dominant_emotion': 'neutral', 'region': {'x': 746, 'y': 83, 'w': 527, 'h': 527}}\n"
     ]
    },
    {
     "name": "stderr",
     "output_type": "stream",
     "text": [
      "Action: emotion: 100%|██████████| 1/1 [00:00<00:00, 35.72it/s]\n"
     ]
    },
    {
     "name": "stdout",
     "output_type": "stream",
     "text": [
      "{'emotion': {'angry': 4.80598449925651e-07, 'disgust': 8.22317711699546e-13, 'fear': 0.4700026009231806, 'happy': 8.011408150196075, 'sad': 0.0007242567335197236, 'surprise': 1.3471792452037334, 'neutral': 90.1706874370575}, 'dominant_emotion': 'neutral', 'region': {'x': 751, 'y': 89, 'w': 510, 'h': 510}}\n"
     ]
    },
    {
     "name": "stderr",
     "output_type": "stream",
     "text": [
      "Action: emotion: 100%|██████████| 1/1 [00:00<00:00, 34.77it/s]\n"
     ]
    },
    {
     "name": "stdout",
     "output_type": "stream",
     "text": [
      "{'emotion': {'angry': 0.0036303477827459574, 'disgust': 2.5974061443334584e-09, 'fear': 34.84584987163544, 'happy': 1.6544858283396024e-05, 'sad': 0.007532549352617934, 'surprise': 26.57947838306427, 'neutral': 38.56349289417267}, 'dominant_emotion': 'neutral', 'region': {'x': 0, 'y': 0, 'w': 1920, 'h': 1080}}\n"
     ]
    },
    {
     "name": "stderr",
     "output_type": "stream",
     "text": [
      "Action: emotion: 100%|██████████| 1/1 [00:00<00:00, 35.12it/s]\n"
     ]
    },
    {
     "name": "stdout",
     "output_type": "stream",
     "text": [
      "{'emotion': {'angry': 3.866631459459313e-06, 'disgust': 9.923016049259367e-12, 'fear': 0.06103398627601564, 'happy': 3.738134354352951, 'sad': 0.00021187172478676075, 'surprise': 0.8691451512277126, 'neutral': 95.331472158432}, 'dominant_emotion': 'neutral', 'region': {'x': 746, 'y': 90, 'w': 513, 'h': 513}}\n"
     ]
    },
    {
     "name": "stderr",
     "output_type": "stream",
     "text": [
      "Action: emotion: 100%|██████████| 1/1 [00:00<00:00, 36.60it/s]\n"
     ]
    },
    {
     "name": "stdout",
     "output_type": "stream",
     "text": [
      "{'emotion': {'angry': 3.108085566694285e-07, 'disgust': 7.693940767155606e-13, 'fear': 0.10520186042413116, 'happy': 8.71264636516571, 'sad': 0.003390697020222433, 'surprise': 0.3129033837467432, 'neutral': 90.86585640907288}, 'dominant_emotion': 'neutral', 'region': {'x': 754, 'y': 88, 'w': 515, 'h': 515}}\n"
     ]
    },
    {
     "name": "stderr",
     "output_type": "stream",
     "text": [
      "Action: emotion: 100%|██████████| 1/1 [00:00<00:00, 33.34it/s]\n"
     ]
    },
    {
     "name": "stdout",
     "output_type": "stream",
     "text": [
      "{'emotion': {'angry': 1.3078235383545689e-05, 'disgust': 5.89845403423106e-10, 'fear': 0.019748970225919038, 'happy': 0.165814277715981, 'sad': 0.07492265431210399, 'surprise': 0.0014073609236220364, 'neutral': 99.73809123039246}, 'dominant_emotion': 'neutral', 'region': {'x': 749, 'y': 84, 'w': 527, 'h': 527}}\n"
     ]
    },
    {
     "name": "stderr",
     "output_type": "stream",
     "text": [
      "Action: emotion: 100%|██████████| 1/1 [00:00<00:00, 35.15it/s]\n"
     ]
    },
    {
     "name": "stdout",
     "output_type": "stream",
     "text": [
      "{'emotion': {'angry': 4.797441377490941e-06, 'disgust': 1.113396687671929e-11, 'fear': 0.022824421466793865, 'happy': 18.86672079563141, 'sad': 0.03451622906140983, 'surprise': 0.004897064718534239, 'neutral': 81.07104301452637}, 'dominant_emotion': 'neutral', 'region': {'x': 760, 'y': 92, 'w': 510, 'h': 510}}\n"
     ]
    },
    {
     "name": "stderr",
     "output_type": "stream",
     "text": [
      "Action: emotion: 100%|██████████| 1/1 [00:00<00:00, 37.11it/s]\n"
     ]
    },
    {
     "name": "stdout",
     "output_type": "stream",
     "text": [
      "{'emotion': {'angry': 2.1490146551172984e-06, 'disgust': 2.9850606578576966e-11, 'fear': 0.02895621000789106, 'happy': 15.277479588985443, 'sad': 0.014392593584489077, 'surprise': 0.004244173760525882, 'neutral': 84.67493057250977}, 'dominant_emotion': 'neutral', 'region': {'x': 755, 'y': 86, 'w': 519, 'h': 519}}\n"
     ]
    },
    {
     "name": "stderr",
     "output_type": "stream",
     "text": [
      "Action: emotion: 100%|██████████| 1/1 [00:00<00:00, 33.25it/s]\n"
     ]
    },
    {
     "name": "stdout",
     "output_type": "stream",
     "text": [
      "{'emotion': {'angry': 3.9305320911965262, 'disgust': 0.00029505061895827134, 'fear': 12.168955842381019, 'happy': 0.09291173248300165, 'sad': 29.35862787263061, 'surprise': 0.07391384270882992, 'neutral': 54.37475986781599}, 'dominant_emotion': 'neutral', 'region': {'x': 756, 'y': 93, 'w': 507, 'h': 507}}\n"
     ]
    },
    {
     "name": "stderr",
     "output_type": "stream",
     "text": [
      "Action: emotion: 100%|██████████| 1/1 [00:00<00:00, 35.19it/s]\n"
     ]
    },
    {
     "name": "stdout",
     "output_type": "stream",
     "text": [
      "{'emotion': {'angry': 1.8258214310790815, 'disgust': 0.00037254294405097315, 'fear': 1.1791181293568764, 'happy': 0.0413442079835186, 'sad': 15.250142246501714, 'surprise': 0.005248882269353541, 'neutral': 81.69795652603585}, 'dominant_emotion': 'neutral', 'region': {'x': 750, 'y': 80, 'w': 517, 'h': 517}}\n"
     ]
    },
    {
     "name": "stderr",
     "output_type": "stream",
     "text": [
      "Action: emotion: 100%|██████████| 1/1 [00:00<00:00, 23.99it/s]\n"
     ]
    },
    {
     "name": "stdout",
     "output_type": "stream",
     "text": [
      "{'emotion': {'angry': 0.7761333603411913, 'disgust': 0.0001139623009294155, 'fear': 35.854700207710266, 'happy': 0.9155945852398872, 'sad': 6.6187359392642975, 'surprise': 0.3636852139607072, 'neutral': 55.4710328578949}, 'dominant_emotion': 'neutral', 'region': {'x': 744, 'y': 85, 'w': 526, 'h': 526}}\n"
     ]
    },
    {
     "name": "stderr",
     "output_type": "stream",
     "text": [
      "Action: emotion: 100%|██████████| 1/1 [00:00<00:00, 31.79it/s]\n"
     ]
    },
    {
     "name": "stdout",
     "output_type": "stream",
     "text": [
      "{'emotion': {'angry': 4.080700874328613, 'disgust': 0.0015885067114140838, 'fear': 9.113510698080063, 'happy': 0.21483520977199078, 'sad': 23.624451458454132, 'surprise': 0.009535114077152684, 'neutral': 62.955379486083984}, 'dominant_emotion': 'neutral', 'region': {'x': 752, 'y': 85, 'w': 517, 'h': 517}}\n"
     ]
    },
    {
     "name": "stderr",
     "output_type": "stream",
     "text": [
      "Action: emotion: 100%|██████████| 1/1 [00:00<00:00, 35.60it/s]\n"
     ]
    },
    {
     "name": "stdout",
     "output_type": "stream",
     "text": [
      "{'emotion': {'angry': 0.23066537898274536, 'disgust': 4.4640779424824466e-05, 'fear': 1.547371036402645, 'happy': 0.20304700638634005, 'sad': 6.522163392434322, 'surprise': 0.01072128425460513, 'neutral': 91.4859885863059}, 'dominant_emotion': 'neutral', 'region': {'x': 747, 'y': 86, 'w': 523, 'h': 523}}\n"
     ]
    },
    {
     "name": "stderr",
     "output_type": "stream",
     "text": [
      "Action: emotion: 100%|██████████| 1/1 [00:00<00:00, 34.83it/s]\n"
     ]
    },
    {
     "name": "stdout",
     "output_type": "stream",
     "text": [
      "{'emotion': {'angry': 0.587333109994756, 'disgust': 0.0001430411941794815, 'fear': 1.1544084662904184, 'happy': 0.1194075771754888, 'sad': 10.24859201924896, 'surprise': 0.0032452426008963463, 'neutral': 87.88686539091285}, 'dominant_emotion': 'neutral', 'region': {'x': 752, 'y': 91, 'w': 517, 'h': 517}}\n"
     ]
    },
    {
     "name": "stderr",
     "output_type": "stream",
     "text": [
      "Action: emotion: 100%|██████████| 1/1 [00:00<00:00, 34.05it/s]\n"
     ]
    },
    {
     "name": "stdout",
     "output_type": "stream",
     "text": [
      "{'emotion': {'angry': 1.677040196955204, 'disgust': 0.0051132556109223515, 'fear': 66.41746163368225, 'happy': 0.39161345921456814, 'sad': 15.924479067325592, 'surprise': 0.07844708161428571, 'neutral': 15.505841374397278}, 'dominant_emotion': 'fear', 'region': {'x': 762, 'y': 94, 'w': 507, 'h': 507}}\n"
     ]
    },
    {
     "name": "stderr",
     "output_type": "stream",
     "text": [
      "Action: emotion: 100%|██████████| 1/1 [00:00<00:00, 34.00it/s]\n"
     ]
    },
    {
     "name": "stdout",
     "output_type": "stream",
     "text": [
      "{'emotion': {'angry': 13.090671598911285, 'disgust': 8.6580939751002e-05, 'fear': 27.814313769340515, 'happy': 0.7640202529728413, 'sad': 3.6771144717931747, 'surprise': 0.004214012005832046, 'neutral': 54.6495795249939}, 'dominant_emotion': 'neutral', 'region': {'x': 756, 'y': 97, 'w': 502, 'h': 502}}\n"
     ]
    },
    {
     "name": "stderr",
     "output_type": "stream",
     "text": [
      "Action: emotion: 100%|██████████| 1/1 [00:00<00:00, 28.15it/s]\n"
     ]
    },
    {
     "name": "stdout",
     "output_type": "stream",
     "text": [
      "{'emotion': {'angry': 0.16307185869663954, 'disgust': 0.0001098902089324838, 'fear': 0.926339253783226, 'happy': 83.24310183525085, 'sad': 0.13051185524091125, 'surprise': 9.453227370977402, 'neutral': 6.083641201257706}, 'dominant_emotion': 'happy', 'region': {'x': 753, 'y': 90, 'w': 515, 'h': 515}}\n"
     ]
    },
    {
     "name": "stderr",
     "output_type": "stream",
     "text": [
      "Action: emotion: 100%|██████████| 1/1 [00:00<00:00, 35.33it/s]\n"
     ]
    },
    {
     "name": "stdout",
     "output_type": "stream",
     "text": [
      "{'emotion': {'angry': 2.734806016087532, 'disgust': 0.0059588419389911, 'fear': 7.590712606906891, 'happy': 23.812875151634216, 'sad': 1.8119757995009422, 'surprise': 55.66458702087402, 'neutral': 8.37908387184143}, 'dominant_emotion': 'surprise', 'region': {'x': 753, 'y': 88, 'w': 510, 'h': 510}}\n"
     ]
    },
    {
     "name": "stderr",
     "output_type": "stream",
     "text": [
      "Action: emotion: 100%|██████████| 1/1 [00:00<00:00, 34.42it/s]\n"
     ]
    },
    {
     "name": "stdout",
     "output_type": "stream",
     "text": [
      "{'emotion': {'angry': 1.4607925899326801, 'disgust': 1.3828578282470971e-06, 'fear': 13.671588897705078, 'happy': 0.006803728319937363, 'sad': 2.4220947176218033, 'surprise': 0.0006150617082312237, 'neutral': 82.43810534477234}, 'dominant_emotion': 'neutral', 'region': {'x': 757, 'y': 94, 'w': 513, 'h': 513}}\n"
     ]
    },
    {
     "name": "stderr",
     "output_type": "stream",
     "text": [
      "Action: emotion: 100%|██████████| 1/1 [00:00<00:00, 33.36it/s]\n"
     ]
    },
    {
     "name": "stdout",
     "output_type": "stream",
     "text": [
      "{'emotion': {'angry': 1.6736848279833794, 'disgust': 2.6008088127582596e-06, 'fear': 35.38210690021515, 'happy': 0.07192434859462082, 'sad': 2.6390615850687027, 'surprise': 0.0002110065452143317, 'neutral': 60.23300886154175}, 'dominant_emotion': 'neutral', 'region': {'x': 753, 'y': 89, 'w': 520, 'h': 520}}\n"
     ]
    },
    {
     "name": "stderr",
     "output_type": "stream",
     "text": [
      "Action: emotion: 100%|██████████| 1/1 [00:00<00:00, 32.77it/s]\n"
     ]
    },
    {
     "name": "stdout",
     "output_type": "stream",
     "text": [
      "{'emotion': {'angry': 0.08012250764295459, 'disgust': 2.328953974117809e-08, 'fear': 1.4475813135504723, 'happy': 0.45043579302728176, 'sad': 0.39277090691030025, 'surprise': 0.00019943847746617394, 'neutral': 97.6288914680481}, 'dominant_emotion': 'neutral', 'region': {'x': 754, 'y': 92, 'w': 514, 'h': 514}}\n"
     ]
    },
    {
     "name": "stderr",
     "output_type": "stream",
     "text": [
      "Action: emotion: 100%|██████████| 1/1 [00:00<00:00, 32.58it/s]\n"
     ]
    },
    {
     "name": "stdout",
     "output_type": "stream",
     "text": [
      "{'emotion': {'angry': 0.0013044717888988089, 'disgust': 2.7119302359324138e-06, 'fear': 0.49699763767421246, 'happy': 2.9857637360692024, 'sad': 0.37822858430445194, 'surprise': 0.43933275155723095, 'neutral': 95.69836854934692}, 'dominant_emotion': 'neutral', 'region': {'x': 732, 'y': 80, 'w': 545, 'h': 545}}\n"
     ]
    },
    {
     "name": "stderr",
     "output_type": "stream",
     "text": [
      "Action: emotion: 100%|██████████| 1/1 [00:00<00:00, 29.32it/s]\n"
     ]
    },
    {
     "name": "stdout",
     "output_type": "stream",
     "text": [
      "{'emotion': {'angry': 6.456177681684494, 'disgust': 0.0015407656974275596, 'fear': 26.73622965812683, 'happy': 0.15318680088967085, 'sad': 49.38949942588806, 'surprise': 0.06773449713364244, 'neutral': 17.19563603401184}, 'dominant_emotion': 'sad', 'region': {'x': 754, 'y': 101, 'w': 520, 'h': 520}}\n"
     ]
    },
    {
     "name": "stderr",
     "output_type": "stream",
     "text": [
      "Action: emotion: 100%|██████████| 1/1 [00:00<00:00, 33.00it/s]\n"
     ]
    },
    {
     "name": "stdout",
     "output_type": "stream",
     "text": [
      "{'emotion': {'angry': 3.69489030301641e-06, 'disgust': 1.8455060087093903e-11, 'fear': 0.029071838348729215, 'happy': 0.16342854170075308, 'sad': 0.012384054581708734, 'surprise': 0.08769513164878676, 'neutral': 99.70741866275183}, 'dominant_emotion': 'neutral', 'region': {'x': 739, 'y': 83, 'w': 540, 'h': 540}}\n"
     ]
    },
    {
     "name": "stderr",
     "output_type": "stream",
     "text": [
      "Action: emotion: 100%|██████████| 1/1 [00:00<00:00, 33.11it/s]\n"
     ]
    },
    {
     "name": "stdout",
     "output_type": "stream",
     "text": [
      "{'emotion': {'angry': 0.0017292612028541043, 'disgust': 5.3854986442614106e-09, 'fear': 0.026990409241989255, 'happy': 0.04271572397556156, 'sad': 0.48315287567675114, 'surprise': 8.450807627014001e-05, 'neutral': 99.44532513618469}, 'dominant_emotion': 'neutral', 'region': {'x': 721, 'y': 68, 'w': 570, 'h': 570}}\n"
     ]
    },
    {
     "name": "stderr",
     "output_type": "stream",
     "text": [
      "Action: emotion: 100%|██████████| 1/1 [00:00<00:00, 33.33it/s]\n"
     ]
    },
    {
     "name": "stdout",
     "output_type": "stream",
     "text": [
      "{'emotion': {'angry': 0.0013597643373941537, 'disgust': 9.561644809252812e-08, 'fear': 0.18133849371224642, 'happy': 3.8080252707004547, 'sad': 0.14462833059951663, 'surprise': 0.020988671167287976, 'neutral': 95.84366083145142}, 'dominant_emotion': 'neutral', 'region': {'x': 732, 'y': 88, 'w': 543, 'h': 543}}\n"
     ]
    },
    {
     "name": "stderr",
     "output_type": "stream",
     "text": [
      "Action: emotion: 100%|██████████| 1/1 [00:00<00:00, 31.50it/s]\n"
     ]
    },
    {
     "name": "stdout",
     "output_type": "stream",
     "text": [
      "{'emotion': {'angry': 0.005559820419875905, 'disgust': 2.0939991962620752e-07, 'fear': 3.729630634188652, 'happy': 34.65577960014343, 'sad': 0.0793121405877173, 'surprise': 6.800789386034012, 'neutral': 54.728931188583374}, 'dominant_emotion': 'neutral', 'region': {'x': 711, 'y': 79, 'w': 480, 'h': 480}}\n"
     ]
    },
    {
     "name": "stderr",
     "output_type": "stream",
     "text": [
      "Action: emotion: 100%|██████████| 1/1 [00:00<00:00, 35.84it/s]\n"
     ]
    },
    {
     "name": "stdout",
     "output_type": "stream",
     "text": [
      "{'emotion': {'angry': 3.0026448890566826, 'disgust': 0.00012559290780700394, 'fear': 6.799635291099548, 'happy': 0.00844579262775369, 'sad': 29.759076237678528, 'surprise': 0.036739330971613526, 'neutral': 60.393333435058594}, 'dominant_emotion': 'neutral', 'region': {'x': 681, 'y': 84, 'w': 468, 'h': 468}}\n"
     ]
    },
    {
     "name": "stderr",
     "output_type": "stream",
     "text": [
      "Action: emotion: 100%|██████████| 1/1 [00:00<00:00, 33.94it/s]\n"
     ]
    },
    {
     "name": "stdout",
     "output_type": "stream",
     "text": [
      "{'emotion': {'angry': 2.883899211883545, 'disgust': 0.00024904284146032296, 'fear': 26.912537217140198, 'happy': 44.963422417640686, 'sad': 0.6006442010402679, 'surprise': 1.6207927837967873, 'neutral': 23.018459975719452}, 'dominant_emotion': 'happy', 'region': {'x': 694, 'y': 109, 'w': 441, 'h': 441}}\n"
     ]
    },
    {
     "name": "stderr",
     "output_type": "stream",
     "text": [
      "Action: emotion: 100%|██████████| 1/1 [00:00<00:00, 32.19it/s]\n"
     ]
    },
    {
     "name": "stdout",
     "output_type": "stream",
     "text": [
      "{'emotion': {'angry': 0.033091154182329774, 'disgust': 2.5820823344041566e-10, 'fear': 1.0927274823188782, 'happy': 0.019097312178928405, 'sad': 33.9417964220047, 'surprise': 3.8151537040675976e-06, 'neutral': 64.91328477859497}, 'dominant_emotion': 'neutral', 'region': {'x': 705, 'y': 127, 'w': 447, 'h': 447}}\n"
     ]
    },
    {
     "name": "stderr",
     "output_type": "stream",
     "text": [
      "Action: emotion: 100%|██████████| 1/1 [00:00<00:00, 28.98it/s]\n"
     ]
    },
    {
     "name": "stdout",
     "output_type": "stream",
     "text": [
      "{'emotion': {'angry': 2.0952483639121056, 'disgust': 7.099228014340042e-05, 'fear': 7.204335182905197, 'happy': 0.023895899357739836, 'sad': 20.714767277240753, 'surprise': 0.050094351172447205, 'neutral': 69.91158723831177}, 'dominant_emotion': 'neutral', 'region': {'x': 730, 'y': 144, 'w': 424, 'h': 424}}\n"
     ]
    },
    {
     "name": "stderr",
     "output_type": "stream",
     "text": [
      "Action: emotion: 100%|██████████| 1/1 [00:00<00:00, 35.01it/s]\n"
     ]
    },
    {
     "name": "stdout",
     "output_type": "stream",
     "text": [
      "{'emotion': {'angry': 0.027562254587173735, 'disgust': 8.862769713476133e-07, 'fear': 3.431244399025702, 'happy': 26.447178509663253, 'sad': 0.038237691574927665, 'surprise': 1.6248186156045565, 'neutral': 68.43095829671373}, 'dominant_emotion': 'neutral', 'region': {'x': 749, 'y': 151, 'w': 406, 'h': 406}}\n"
     ]
    },
    {
     "name": "stderr",
     "output_type": "stream",
     "text": [
      "Action: emotion: 100%|██████████| 1/1 [00:00<00:00, 36.64it/s]\n"
     ]
    },
    {
     "name": "stdout",
     "output_type": "stream",
     "text": [
      "{'emotion': {'angry': 0.0004747932507598307, 'disgust': 2.668022053287089e-09, 'fear': 0.3249241504818201, 'happy': 3.338034078478813, 'sad': 0.008271034312201664, 'surprise': 1.7053822055459023, 'neutral': 94.62291598320007}, 'dominant_emotion': 'neutral', 'region': {'x': 763, 'y': 145, 'w': 407, 'h': 407}}\n"
     ]
    },
    {
     "name": "stderr",
     "output_type": "stream",
     "text": [
      "Action: emotion: 100%|██████████| 1/1 [00:00<00:00, 30.95it/s]\n"
     ]
    },
    {
     "name": "stdout",
     "output_type": "stream",
     "text": [
      "{'emotion': {'angry': 0.00013825974747305736, 'disgust': 7.627504530760554e-10, 'fear': 1.3584409840404987, 'happy': 3.763846680521965, 'sad': 0.00463115684397053, 'surprise': 10.339600592851639, 'neutral': 84.5333456993103}, 'dominant_emotion': 'neutral', 'region': {'x': 769, 'y': 141, 'w': 412, 'h': 412}}\n"
     ]
    },
    {
     "name": "stderr",
     "output_type": "stream",
     "text": [
      "Action: emotion: 100%|██████████| 1/1 [00:00<00:00, 32.17it/s]\n"
     ]
    },
    {
     "name": "stdout",
     "output_type": "stream",
     "text": [
      "{'emotion': {'angry': 1.094710174947977, 'disgust': 1.2840885688092385e-06, 'fear': 2.9436130076646805, 'happy': 0.007182342233136296, 'sad': 14.017945528030396, 'surprise': 0.05870985914953053, 'neutral': 81.8778395652771}, 'dominant_emotion': 'neutral', 'region': {'x': 756, 'y': 114, 'w': 450, 'h': 450}}\n"
     ]
    },
    {
     "name": "stderr",
     "output_type": "stream",
     "text": [
      "Action: emotion: 100%|██████████| 1/1 [00:00<00:00, 33.67it/s]\n"
     ]
    },
    {
     "name": "stdout",
     "output_type": "stream",
     "text": [
      "{'emotion': {'angry': 0.0010405058343338344, 'disgust': 1.523482269691164e-08, 'fear': 0.6598825711151872, 'happy': 14.70821473500553, 'sad': 0.03957690897784722, 'surprise': 2.3763102440464206, 'neutral': 82.2149715167318}, 'dominant_emotion': 'neutral', 'region': {'x': 758, 'y': 106, 'w': 463, 'h': 463}}\n"
     ]
    },
    {
     "name": "stderr",
     "output_type": "stream",
     "text": [
      "Action: emotion: 100%|██████████| 1/1 [00:00<00:00, 27.35it/s]\n"
     ]
    },
    {
     "name": "stdout",
     "output_type": "stream",
     "text": [
      "{'emotion': {'angry': 7.22011093661933e-05, 'disgust': 3.8430170259775455e-11, 'fear': 0.6038315805695557, 'happy': 0.14967126151740415, 'sad': 0.009684149272906494, 'surprise': 0.15352023099494208, 'neutral': 99.08321510753451}, 'dominant_emotion': 'neutral', 'region': {'x': 755, 'y': 105, 'w': 483, 'h': 483}}\n"
     ]
    },
    {
     "name": "stderr",
     "output_type": "stream",
     "text": [
      "Action: emotion: 100%|██████████| 1/1 [00:00<00:00, 35.79it/s]\n"
     ]
    },
    {
     "name": "stdout",
     "output_type": "stream",
     "text": [
      "{'emotion': {'angry': 0.01629341374410175, 'disgust': 9.993058192323796e-10, 'fear': 3.200616878307872, 'happy': 0.0035201983616386496, 'sad': 41.31386824332883, 'surprise': 1.6002355950472882e-07, 'neutral': 55.46570154820094}, 'dominant_emotion': 'neutral', 'region': {'x': 740, 'y': 108, 'w': 539, 'h': 539}}\n"
     ]
    },
    {
     "name": "stderr",
     "output_type": "stream",
     "text": [
      "Action: emotion: 100%|██████████| 1/1 [00:00<00:00, 37.67it/s]\n"
     ]
    },
    {
     "name": "stdout",
     "output_type": "stream",
     "text": [
      "{'emotion': {'angry': 4.873559333873345e-06, 'disgust': 1.712216306237746e-10, 'fear': 0.058839807752519846, 'happy': 12.413189560174942, 'sad': 0.011871042806888, 'surprise': 0.05009821034036577, 'neutral': 87.46600151062012}, 'dominant_emotion': 'neutral', 'region': {'x': 725, 'y': 104, 'w': 569, 'h': 569}}\n"
     ]
    },
    {
     "name": "stderr",
     "output_type": "stream",
     "text": [
      "Action: emotion: 100%|██████████| 1/1 [00:00<00:00, 35.24it/s]\n"
     ]
    },
    {
     "name": "stdout",
     "output_type": "stream",
     "text": [
      "{'emotion': {'angry': 0.0022997377527644858, 'disgust': 8.93300509119399e-06, 'fear': 3.376433625817299, 'happy': 14.803887903690338, 'sad': 0.15735749620944262, 'surprise': 2.112405002117157, 'neutral': 79.54760789871216}, 'dominant_emotion': 'neutral', 'region': {'x': 723, 'y': 125, 'w': 578, 'h': 578}}\n"
     ]
    },
    {
     "name": "stderr",
     "output_type": "stream",
     "text": [
      "Action: emotion: 100%|██████████| 1/1 [00:00<00:00, 34.09it/s]\n"
     ]
    },
    {
     "name": "stdout",
     "output_type": "stream",
     "text": [
      "{'emotion': {'angry': 0.9364688395839238, 'disgust': 0.00014032250118923496, 'fear': 3.77312213320268, 'happy': 0.3611452394288921, 'sad': 7.491890042536857, 'surprise': 0.5223671751390204, 'neutral': 86.91486638276973}, 'dominant_emotion': 'neutral', 'region': {'x': 725, 'y': 135, 'w': 588, 'h': 588}}\n"
     ]
    },
    {
     "name": "stderr",
     "output_type": "stream",
     "text": [
      "Action: emotion: 100%|██████████| 1/1 [00:00<00:00, 35.36it/s]\n"
     ]
    },
    {
     "name": "stdout",
     "output_type": "stream",
     "text": [
      "{'emotion': {'angry': 1.4212815006841124, 'disgust': 2.4510578140348344e-06, 'fear': 5.597327983220099, 'happy': 0.0456859734131976, 'sad': 7.536318602342522, 'surprise': 16.843977084396904, 'neutral': 68.55540684195797}, 'dominant_emotion': 'neutral', 'region': {'x': 743, 'y': 153, 'w': 572, 'h': 572}}\n"
     ]
    },
    {
     "name": "stderr",
     "output_type": "stream",
     "text": [
      "Action: emotion: 100%|██████████| 1/1 [00:00<00:00, 28.27it/s]\n"
     ]
    },
    {
     "name": "stdout",
     "output_type": "stream",
     "text": [
      "{'emotion': {'angry': 0.9311661679247718, 'disgust': 1.48559982066924e-06, 'fear': 1.0666663462916819, 'happy': 0.0024036009176801507, 'sad': 28.59133652397016, 'surprise': 0.0009116847284059717, 'neutral': 69.40751489445655}, 'dominant_emotion': 'neutral', 'region': {'x': 694, 'y': 138, 'w': 546, 'h': 546}}\n"
     ]
    },
    {
     "name": "stderr",
     "output_type": "stream",
     "text": [
      "Action: emotion: 100%|██████████| 1/1 [00:00<00:00, 33.10it/s]\n"
     ]
    },
    {
     "name": "stdout",
     "output_type": "stream",
     "text": [
      "{'emotion': {'angry': 0.04150703316554427, 'disgust': 2.269695542622685e-06, 'fear': 3.973345458507538, 'happy': 1.0940600647657561e-07, 'sad': 95.75331211090088, 'surprise': 1.4496602140923187e-06, 'neutral': 0.23183783050626516}, 'dominant_emotion': 'sad', 'region': {'x': 0, 'y': 0, 'w': 1920, 'h': 1080}}\n"
     ]
    },
    {
     "name": "stderr",
     "output_type": "stream",
     "text": [
      "Action: emotion: 100%|██████████| 1/1 [00:00<00:00, 27.73it/s]\n"
     ]
    },
    {
     "name": "stdout",
     "output_type": "stream",
     "text": [
      "{'emotion': {'angry': 0.0028988644589480485, 'disgust': 1.6577163494634758e-09, 'fear': 0.802951867485269, 'happy': 3.731104845915803e-10, 'sad': 99.18727269020947, 'surprise': 6.869683974593755e-08, 'neutral': 0.00687931251530722}, 'dominant_emotion': 'sad', 'region': {'x': 0, 'y': 0, 'w': 1920, 'h': 1080}}\n"
     ]
    },
    {
     "name": "stderr",
     "output_type": "stream",
     "text": [
      "Action: emotion: 100%|██████████| 1/1 [00:00<00:00, 32.50it/s]\n"
     ]
    },
    {
     "name": "stdout",
     "output_type": "stream",
     "text": [
      "{'emotion': {'angry': 0.0017168242266052403, 'disgust': 6.840929461359585e-12, 'fear': 0.41543166153132915, 'happy': 4.390330601237308e-11, 'sad': 99.5640754699707, 'surprise': 2.814154742569741e-08, 'neutral': 0.018778057710733265}, 'dominant_emotion': 'sad', 'region': {'x': 0, 'y': 0, 'w': 1920, 'h': 1080}}\n"
     ]
    },
    {
     "name": "stderr",
     "output_type": "stream",
     "text": [
      "Action: emotion: 100%|██████████| 1/1 [00:00<00:00, 33.34it/s]\n"
     ]
    },
    {
     "name": "stdout",
     "output_type": "stream",
     "text": [
      "{'emotion': {'angry': 0.47703858514360103, 'disgust': 2.0805796104864297e-07, 'fear': 0.17544283646004416, 'happy': 0.0033015620068646673, 'sad': 14.83127265162901, 'surprise': 4.467468936836707e-05, 'neutral': 84.51290038304927}, 'dominant_emotion': 'neutral', 'region': {'x': 410, 'y': 148, 'w': 526, 'h': 526}}\n"
     ]
    },
    {
     "name": "stderr",
     "output_type": "stream",
     "text": [
      "Action: emotion: 100%|██████████| 1/1 [00:00<00:00, 30.60it/s]\n"
     ]
    },
    {
     "name": "stdout",
     "output_type": "stream",
     "text": [
      "{'emotion': {'angry': 0.006642442895099521, 'disgust': 2.8591378938881695e-11, 'fear': 1.499947253614664, 'happy': 4.1906040269823475e-10, 'sad': 98.47266674041748, 'surprise': 6.153753617788027e-08, 'neutral': 0.020740034233313054}, 'dominant_emotion': 'sad', 'region': {'x': 0, 'y': 0, 'w': 1920, 'h': 1080}}\n"
     ]
    },
    {
     "name": "stderr",
     "output_type": "stream",
     "text": [
      "Action: emotion: 100%|██████████| 1/1 [00:00<00:00, 25.06it/s]\n"
     ]
    },
    {
     "name": "stdout",
     "output_type": "stream",
     "text": [
      "{'emotion': {'angry': 1.0479842312633991, 'disgust': 9.039257675702572e-08, 'fear': 0.3765122964978218, 'happy': 0.0028273520001675934, 'sad': 31.79660737514496, 'surprise': 6.09345178759213e-06, 'neutral': 66.77606105804443}, 'dominant_emotion': 'neutral', 'region': {'x': 429, 'y': 146, 'w': 522, 'h': 522}}\n"
     ]
    },
    {
     "name": "stderr",
     "output_type": "stream",
     "text": [
      "Action: emotion: 100%|██████████| 1/1 [00:00<00:00, 33.80it/s]\n"
     ]
    },
    {
     "name": "stdout",
     "output_type": "stream",
     "text": [
      "{'emotion': {'angry': 0.0003902236585417995, 'disgust': 6.029067761530171e-11, 'fear': 4.131597280502319, 'happy': 0.0004118765900784638, 'sad': 93.05434226989746, 'surprise': 1.8180054128791312e-07, 'neutral': 2.813256159424782}, 'dominant_emotion': 'sad', 'region': {'x': 465, 'y': 121, 'w': 588, 'h': 588}}\n"
     ]
    },
    {
     "name": "stderr",
     "output_type": "stream",
     "text": [
      "Action: emotion: 100%|██████████| 1/1 [00:00<00:00, 33.72it/s]\n"
     ]
    },
    {
     "name": "stdout",
     "output_type": "stream",
     "text": [
      "{'emotion': {'angry': 2.3152094334363937, 'disgust': 0.00015339343235609704, 'fear': 2.404179610311985, 'happy': 0.013651697372552007, 'sad': 30.26917576789856, 'surprise': 0.009522852633381262, 'neutral': 64.988112449646}, 'dominant_emotion': 'neutral', 'region': {'x': 588, 'y': 132, 'w': 538, 'h': 538}}\n"
     ]
    },
    {
     "name": "stderr",
     "output_type": "stream",
     "text": [
      "Action: emotion: 100%|██████████| 1/1 [00:00<00:00, 32.56it/s]\n"
     ]
    },
    {
     "name": "stdout",
     "output_type": "stream",
     "text": [
      "{'emotion': {'angry': 0.0007522449323005276, 'disgust': 1.7929378870462642e-06, 'fear': 3.1745489686727524, 'happy': 5.753276497125626, 'sad': 1.7035765573382378, 'surprise': 0.013226360897533596, 'neutral': 89.35461640357971}, 'dominant_emotion': 'neutral', 'region': {'x': 680, 'y': 118, 'w': 548, 'h': 548}}\n"
     ]
    },
    {
     "name": "stderr",
     "output_type": "stream",
     "text": [
      "Action: emotion: 100%|██████████| 1/1 [00:00<00:00, 34.31it/s]\n"
     ]
    },
    {
     "name": "stdout",
     "output_type": "stream",
     "text": [
      "{'emotion': {'angry': 2.651674309418129e-05, 'disgust': 7.301259858631286e-10, 'fear': 1.0995597302651245, 'happy': 2.590789614068843, 'sad': 0.1550703867566816, 'surprise': 0.0006445842175193968, 'neutral': 96.1539087387269}, 'dominant_emotion': 'neutral', 'region': {'x': 762, 'y': 109, 'w': 547, 'h': 547}}\n"
     ]
    },
    {
     "name": "stderr",
     "output_type": "stream",
     "text": [
      "Action: emotion: 100%|██████████| 1/1 [00:00<00:00, 32.73it/s]\n"
     ]
    },
    {
     "name": "stdout",
     "output_type": "stream",
     "text": [
      "{'emotion': {'angry': 0.002808146928146016, 'disgust': 1.8549531910494466e-07, 'fear': 2.7982812374830246, 'happy': 1.0498388670384884, 'sad': 1.6050048172473907, 'surprise': 0.003353489955770783, 'neutral': 94.54071521759033}, 'dominant_emotion': 'neutral', 'region': {'x': 802, 'y': 82, 'w': 570, 'h': 570}}\n"
     ]
    },
    {
     "name": "stderr",
     "output_type": "stream",
     "text": [
      "Action: emotion: 100%|██████████| 1/1 [00:00<00:00, 32.69it/s]\n"
     ]
    },
    {
     "name": "stdout",
     "output_type": "stream",
     "text": [
      "{'emotion': {'angry': 0.011053268758029864, 'disgust': 2.2652249427472105e-06, 'fear': 2.9142107688910226, 'happy': 4.497688159208784, 'sad': 1.6907655710438234, 'surprise': 0.01033567812315505, 'neutral': 90.87594693159741}, 'dominant_emotion': 'neutral', 'region': {'x': 825, 'y': 97, 'w': 555, 'h': 555}}\n"
     ]
    },
    {
     "name": "stderr",
     "output_type": "stream",
     "text": [
      "Action: emotion: 100%|██████████| 1/1 [00:00<00:00, 32.15it/s]\n"
     ]
    },
    {
     "name": "stdout",
     "output_type": "stream",
     "text": [
      "{'emotion': {'angry': 2.729282761599688, 'disgust': 3.0531864084481837e-11, 'fear': 96.00929665454666, 'happy': 7.12397829173001e-11, 'sad': 0.11295015974191908, 'surprise': 0.00864654399872978, 'neutral': 1.1398151089471449}, 'dominant_emotion': 'fear', 'region': {'x': 0, 'y': 0, 'w': 1920, 'h': 1080}}\n"
     ]
    },
    {
     "name": "stderr",
     "output_type": "stream",
     "text": [
      "Action: emotion: 100%|██████████| 1/1 [00:00<00:00, 29.78it/s]\n"
     ]
    },
    {
     "name": "stdout",
     "output_type": "stream",
     "text": [
      "{'emotion': {'angry': 0.00030760762427349027, 'disgust': 2.9439291242528056e-09, 'fear': 7.96710232292386, 'happy': 68.22390935135968, 'sad': 0.01776615906360712, 'surprise': 13.315489790977265, 'neutral': 10.475417467902009}, 'dominant_emotion': 'happy', 'region': {'x': 817, 'y': 115, 'w': 542, 'h': 542}}\n"
     ]
    },
    {
     "name": "stderr",
     "output_type": "stream",
     "text": [
      "Action: emotion: 100%|██████████| 1/1 [00:00<00:00, 35.43it/s]\n"
     ]
    },
    {
     "name": "stdout",
     "output_type": "stream",
     "text": [
      "{'emotion': {'angry': 0.11479611959955809, 'disgust': 4.493718376579934e-06, 'fear': 0.1925438408020938, 'happy': 0.012504791829554995, 'sad': 9.865497640699008, 'surprise': 0.0002438539158731239, 'neutral': 89.81441198673319}, 'dominant_emotion': 'neutral', 'region': {'x': 789, 'y': 89, 'w': 564, 'h': 564}}\n"
     ]
    },
    {
     "name": "stderr",
     "output_type": "stream",
     "text": [
      "Action: emotion: 100%|██████████| 1/1 [00:00<00:00, 31.78it/s]\n"
     ]
    },
    {
     "name": "stdout",
     "output_type": "stream",
     "text": [
      "{'emotion': {'angry': 0.16250903327125707, 'disgust': 1.8694057490890347e-13, 'fear': 99.4494139491813, 'happy': 1.136892204255807e-13, 'sad': 0.11600902290004765, 'surprise': 0.002962266615459348, 'neutral': 0.26911018364699885}, 'dominant_emotion': 'fear', 'region': {'x': 0, 'y': 0, 'w': 1920, 'h': 1080}}\n"
     ]
    },
    {
     "name": "stderr",
     "output_type": "stream",
     "text": [
      "Action: emotion: 100%|██████████| 1/1 [00:00<00:00, 33.16it/s]\n"
     ]
    },
    {
     "name": "stdout",
     "output_type": "stream",
     "text": [
      "{'emotion': {'angry': 0.0003306787675683154, 'disgust': 1.914489816678966e-08, 'fear': 0.2581753535196185, 'happy': 1.1157319881021976, 'sad': 0.3224258776754141, 'surprise': 0.13680242700502276, 'neutral': 98.1665313243866}, 'dominant_emotion': 'neutral', 'region': {'x': 772, 'y': 85, 'w': 556, 'h': 556}}\n"
     ]
    },
    {
     "name": "stderr",
     "output_type": "stream",
     "text": [
      "Action: emotion: 100%|██████████| 1/1 [00:00<00:00, 33.66it/s]\n"
     ]
    },
    {
     "name": "stdout",
     "output_type": "stream",
     "text": [
      "{'emotion': {'angry': 0.07022356730885804, 'disgust': 6.273780384091765e-08, 'fear': 0.043908634688705206, 'happy': 0.0031393476092489436, 'sad': 2.8052330017089844, 'surprise': 0.0002051391675195191, 'neutral': 97.0772922039032}, 'dominant_emotion': 'neutral', 'region': {'x': 764, 'y': 90, 'w': 553, 'h': 553}}\n"
     ]
    },
    {
     "name": "stderr",
     "output_type": "stream",
     "text": [
      "Action: emotion: 100%|██████████| 1/1 [00:00<00:00, 32.49it/s]\n"
     ]
    },
    {
     "name": "stdout",
     "output_type": "stream",
     "text": [
      "{'emotion': {'angry': 0.0017441483318098015, 'disgust': 6.145704545390539e-07, 'fear': 0.33439589403320624, 'happy': 3.3339418221781467, 'sad': 0.5211168744573743, 'surprise': 0.2132271627960011, 'neutral': 95.59556894355191}, 'dominant_emotion': 'neutral', 'region': {'x': 766, 'y': 79, 'w': 551, 'h': 551}}\n"
     ]
    },
    {
     "name": "stderr",
     "output_type": "stream",
     "text": [
      "Action: emotion: 100%|██████████| 1/1 [00:00<00:00, 34.48it/s]\n"
     ]
    },
    {
     "name": "stdout",
     "output_type": "stream",
     "text": [
      "{'emotion': {'angry': 6.292700618359959e-05, 'disgust': 3.334559017798e-09, 'fear': 0.004601591354003176, 'happy': 0.05976991378702223, 'sad': 0.09319084929302335, 'surprise': 0.0003401458116059075, 'neutral': 99.84203577041626}, 'dominant_emotion': 'neutral', 'region': {'x': 773, 'y': 64, 'w': 547, 'h': 547}}\n"
     ]
    },
    {
     "name": "stderr",
     "output_type": "stream",
     "text": [
      "Action: emotion: 100%|██████████| 1/1 [00:00<00:00, 28.25it/s]\n"
     ]
    },
    {
     "name": "stdout",
     "output_type": "stream",
     "text": [
      "{'emotion': {'angry': 0.0038520492170353417, 'disgust': 4.14753791903976e-07, 'fear': 0.2373099609982921, 'happy': 1.4349328201929117, 'sad': 0.9121197431826286, 'surprise': 0.00384912246273614, 'neutral': 97.4079367408677}, 'dominant_emotion': 'neutral', 'region': {'x': 796, 'y': 63, 'w': 519, 'h': 519}}\n"
     ]
    },
    {
     "name": "stderr",
     "output_type": "stream",
     "text": [
      "Action: emotion: 100%|██████████| 1/1 [00:00<00:00, 31.60it/s]\n"
     ]
    },
    {
     "name": "stdout",
     "output_type": "stream",
     "text": [
      "{'emotion': {'angry': 2.170719994865067e-05, 'disgust': 1.2027078551829495e-10, 'fear': 0.29805521480739117, 'happy': 18.7686488032341, 'sad': 0.05208414513617754, 'surprise': 0.27397226076573133, 'neutral': 80.60721755027771}, 'dominant_emotion': 'neutral', 'region': {'x': 794, 'y': 73, 'w': 525, 'h': 525}}\n"
     ]
    },
    {
     "name": "stderr",
     "output_type": "stream",
     "text": [
      "Action: emotion: 100%|██████████| 1/1 [00:00<00:00, 34.21it/s]\n"
     ]
    },
    {
     "name": "stdout",
     "output_type": "stream",
     "text": [
      "{'emotion': {'angry': 0.0005277264335745713, 'disgust': 2.9107001253692033e-07, 'fear': 0.2126270206645131, 'happy': 1.076533179730177, 'sad': 0.0865292560774833, 'surprise': 0.09386403253301978, 'neutral': 98.52992296218872}, 'dominant_emotion': 'neutral', 'region': {'x': 780, 'y': 67, 'w': 541, 'h': 541}}\n"
     ]
    },
    {
     "name": "stderr",
     "output_type": "stream",
     "text": [
      "Action: emotion: 100%|██████████| 1/1 [00:00<00:00, 29.39it/s]\n"
     ]
    },
    {
     "name": "stdout",
     "output_type": "stream",
     "text": [
      "{'emotion': {'angry': 6.164761632680893, 'disgust': 6.101570915184595e-08, 'fear': 45.73566019535065, 'happy': 0.17588228220120072, 'sad': 6.0227204114198685, 'surprise': 9.800204736620799e-06, 'neutral': 41.900962591171265}, 'dominant_emotion': 'fear', 'region': {'x': 783, 'y': 68, 'w': 531, 'h': 531}}\n"
     ]
    },
    {
     "name": "stderr",
     "output_type": "stream",
     "text": [
      "Action: emotion: 100%|██████████| 1/1 [00:00<00:00, 34.67it/s]\n"
     ]
    },
    {
     "name": "stdout",
     "output_type": "stream",
     "text": [
      "{'emotion': {'angry': 6.503331633211928e-05, 'disgust': 5.680848153000184e-09, 'fear': 0.08337210747413337, 'happy': 0.44771023094654083, 'sad': 0.0300896615954116, 'surprise': 0.09805896552279592, 'neutral': 99.34070110321045}, 'dominant_emotion': 'neutral', 'region': {'x': 783, 'y': 72, 'w': 530, 'h': 530}}\n"
     ]
    },
    {
     "name": "stderr",
     "output_type": "stream",
     "text": [
      "Action: emotion: 100%|██████████| 1/1 [00:00<00:00, 34.20it/s]\n"
     ]
    },
    {
     "name": "stdout",
     "output_type": "stream",
     "text": [
      "{'emotion': {'angry': 0.00040322593122255057, 'disgust': 3.293456174446874e-07, 'fear': 0.1262485166080296, 'happy': 0.8275285363197327, 'sad': 0.11201688321307302, 'surprise': 0.08735010051168501, 'neutral': 98.84645342826843}, 'dominant_emotion': 'neutral', 'region': {'x': 780, 'y': 70, 'w': 535, 'h': 535}}\n"
     ]
    },
    {
     "name": "stderr",
     "output_type": "stream",
     "text": [
      "Action: emotion: 100%|██████████| 1/1 [00:00<00:00, 34.18it/s]\n"
     ]
    },
    {
     "name": "stdout",
     "output_type": "stream",
     "text": [
      "{'emotion': {'angry': 0.002839557444361641, 'disgust': 8.191599199440495e-08, 'fear': 4.044818395993901, 'happy': 1.491022118506179, 'sad': 0.7101105145233256, 'surprise': 0.007403992485291289, 'neutral': 93.7438018627403}, 'dominant_emotion': 'neutral', 'region': {'x': 776, 'y': 61, 'w': 538, 'h': 538}}\n"
     ]
    },
    {
     "name": "stderr",
     "output_type": "stream",
     "text": [
      "Action: emotion: 100%|██████████| 1/1 [00:00<00:00, 25.43it/s]\n"
     ]
    },
    {
     "name": "stdout",
     "output_type": "stream",
     "text": [
      "{'emotion': {'angry': 0.00025329907202831237, 'disgust': 3.052101904543747e-08, 'fear': 0.34452187828719616, 'happy': 2.421843260526657, 'sad': 0.016679972759447992, 'surprise': 0.7637904025614262, 'neutral': 96.45290970802307}, 'dominant_emotion': 'neutral', 'region': {'x': 777, 'y': 64, 'w': 543, 'h': 543}}\n"
     ]
    },
    {
     "name": "stderr",
     "output_type": "stream",
     "text": [
      "Action: emotion: 100%|██████████| 1/1 [00:00<00:00, 33.55it/s]\n"
     ]
    },
    {
     "name": "stdout",
     "output_type": "stream",
     "text": [
      "{'emotion': {'angry': 9.609026392354281e-05, 'disgust': 2.9891485120447925e-09, 'fear': 1.7089908942580223, 'happy': 1.1786853894591331, 'sad': 0.18202916253358126, 'surprise': 0.020490051247179508, 'neutral': 96.90970778465271}, 'dominant_emotion': 'neutral', 'region': {'x': 779, 'y': 70, 'w': 545, 'h': 545}}\n"
     ]
    },
    {
     "name": "stderr",
     "output_type": "stream",
     "text": [
      "Action: emotion: 100%|██████████| 1/1 [00:00<00:00, 36.51it/s]\n"
     ]
    },
    {
     "name": "stdout",
     "output_type": "stream",
     "text": [
      "{'emotion': {'angry': 0.0044054933823645115, 'disgust': 4.1010057572066216e-07, 'fear': 1.559773925691843, 'happy': 6.447562575340271, 'sad': 0.01785562781151384, 'surprise': 2.127552777528763, 'neutral': 89.84284996986389}, 'dominant_emotion': 'neutral', 'region': {'x': 788, 'y': 76, 'w': 527, 'h': 527}}\n"
     ]
    },
    {
     "name": "stderr",
     "output_type": "stream",
     "text": [
      "Action: emotion: 100%|██████████| 1/1 [00:00<00:00, 34.47it/s]\n"
     ]
    },
    {
     "name": "stdout",
     "output_type": "stream",
     "text": [
      "{'emotion': {'angry': 7.263075474384095e-06, 'disgust': 7.650231901960847e-11, 'fear': 0.8099677041172981, 'happy': 6.891466677188873, 'sad': 0.022827924112789333, 'surprise': 0.14753666473552585, 'neutral': 92.12819933891296}, 'dominant_emotion': 'neutral', 'region': {'x': 801, 'y': 91, 'w': 498, 'h': 498}}\n"
     ]
    },
    {
     "name": "stderr",
     "output_type": "stream",
     "text": [
      "Action: emotion: 100%|██████████| 1/1 [00:00<00:00, 31.59it/s]\n"
     ]
    },
    {
     "name": "stdout",
     "output_type": "stream",
     "text": [
      "{'emotion': {'angry': 5.7415320497966604e-05, 'disgust': 7.532032289536694e-10, 'fear': 0.36687785759568214, 'happy': 7.603231072425842, 'sad': 0.012324072304181755, 'surprise': 1.2759150005877018, 'neutral': 90.74159860610962}, 'dominant_emotion': 'neutral', 'region': {'x': 803, 'y': 78, 'w': 518, 'h': 518}}\n"
     ]
    },
    {
     "name": "stderr",
     "output_type": "stream",
     "text": [
      "Action: emotion: 100%|██████████| 1/1 [00:00<00:00, 35.38it/s]\n"
     ]
    },
    {
     "name": "stdout",
     "output_type": "stream",
     "text": [
      "{'emotion': {'angry': 4.00060050593921e-05, 'disgust': 7.388863839800324e-10, 'fear': 0.4653453450316602, 'happy': 1.213596067708262, 'sad': 0.027249497699491407, 'surprise': 0.013436121081303338, 'neutral': 98.28033426765612}, 'dominant_emotion': 'neutral', 'region': {'x': 803, 'y': 79, 'w': 511, 'h': 511}}\n"
     ]
    },
    {
     "name": "stderr",
     "output_type": "stream",
     "text": [
      "Action: emotion: 100%|██████████| 1/1 [00:00<00:00, 32.46it/s]\n"
     ]
    },
    {
     "name": "stdout",
     "output_type": "stream",
     "text": [
      "{'emotion': {'angry': 0.0002560294810261474, 'disgust': 2.2551034738028756e-08, 'fear': 0.4465195749378711, 'happy': 0.4808725681605854, 'sad': 0.24376455116843568, 'surprise': 0.006717748983183997, 'neutral': 98.82186665274303}, 'dominant_emotion': 'neutral', 'region': {'x': 802, 'y': 71, 'w': 521, 'h': 521}}\n"
     ]
    },
    {
     "name": "stderr",
     "output_type": "stream",
     "text": [
      "Action: emotion: 100%|██████████| 1/1 [00:00<00:00, 29.22it/s]\n"
     ]
    },
    {
     "name": "stdout",
     "output_type": "stream",
     "text": [
      "{'emotion': {'angry': 0.018712015298660845, 'disgust': 5.089705393257482e-09, 'fear': 99.9622106552124, 'happy': 1.203432644335256e-10, 'sad': 0.00022378203539119568, 'surprise': 0.006211792060639709, 'neutral': 0.012641516514122486}, 'dominant_emotion': 'fear', 'region': {'x': 0, 'y': 0, 'w': 1920, 'h': 1080}}\n"
     ]
    },
    {
     "name": "stderr",
     "output_type": "stream",
     "text": [
      "Action: emotion: 100%|██████████| 1/1 [00:00<00:00, 32.34it/s]\n"
     ]
    },
    {
     "name": "stdout",
     "output_type": "stream",
     "text": [
      "{'emotion': {'angry': 1.5097587369382381, 'disgust': 2.9178224281167786e-05, 'fear': 25.119438767433167, 'happy': 56.81518912315369, 'sad': 16.355429589748383, 'surprise': 0.0001244860868609976, 'neutral': 0.200032745487988}, 'dominant_emotion': 'happy', 'region': {'x': 787, 'y': 54, 'w': 506, 'h': 506}}\n"
     ]
    },
    {
     "name": "stderr",
     "output_type": "stream",
     "text": [
      "Action: emotion: 100%|██████████| 1/1 [00:00<00:00, 36.93it/s]\n"
     ]
    },
    {
     "name": "stdout",
     "output_type": "stream",
     "text": [
      "{'emotion': {'angry': 14.406717050876265, 'disgust': 0.0021541366389528755, 'fear': 68.43306641972856, 'happy': 3.464948799007988, 'sad': 0.09819888516278687, 'surprise': 11.939521812143543, 'neutral': 1.6553968301888502}, 'dominant_emotion': 'fear', 'region': {'x': 763, 'y': 45, 'w': 482, 'h': 482}}\n"
     ]
    },
    {
     "name": "stderr",
     "output_type": "stream",
     "text": [
      "Action: emotion: 100%|██████████| 1/1 [00:00<00:00, 33.91it/s]\n"
     ]
    },
    {
     "name": "stdout",
     "output_type": "stream",
     "text": [
      "{'emotion': {'angry': 1.4677411876618862, 'disgust': 0.00044660246203420684, 'fear': 26.467496156692505, 'happy': 34.0772807598114, 'sad': 0.08504261495545506, 'surprise': 33.9363694190979, 'neutral': 3.9656251668930054}, 'dominant_emotion': 'happy', 'region': {'x': 772, 'y': 68, 'w': 440, 'h': 440}}\n"
     ]
    },
    {
     "name": "stderr",
     "output_type": "stream",
     "text": [
      "Action: emotion: 100%|██████████| 1/1 [00:00<00:00, 32.71it/s]\n"
     ]
    },
    {
     "name": "stdout",
     "output_type": "stream",
     "text": [
      "{'emotion': {'angry': 0.7149172441612032, 'disgust': 0.0012090655939003435, 'fear': 14.632562675032775, 'happy': 79.92789625691749, 'sad': 0.017365150723019286, 'surprise': 2.1331440066185, 'neutral': 2.5729056118670472}, 'dominant_emotion': 'happy', 'region': {'x': 780, 'y': 79, 'w': 438, 'h': 438}}\n"
     ]
    },
    {
     "name": "stderr",
     "output_type": "stream",
     "text": [
      "Action: emotion: 100%|██████████| 1/1 [00:00<00:00, 34.61it/s]\n"
     ]
    },
    {
     "name": "stdout",
     "output_type": "stream",
     "text": [
      "{'emotion': {'angry': 0.0004986683961760718, 'disgust': 1.6958254800414352e-07, 'fear': 53.062254190444946, 'happy': 9.128282219171524, 'sad': 0.0025650295356172137, 'surprise': 10.800686478614807, 'neutral': 27.00570821762085}, 'dominant_emotion': 'fear', 'region': {'x': 780, 'y': 69, 'w': 452, 'h': 452}}\n"
     ]
    },
    {
     "name": "stderr",
     "output_type": "stream",
     "text": [
      "Action: emotion: 100%|██████████| 1/1 [00:00<00:00, 30.47it/s]\n"
     ]
    },
    {
     "name": "stdout",
     "output_type": "stream",
     "text": [
      "{'emotion': {'angry': 0.021888423361815512, 'disgust': 1.0518033926459891e-10, 'fear': 98.05984497070312, 'happy': 1.8110627308487892, 'sad': 0.028185523115098476, 'surprise': 0.00018766654648061376, 'neutral': 0.07883677026256919}, 'dominant_emotion': 'fear', 'region': {'x': 784, 'y': 77, 'w': 456, 'h': 456}}\n"
     ]
    },
    {
     "name": "stderr",
     "output_type": "stream",
     "text": [
      "Action: emotion: 100%|██████████| 1/1 [00:00<00:00, 26.40it/s]\n"
     ]
    },
    {
     "name": "stdout",
     "output_type": "stream",
     "text": [
      "{'emotion': {'angry': 0.3111225272639112, 'disgust': 3.5146028628405593e-06, 'fear': 55.60316774864005, 'happy': 2.2973792134153372, 'sad': 0.11855589234044506, 'surprise': 22.945651289561468, 'neutral': 18.724126739747927}, 'dominant_emotion': 'fear', 'region': {'x': 790, 'y': 87, 'w': 456, 'h': 456}}\n"
     ]
    },
    {
     "name": "stderr",
     "output_type": "stream",
     "text": [
      "Action: emotion: 100%|██████████| 1/1 [00:00<00:00, 30.93it/s]\n"
     ]
    },
    {
     "name": "stdout",
     "output_type": "stream",
     "text": [
      "{'emotion': {'angry': 23.932135105133057, 'disgust': 0.017305924848187715, 'fear': 18.144601583480835, 'happy': 35.86250841617584, 'sad': 4.924863949418068, 'surprise': 16.655199229717255, 'neutral': 0.4633836913853884}, 'dominant_emotion': 'happy', 'region': {'x': 785, 'y': 106, 'w': 454, 'h': 454}}\n"
     ]
    },
    {
     "name": "stderr",
     "output_type": "stream",
     "text": [
      "Action: emotion: 100%|██████████| 1/1 [00:00<00:00, 36.81it/s]\n"
     ]
    },
    {
     "name": "stdout",
     "output_type": "stream",
     "text": [
      "{'emotion': {'angry': 18.279510047494167, 'disgust': 0.015308064388174338, 'fear': 29.898905170094352, 'happy': 38.39518864212172, 'sad': 2.040443139917476, 'surprise': 8.527727898630154, 'neutral': 2.842912297795737}, 'dominant_emotion': 'happy', 'region': {'x': 781, 'y': 105, 'w': 454, 'h': 454}}\n"
     ]
    },
    {
     "name": "stderr",
     "output_type": "stream",
     "text": [
      "Action: emotion: 100%|██████████| 1/1 [00:00<00:00, 33.78it/s]\n"
     ]
    },
    {
     "name": "stdout",
     "output_type": "stream",
     "text": [
      "{'emotion': {'angry': 0.00021812086614730848, 'disgust': 2.3281256002683857e-10, 'fear': 87.14037980322597, 'happy': 0.21666991778998587, 'sad': 6.945648127275482, 'surprise': 4.702991126514874e-05, 'neutral': 5.6970387038038615}, 'dominant_emotion': 'fear', 'region': {'x': 779, 'y': 103, 'w': 455, 'h': 455}}\n"
     ]
    },
    {
     "name": "stderr",
     "output_type": "stream",
     "text": [
      "Action: emotion: 100%|██████████| 1/1 [00:00<00:00, 30.03it/s]\n"
     ]
    },
    {
     "name": "stdout",
     "output_type": "stream",
     "text": [
      "{'emotion': {'angry': 5.109696835279465, 'disgust': 9.038955113283009e-05, 'fear': 31.177803874015808, 'happy': 0.003549258690327406, 'sad': 56.66206479072571, 'surprise': 0.21079438738524914, 'neutral': 6.8360015749931335}, 'dominant_emotion': 'sad', 'region': {'x': 767, 'y': 96, 'w': 470, 'h': 470}}\n"
     ]
    },
    {
     "name": "stderr",
     "output_type": "stream",
     "text": [
      "Action: emotion: 100%|██████████| 1/1 [00:00<00:00, 33.97it/s]\n"
     ]
    },
    {
     "name": "stdout",
     "output_type": "stream",
     "text": [
      "{'emotion': {'angry': 4.95079830288887, 'disgust': 3.837017459318304e-05, 'fear': 1.7812343314290047, 'happy': 0.00041939711081795394, 'sad': 84.9026620388031, 'surprise': 1.5299252709155553e-05, 'neutral': 8.364824950695038}, 'dominant_emotion': 'sad', 'region': {'x': 745, 'y': 122, 'w': 474, 'h': 474}}\n"
     ]
    },
    {
     "name": "stderr",
     "output_type": "stream",
     "text": [
      "Action: emotion: 100%|██████████| 1/1 [00:00<00:00, 33.17it/s]\n"
     ]
    },
    {
     "name": "stdout",
     "output_type": "stream",
     "text": [
      "{'emotion': {'angry': 3.3408965915441513, 'disgust': 0.00014679084188173874, 'fear': 1.8458720296621323, 'happy': 0.011276644363533705, 'sad': 39.20479118824005, 'surprise': 0.0005446742761705536, 'neutral': 55.596476793289185}, 'dominant_emotion': 'neutral', 'region': {'x': 746, 'y': 115, 'w': 476, 'h': 476}}\n"
     ]
    },
    {
     "name": "stderr",
     "output_type": "stream",
     "text": [
      "Action: emotion: 100%|██████████| 1/1 [00:00<00:00, 21.19it/s]\n"
     ]
    },
    {
     "name": "stdout",
     "output_type": "stream",
     "text": [
      "{'emotion': {'angry': 1.1574831791222095, 'disgust': 8.338018631093291e-06, 'fear': 0.3402434289455414, 'happy': 0.011146926408400759, 'sad': 24.81985241174698, 'surprise': 0.00020072043298569042, 'neutral': 73.67107272148132}, 'dominant_emotion': 'neutral', 'region': {'x': 743, 'y': 110, 'w': 491, 'h': 491}}\n"
     ]
    },
    {
     "name": "stderr",
     "output_type": "stream",
     "text": [
      "Action: emotion: 100%|██████████| 1/1 [00:00<00:00, 35.83it/s]\n"
     ]
    },
    {
     "name": "stdout",
     "output_type": "stream",
     "text": [
      "{'emotion': {'angry': 6.59598708152771, 'disgust': 5.072464404065613e-06, 'fear': 8.533277362585068, 'happy': 0.008357176557183266, 'sad': 66.07692837715149, 'surprise': 0.005330510248313658, 'neutral': 18.780115246772766}, 'dominant_emotion': 'sad', 'region': {'x': 755, 'y': 129, 'w': 468, 'h': 468}}\n"
     ]
    },
    {
     "name": "stderr",
     "output_type": "stream",
     "text": [
      "Action: emotion: 100%|██████████| 1/1 [00:00<00:00, 32.46it/s]\n"
     ]
    },
    {
     "name": "stdout",
     "output_type": "stream",
     "text": [
      "{'emotion': {'angry': 3.763391301834065, 'disgust': 4.1812711343073124e-07, 'fear': 51.28848262360589, 'happy': 0.0010922071592893994, 'sad': 38.133209236455514, 'surprise': 0.08486715884087437, 'neutral': 6.728963954982993}, 'dominant_emotion': 'fear', 'region': {'x': 757, 'y': 134, 'w': 461, 'h': 461}}\n"
     ]
    },
    {
     "name": "stderr",
     "output_type": "stream",
     "text": [
      "Action: emotion: 100%|██████████| 1/1 [00:00<00:00, 33.21it/s]\n"
     ]
    },
    {
     "name": "stdout",
     "output_type": "stream",
     "text": [
      "{'emotion': {'angry': 0.7044136898265707, 'disgust': 1.1486423493850907e-05, 'fear': 71.0729743329256, 'happy': 0.04951015006499291, 'sad': 0.10140611601991845, 'surprise': 28.014898659574826, 'neutral': 0.0567941819500693}, 'dominant_emotion': 'fear', 'region': {'x': 753, 'y': 140, 'w': 442, 'h': 442}}\n"
     ]
    },
    {
     "name": "stderr",
     "output_type": "stream",
     "text": [
      "Action: emotion: 100%|██████████| 1/1 [00:00<00:00, 33.71it/s]\n"
     ]
    },
    {
     "name": "stdout",
     "output_type": "stream",
     "text": [
      "{'emotion': {'angry': 0.05809022224093643, 'disgust': 5.701134911001105e-07, 'fear': 2.886383393273758, 'happy': 0.016856424016991885, 'sad': 0.009229548240669235, 'surprise': 97.02825510838689, 'neutral': 0.0011863814102083636}, 'dominant_emotion': 'surprise', 'region': {'x': 755, 'y': 157, 'w': 429, 'h': 429}}\n"
     ]
    },
    {
     "name": "stderr",
     "output_type": "stream",
     "text": [
      "Action: emotion: 100%|██████████| 1/1 [00:00<00:00, 32.59it/s]\n"
     ]
    },
    {
     "name": "stdout",
     "output_type": "stream",
     "text": [
      "{'emotion': {'angry': 0.04787846119143069, 'disgust': 1.0682116996507673e-08, 'fear': 0.994566548615694, 'happy': 0.012953588156960905, 'sad': 0.00708567094989121, 'surprise': 98.9332914352417, 'neutral': 0.004225442535243928}, 'dominant_emotion': 'surprise', 'region': {'x': 769, 'y': 163, 'w': 413, 'h': 413}}\n"
     ]
    },
    {
     "name": "stderr",
     "output_type": "stream",
     "text": [
      "Action: emotion: 100%|██████████| 1/1 [00:00<00:00, 32.17it/s]\n"
     ]
    },
    {
     "name": "stdout",
     "output_type": "stream",
     "text": [
      "{'emotion': {'angry': 13.46557873897806, 'disgust': 27.06434106059777, 'fear': 58.782606270002574, 'happy': 0.00017113018436214087, 'sad': 0.45690088674117485, 'surprise': 0.04475560320660732, 'neutral': 0.18564256721898112}, 'dominant_emotion': 'fear', 'region': {'x': 0, 'y': 0, 'w': 1920, 'h': 1080}}\n"
     ]
    },
    {
     "name": "stderr",
     "output_type": "stream",
     "text": [
      "Action: emotion: 100%|██████████| 1/1 [00:00<00:00, 25.31it/s]\n"
     ]
    },
    {
     "name": "stdout",
     "output_type": "stream",
     "text": [
      "{'emotion': {'angry': 0.029280726448632777, 'disgust': 4.986362878156569e-07, 'fear': 99.07417893409729, 'happy': 0.0006175034286570735, 'sad': 0.014141487190499902, 'surprise': 0.8316246792674065, 'neutral': 0.050156633369624615}, 'dominant_emotion': 'fear', 'region': {'x': 782, 'y': 165, 'w': 414, 'h': 414}}\n"
     ]
    },
    {
     "name": "stderr",
     "output_type": "stream",
     "text": [
      "Action: emotion: 100%|██████████| 1/1 [00:00<00:00, 30.07it/s]\n"
     ]
    },
    {
     "name": "stdout",
     "output_type": "stream",
     "text": [
      "{'emotion': {'angry': 5.967304110527039, 'disgust': 8.364730774701457e-06, 'fear': 14.67101275920868, 'happy': 0.025202790857292712, 'sad': 66.08026623725891, 'surprise': 0.44585890136659145, 'neutral': 12.810347974300385}, 'dominant_emotion': 'sad', 'region': {'x': 767, 'y': 144, 'w': 444, 'h': 444}}\n"
     ]
    },
    {
     "name": "stderr",
     "output_type": "stream",
     "text": [
      "Action: emotion: 100%|██████████| 1/1 [00:00<00:00, 34.97it/s]\n"
     ]
    },
    {
     "name": "stdout",
     "output_type": "stream",
     "text": [
      "{'emotion': {'angry': 0.0016589305232628249, 'disgust': 3.256793501549282e-07, 'fear': 0.19647134467959404, 'happy': 31.65692389011383, 'sad': 0.9498854167759418, 'surprise': 0.08667651563882828, 'neutral': 67.10838079452515}, 'dominant_emotion': 'neutral', 'region': {'x': 756, 'y': 132, 'w': 471, 'h': 471}}\n"
     ]
    },
    {
     "name": "stderr",
     "output_type": "stream",
     "text": [
      "Action: emotion: 100%|██████████| 1/1 [00:00<00:00, 32.02it/s]\n"
     ]
    },
    {
     "name": "stdout",
     "output_type": "stream",
     "text": [
      "{'emotion': {'angry': 2.845984308182258, 'disgust': 2.2458922727957278e-07, 'fear': 2.6016430617358126, 'happy': 0.0005574592583194771, 'sad': 42.04804849911025, 'surprise': 0.06601923189613115, 'neutral': 52.43774965034423}, 'dominant_emotion': 'neutral', 'region': {'x': 755, 'y': 125, 'w': 467, 'h': 467}}\n"
     ]
    },
    {
     "name": "stderr",
     "output_type": "stream",
     "text": [
      "Action: emotion: 100%|██████████| 1/1 [00:00<00:00, 36.77it/s]\n"
     ]
    },
    {
     "name": "stdout",
     "output_type": "stream",
     "text": [
      "{'emotion': {'angry': 0.0005024186365758466, 'disgust': 4.9016470889453315e-09, 'fear': 4.027966277478115, 'happy': 7.714403880501025, 'sad': 0.2606529897840613, 'surprise': 0.4385482315598864, 'neutral': 87.55792901265198}, 'dominant_emotion': 'neutral', 'region': {'x': 744, 'y': 112, 'w': 483, 'h': 483}}\n"
     ]
    },
    {
     "name": "stderr",
     "output_type": "stream",
     "text": [
      "Action: emotion: 100%|██████████| 1/1 [00:00<00:00, 35.85it/s]\n"
     ]
    },
    {
     "name": "stdout",
     "output_type": "stream",
     "text": [
      "{'emotion': {'angry': 0.0002762657851284116, 'disgust': 2.2564189709923476e-09, 'fear': 13.297451335039815, 'happy': 6.994700103682286, 'sad': 0.12432833477576583, 'surprise': 7.136055507424802, 'neutral': 72.4471910266394}, 'dominant_emotion': 'neutral', 'region': {'x': 740, 'y': 117, 'w': 476, 'h': 476}}\n"
     ]
    },
    {
     "name": "stderr",
     "output_type": "stream",
     "text": [
      "Action: emotion: 100%|██████████| 1/1 [00:00<00:00, 35.72it/s]\n"
     ]
    },
    {
     "name": "stdout",
     "output_type": "stream",
     "text": [
      "{'emotion': {'angry': 0.005516145029105246, 'disgust': 9.472219675288329e-08, 'fear': 21.765917539596558, 'happy': 13.222348690032959, 'sad': 0.6163233891129494, 'surprise': 5.344180762767792, 'neutral': 59.045714139938354}, 'dominant_emotion': 'neutral', 'region': {'x': 736, 'y': 116, 'w': 478, 'h': 478}}\n"
     ]
    },
    {
     "name": "stderr",
     "output_type": "stream",
     "text": [
      "Action: emotion: 100%|██████████| 1/1 [00:00<00:00, 33.71it/s]\n"
     ]
    },
    {
     "name": "stdout",
     "output_type": "stream",
     "text": [
      "{'emotion': {'angry': 0.5365923047065735, 'disgust': 3.357088473876502e-05, 'fear': 0.23800625931471586, 'happy': 0.016432598931714892, 'sad': 9.951712191104889, 'surprise': 0.0019245331714046188, 'neutral': 89.25529718399048}, 'dominant_emotion': 'neutral', 'region': {'x': 732, 'y': 116, 'w': 475, 'h': 475}}\n"
     ]
    },
    {
     "name": "stderr",
     "output_type": "stream",
     "text": [
      "Action: emotion: 100%|██████████| 1/1 [00:00<00:00, 32.05it/s]\n"
     ]
    },
    {
     "name": "stdout",
     "output_type": "stream",
     "text": [
      "{'emotion': {'angry': 2.4159200489521027, 'disgust': 0.004330708543420769, 'fear': 2.5644682347774506, 'happy': 0.02422921679681167, 'sad': 32.7591747045517, 'surprise': 0.0025085550078074448, 'neutral': 62.229371070861816}, 'dominant_emotion': 'neutral', 'region': {'x': 726, 'y': 126, 'w': 469, 'h': 469}}\n"
     ]
    },
    {
     "name": "stderr",
     "output_type": "stream",
     "text": [
      "Action: emotion: 100%|██████████| 1/1 [00:00<00:00, 34.65it/s]\n"
     ]
    },
    {
     "name": "stdout",
     "output_type": "stream",
     "text": [
      "{'emotion': {'angry': 2.101507969200611, 'disgust': 0.0003234512632843689, 'fear': 6.883314251899719, 'happy': 0.07911169086582959, 'sad': 37.42690980434418, 'surprise': 0.3450278425589204, 'neutral': 53.16380858421326}, 'dominant_emotion': 'neutral', 'region': {'x': 709, 'y': 112, 'w': 475, 'h': 475}}\n"
     ]
    },
    {
     "name": "stderr",
     "output_type": "stream",
     "text": [
      "Action: emotion: 100%|██████████| 1/1 [00:00<00:00, 33.94it/s]\n"
     ]
    },
    {
     "name": "stdout",
     "output_type": "stream",
     "text": [
      "{'emotion': {'angry': 1.3486774383398816, 'disgust': 1.1217076605812203e-06, 'fear': 46.48654121000066, 'happy': 1.00542892673373e-06, 'sad': 0.00295481730726698, 'surprise': 52.15908910740484, 'neutral': 0.0027430549012366938}, 'dominant_emotion': 'surprise', 'region': {'x': 0, 'y': 0, 'w': 1920, 'h': 1080}}\n"
     ]
    },
    {
     "name": "stderr",
     "output_type": "stream",
     "text": [
      "Action: emotion: 100%|██████████| 1/1 [00:00<00:00, 31.65it/s]\n"
     ]
    },
    {
     "name": "stdout",
     "output_type": "stream",
     "text": [
      "{'emotion': {'angry': 2.972020022571087, 'disgust': 2.0104621967220737e-06, 'fear': 68.86570453643799, 'happy': 5.986339868258028e-07, 'sad': 0.013832947297487408, 'surprise': 28.041592240333557, 'neutral': 0.10684855515137315}, 'dominant_emotion': 'fear', 'region': {'x': 0, 'y': 0, 'w': 1920, 'h': 1080}}\n"
     ]
    },
    {
     "name": "stderr",
     "output_type": "stream",
     "text": [
      "Action: emotion: 100%|██████████| 1/1 [00:00<00:00, 28.62it/s]\n"
     ]
    },
    {
     "name": "stdout",
     "output_type": "stream",
     "text": [
      "{'emotion': {'angry': 4.050445425536956, 'disgust': 9.250705642220278e-07, 'fear': 12.512012571812425, 'happy': 7.57295071825947e-07, 'sad': 0.008681661501178831, 'surprise': 82.98689025562348, 'neutral': 0.4419707490933388}, 'dominant_emotion': 'surprise', 'region': {'x': 0, 'y': 0, 'w': 1920, 'h': 1080}}\n"
     ]
    },
    {
     "name": "stderr",
     "output_type": "stream",
     "text": [
      "Action: emotion: 100%|██████████| 1/1 [00:00<00:00, 29.82it/s]\n"
     ]
    },
    {
     "name": "stdout",
     "output_type": "stream",
     "text": [
      "{'emotion': {'angry': 76.56170725822449, 'disgust': 1.593672891431197e-05, 'fear': 20.429590344429016, 'happy': 4.449674406714621e-07, 'sad': 0.004767553400597535, 'surprise': 2.745296433568001, 'neutral': 0.25862366892397404}, 'dominant_emotion': 'angry', 'region': {'x': 0, 'y': 0, 'w': 1920, 'h': 1080}}\n"
     ]
    },
    {
     "name": "stderr",
     "output_type": "stream",
     "text": [
      "Action: emotion: 100%|██████████| 1/1 [00:00<00:00, 32.34it/s]\n"
     ]
    },
    {
     "name": "stdout",
     "output_type": "stream",
     "text": [
      "{'emotion': {'angry': 18.58735680580139, 'disgust': 3.040897311734625e-06, 'fear': 81.15974068641663, 'happy': 1.5508762052363068e-07, 'sad': 0.004098159115528688, 'surprise': 0.020684227638412267, 'neutral': 0.22812040988355875}, 'dominant_emotion': 'fear', 'region': {'x': 0, 'y': 0, 'w': 1920, 'h': 1080}}\n"
     ]
    },
    {
     "name": "stderr",
     "output_type": "stream",
     "text": [
      "Action: emotion: 100%|██████████| 1/1 [00:00<00:00, 30.67it/s]\n"
     ]
    },
    {
     "name": "stdout",
     "output_type": "stream",
     "text": [
      "{'emotion': {'angry': 4.876695200800896, 'disgust': 1.586633463501741e-08, 'fear': 94.47147846221924, 'happy': 5.0746587487715544e-09, 'sad': 0.00926410430110991, 'surprise': 0.0006113475137681235, 'neutral': 0.6419482175260782}, 'dominant_emotion': 'fear', 'region': {'x': 0, 'y': 0, 'w': 1920, 'h': 1080}}\n"
     ]
    },
    {
     "name": "stderr",
     "output_type": "stream",
     "text": [
      "Action: emotion: 100%|██████████| 1/1 [00:00<00:00, 31.35it/s]\n"
     ]
    },
    {
     "name": "stdout",
     "output_type": "stream",
     "text": [
      "{'emotion': {'angry': 0.9590570814907551, 'disgust': 0.037557914038188756, 'fear': 6.92717507481575, 'happy': 70.22982239723206, 'sad': 2.6445172727108, 'surprise': 0.5679145455360413, 'neutral': 18.63395869731903}, 'dominant_emotion': 'happy', 'region': {'x': 689, 'y': 100, 'w': 502, 'h': 502}}\n"
     ]
    },
    {
     "name": "stderr",
     "output_type": "stream",
     "text": [
      "Action: emotion: 100%|██████████| 1/1 [00:00<00:00, 34.95it/s]\n"
     ]
    },
    {
     "name": "stdout",
     "output_type": "stream",
     "text": [
      "{'emotion': {'angry': 0.0011032137081201654, 'disgust': 1.328347138951358e-05, 'fear': 0.006783087883377448, 'happy': 95.36404013633728, 'sad': 0.059971248265355825, 'surprise': 0.07267076289281249, 'neutral': 4.495419189333916}, 'dominant_emotion': 'happy', 'region': {'x': 688, 'y': 111, 'w': 482, 'h': 482}}\n"
     ]
    },
    {
     "name": "stderr",
     "output_type": "stream",
     "text": [
      "Action: emotion: 100%|██████████| 1/1 [00:00<00:00, 34.85it/s]\n"
     ]
    },
    {
     "name": "stdout",
     "output_type": "stream",
     "text": [
      "{'emotion': {'angry': 0.0030571594834327698, 'disgust': 1.3238692986305978e-05, 'fear': 0.00534410028194543, 'happy': 83.41020941734314, 'sad': 0.1109180273488164, 'surprise': 0.19021269399672747, 'neutral': 16.280247271060944}, 'dominant_emotion': 'happy', 'region': {'x': 680, 'y': 118, 'w': 485, 'h': 485}}\n"
     ]
    },
    {
     "name": "stderr",
     "output_type": "stream",
     "text": [
      "Action: emotion: 100%|██████████| 1/1 [00:00<00:00, 26.22it/s]\n"
     ]
    },
    {
     "name": "stdout",
     "output_type": "stream",
     "text": [
      "{'emotion': {'angry': 0.050251465290784836, 'disgust': 0.0011571285540412646, 'fear': 0.1484169508330524, 'happy': 67.98728108406067, 'sad': 1.1933197267353535, 'surprise': 0.4178320989012718, 'neutral': 30.20174205303192}, 'dominant_emotion': 'happy', 'region': {'x': 684, 'y': 118, 'w': 486, 'h': 486}}\n"
     ]
    },
    {
     "name": "stderr",
     "output_type": "stream",
     "text": [
      "Action: emotion: 100%|██████████| 1/1 [00:00<00:00, 36.01it/s]\n"
     ]
    },
    {
     "name": "stdout",
     "output_type": "stream",
     "text": [
      "{'emotion': {'angry': 0.37206991109997034, 'disgust': 0.02620951272547245, 'fear': 0.9283049032092094, 'happy': 40.18395245075226, 'sad': 8.128196001052856, 'surprise': 0.2412345726042986, 'neutral': 50.12003183364868}, 'dominant_emotion': 'neutral', 'region': {'x': 685, 'y': 118, 'w': 484, 'h': 484}}\n"
     ]
    },
    {
     "name": "stderr",
     "output_type": "stream",
     "text": [
      "Action: emotion: 100%|██████████| 1/1 [00:00<00:00, 37.61it/s]\n"
     ]
    },
    {
     "name": "stdout",
     "output_type": "stream",
     "text": [
      "{'emotion': {'angry': 0.11067372979596257, 'disgust': 0.0013679132280230988, 'fear': 0.36370856687426567, 'happy': 67.38758683204651, 'sad': 0.6265715230256319, 'surprise': 0.4944457206875086, 'neutral': 31.01564645767212}, 'dominant_emotion': 'happy', 'region': {'x': 692, 'y': 123, 'w': 477, 'h': 477}}\n"
     ]
    },
    {
     "name": "stderr",
     "output_type": "stream",
     "text": [
      "Action: emotion: 100%|██████████| 1/1 [00:00<00:00, 33.83it/s]\n"
     ]
    },
    {
     "name": "stdout",
     "output_type": "stream",
     "text": [
      "{'emotion': {'angry': 0.07169499876908958, 'disgust': 0.0004320297193771694, 'fear': 1.8010476604104042, 'happy': 47.85115718841553, 'sad': 1.2884575873613358, 'surprise': 0.1931186649017036, 'neutral': 48.79409074783325}, 'dominant_emotion': 'neutral', 'region': {'x': 691, 'y': 119, 'w': 490, 'h': 490}}\n"
     ]
    },
    {
     "name": "stderr",
     "output_type": "stream",
     "text": [
      "Action: emotion: 100%|██████████| 1/1 [00:00<00:00, 32.18it/s]\n"
     ]
    },
    {
     "name": "stdout",
     "output_type": "stream",
     "text": [
      "{'emotion': {'angry': 0.0019393416967492204, 'disgust': 2.5775972725490264e-08, 'fear': 37.19775233295532, 'happy': 7.713037554855638, 'sad': 0.007939259884902029, 'surprise': 54.00172424295852, 'neutral': 1.0776001606762218}, 'dominant_emotion': 'surprise', 'region': {'x': 704, 'y': 124, 'w': 469, 'h': 469}}\n"
     ]
    },
    {
     "name": "stderr",
     "output_type": "stream",
     "text": [
      "Action: emotion: 100%|██████████| 1/1 [00:00<00:00, 35.73it/s]\n"
     ]
    },
    {
     "name": "stdout",
     "output_type": "stream",
     "text": [
      "{'emotion': {'angry': 0.00491950464055725, 'disgust': 2.3426560119102226e-07, 'fear': 41.31469830099365, 'happy': 9.655566107563244, 'sad': 0.009089590829361578, 'surprise': 48.82720126781449, 'neutral': 0.18852156435068676}, 'dominant_emotion': 'surprise', 'region': {'x': 708, 'y': 122, 'w': 471, 'h': 471}}\n"
     ]
    },
    {
     "name": "stderr",
     "output_type": "stream",
     "text": [
      "Action: emotion: 100%|██████████| 1/1 [00:00<00:00, 34.96it/s]\n"
     ]
    },
    {
     "name": "stdout",
     "output_type": "stream",
     "text": [
      "{'emotion': {'angry': 0.0019230916223023087, 'disgust': 2.7377811129269958e-08, 'fear': 53.12399864196777, 'happy': 3.599347546696663, 'sad': 0.004635077129933052, 'surprise': 42.912742495536804, 'neutral': 0.35735592246055603}, 'dominant_emotion': 'fear', 'region': {'x': 710, 'y': 117, 'w': 482, 'h': 482}}\n"
     ]
    },
    {
     "name": "stderr",
     "output_type": "stream",
     "text": [
      "Action: emotion: 100%|██████████| 1/1 [00:00<00:00, 34.84it/s]\n"
     ]
    },
    {
     "name": "stdout",
     "output_type": "stream",
     "text": [
      "{'emotion': {'angry': 0.00015991200825737906, 'disgust': 1.784990124459318e-10, 'fear': 78.6913812160492, 'happy': 0.6925412453711033, 'sad': 0.0019770135622820817, 'surprise': 20.05179226398468, 'neutral': 0.5621467716991901}, 'dominant_emotion': 'fear', 'region': {'x': 726, 'y': 128, 'w': 458, 'h': 458}}\n"
     ]
    },
    {
     "name": "stderr",
     "output_type": "stream",
     "text": [
      "Action: emotion: 100%|██████████| 1/1 [00:00<00:00, 32.05it/s]\n"
     ]
    },
    {
     "name": "stdout",
     "output_type": "stream",
     "text": [
      "{'emotion': {'angry': 0.00022699870430786822, 'disgust': 1.844633583695256e-09, 'fear': 6.470535336168727, 'happy': 14.595800018060208, 'sad': 0.0027796566265966037, 'surprise': 76.80502395659828, 'neutral': 2.125633448400107}, 'dominant_emotion': 'surprise', 'region': {'x': 716, 'y': 121, 'w': 476, 'h': 476}}\n"
     ]
    },
    {
     "name": "stderr",
     "output_type": "stream",
     "text": [
      "Action: emotion: 100%|██████████| 1/1 [00:00<00:00, 38.77it/s]\n"
     ]
    },
    {
     "name": "stdout",
     "output_type": "stream",
     "text": [
      "{'emotion': {'angry': 0.15880425926297903, 'disgust': 2.4993600078460076e-06, 'fear': 0.7447575218975544, 'happy': 0.4574672784656286, 'sad': 2.4138741195201874, 'surprise': 0.010327446943847463, 'neutral': 96.21477127075195}, 'dominant_emotion': 'neutral', 'region': {'x': 717, 'y': 125, 'w': 469, 'h': 469}}\n"
     ]
    },
    {
     "name": "stderr",
     "output_type": "stream",
     "text": [
      "Action: emotion: 100%|██████████| 1/1 [00:00<00:00, 35.43it/s]\n"
     ]
    },
    {
     "name": "stdout",
     "output_type": "stream",
     "text": [
      "{'emotion': {'angry': 0.003160505190978136, 'disgust': 6.37978430363624e-08, 'fear': 9.542706432503845, 'happy': 30.37352444967773, 'sad': 0.020008008606277917, 'surprise': 57.913956517813, 'neutral': 2.1466422242905034}, 'dominant_emotion': 'surprise', 'region': {'x': 723, 'y': 126, 'w': 476, 'h': 476}}\n"
     ]
    },
    {
     "name": "stderr",
     "output_type": "stream",
     "text": [
      "Action: emotion: 100%|██████████| 1/1 [00:00<00:00, 35.22it/s]\n"
     ]
    },
    {
     "name": "stdout",
     "output_type": "stream",
     "text": [
      "{'emotion': {'angry': 10.966242104768753, 'disgust': 5.139775680618186e-05, 'fear': 11.150497943162918, 'happy': 0.004751879532705061, 'sad': 50.97648501396179, 'surprise': 0.022677429660689086, 'neutral': 26.879289746284485}, 'dominant_emotion': 'sad', 'region': {'x': 713, 'y': 113, 'w': 479, 'h': 479}}\n"
     ]
    },
    {
     "name": "stderr",
     "output_type": "stream",
     "text": [
      "Action: emotion: 100%|██████████| 1/1 [00:00<00:00, 35.09it/s]\n"
     ]
    },
    {
     "name": "stdout",
     "output_type": "stream",
     "text": [
      "{'emotion': {'angry': 0.030468477052636445, 'disgust': 1.218006771830371e-09, 'fear': 1.340522337704897, 'happy': 4.490158334374428, 'sad': 5.0406090915203094, 'surprise': 0.0014219831427908503, 'neutral': 89.09682035446167}, 'dominant_emotion': 'neutral', 'region': {'x': 697, 'y': 124, 'w': 487, 'h': 487}}\n"
     ]
    },
    {
     "name": "stderr",
     "output_type": "stream",
     "text": [
      "Action: emotion: 100%|██████████| 1/1 [00:00<00:00, 35.58it/s]\n"
     ]
    },
    {
     "name": "stdout",
     "output_type": "stream",
     "text": [
      "{'emotion': {'angry': 0.004917535261483863, 'disgust': 8.501170600805352e-09, 'fear': 20.08044868707657, 'happy': 50.77546238899231, 'sad': 0.39067724719643593, 'surprise': 0.9901022538542747, 'neutral': 27.758392691612244}, 'dominant_emotion': 'happy', 'region': {'x': 693, 'y': 126, 'w': 457, 'h': 457}}\n"
     ]
    },
    {
     "name": "stderr",
     "output_type": "stream",
     "text": [
      "Action: emotion: 100%|██████████| 1/1 [00:00<00:00, 33.39it/s]\n"
     ]
    },
    {
     "name": "stdout",
     "output_type": "stream",
     "text": [
      "{'emotion': {'angry': 0.0006820485347804904, 'disgust': 1.895420322650225e-08, 'fear': 28.515632660128635, 'happy': 68.4901933962222, 'sad': 0.004361650540745477, 'surprise': 2.9158877084188286, 'neutral': 0.07324483449353782}, 'dominant_emotion': 'happy', 'region': {'x': 705, 'y': 132, 'w': 455, 'h': 455}}\n"
     ]
    },
    {
     "name": "stderr",
     "output_type": "stream",
     "text": [
      "Action: emotion: 100%|██████████| 1/1 [00:00<00:00, 32.34it/s]\n"
     ]
    },
    {
     "name": "stdout",
     "output_type": "stream",
     "text": [
      "{'emotion': {'angry': 0.0011756489375760145, 'disgust': 2.0893028553554604e-07, 'fear': 4.159046212377919, 'happy': 93.19047291222053, 'sad': 0.03711892571357195, 'surprise': 0.5253351606628395, 'neutral': 2.0868494487911136}, 'dominant_emotion': 'happy', 'region': {'x': 701, 'y': 120, 'w': 474, 'h': 474}}\n"
     ]
    },
    {
     "name": "stderr",
     "output_type": "stream",
     "text": [
      "Action: emotion: 100%|██████████| 1/1 [00:00<00:00, 26.42it/s]\n"
     ]
    },
    {
     "name": "stdout",
     "output_type": "stream",
     "text": [
      "{'emotion': {'angry': 0.0518862740136683, 'disgust': 6.727882251311712e-07, 'fear': 98.58679175376892, 'happy': 0.3279205644503236, 'sad': 0.005835861884406768, 'surprise': 0.8694696240127087, 'neutral': 0.15809591859579086}, 'dominant_emotion': 'fear', 'region': {'x': 698, 'y': 119, 'w': 471, 'h': 471}}\n"
     ]
    },
    {
     "name": "stderr",
     "output_type": "stream",
     "text": [
      "Action: emotion: 100%|██████████| 1/1 [00:00<00:00, 35.03it/s]\n"
     ]
    },
    {
     "name": "stdout",
     "output_type": "stream",
     "text": [
      "{'emotion': {'angry': 3.1671687960624695, 'disgust': 0.011024115519830957, 'fear': 6.587015837430954, 'happy': 0.7168331183493137, 'sad': 34.76305902004242, 'surprise': 0.03126476367469877, 'neutral': 54.72363829612732}, 'dominant_emotion': 'neutral', 'region': {'x': 714, 'y': 146, 'w': 438, 'h': 438}}\n"
     ]
    },
    {
     "name": "stderr",
     "output_type": "stream",
     "text": [
      "Action: emotion: 100%|██████████| 1/1 [00:00<00:00, 35.18it/s]\n"
     ]
    },
    {
     "name": "stdout",
     "output_type": "stream",
     "text": [
      "{'emotion': {'angry': 4.3871901084629744e-05, 'disgust': 7.589160655396787e-10, 'fear': 9.887549870464198, 'happy': 0.6956023578704809, 'sad': 0.0005656641288363648, 'surprise': 89.19271166281173, 'neutral': 0.22352478867916994}, 'dominant_emotion': 'surprise', 'region': {'x': 701, 'y': 145, 'w': 460, 'h': 460}}\n"
     ]
    },
    {
     "name": "stderr",
     "output_type": "stream",
     "text": [
      "Action: emotion: 100%|██████████| 1/1 [00:00<00:00, 35.28it/s]\n"
     ]
    },
    {
     "name": "stdout",
     "output_type": "stream",
     "text": [
      "{'emotion': {'angry': 0.6842569913715124, 'disgust': 0.00042167530409642495, 'fear': 8.698466420173645, 'happy': 0.05584362079389393, 'sad': 82.09111094474792, 'surprise': 0.00042654210119508207, 'neutral': 8.46947357058525}, 'dominant_emotion': 'sad', 'region': {'x': 683, 'y': 135, 'w': 491, 'h': 491}}\n"
     ]
    },
    {
     "name": "stderr",
     "output_type": "stream",
     "text": [
      "Action: emotion: 100%|██████████| 1/1 [00:00<00:00, 35.25it/s]\n"
     ]
    },
    {
     "name": "stdout",
     "output_type": "stream",
     "text": [
      "{'emotion': {'angry': 14.149700105190277, 'disgust': 2.413886868168902e-06, 'fear': 2.763824164867401, 'happy': 73.9633858203888, 'sad': 8.46957415342331, 'surprise': 0.08290171390399337, 'neutral': 0.5706128664314747}, 'dominant_emotion': 'happy', 'region': {'x': 722, 'y': 170, 'w': 409, 'h': 409}}\n"
     ]
    },
    {
     "name": "stderr",
     "output_type": "stream",
     "text": [
      "Action: emotion: 100%|██████████| 1/1 [00:00<00:00, 34.60it/s]\n"
     ]
    },
    {
     "name": "stdout",
     "output_type": "stream",
     "text": [
      "{'emotion': {'angry': 0.0014583236487438651, 'disgust': 1.996032961890207e-09, 'fear': 99.99784231211635, 'happy': 0.0004074679478365953, 'sad': 0.00028731216147336486, 'surprise': 1.2016553853058504e-09, 'neutral': 4.514822005391082e-09}, 'dominant_emotion': 'fear', 'region': {'x': 0, 'y': 0, 'w': 1920, 'h': 1080}}\n"
     ]
    },
    {
     "name": "stderr",
     "output_type": "stream",
     "text": [
      "Action: emotion: 100%|██████████| 1/1 [00:00<00:00, 34.95it/s]\n"
     ]
    },
    {
     "name": "stdout",
     "output_type": "stream",
     "text": [
      "{'emotion': {'angry': 0.13209641534292194, 'disgust': 5.639746783782762e-06, 'fear': 99.05087346141777, 'happy': 9.345412112757847e-07, 'sad': 0.8170161883244627, 'surprise': 9.837017041643366e-12, 'neutral': 8.12941868982269e-06}, 'dominant_emotion': 'fear', 'region': {'x': 0, 'y': 0, 'w': 1920, 'h': 1080}}\n"
     ]
    },
    {
     "name": "stderr",
     "output_type": "stream",
     "text": [
      "Action: emotion: 100%|██████████| 1/1 [00:00<00:00, 36.35it/s]\n"
     ]
    },
    {
     "name": "stdout",
     "output_type": "stream",
     "text": [
      "{'emotion': {'angry': 10.518695295971352, 'disgust': 0.001525959032738002, 'fear': 3.415452892509275, 'happy': 1.070558157298455, 'sad': 74.79568569634472, 'surprise': 0.008708905598493254, 'neutral': 10.189371418319428}, 'dominant_emotion': 'sad', 'region': {'x': 722, 'y': 161, 'w': 441, 'h': 441}}\n"
     ]
    },
    {
     "name": "stderr",
     "output_type": "stream",
     "text": [
      "Action: emotion: 100%|██████████| 1/1 [00:00<00:00, 31.75it/s]\n"
     ]
    },
    {
     "name": "stdout",
     "output_type": "stream",
     "text": [
      "{'emotion': {'angry': 0.3783546620979905, 'disgust': 0.0001734657985252852, 'fear': 99.60668683052063, 'happy': 1.5196961555830057e-05, 'sad': 0.014774032752029598, 'surprise': 2.7098137622694196e-08, 'neutral': 2.878405735984302e-07}, 'dominant_emotion': 'fear', 'region': {'x': 0, 'y': 0, 'w': 1920, 'h': 1080}}\n"
     ]
    },
    {
     "name": "stderr",
     "output_type": "stream",
     "text": [
      "Action: emotion: 100%|██████████| 1/1 [00:00<00:00, 35.62it/s]\n"
     ]
    },
    {
     "name": "stdout",
     "output_type": "stream",
     "text": [
      "{'emotion': {'angry': 0.6068499758839607, 'disgust': 0.00016142295180543442, 'fear': 0.6263996008783579, 'happy': 46.646010875701904, 'sad': 8.189985156059265, 'surprise': 0.0193654908798635, 'neutral': 43.911224603652954}, 'dominant_emotion': 'happy', 'region': {'x': 718, 'y': 152, 'w': 459, 'h': 459}}\n"
     ]
    },
    {
     "name": "stderr",
     "output_type": "stream",
     "text": [
      "Action: emotion: 100%|██████████| 1/1 [00:00<00:00, 29.89it/s]\n"
     ]
    },
    {
     "name": "stdout",
     "output_type": "stream",
     "text": [
      "{'emotion': {'angry': 7.281208038330078, 'disgust': 0.0021900012143305503, 'fear': 13.069820404052734, 'happy': 3.1251896172761917, 'sad': 60.4514479637146, 'surprise': 0.03941147297155112, 'neutral': 16.03073477745056}, 'dominant_emotion': 'sad', 'region': {'x': 686, 'y': 135, 'w': 478, 'h': 478}}\n"
     ]
    },
    {
     "name": "stderr",
     "output_type": "stream",
     "text": [
      "Action: emotion: 100%|██████████| 1/1 [00:00<00:00, 35.54it/s]\n"
     ]
    },
    {
     "name": "stdout",
     "output_type": "stream",
     "text": [
      "{'emotion': {'angry': 1.7672107676989297, 'disgust': 0.0003054478338688834, 'fear': 1.3282849313786584, 'happy': 0.17051888714843316, 'sad': 21.555243227198318, 'surprise': 0.00981807519877964, 'neutral': 75.168620060004}, 'dominant_emotion': 'neutral', 'region': {'x': 681, 'y': 136, 'w': 479, 'h': 479}}\n"
     ]
    },
    {
     "name": "stderr",
     "output_type": "stream",
     "text": [
      "Action: emotion: 100%|██████████| 1/1 [00:00<00:00, 34.66it/s]\n"
     ]
    },
    {
     "name": "stdout",
     "output_type": "stream",
     "text": [
      "{'emotion': {'angry': 4.365557432174683, 'disgust': 0.0007200539130280958, 'fear': 16.475558280944824, 'happy': 0.37839545402675867, 'sad': 21.858499944210052, 'surprise': 0.015883709420450032, 'neutral': 56.905388832092285}, 'dominant_emotion': 'neutral', 'region': {'x': 683, 'y': 151, 'w': 468, 'h': 468}}\n"
     ]
    },
    {
     "name": "stderr",
     "output_type": "stream",
     "text": [
      "Action: emotion: 100%|██████████| 1/1 [00:00<00:00, 34.07it/s]\n"
     ]
    },
    {
     "name": "stdout",
     "output_type": "stream",
     "text": [
      "{'emotion': {'angry': 0.31584163662046194, 'disgust': 6.264262424338085e-05, 'fear': 5.037055164575577, 'happy': 23.170240223407745, 'sad': 39.45847153663635, 'surprise': 0.004872823410551064, 'neutral': 32.013458013534546}, 'dominant_emotion': 'sad', 'region': {'x': 689, 'y': 156, 'w': 449, 'h': 449}}\n"
     ]
    },
    {
     "name": "stderr",
     "output_type": "stream",
     "text": [
      "Action: emotion: 100%|██████████| 1/1 [00:00<00:00, 36.54it/s]\n"
     ]
    },
    {
     "name": "stdout",
     "output_type": "stream",
     "text": [
      "{'emotion': {'angry': 0.007099448703229427, 'disgust': 1.1941148159166914e-05, 'fear': 13.652929663658142, 'happy': 20.050135254859924, 'sad': 62.867772579193115, 'surprise': 0.027240128838457167, 'neutral': 3.394811972975731}, 'dominant_emotion': 'sad', 'region': {'x': 677, 'y': 145, 'w': 494, 'h': 494}}\n"
     ]
    },
    {
     "name": "stderr",
     "output_type": "stream",
     "text": [
      "Action: emotion: 100%|██████████| 1/1 [00:00<00:00, 32.76it/s]\n"
     ]
    },
    {
     "name": "stdout",
     "output_type": "stream",
     "text": [
      "{'emotion': {'angry': 0.00183337135254244, 'disgust': 2.8825363260265198e-08, 'fear': 46.923801119554106, 'happy': 4.979764966950713, 'sad': 0.0034930273877026075, 'surprise': 47.91028189124357, 'neutral': 0.1808265797541487}, 'dominant_emotion': 'surprise', 'region': {'x': 712, 'y': 147, 'w': 482, 'h': 482}}\n"
     ]
    },
    {
     "name": "stderr",
     "output_type": "stream",
     "text": [
      "Action: emotion: 100%|██████████| 1/1 [00:00<00:00, 28.05it/s]\n"
     ]
    },
    {
     "name": "stdout",
     "output_type": "stream",
     "text": [
      "{'emotion': {'angry': 11.976054310798645, 'disgust': 0.015257782069966197, 'fear': 5.750179663300514, 'happy': 0.1244154293090105, 'sad': 52.71983742713928, 'surprise': 0.008627876377431676, 'neutral': 29.40562069416046}, 'dominant_emotion': 'sad', 'region': {'x': 744, 'y': 145, 'w': 484, 'h': 484}}\n"
     ]
    },
    {
     "name": "stderr",
     "output_type": "stream",
     "text": [
      "Action: emotion: 100%|██████████| 1/1 [00:00<00:00, 35.00it/s]\n"
     ]
    },
    {
     "name": "stdout",
     "output_type": "stream",
     "text": [
      "{'emotion': {'angry': 6.031545624136925, 'disgust': 0.00140002703119535, 'fear': 35.597726702690125, 'happy': 0.03855428076349199, 'sad': 0.9903331287205219, 'surprise': 12.388835847377777, 'neutral': 44.95159983634949}, 'dominant_emotion': 'neutral', 'region': {'x': 0, 'y': 0, 'w': 1920, 'h': 1080}}\n"
     ]
    },
    {
     "name": "stderr",
     "output_type": "stream",
     "text": [
      "Action: emotion: 100%|██████████| 1/1 [00:00<00:00, 35.43it/s]\n"
     ]
    },
    {
     "name": "stdout",
     "output_type": "stream",
     "text": [
      "{'emotion': {'angry': 2.6661127532191724, 'disgust': 0.27030440261539235, 'fear': 0.5407482707946462, 'happy': 0.00018191197970898748, 'sad': 96.19525052280727, 'surprise': 4.096977437256567e-05, 'neutral': 0.3273607193968129}, 'dominant_emotion': 'sad', 'region': {'x': 847, 'y': 157, 'w': 487, 'h': 487}}\n"
     ]
    },
    {
     "name": "stderr",
     "output_type": "stream",
     "text": [
      "Action: emotion: 100%|██████████| 1/1 [00:00<00:00, 36.55it/s]\n"
     ]
    },
    {
     "name": "stdout",
     "output_type": "stream",
     "text": [
      "{'emotion': {'angry': 5.685959722754939, 'disgust': 0.015243079723377807, 'fear': 2.8737071751777634, 'happy': 0.010743876831939553, 'sad': 74.65923277492719, 'surprise': 0.0007809574082610423, 'neutral': 16.754331693311435}, 'dominant_emotion': 'sad', 'region': {'x': 852, 'y': 161, 'w': 493, 'h': 493}}\n"
     ]
    },
    {
     "name": "stderr",
     "output_type": "stream",
     "text": [
      "Action: emotion: 100%|██████████| 1/1 [00:00<00:00, 32.36it/s]\n"
     ]
    },
    {
     "name": "stdout",
     "output_type": "stream",
     "text": [
      "{'emotion': {'angry': 3.2526867540291997, 'disgust': 4.1065200267666085e-05, 'fear': 0.2944225155217955, 'happy': 0.2016187532838436, 'sad': 78.27851642838219, 'surprise': 0.0017818670283090228, 'neutral': 17.97093409126604}, 'dominant_emotion': 'sad', 'region': {'x': 788, 'y': 161, 'w': 444, 'h': 444}}\n"
     ]
    },
    {
     "name": "stderr",
     "output_type": "stream",
     "text": [
      "Action: emotion: 100%|██████████| 1/1 [00:00<00:00, 29.29it/s]\n"
     ]
    },
    {
     "name": "stdout",
     "output_type": "stream",
     "text": [
      "{'emotion': {'angry': 9.80104797723201e-05, 'disgust': 8.200863720818589e-06, 'fear': 95.58508448778576, 'happy': 4.206748550325805, 'sad': 0.15423531202401972, 'surprise': 9.119589329022517e-07, 'neutral': 0.05382347676027098}, 'dominant_emotion': 'fear', 'region': {'x': 0, 'y': 0, 'w': 1920, 'h': 1080}}\n"
     ]
    },
    {
     "name": "stderr",
     "output_type": "stream",
     "text": [
      "Action: emotion: 100%|██████████| 1/1 [00:00<00:00, 32.78it/s]\n"
     ]
    },
    {
     "name": "stdout",
     "output_type": "stream",
     "text": [
      "{'emotion': {'angry': 8.125877486725136e-05, 'disgust': 1.6727024096968876e-07, 'fear': 99.93200897765213, 'happy': 0.03310121734950497, 'sad': 0.03191346667470584, 'surprise': 2.658937939548793e-06, 'neutral': 0.0028963131533717196}, 'dominant_emotion': 'fear', 'region': {'x': 0, 'y': 0, 'w': 1920, 'h': 1080}}\n"
     ]
    },
    {
     "name": "stderr",
     "output_type": "stream",
     "text": [
      "Action: emotion: 100%|██████████| 1/1 [00:00<00:00, 34.13it/s]\n"
     ]
    },
    {
     "name": "stdout",
     "output_type": "stream",
     "text": [
      "{'emotion': {'angry': 0.15487256941973335, 'disgust': 3.2580085853317527e-07, 'fear': 13.395298910701404, 'happy': 17.137494130433307, 'sad': 0.09087217703309035, 'surprise': 69.05472051445001, 'neutral': 0.16673243712470684}, 'dominant_emotion': 'surprise', 'region': {'x': 750, 'y': 152, 'w': 455, 'h': 455}}\n"
     ]
    },
    {
     "name": "stderr",
     "output_type": "stream",
     "text": [
      "Action: emotion: 100%|██████████| 1/1 [00:00<00:00, 29.88it/s]\n"
     ]
    },
    {
     "name": "stdout",
     "output_type": "stream",
     "text": [
      "{'emotion': {'angry': 0.00018890553996222758, 'disgust': 6.436221898682354e-07, 'fear': 97.09652696889317, 'happy': 5.220193077233356e-06, 'sad': 0.018140156337115902, 'surprise': 0.01168291498169944, 'neutral': 2.873452969079856}, 'dominant_emotion': 'fear', 'region': {'x': 0, 'y': 0, 'w': 1920, 'h': 1080}}\n"
     ]
    },
    {
     "name": "stderr",
     "output_type": "stream",
     "text": [
      "Action: emotion: 100%|██████████| 1/1 [00:00<00:00, 38.06it/s]\n"
     ]
    },
    {
     "name": "stdout",
     "output_type": "stream",
     "text": [
      "{'emotion': {'angry': 2.4046977387115476e-05, 'disgust': 3.6715003259857326e-08, 'fear': 98.28638434410095, 'happy': 0.0004498193902691128, 'sad': 0.0030971572414273396, 'surprise': 0.01729032810544595, 'neutral': 1.6927573829889297}, 'dominant_emotion': 'fear', 'region': {'x': 0, 'y': 0, 'w': 1920, 'h': 1080}}\n"
     ]
    },
    {
     "name": "stderr",
     "output_type": "stream",
     "text": [
      "Action: emotion: 100%|██████████| 1/1 [00:00<00:00, 35.24it/s]\n"
     ]
    },
    {
     "name": "stdout",
     "output_type": "stream",
     "text": [
      "{'emotion': {'angry': 0.0016661970221321099, 'disgust': 6.805350949434796e-07, 'fear': 72.79385924339294, 'happy': 0.0004161212473263731, 'sad': 0.01734305842546746, 'surprise': 0.3555913455784321, 'neutral': 26.83112323284149}, 'dominant_emotion': 'fear', 'region': {'x': 0, 'y': 0, 'w': 1920, 'h': 1080}}\n"
     ]
    },
    {
     "name": "stderr",
     "output_type": "stream",
     "text": [
      "Action: emotion: 100%|██████████| 1/1 [00:00<00:00, 33.21it/s]\n"
     ]
    },
    {
     "name": "stdout",
     "output_type": "stream",
     "text": [
      "{'emotion': {'angry': 0.06718516815453768, 'disgust': 0.0001908969124997384, 'fear': 37.59014010429382, 'happy': 0.021541726891882718, 'sad': 0.12963656336069107, 'surprise': 2.2909950464963913, 'neutral': 59.90031361579895}, 'dominant_emotion': 'neutral', 'region': {'x': 0, 'y': 0, 'w': 1920, 'h': 1080}}\n"
     ]
    },
    {
     "name": "stderr",
     "output_type": "stream",
     "text": [
      "Action: emotion: 100%|██████████| 1/1 [00:00<00:00, 34.64it/s]\n"
     ]
    },
    {
     "name": "stdout",
     "output_type": "stream",
     "text": [
      "{'emotion': {'angry': 0.08772097644396126, 'disgust': 0.00019910135051759426, 'fear': 76.79651975631714, 'happy': 0.01863545476226136, 'sad': 0.05336530739441514, 'surprise': 4.609661176800728, 'neutral': 18.433889746665955}, 'dominant_emotion': 'fear', 'region': {'x': 0, 'y': 0, 'w': 1920, 'h': 1080}}\n"
     ]
    },
    {
     "name": "stderr",
     "output_type": "stream",
     "text": [
      "Action: emotion: 100%|██████████| 1/1 [00:00<00:00, 32.96it/s]\n"
     ]
    },
    {
     "name": "stdout",
     "output_type": "stream",
     "text": [
      "{'emotion': {'angry': 0.005722898276872002, 'disgust': 3.2987287568175816e-06, 'fear': 96.99550867080688, 'happy': 0.000553442987438757, 'sad': 0.006245240365387872, 'surprise': 2.7776172384619713, 'neutral': 0.21434647496789694}, 'dominant_emotion': 'fear', 'region': {'x': 0, 'y': 0, 'w': 1920, 'h': 1080}}\n"
     ]
    },
    {
     "name": "stderr",
     "output_type": "stream",
     "text": [
      "Action: emotion: 100%|██████████| 1/1 [00:00<00:00, 35.56it/s]\n"
     ]
    },
    {
     "name": "stdout",
     "output_type": "stream",
     "text": [
      "{'emotion': {'angry': 0.14499197714030743, 'disgust': 3.220447242213709e-08, 'fear': 58.26255679130554, 'happy': 24.25437569618225, 'sad': 6.939376145601273, 'surprise': 0.038309284718707204, 'neutral': 10.360388457775116}, 'dominant_emotion': 'fear', 'region': {'x': 815, 'y': 185, 'w': 485, 'h': 485}}\n"
     ]
    },
    {
     "name": "stderr",
     "output_type": "stream",
     "text": [
      "Action: emotion: 100%|██████████| 1/1 [00:00<00:00, 35.12it/s]\n"
     ]
    },
    {
     "name": "stdout",
     "output_type": "stream",
     "text": [
      "{'emotion': {'angry': 0.016804676304107004, 'disgust': 2.4418927508415704e-09, 'fear': 37.38614471123878, 'happy': 2.728139470143381, 'sad': 52.413654039662596, 'surprise': 0.00011194231122089821, 'neutral': 7.455138718469295}, 'dominant_emotion': 'sad', 'region': {'x': 789, 'y': 158, 'w': 488, 'h': 488}}\n"
     ]
    },
    {
     "name": "stderr",
     "output_type": "stream",
     "text": [
      "Action: emotion: 100%|██████████| 1/1 [00:00<00:00, 32.70it/s]\n"
     ]
    },
    {
     "name": "stdout",
     "output_type": "stream",
     "text": [
      "{'emotion': {'angry': 0.8131784348871189, 'disgust': 0.0013101429688294418, 'fear': 43.93481982531311, 'happy': 25.650083941211232, 'sad': 29.493647278112498, 'surprise': 0.07684094264578013, 'neutral': 0.03010839505225926}, 'dominant_emotion': 'fear', 'region': {'x': 761, 'y': 125, 'w': 503, 'h': 503}}\n"
     ]
    },
    {
     "name": "stderr",
     "output_type": "stream",
     "text": [
      "Action: emotion: 100%|██████████| 1/1 [00:00<00:00, 32.29it/s]\n"
     ]
    },
    {
     "name": "stdout",
     "output_type": "stream",
     "text": [
      "{'emotion': {'angry': 9.665112656875863e-05, 'disgust': 3.4461962363646625e-12, 'fear': 31.436052918434143, 'happy': 0.025539961643517017, 'sad': 0.15526229981333017, 'surprise': 0.0124892991152592, 'neutral': 68.37055683135986}, 'dominant_emotion': 'neutral', 'region': {'x': 761, 'y': 124, 'w': 500, 'h': 500}}\n"
     ]
    },
    {
     "name": "stderr",
     "output_type": "stream",
     "text": [
      "Action: emotion: 100%|██████████| 1/1 [00:00<00:00, 35.71it/s]\n"
     ]
    },
    {
     "name": "stdout",
     "output_type": "stream",
     "text": [
      "{'emotion': {'angry': 0.0007933874221718032, 'disgust': 1.3701053088890222e-11, 'fear': 25.6657838027735, 'happy': 0.005652712988273928, 'sad': 3.471560734920414, 'surprise': 4.10215343419854e-05, 'neutral': 70.85616339967687}, 'dominant_emotion': 'neutral', 'region': {'x': 761, 'y': 120, 'w': 503, 'h': 503}}\n"
     ]
    },
    {
     "name": "stderr",
     "output_type": "stream",
     "text": [
      "Action: emotion: 100%|██████████| 1/1 [00:00<00:00, 33.70it/s]\n"
     ]
    },
    {
     "name": "stdout",
     "output_type": "stream",
     "text": [
      "{'emotion': {'angry': 0.0007455370450770715, 'disgust': 3.5140408378292465e-10, 'fear': 13.293637335300446, 'happy': 0.027718121418729424, 'sad': 0.17669334774836898, 'surprise': 0.006623470108024776, 'neutral': 86.49458289146423}, 'dominant_emotion': 'neutral', 'region': {'x': 759, 'y': 124, 'w': 506, 'h': 506}}\n"
     ]
    },
    {
     "name": "stderr",
     "output_type": "stream",
     "text": [
      "Action: emotion: 100%|██████████| 1/1 [00:00<00:00, 35.44it/s]\n"
     ]
    },
    {
     "name": "stdout",
     "output_type": "stream",
     "text": [
      "{'emotion': {'angry': 0.5750680685083907, 'disgust': 0.002870019841875201, 'fear': 3.7054015669466, 'happy': 77.77083979671238, 'sad': 17.864986828862836, 'surprise': 0.005157681460344804, 'neutral': 0.07568258311942715}, 'dominant_emotion': 'happy', 'region': {'x': 757, 'y': 128, 'w': 504, 'h': 504}}\n"
     ]
    },
    {
     "name": "stderr",
     "output_type": "stream",
     "text": [
      "Action: emotion: 100%|██████████| 1/1 [00:00<00:00, 37.42it/s]\n"
     ]
    },
    {
     "name": "stdout",
     "output_type": "stream",
     "text": [
      "{'emotion': {'angry': 0.17725244612590121, 'disgust': 0.0017933841854187887, 'fear': 0.2557025451865738, 'happy': 90.58097117174016, 'sad': 8.824014356849867, 'surprise': 0.0025031835974939163, 'neutral': 0.1577572476184669}, 'dominant_emotion': 'happy', 'region': {'x': 746, 'y': 123, 'w': 523, 'h': 523}}\n"
     ]
    },
    {
     "name": "stderr",
     "output_type": "stream",
     "text": [
      "Action: emotion: 100%|██████████| 1/1 [00:00<00:00, 34.92it/s]\n"
     ]
    },
    {
     "name": "stdout",
     "output_type": "stream",
     "text": [
      "{'emotion': {'angry': 0.0024245647718055597, 'disgust': 2.6707594163864667e-13, 'fear': 0.007295379762681485, 'happy': 0.01060999920385885, 'sad': 0.0003338728873865817, 'surprise': 0.0012613239802359462, 'neutral': 99.97807741034492}, 'dominant_emotion': 'neutral', 'region': {'x': 746, 'y': 118, 'w': 527, 'h': 527}}\n"
     ]
    },
    {
     "name": "stderr",
     "output_type": "stream",
     "text": [
      "Action: emotion: 100%|██████████| 1/1 [00:00<00:00, 33.37it/s]\n"
     ]
    },
    {
     "name": "stdout",
     "output_type": "stream",
     "text": [
      "{'emotion': {'angry': 0.01739358516707034, 'disgust': 2.5747138365527706e-12, 'fear': 0.015112471910843814, 'happy': 0.006456466892933362, 'sad': 0.004622460894950197, 'surprise': 0.0004498152788792996, 'neutral': 99.9559640858152}, 'dominant_emotion': 'neutral', 'region': {'x': 756, 'y': 127, 'w': 521, 'h': 521}}\n"
     ]
    },
    {
     "name": "stderr",
     "output_type": "stream",
     "text": [
      "Action: emotion: 100%|██████████| 1/1 [00:00<00:00, 30.78it/s]\n"
     ]
    },
    {
     "name": "stdout",
     "output_type": "stream",
     "text": [
      "{'emotion': {'angry': 0.006536185927284788, 'disgust': 7.383879926487263e-14, 'fear': 0.0025065357151727993, 'happy': 0.00599909689586349, 'sad': 0.0002408683629123962, 'surprise': 0.0001825804810920039, 'neutral': 99.98453259375886}, 'dominant_emotion': 'neutral', 'region': {'x': 753, 'y': 127, 'w': 519, 'h': 519}}\n"
     ]
    },
    {
     "name": "stderr",
     "output_type": "stream",
     "text": [
      "Action: emotion: 100%|██████████| 1/1 [00:00<00:00, 35.09it/s]\n"
     ]
    },
    {
     "name": "stdout",
     "output_type": "stream",
     "text": [
      "{'emotion': {'angry': 0.15910557704046369, 'disgust': 1.7203313218416838e-07, 'fear': 19.250333309173584, 'happy': 61.531001329422, 'sad': 17.577296495437622, 'surprise': 0.04823365597985685, 'neutral': 1.434035412967205}, 'dominant_emotion': 'happy', 'region': {'x': 763, 'y': 140, 'w': 506, 'h': 506}}\n"
     ]
    },
    {
     "name": "stderr",
     "output_type": "stream",
     "text": [
      "Action: emotion: 100%|██████████| 1/1 [00:00<00:00, 35.91it/s]\n"
     ]
    },
    {
     "name": "stdout",
     "output_type": "stream",
     "text": [
      "{'emotion': {'angry': 0.00048728719423733573, 'disgust': 1.1614949763075946e-12, 'fear': 84.98161018113969, 'happy': 1.3184005685567177, 'sad': 0.00040540712403751733, 'surprise': 12.022890207422947, 'neutral': 1.6762029244061798}, 'dominant_emotion': 'fear', 'region': {'x': 774, 'y': 146, 'w': 484, 'h': 484}}\n"
     ]
    },
    {
     "name": "stderr",
     "output_type": "stream",
     "text": [
      "Action: emotion: 100%|██████████| 1/1 [00:00<00:00, 32.90it/s]\n"
     ]
    },
    {
     "name": "stdout",
     "output_type": "stream",
     "text": [
      "{'emotion': {'angry': 2.6743780821561813, 'disgust': 0.0014873172403895296, 'fear': 0.46102236956357956, 'happy': 0.00010579775562291616, 'sad': 74.95841979980469, 'surprise': 1.4408547599487065e-05, 'neutral': 21.904577314853668}, 'dominant_emotion': 'sad', 'region': {'x': 780, 'y': 149, 'w': 475, 'h': 475}}\n"
     ]
    },
    {
     "name": "stderr",
     "output_type": "stream",
     "text": [
      "Action: emotion: 100%|██████████| 1/1 [00:00<00:00, 34.88it/s]\n"
     ]
    },
    {
     "name": "stdout",
     "output_type": "stream",
     "text": [
      "{'emotion': {'angry': 9.745408594608307, 'disgust': 0.0023506281650043093, 'fear': 0.4160808399319649, 'happy': 0.0006507295893243281, 'sad': 64.50307965278625, 'surprise': 4.5160663830756675e-05, 'neutral': 25.332382321357727}, 'dominant_emotion': 'sad', 'region': {'x': 771, 'y': 136, 'w': 493, 'h': 493}}\n"
     ]
    },
    {
     "name": "stderr",
     "output_type": "stream",
     "text": [
      "Action: emotion: 100%|██████████| 1/1 [00:00<00:00, 35.71it/s]\n"
     ]
    },
    {
     "name": "stdout",
     "output_type": "stream",
     "text": [
      "{'emotion': {'angry': 0.0016218058590311557, 'disgust': 2.7497677800112502e-12, 'fear': 0.20452023018151522, 'happy': 0.17795625608414412, 'sad': 0.005443615009426139, 'surprise': 0.03344540891703218, 'neutral': 99.57701563835144}, 'dominant_emotion': 'neutral', 'region': {'x': 759, 'y': 123, 'w': 509, 'h': 509}}\n"
     ]
    },
    {
     "name": "stderr",
     "output_type": "stream",
     "text": [
      "Action: emotion: 100%|██████████| 1/1 [00:00<00:00, 35.17it/s]\n"
     ]
    },
    {
     "name": "stdout",
     "output_type": "stream",
     "text": [
      "{'emotion': {'angry': 20.18018662929535, 'disgust': 3.455060948454047e-05, 'fear': 74.8056948184967, 'happy': 1.5575348299989855e-05, 'sad': 5.001596733927727, 'surprise': 0.012230697029735893, 'neutral': 0.00024302448764501605}, 'dominant_emotion': 'fear', 'region': {'x': 0, 'y': 0, 'w': 1920, 'h': 1080}}\n"
     ]
    },
    {
     "name": "stderr",
     "output_type": "stream",
     "text": [
      "Action: emotion: 100%|██████████| 1/1 [00:00<00:00, 27.59it/s]\n"
     ]
    },
    {
     "name": "stdout",
     "output_type": "stream",
     "text": [
      "{'emotion': {'angry': 89.22459483146667, 'disgust': 0.0017482951079728082, 'fear': 7.265328615903854, 'happy': 4.325916336256341e-05, 'sad': 3.5033274441957474, 'surprise': 0.00017466692270318163, 'neutral': 0.004789933154825121}, 'dominant_emotion': 'angry', 'region': {'x': 0, 'y': 0, 'w': 1920, 'h': 1080}}\n"
     ]
    },
    {
     "name": "stderr",
     "output_type": "stream",
     "text": [
      "Action: emotion: 100%|██████████| 1/1 [00:00<00:00, 33.72it/s]\n"
     ]
    },
    {
     "name": "stdout",
     "output_type": "stream",
     "text": [
      "{'emotion': {'angry': 82.54421845342031, 'disgust': 2.585793422520108e-06, 'fear': 16.379834197749744, 'happy': 1.9377955951356372e-07, 'sad': 0.8714516235263123, 'surprise': 0.19467349626040437, 'neutral': 0.00982304904370116}, 'dominant_emotion': 'angry', 'region': {'x': 0, 'y': 0, 'w': 1920, 'h': 1080}}\n"
     ]
    },
    {
     "name": "stderr",
     "output_type": "stream",
     "text": [
      "Action: emotion: 100%|██████████| 1/1 [00:00<00:00, 34.08it/s]\n"
     ]
    },
    {
     "name": "stdout",
     "output_type": "stream",
     "text": [
      "{'emotion': {'angry': 91.4149820804596, 'disgust': 2.002138677070775e-07, 'fear': 8.042266964912415, 'happy': 1.516436931581211e-06, 'sad': 0.5260585807263851, 'surprise': 0.00656484262435697, 'neutral': 0.01012689172057435}, 'dominant_emotion': 'angry', 'region': {'x': 0, 'y': 0, 'w': 1920, 'h': 1080}}\n"
     ]
    },
    {
     "name": "stderr",
     "output_type": "stream",
     "text": [
      "Action: emotion: 100%|██████████| 1/1 [00:00<00:00, 38.42it/s]\n"
     ]
    },
    {
     "name": "stdout",
     "output_type": "stream",
     "text": [
      "{'emotion': {'angry': 0.6861832458525896, 'disgust': 0.0005261663318378851, 'fear': 31.701955199241638, 'happy': 16.937580704689026, 'sad': 0.6577001418918371, 'surprise': 0.10939580388367176, 'neutral': 49.90666210651398}, 'dominant_emotion': 'neutral', 'region': {'x': 714, 'y': 126, 'w': 391, 'h': 391}}\n"
     ]
    },
    {
     "name": "stderr",
     "output_type": "stream",
     "text": [
      "Action: emotion: 100%|██████████| 1/1 [00:00<00:00, 34.47it/s]\n"
     ]
    },
    {
     "name": "stdout",
     "output_type": "stream",
     "text": [
      "{'emotion': {'angry': 0.0015541809228037874, 'disgust': 7.431061546210141e-07, 'fear': 12.781417336294968, 'happy': 0.6643850961315517, 'sad': 0.06038329309871279, 'surprise': 0.2002680202626562, 'neutral': 86.29198833799501}, 'dominant_emotion': 'neutral', 'region': {'x': 679, 'y': 133, 'w': 381, 'h': 381}}\n"
     ]
    },
    {
     "name": "stderr",
     "output_type": "stream",
     "text": [
      "Action: emotion: 100%|██████████| 1/1 [00:00<00:00, 33.30it/s]\n"
     ]
    },
    {
     "name": "stdout",
     "output_type": "stream",
     "text": [
      "{'emotion': {'angry': 0.023506785510107875, 'disgust': 1.181827400387192e-05, 'fear': 2.849946916103363, 'happy': 38.13411295413971, 'sad': 0.005910433537792414, 'surprise': 1.0093731805682182, 'neutral': 57.977139949798584}, 'dominant_emotion': 'neutral', 'region': {'x': 655, 'y': 135, 'w': 375, 'h': 375}}\n"
     ]
    },
    {
     "name": "stderr",
     "output_type": "stream",
     "text": [
      "Action: emotion: 100%|██████████| 1/1 [00:00<00:00, 34.80it/s]\n"
     ]
    },
    {
     "name": "stdout",
     "output_type": "stream",
     "text": [
      "{'emotion': {'angry': 0.07529724256044582, 'disgust': 9.259797463391884e-05, 'fear': 0.7692779872881167, 'happy': 96.06828070093874, 'sad': 0.00468118515235451, 'surprise': 0.03975834643424877, 'neutral': 3.042616690255206}, 'dominant_emotion': 'happy', 'region': {'x': 620, 'y': 137, 'w': 384, 'h': 384}}\n"
     ]
    },
    {
     "name": "stderr",
     "output_type": "stream",
     "text": [
      "Action: emotion: 100%|██████████| 1/1 [00:00<00:00, 31.98it/s]\n"
     ]
    },
    {
     "name": "stdout",
     "output_type": "stream",
     "text": [
      "{'emotion': {'angry': 0.2497074194252491, 'disgust': 0.0001052228185471904, 'fear': 0.41878088377416134, 'happy': 97.2505509853363, 'sad': 0.007687657489441335, 'surprise': 0.11073880596086383, 'neutral': 1.9624313339591026}, 'dominant_emotion': 'happy', 'region': {'x': 607, 'y': 141, 'w': 374, 'h': 374}}\n"
     ]
    },
    {
     "name": "stderr",
     "output_type": "stream",
     "text": [
      "Action: emotion: 100%|██████████| 1/1 [00:00<00:00, 27.82it/s]\n"
     ]
    },
    {
     "name": "stdout",
     "output_type": "stream",
     "text": [
      "{'emotion': {'angry': 0.4069559518668623, 'disgust': 6.407259816029345e-05, 'fear': 0.9525714078588132, 'happy': 1.4847203111481853, 'sad': 2.408813456226197, 'surprise': 0.11445658265167967, 'neutral': 94.63241664364438}, 'dominant_emotion': 'neutral', 'region': {'x': 603, 'y': 138, 'w': 380, 'h': 380}}\n"
     ]
    },
    {
     "name": "stderr",
     "output_type": "stream",
     "text": [
      "Action: emotion: 100%|██████████| 1/1 [00:00<00:00, 35.23it/s]\n"
     ]
    },
    {
     "name": "stdout",
     "output_type": "stream",
     "text": [
      "{'emotion': {'angry': 0.00014611459846491925, 'disgust': 5.8073185149609685e-08, 'fear': 0.4508604761213064, 'happy': 2.2971954196691513, 'sad': 0.0027183556085219607, 'surprise': 0.061297748470678926, 'neutral': 97.18778133392334}, 'dominant_emotion': 'neutral', 'region': {'x': 608, 'y': 140, 'w': 373, 'h': 373}}\n"
     ]
    },
    {
     "name": "stderr",
     "output_type": "stream",
     "text": [
      "Action: emotion: 100%|██████████| 1/1 [00:00<00:00, 34.24it/s]\n"
     ]
    },
    {
     "name": "stdout",
     "output_type": "stream",
     "text": [
      "{'emotion': {'angry': 0.025579387216903997, 'disgust': 0.00017414771392663587, 'fear': 14.673724155051955, 'happy': 0.022858017380734078, 'sad': 4.496426775838541, 'surprise': 0.0012040050741285782, 'neutral': 80.78003411174024}, 'dominant_emotion': 'neutral', 'region': {'x': 0, 'y': 0, 'w': 1920, 'h': 1080}}\n"
     ]
    },
    {
     "name": "stderr",
     "output_type": "stream",
     "text": [
      "Action: emotion: 100%|██████████| 1/1 [00:00<00:00, 34.20it/s]\n"
     ]
    },
    {
     "name": "stdout",
     "output_type": "stream",
     "text": [
      "{'emotion': {'angry': 0.1507686683908105, 'disgust': 3.789031310930113e-07, 'fear': 97.74497747421265, 'happy': 0.04764152399729937, 'sad': 0.00878747523529455, 'surprise': 0.29206452891230583, 'neutral': 1.7557613551616669}, 'dominant_emotion': 'fear', 'region': {'x': 0, 'y': 0, 'w': 1920, 'h': 1080}}\n"
     ]
    },
    {
     "name": "stderr",
     "output_type": "stream",
     "text": [
      "Action: emotion: 100%|██████████| 1/1 [00:00<00:00, 33.60it/s]\n"
     ]
    },
    {
     "name": "stdout",
     "output_type": "stream",
     "text": [
      "{'emotion': {'angry': 8.187084210065905e-06, 'disgust': 2.782490353272338e-12, 'fear': 9.210629565157268, 'happy': 0.5187147140481898, 'sad': 0.013960644096118606, 'surprise': 0.3419265587658619, 'neutral': 89.91476237265839}, 'dominant_emotion': 'neutral', 'region': {'x': 636, 'y': 135, 'w': 406, 'h': 406}}\n"
     ]
    },
    {
     "name": "stderr",
     "output_type": "stream",
     "text": [
      "Action: emotion: 100%|██████████| 1/1 [00:00<00:00, 37.39it/s]\n"
     ]
    },
    {
     "name": "stdout",
     "output_type": "stream",
     "text": [
      "{'emotion': {'angry': 1.4157785699353553e-05, 'disgust': 9.362060687237092e-12, 'fear': 4.673120751976967, 'happy': 0.9635202586650848, 'sad': 7.750257324801169e-07, 'surprise': 94.29649710655212, 'neutral': 0.06684936233796179}, 'dominant_emotion': 'surprise', 'region': {'x': 654, 'y': 137, 'w': 404, 'h': 404}}\n"
     ]
    },
    {
     "name": "stderr",
     "output_type": "stream",
     "text": [
      "Action: emotion: 100%|██████████| 1/1 [00:00<00:00, 36.16it/s]\n"
     ]
    },
    {
     "name": "stdout",
     "output_type": "stream",
     "text": [
      "{'emotion': {'angry': 5.180946338612102e-07, 'disgust': 2.557576512499018e-12, 'fear': 87.1127724647522, 'happy': 3.4299674211979436e-06, 'sad': 1.640895135324172e-05, 'surprise': 0.5467142909765244, 'neutral': 12.340495735406876}, 'dominant_emotion': 'fear', 'region': {'x': 0, 'y': 0, 'w': 1920, 'h': 1080}}\n"
     ]
    },
    {
     "name": "stderr",
     "output_type": "stream",
     "text": [
      "Action: emotion: 100%|██████████| 1/1 [00:00<00:00, 36.18it/s]\n"
     ]
    },
    {
     "name": "stdout",
     "output_type": "stream",
     "text": [
      "{'emotion': {'angry': 0.0005751304797740886, 'disgust': 1.1958681440937813e-09, 'fear': 38.92432749271393, 'happy': 1.7522530981750606e-06, 'sad': 0.04602698318194598, 'surprise': 2.9093092307448387, 'neutral': 58.11976194381714}, 'dominant_emotion': 'neutral', 'region': {'x': 0, 'y': 0, 'w': 1920, 'h': 1080}}\n"
     ]
    },
    {
     "name": "stderr",
     "output_type": "stream",
     "text": [
      "Action: emotion: 100%|██████████| 1/1 [00:00<00:00, 34.60it/s]\n"
     ]
    },
    {
     "name": "stdout",
     "output_type": "stream",
     "text": [
      "{'emotion': {'angry': 4.255861416459084, 'disgust': 1.7840957600157026e-07, 'fear': 93.23582649230957, 'happy': 1.3666019427205356e-07, 'sad': 1.6742825508117676, 'surprise': 0.0012543647244456224, 'neutral': 0.8327769115567207}, 'dominant_emotion': 'fear', 'region': {'x': 0, 'y': 0, 'w': 1920, 'h': 1080}}\n"
     ]
    },
    {
     "name": "stderr",
     "output_type": "stream",
     "text": [
      "Action: emotion: 100%|██████████| 1/1 [00:00<00:00, 34.82it/s]\n"
     ]
    },
    {
     "name": "stdout",
     "output_type": "stream",
     "text": [
      "{'emotion': {'angry': 13.910259306430817, 'disgust': 0.006498103903140873, 'fear': 69.4245457649231, 'happy': 3.146148230825929e-05, 'sad': 12.82055526971817, 'surprise': 0.02147397754015401, 'neutral': 3.816637769341469}, 'dominant_emotion': 'fear', 'region': {'x': 0, 'y': 0, 'w': 1920, 'h': 1080}}\n"
     ]
    },
    {
     "name": "stderr",
     "output_type": "stream",
     "text": [
      "Action: emotion: 100%|██████████| 1/1 [00:00<00:00, 30.08it/s]\n"
     ]
    },
    {
     "name": "stdout",
     "output_type": "stream",
     "text": [
      "{'emotion': {'angry': 0.0007684839147259481, 'disgust': 7.246695759022259e-05, 'fear': 29.012414813041687, 'happy': 0.00016171853758351062, 'sad': 0.13193407794460654, 'surprise': 54.14336919784546, 'neutral': 16.71128422021866}, 'dominant_emotion': 'surprise', 'region': {'x': 0, 'y': 0, 'w': 1920, 'h': 1080}}\n"
     ]
    },
    {
     "name": "stderr",
     "output_type": "stream",
     "text": [
      "Action: emotion: 100%|██████████| 1/1 [00:00<00:00, 35.22it/s]\n"
     ]
    },
    {
     "name": "stdout",
     "output_type": "stream",
     "text": [
      "{'emotion': {'angry': 5.231118605890141e-06, 'disgust': 1.1284507335043574e-07, 'fear': 5.513806224692239, 'happy': 0.1885606670453052, 'sad': 0.0026287658077115304, 'surprise': 6.2641467907516235, 'neutral': 88.03085017388166}, 'dominant_emotion': 'neutral', 'region': {'x': 0, 'y': 0, 'w': 1920, 'h': 1080}}\n"
     ]
    },
    {
     "name": "stderr",
     "output_type": "stream",
     "text": [
      "Action: emotion: 100%|██████████| 1/1 [00:00<00:00, 32.19it/s]\n"
     ]
    },
    {
     "name": "stdout",
     "output_type": "stream",
     "text": [
      "{'emotion': {'angry': 3.610429826200051e-11, 'disgust': 9.047334271913043e-16, 'fear': 0.09426917531527579, 'happy': 0.11050247121602297, 'sad': 9.18523757054146e-08, 'surprise': 0.09395365486852825, 'neutral': 99.7012734413147}, 'dominant_emotion': 'neutral', 'region': {'x': 0, 'y': 0, 'w': 1920, 'h': 1080}}\n"
     ]
    },
    {
     "name": "stderr",
     "output_type": "stream",
     "text": [
      "Action: emotion: 100%|██████████| 1/1 [00:00<00:00, 34.69it/s]\n"
     ]
    },
    {
     "name": "stdout",
     "output_type": "stream",
     "text": [
      "{'emotion': {'angry': 9.136660343549254e-13, 'disgust': 6.774555902332093e-19, 'fear': 0.4411120230622305, 'happy': 0.005486236804741579, 'sad': 2.5560588156918338e-09, 'surprise': 0.10430854202783359, 'neutral': 99.44909211689783}, 'dominant_emotion': 'neutral', 'region': {'x': 0, 'y': 0, 'w': 1920, 'h': 1080}}\n"
     ]
    },
    {
     "name": "stderr",
     "output_type": "stream",
     "text": [
      "Action: emotion: 100%|██████████| 1/1 [00:00<00:00, 33.87it/s]\n"
     ]
    },
    {
     "name": "stdout",
     "output_type": "stream",
     "text": [
      "{'emotion': {'angry': 3.755090856316645e-12, 'disgust': 1.7803706884481158e-17, 'fear': 28.85727882385254, 'happy': 0.477867154404521, 'sad': 8.309308796583537e-08, 'surprise': 3.391938656568527, 'neutral': 67.27291941642761}, 'dominant_emotion': 'neutral', 'region': {'x': 0, 'y': 0, 'w': 1920, 'h': 1080}}\n"
     ]
    },
    {
     "name": "stderr",
     "output_type": "stream",
     "text": [
      "Action: emotion: 100%|██████████| 1/1 [00:00<00:00, 28.88it/s]\n"
     ]
    },
    {
     "name": "stdout",
     "output_type": "stream",
     "text": [
      "{'emotion': {'angry': 3.570896911497812e-08, 'disgust': 1.0294660564009843e-12, 'fear': 50.75833201408386, 'happy': 3.678840565513042e-09, 'sad': 6.839009358827752e-06, 'surprise': 49.23352897167206, 'neutral': 0.008130743663059548}, 'dominant_emotion': 'fear', 'region': {'x': 0, 'y': 0, 'w': 1920, 'h': 1080}}\n"
     ]
    },
    {
     "name": "stderr",
     "output_type": "stream",
     "text": [
      "Action: emotion: 100%|██████████| 1/1 [00:00<00:00, 34.47it/s]\n"
     ]
    },
    {
     "name": "stdout",
     "output_type": "stream",
     "text": [
      "{'emotion': {'angry': 2.527262488172255e-06, 'disgust': 7.56956942873227e-11, 'fear': 91.26694798469543, 'happy': 3.5746321458418606e-06, 'sad': 0.0007473777714039898, 'surprise': 8.504998683929443, 'neutral': 0.22730391938239336}, 'dominant_emotion': 'fear', 'region': {'x': 0, 'y': 0, 'w': 1920, 'h': 1080}}\n"
     ]
    },
    {
     "name": "stderr",
     "output_type": "stream",
     "text": [
      "Action: emotion: 100%|██████████| 1/1 [00:00<00:00, 36.80it/s]\n"
     ]
    },
    {
     "name": "stdout",
     "output_type": "stream",
     "text": [
      "{'emotion': {'angry': 4.9547639946467825e-05, 'disgust': 7.701431926541123e-13, 'fear': 94.32604908943176, 'happy': 2.7244000833093196e-06, 'sad': 0.03880982403643429, 'surprise': 0.03143586800433695, 'neutral': 5.603659152984619}, 'dominant_emotion': 'fear', 'region': {'x': 0, 'y': 0, 'w': 1920, 'h': 1080}}\n"
     ]
    },
    {
     "name": "stderr",
     "output_type": "stream",
     "text": [
      "Action: emotion: 100%|██████████| 1/1 [00:00<00:00, 36.80it/s]\n"
     ]
    },
    {
     "name": "stdout",
     "output_type": "stream",
     "text": [
      "{'emotion': {'angry': 1.7302403065855287e-06, 'disgust': 1.6373115106690104e-14, 'fear': 98.48108291625977, 'happy': 3.412372961975052e-06, 'sad': 0.001722596789477393, 'surprise': 0.48012686893343925, 'neutral': 1.037064753472805}, 'dominant_emotion': 'fear', 'region': {'x': 0, 'y': 0, 'w': 1920, 'h': 1080}}\n"
     ]
    },
    {
     "name": "stderr",
     "output_type": "stream",
     "text": [
      "Action: emotion: 100%|██████████| 1/1 [00:00<00:00, 34.68it/s]\n"
     ]
    },
    {
     "name": "stdout",
     "output_type": "stream",
     "text": [
      "{'emotion': {'angry': 8.500302124799237e-06, 'disgust': 1.5362577128934707e-13, 'fear': 97.0840631177463, 'happy': 1.3558277087604663e-06, 'sad': 0.00021447925888070377, 'surprise': 2.2591817607987976, 'neutral': 0.6565353293141919}, 'dominant_emotion': 'fear', 'region': {'x': 0, 'y': 0, 'w': 1920, 'h': 1080}}\n"
     ]
    },
    {
     "name": "stderr",
     "output_type": "stream",
     "text": [
      "Action: emotion: 100%|██████████| 1/1 [00:00<00:00, 35.90it/s]\n"
     ]
    },
    {
     "name": "stdout",
     "output_type": "stream",
     "text": [
      "{'emotion': {'angry': 3.897549584507942, 'disgust': 2.87095260759207e-10, 'fear': 0.3835337469354272, 'happy': 1.2312861485952453e-05, 'sad': 0.02774721069727093, 'surprise': 0.030986772617325187, 'neutral': 95.66017389297485}, 'dominant_emotion': 'neutral', 'region': {'x': 0, 'y': 0, 'w': 1920, 'h': 1080}}\n"
     ]
    },
    {
     "name": "stderr",
     "output_type": "stream",
     "text": [
      "Action: emotion: 100%|██████████| 1/1 [00:00<00:00, 32.78it/s]\n"
     ]
    },
    {
     "name": "stdout",
     "output_type": "stream",
     "text": [
      "{'emotion': {'angry': 0.08282530876029238, 'disgust': 6.228988623605059e-08, 'fear': 93.9061157591481, 'happy': 0.0002765062265482121, 'sad': 5.750619933083049, 'surprise': 0.0002742157775555919, 'neutral': 0.25989097381573606}, 'dominant_emotion': 'fear', 'region': {'x': 0, 'y': 0, 'w': 1920, 'h': 1080}}\n"
     ]
    },
    {
     "name": "stderr",
     "output_type": "stream",
     "text": [
      "Action: emotion: 100%|██████████| 1/1 [00:00<00:00, 33.71it/s]\n"
     ]
    },
    {
     "name": "stdout",
     "output_type": "stream",
     "text": [
      "{'emotion': {'angry': 25.169041752815247, 'disgust': 0.00477632311230991, 'fear': 13.207817077636719, 'happy': 57.18080997467041, 'sad': 1.0597062297165394, 'surprise': 0.7724188733845949, 'neutral': 2.6054292917251587}, 'dominant_emotion': 'happy', 'region': {'x': 819, 'y': 117, 'w': 457, 'h': 457}}\n"
     ]
    }
   ],
   "source": [
    "vid = cv2.VideoCapture(0)\n",
    "\n",
    "# Marca de inicio\n",
    "disponible = 0\n",
    "while (True):\n",
    "    # fotograma a fotograma\n",
    "    ret, frame = vid.read()\n",
    "\n",
    "    if ret:\n",
    "        obj = DeepFace.analyze(frame,\n",
    "                         enforce_detection=False, actions=['emotion'])\n",
    "\n",
    "        obj = obj[0]\n",
    "\n",
    "        print(obj)\n",
    "        region = obj[\"region\"]\n",
    "        top_left = (region[\"x\"], region[\"y\"])\n",
    "        bottom_right = (region[\"x\"] + region[\"w\"], region[\"y\"] + region[\"h\"])\n",
    "\n",
    "        cv2.rectangle(frame, top_left, bottom_right, (0, 255, 0), 2)\n",
    "\n",
    "        #cv2.putText(frame, \"Gender: \" + str(obj[\"gender\"]), (10, 100), cv2.FONT_HERSHEY_SIMPLEX, 1, (0, 0, 255), 2)\n",
    "        cv2.putText(frame, \"Emotion: \" + str(obj[\"emotion\"]), (10, 250), cv2.FONT_HERSHEY_SIMPLEX, 1, (0, 0, 255), 2)\n",
    "        cv2.putText(frame, \"Dominant Emotion: \" + str(obj[\"dominant_emotion\"]), (10, 300), cv2.FONT_HERSHEY_SIMPLEX, 1, (0, 0, 255), 2)\n",
    "\n",
    "        if obj[\"dominant_emotion\"] == \"happy\":\n",
    "            cv2.putText(frame, \"😀\", (10, 350)\n",
    "                       , cv2.FONT_HERSHEY_SIMPLEX, 1, (0, 0, 255), 2)\n",
    "        elif obj[\"dominant_emotion\"] == \"sad\":\n",
    "            cv2.putText(frame, \"😢\", (10, 350)\n",
    "                          , cv2.FONT_HERSHEY_SIMPLEX, 1, (0, 0, 255), 2)\n",
    "        elif obj[\"dominant_emotion\"] == \"angry\":\n",
    "            cv2.putText(frame, \"😡\", (10, 350)\n",
    "                          , cv2.FONT_HERSHEY_SIMPLEX, 1, (0, 0, 255), 2)\n",
    "        elif obj[\"dominant_emotion\"] == \"neutral\":\n",
    "            cv2.putText(frame, \"😐\", (10, 350)\n",
    "                          , cv2.FONT_HERSHEY_SIMPLEX, 1, (0, 0, 255), 2)\n",
    "        elif obj[\"dominant_emotion\"] == \"surprise\": \n",
    "            cv2.putText(frame, \"😮\", (10, 350)\n",
    "                          , cv2.FONT_HERSHEY_SIMPLEX, 1, (0, 0, 255), 2)\n",
    "        elif obj[\"dominant_emotion\"] == \"fear\":\n",
    "            cv2.putText(frame, \"😨\", (10, 350)\n",
    "                            , cv2.FONT_HERSHEY_SIMPLEX, 1, (0, 0, 255), 2)\n",
    "        elif obj[\"dominant_emotion\"] == \"disgust\":\n",
    "            cv2.putText(frame, \"🤢\", (10, 350)\n",
    "                            , cv2.FONT_HERSHEY_SIMPLEX, 1, (0, 0, 255), 2)\n",
    "\n",
    "        cv2.imshow(\"Emociones\", frame)\n",
    "\n",
    "    # Detenemos pulsado ESC\n",
    "    if cv2.waitKey(20) == 27:\n",
    "        break\n",
    "\n",
    "# Libera el objeto de captura\n",
    "vid.release()\n",
    "# Destruye ventanas\n",
    "cv2.destroyAllWindows()"
   ]
  }
 ],
 "metadata": {
  "kernelspec": {
   "display_name": "VC_P6",
   "language": "python",
   "name": "python3"
  },
  "language_info": {
   "codemirror_mode": {
    "name": "ipython",
    "version": 3
   },
   "file_extension": ".py",
   "mimetype": "text/x-python",
   "name": "python",
   "nbconvert_exporter": "python",
   "pygments_lexer": "ipython3",
   "version": "3.11.5"
  }
 },
 "nbformat": 4,
 "nbformat_minor": 2
}
