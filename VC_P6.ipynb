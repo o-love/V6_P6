{
 "cells": [
  {
   "cell_type": "code",
   "execution_count": 8,
   "metadata": {},
   "outputs": [],
   "source": [
    "import cv2\n",
    "from deepface import DeepFace\n",
    "from PIL import Image, ImageFont, ImageDraw\n",
    "import numpy as np"
   ]
  },
  {
   "cell_type": "code",
   "execution_count": null,
   "metadata": {},
   "outputs": [],
   "source": [
    "font = ImageFont.truetype(\"NotoColorEmoji-Regular.ttf\", 100)"
   ]
  },
  {
   "cell_type": "code",
   "execution_count": 20,
   "metadata": {},
   "outputs": [],
   "source": [
    "def addEmojiOverUsersFace(frame, deepFaceObject):\n",
    "    obj = deepFaceObject\n",
    "\n",
    "    print(obj)\n",
    "    region = obj[\"region\"]\n",
    "    top_left = (region[\"x\"], region[\"y\"])\n",
    "    bottom_right = (region[\"x\"] + region[\"w\"], region[\"y\"] + region[\"h\"])\n",
    "    mid_point = tuple(np.array([top_left, bottom_right]).mean(axis=0))\n",
    "\n",
    "    cv2.rectangle(frame, top_left, bottom_right, (0, 255, 0), 2)\n",
    "\n",
    "    emotion = obj[\"dominant_emotion\"]\n",
    "    if emotion == \"happy\":\n",
    "        emoji = \"😀\"\n",
    "    elif emotion == \"sad\":\n",
    "        emoji = \"😢\"\n",
    "    elif emotion == \"angry\":\n",
    "        emoji = \"😡\"\n",
    "    elif emotion == \"neutral\":\n",
    "        emoji = \"😐\"\n",
    "    elif emotion == \"surprise\":\n",
    "        emoji = \"😮\"\n",
    "    elif emotion == \"fear\":\n",
    "        emoji = \"😨\"\n",
    "    elif emotion == \"disgust\":\n",
    "        emoji = \"🤢\"\n",
    "    else:\n",
    "        emoji = \"\"\n",
    "\n",
    "    print(emoji)\n",
    "\n",
    "    font = ImageFont.truetype(\"NotoColorEmoji-Regular.ttf\", min(region[\"w\"], region[\"h\"]))\n",
    "\n",
    "    frame_rgb = cv2.cvtColor(frame, cv2.COLOR_BGR2RGB)\n",
    "    pil_image = Image.fromarray(frame_rgb)\n",
    "    draw = ImageDraw.Draw(pil_image)\n",
    "    draw.text(mid_point, emoji, font=font, fill=(255, 255, 255))\n",
    "\n",
    "    new_frame = cv2.cvtColor(np.array(pil_image), cv2.COLOR_RGB2BGR)\n",
    "    cv2.imshow(\"frame\", new_frame)\n",
    "\n",
    "    return new_frame\n",
    "    "
   ]
  },
  {
   "cell_type": "code",
   "execution_count": 21,
   "metadata": {},
   "outputs": [
    {
     "name": "stderr",
     "output_type": "stream",
     "text": [
      "Action: emotion: 100%|██████████| 1/1 [00:00<00:00,  3.88it/s]\n"
     ]
    },
    {
     "name": "stdout",
     "output_type": "stream",
     "text": [
      "{'emotion': {'angry': 81.55336599905897, 'disgust': 0.001864180154059958, 'fear': 0.06494021898848187, 'happy': 2.1491998107195127, 'sad': 3.1513418970892553, 'surprise': 2.9778288852776424, 'neutral': 10.101451265638916}, 'dominant_emotion': 'angry', 'region': {'x': 0, 'y': 0, 'w': 1920, 'h': 1080}}\n",
      "😡\n"
     ]
    },
    {
     "name": "stderr",
     "output_type": "stream",
     "text": [
      "Action: emotion: 100%|██████████| 1/1 [00:00<00:00, 27.24it/s]\n"
     ]
    },
    {
     "name": "stdout",
     "output_type": "stream",
     "text": [
      "{'emotion': {'angry': 8.342245385423944e-13, 'disgust': 3.1581632034718074e-31, 'fear': 73.04515242576599, 'happy': 6.343952361315911e-13, 'sad': 3.859909156744834e-05, 'surprise': 0.0013073486115899868, 'neutral': 26.953503489494324}, 'dominant_emotion': 'fear', 'region': {'x': 0, 'y': 0, 'w': 1920, 'h': 1080}}\n",
      "😨\n"
     ]
    },
    {
     "name": "stderr",
     "output_type": "stream",
     "text": [
      "Action: emotion: 100%|██████████| 1/1 [00:00<00:00, 32.59it/s]\n"
     ]
    },
    {
     "name": "stdout",
     "output_type": "stream",
     "text": [
      "{'emotion': {'angry': 1.2089959474794333e-12, 'disgust': 6.011955645683696e-31, 'fear': 63.91259216741277, 'happy': 1.0791454501124775e-12, 'sad': 5.215303273680652e-05, 'surprise': 0.0025596565753855005, 'neutral': 36.08479714899046}, 'dominant_emotion': 'fear', 'region': {'x': 0, 'y': 0, 'w': 1920, 'h': 1080}}\n",
      "😨\n"
     ]
    },
    {
     "name": "stderr",
     "output_type": "stream",
     "text": [
      "Action: emotion: 100%|██████████| 1/1 [00:00<00:00, 32.19it/s]\n"
     ]
    },
    {
     "name": "stdout",
     "output_type": "stream",
     "text": [
      "{'emotion': {'angry': 3.513509795605163e-10, 'disgust': 5.193024057489786e-26, 'fear': 45.843467116355896, 'happy': 2.3291538511251153e-11, 'sad': 0.0017284739442402497, 'surprise': 0.00581275780859869, 'neutral': 54.148995876312256}, 'dominant_emotion': 'neutral', 'region': {'x': 0, 'y': 0, 'w': 1920, 'h': 1080}}\n",
      "😐\n"
     ]
    },
    {
     "name": "stderr",
     "output_type": "stream",
     "text": [
      "Action: emotion: 100%|██████████| 1/1 [00:00<00:00, 31.34it/s]\n"
     ]
    },
    {
     "name": "stdout",
     "output_type": "stream",
     "text": [
      "{'emotion': {'angry': 3.6179520208727556e-11, 'disgust': 3.0540266768327024e-23, 'fear': 57.329267263412476, 'happy': 7.867991674848085e-09, 'sad': 1.144718950740753e-05, 'surprise': 18.979233503341675, 'neutral': 23.691484332084656}, 'dominant_emotion': 'fear', 'region': {'x': 0, 'y': 0, 'w': 1920, 'h': 1080}}\n",
      "😨\n"
     ]
    },
    {
     "name": "stderr",
     "output_type": "stream",
     "text": [
      "Action: emotion: 100%|██████████| 1/1 [00:00<00:00, 29.12it/s]\n"
     ]
    },
    {
     "name": "stdout",
     "output_type": "stream",
     "text": [
      "{'emotion': {'angry': 1.647638595654241e-11, 'disgust': 2.87213186886394e-23, 'fear': 16.781887412071228, 'happy': 3.897458744628324e-10, 'sad': 2.60208743441126e-06, 'surprise': 83.11746120452881, 'neutral': 0.10065166279673576}, 'dominant_emotion': 'surprise', 'region': {'x': 0, 'y': 0, 'w': 1920, 'h': 1080}}\n",
      "😮\n"
     ]
    },
    {
     "name": "stderr",
     "output_type": "stream",
     "text": [
      "Action: emotion: 100%|██████████| 1/1 [00:00<00:00, 28.21it/s]\n"
     ]
    },
    {
     "name": "stdout",
     "output_type": "stream",
     "text": [
      "{'emotion': {'angry': 4.110745164404017e-10, 'disgust': 2.5744357312751937e-22, 'fear': 99.56474900245667, 'happy': 4.995947232300235e-10, 'sad': 0.002776952533167787, 'surprise': 0.05662404000759125, 'neutral': 0.37585017271339893}, 'dominant_emotion': 'fear', 'region': {'x': 0, 'y': 0, 'w': 1920, 'h': 1080}}\n",
      "😨\n"
     ]
    },
    {
     "name": "stderr",
     "output_type": "stream",
     "text": [
      "Action: emotion: 100%|██████████| 1/1 [00:00<00:00, 34.07it/s]\n"
     ]
    },
    {
     "name": "stdout",
     "output_type": "stream",
     "text": [
      "{'emotion': {'angry': 5.681518623623649e-10, 'disgust': 3.2555112578000567e-21, 'fear': 75.75267553329468, 'happy': 3.1551941614971213e-09, 'sad': 0.00016095383443825995, 'surprise': 23.329828679561615, 'neutral': 0.9173375554382801}, 'dominant_emotion': 'fear', 'region': {'x': 0, 'y': 0, 'w': 1920, 'h': 1080}}\n",
      "😨\n"
     ]
    },
    {
     "name": "stderr",
     "output_type": "stream",
     "text": [
      "Action: emotion: 100%|██████████| 1/1 [00:00<00:00, 33.47it/s]\n"
     ]
    },
    {
     "name": "stdout",
     "output_type": "stream",
     "text": [
      "{'emotion': {'angry': 4.3821122955454845e-09, 'disgust': 2.174997719278311e-22, 'fear': 96.52016738177343, 'happy': 2.5300301557451105e-10, 'sad': 0.062082158609533825, 'surprise': 0.0013733287141826356, 'neutral': 3.416378627203621}, 'dominant_emotion': 'fear', 'region': {'x': 0, 'y': 0, 'w': 1920, 'h': 1080}}\n",
      "😨\n"
     ]
    },
    {
     "name": "stderr",
     "output_type": "stream",
     "text": [
      "Action: emotion: 100%|██████████| 1/1 [00:00<00:00, 31.81it/s]\n"
     ]
    },
    {
     "name": "stdout",
     "output_type": "stream",
     "text": [
      "{'emotion': {'angry': 7.202607399392491e-08, 'disgust': 3.634351925657223e-21, 'fear': 94.54157948493958, 'happy': 1.1177755769586906e-09, 'sad': 0.16668332973495126, 'surprise': 0.00026278230507159606, 'neutral': 5.291472747921944}, 'dominant_emotion': 'fear', 'region': {'x': 0, 'y': 0, 'w': 1920, 'h': 1080}}\n",
      "😨\n"
     ]
    },
    {
     "name": "stderr",
     "output_type": "stream",
     "text": [
      "Action: emotion: 100%|██████████| 1/1 [00:00<00:00, 27.73it/s]\n"
     ]
    },
    {
     "name": "stdout",
     "output_type": "stream",
     "text": [
      "{'emotion': {'angry': 1.6467534891262403e-06, 'disgust': 3.095036414051018e-19, 'fear': 95.68493366241455, 'happy': 6.222625192897624e-09, 'sad': 0.5026503000408411, 'surprise': 6.099523943703389e-05, 'neutral': 3.8123544305562973}, 'dominant_emotion': 'fear', 'region': {'x': 0, 'y': 0, 'w': 1920, 'h': 1080}}\n",
      "😨\n"
     ]
    },
    {
     "name": "stderr",
     "output_type": "stream",
     "text": [
      "Action: emotion: 100%|██████████| 1/1 [00:00<00:00, 30.02it/s]\n"
     ]
    },
    {
     "name": "stdout",
     "output_type": "stream",
     "text": [
      "{'emotion': {'angry': 2.246480244922933e-06, 'disgust': 3.1233912115007204e-19, 'fear': 93.44688136018736, 'happy': 3.296591425984364e-09, 'sad': 1.2269368795231725, 'surprise': 1.0219867111083275e-05, 'neutral': 5.3261642514271434}, 'dominant_emotion': 'fear', 'region': {'x': 0, 'y': 0, 'w': 1920, 'h': 1080}}\n",
      "😨\n"
     ]
    },
    {
     "name": "stderr",
     "output_type": "stream",
     "text": [
      "Action: emotion: 100%|██████████| 1/1 [00:00<00:00, 29.62it/s]\n"
     ]
    },
    {
     "name": "stdout",
     "output_type": "stream",
     "text": [
      "{'emotion': {'angry': 2.661185050101267e-06, 'disgust': 1.0798583595144787e-18, 'fear': 90.37182331085205, 'happy': 5.726543544914975e-09, 'sad': 1.977492868900299, 'surprise': 1.1012825495981815e-05, 'neutral': 7.6506756246089935}, 'dominant_emotion': 'fear', 'region': {'x': 0, 'y': 0, 'w': 1920, 'h': 1080}}\n",
      "😨\n"
     ]
    },
    {
     "name": "stderr",
     "output_type": "stream",
     "text": [
      "Action: emotion: 100%|██████████| 1/1 [00:00<00:00, 31.46it/s]\n"
     ]
    },
    {
     "name": "stdout",
     "output_type": "stream",
     "text": [
      "{'emotion': {'angry': 29.84561026096344, 'disgust': 2.4360621484441347e-11, 'fear': 0.638132356107235, 'happy': 0.19417378352954984, 'sad': 16.8362095952034, 'surprise': 0.00016515144807272009, 'neutral': 52.48570442199707}, 'dominant_emotion': 'neutral', 'region': {'x': 428, 'y': 761, 'w': 129, 'h': 129}}\n",
      "😐\n"
     ]
    },
    {
     "name": "stderr",
     "output_type": "stream",
     "text": [
      "Action: emotion: 100%|██████████| 1/1 [00:00<00:00, 20.49it/s]\n"
     ]
    },
    {
     "name": "stdout",
     "output_type": "stream",
     "text": [
      "{'emotion': {'angry': 6.909446582601496e-06, 'disgust': 8.79370178150536e-17, 'fear': 30.342524072082284, 'happy': 1.1527539610511973e-07, 'sad': 17.163885662787298, 'surprise': 0.0007356407861252178, 'neutral': 52.49284818725873}, 'dominant_emotion': 'neutral', 'region': {'x': 0, 'y': 0, 'w': 1920, 'h': 1080}}\n",
      "😐\n"
     ]
    },
    {
     "name": "stderr",
     "output_type": "stream",
     "text": [
      "Action: emotion: 100%|██████████| 1/1 [00:00<00:00, 29.25it/s]\n"
     ]
    },
    {
     "name": "stdout",
     "output_type": "stream",
     "text": [
      "{'emotion': {'angry': 7.4022745209103285e-06, 'disgust': 2.3849305283460605e-16, 'fear': 33.58211321617522, 'happy': 1.944406201358524e-07, 'sad': 10.060345090668807, 'surprise': 0.007164791294693281, 'neutral': 56.35037497882545}, 'dominant_emotion': 'neutral', 'region': {'x': 0, 'y': 0, 'w': 1920, 'h': 1080}}\n",
      "😐\n"
     ]
    },
    {
     "name": "stderr",
     "output_type": "stream",
     "text": [
      "Action: emotion: 100%|██████████| 1/1 [00:00<00:00, 32.36it/s]\n"
     ]
    },
    {
     "name": "stdout",
     "output_type": "stream",
     "text": [
      "{'emotion': {'angry': 0.2679302503400743, 'disgust': 5.936904446423851e-05, 'fear': 36.34709580575278, 'happy': 9.342382479622069, 'sad': 27.62572734049233, 'surprise': 3.6510612188504674, 'neutral': 22.765738038332696}, 'dominant_emotion': 'fear', 'region': {'x': 823, 'y': 337, 'w': 347, 'h': 347}}\n",
      "😨\n"
     ]
    },
    {
     "name": "stderr",
     "output_type": "stream",
     "text": [
      "Action: emotion: 100%|██████████| 1/1 [00:00<00:00, 31.45it/s]\n"
     ]
    },
    {
     "name": "stdout",
     "output_type": "stream",
     "text": [
      "{'emotion': {'angry': 1.805702538604237e-05, 'disgust': 1.2032296576010674e-15, 'fear': 5.462182313203812, 'happy': 3.1682632073426475e-07, 'sad': 5.447079986333847, 'surprise': 0.002067091736535076, 'neutral': 89.08865451812744}, 'dominant_emotion': 'neutral', 'region': {'x': 0, 'y': 0, 'w': 1920, 'h': 1080}}\n",
      "😐\n"
     ]
    },
    {
     "name": "stderr",
     "output_type": "stream",
     "text": [
      "Action: emotion: 100%|██████████| 1/1 [00:00<00:00, 28.39it/s]\n"
     ]
    },
    {
     "name": "stdout",
     "output_type": "stream",
     "text": [
      "{'emotion': {'angry': 1.296790592265523e-05, 'disgust': 8.612663781080381e-16, 'fear': 3.2614881254129484, 'happy': 3.9242456070024763e-07, 'sad': 1.8445468675820154, 'surprise': 0.008800079901195237, 'neutral': 94.8851522734852}, 'dominant_emotion': 'neutral', 'region': {'x': 0, 'y': 0, 'w': 1920, 'h': 1080}}\n",
      "😐\n"
     ]
    },
    {
     "name": "stderr",
     "output_type": "stream",
     "text": [
      "Action: emotion: 100%|██████████| 1/1 [00:00<00:00, 31.78it/s]\n"
     ]
    },
    {
     "name": "stdout",
     "output_type": "stream",
     "text": [
      "{'emotion': {'angry': 2.655661093891836e-06, 'disgust': 9.21411531891827e-18, 'fear': 1.2359847120037504, 'happy': 1.0223006384583706e-07, 'sad': 0.250821435872998, 'surprise': 0.007409012037494006, 'neutral': 98.50578299199242}, 'dominant_emotion': 'neutral', 'region': {'x': 0, 'y': 0, 'w': 1920, 'h': 1080}}\n",
      "😐\n"
     ]
    },
    {
     "name": "stderr",
     "output_type": "stream",
     "text": [
      "Action: emotion: 100%|██████████| 1/1 [00:00<00:00, 28.60it/s]\n"
     ]
    },
    {
     "name": "stdout",
     "output_type": "stream",
     "text": [
      "{'emotion': {'angry': 6.9651491685363e-06, 'disgust': 1.86758189139323e-17, 'fear': 0.7671418599784374, 'happy': 1.6911783085049592e-07, 'sad': 0.17544877482578158, 'surprise': 0.018888684280682355, 'neutral': 99.03851747512817}, 'dominant_emotion': 'neutral', 'region': {'x': 0, 'y': 0, 'w': 1920, 'h': 1080}}\n",
      "😐\n"
     ]
    },
    {
     "name": "stderr",
     "output_type": "stream",
     "text": [
      "Action: emotion: 100%|██████████| 1/1 [00:00<00:00, 30.88it/s]\n"
     ]
    },
    {
     "name": "stdout",
     "output_type": "stream",
     "text": [
      "{'emotion': {'angry': 1.5165254296789499e-05, 'disgust': 3.545935102425474e-17, 'fear': 1.5407961793243885, 'happy': 1.5796506325216342e-07, 'sad': 0.5992183927446604, 'surprise': 0.01240516867255792, 'neutral': 97.84756898880005}, 'dominant_emotion': 'neutral', 'region': {'x': 0, 'y': 0, 'w': 1920, 'h': 1080}}\n",
      "😐\n"
     ]
    },
    {
     "name": "stderr",
     "output_type": "stream",
     "text": [
      "Action: emotion: 100%|██████████| 1/1 [00:00<00:00, 22.21it/s]\n"
     ]
    },
    {
     "name": "stdout",
     "output_type": "stream",
     "text": [
      "{'emotion': {'angry': 1.7746481262292946e-05, 'disgust': 2.4423732846910486e-17, 'fear': 1.5830382704734802, 'happy': 1.4386333235805182e-07, 'sad': 0.43403739109635353, 'surprise': 0.026521520339883864, 'neutral': 97.95638918876648}, 'dominant_emotion': 'neutral', 'region': {'x': 0, 'y': 0, 'w': 1920, 'h': 1080}}\n",
      "😐\n"
     ]
    },
    {
     "name": "stderr",
     "output_type": "stream",
     "text": [
      "Action: emotion: 100%|██████████| 1/1 [00:00<00:00, 32.68it/s]\n"
     ]
    },
    {
     "name": "stdout",
     "output_type": "stream",
     "text": [
      "{'emotion': {'angry': 0.05940535236692769, 'disgust': 3.882423255450223e-06, 'fear': 0.7191247195675468, 'happy': 0.15527027874430038, 'sad': 98.74028540973998, 'surprise': 6.8687993807188e-06, 'neutral': 0.3259083373233683}, 'dominant_emotion': 'sad', 'region': {'x': 870, 'y': 348, 'w': 313, 'h': 313}}\n",
      "😢\n"
     ]
    },
    {
     "name": "stderr",
     "output_type": "stream",
     "text": [
      "Action: emotion: 100%|██████████| 1/1 [00:00<00:00, 32.51it/s]\n"
     ]
    },
    {
     "name": "stdout",
     "output_type": "stream",
     "text": [
      "{'emotion': {'angry': 1.1476801461088744, 'disgust': 4.438052323714326e-06, 'fear': 4.292343067666475, 'happy': 0.041332502868287435, 'sad': 0.298145826981713, 'surprise': 94.20890177541386, 'neutral': 0.011592721384423011}, 'dominant_emotion': 'surprise', 'region': {'x': 892, 'y': 328, 'w': 333, 'h': 333}}\n",
      "😮\n"
     ]
    },
    {
     "name": "stderr",
     "output_type": "stream",
     "text": [
      "Action: emotion: 100%|██████████| 1/1 [00:00<00:00, 30.92it/s]\n"
     ]
    },
    {
     "name": "stdout",
     "output_type": "stream",
     "text": [
      "{'emotion': {'angry': 23.344209790229797, 'disgust': 8.297055273942533e-05, 'fear': 17.07443594932556, 'happy': 0.5528395995497704, 'sad': 2.844649739563465, 'surprise': 26.884764432907104, 'neutral': 29.299023747444153}, 'dominant_emotion': 'neutral', 'region': {'x': 914, 'y': 297, 'w': 357, 'h': 357}}\n",
      "😐\n"
     ]
    },
    {
     "name": "stderr",
     "output_type": "stream",
     "text": [
      "Action: emotion: 100%|██████████| 1/1 [00:00<00:00, 29.84it/s]\n"
     ]
    },
    {
     "name": "stdout",
     "output_type": "stream",
     "text": [
      "{'emotion': {'angry': 17.870081320991357, 'disgust': 0.0024358093294118586, 'fear': 6.942123092159856, 'happy': 0.14236596811297916, 'sad': 1.4914291995550155, 'surprise': 72.88835371871546, 'neutral': 0.6632064609877514}, 'dominant_emotion': 'surprise', 'region': {'x': 980, 'y': 294, 'w': 334, 'h': 334}}\n",
      "😮\n"
     ]
    },
    {
     "name": "stderr",
     "output_type": "stream",
     "text": [
      "Action: emotion: 100%|██████████| 1/1 [00:00<00:00, 32.54it/s]\n"
     ]
    },
    {
     "name": "stdout",
     "output_type": "stream",
     "text": [
      "{'emotion': {'angry': 0.012352841440588236, 'disgust': 1.0251249718887245e-10, 'fear': 0.02435458591207862, 'happy': 1.576933361668864e-07, 'sad': 0.003751452823053114, 'surprise': 0.0001231905343956896, 'neutral': 99.95941519737244}, 'dominant_emotion': 'neutral', 'region': {'x': 0, 'y': 0, 'w': 1920, 'h': 1080}}\n",
      "😐\n"
     ]
    },
    {
     "name": "stderr",
     "output_type": "stream",
     "text": [
      "Action: emotion: 100%|██████████| 1/1 [00:00<00:00, 33.07it/s]\n"
     ]
    },
    {
     "name": "stdout",
     "output_type": "stream",
     "text": [
      "{'emotion': {'angry': 69.31897401809692, 'disgust': 0.01566435385029763, 'fear': 11.887876689434052, 'happy': 0.024078477872535586, 'sad': 15.711680054664612, 'surprise': 0.10213963687419891, 'neutral': 2.9395870864391327}, 'dominant_emotion': 'angry', 'region': {'x': 1024, 'y': 287, 'w': 345, 'h': 345}}\n",
      "😡\n"
     ]
    },
    {
     "name": "stderr",
     "output_type": "stream",
     "text": [
      "Action: emotion: 100%|██████████| 1/1 [00:00<00:00, 32.82it/s]\n"
     ]
    },
    {
     "name": "stdout",
     "output_type": "stream",
     "text": [
      "{'emotion': {'angry': 92.04885458363836, 'disgust': 0.001442368294143219, 'fear': 7.037795986199858, 'happy': 0.2810694640717549, 'sad': 0.0727174600513327, 'surprise': 0.4651423920521269, 'neutral': 0.09297312409564863}, 'dominant_emotion': 'angry', 'region': {'x': 1027, 'y': 285, 'w': 349, 'h': 349}}\n",
      "😡\n"
     ]
    },
    {
     "name": "stderr",
     "output_type": "stream",
     "text": [
      "Action: emotion: 100%|██████████| 1/1 [00:00<00:00, 28.24it/s]\n"
     ]
    },
    {
     "name": "stdout",
     "output_type": "stream",
     "text": [
      "{'emotion': {'angry': 99.63622689247131, 'disgust': 4.33746379258082e-05, 'fear': 0.34795349929481745, 'happy': 0.0017335392840323038, 'sad': 0.013669011241290718, 'surprise': 3.4632414269708534e-06, 'neutral': 0.0003695849272844498}, 'dominant_emotion': 'angry', 'region': {'x': 1031, 'y': 287, 'w': 345, 'h': 345}}\n",
      "😡\n"
     ]
    },
    {
     "name": "stderr",
     "output_type": "stream",
     "text": [
      "Action: emotion: 100%|██████████| 1/1 [00:00<00:00, 28.57it/s]\n"
     ]
    },
    {
     "name": "stdout",
     "output_type": "stream",
     "text": [
      "{'emotion': {'angry': 34.9567991443633, 'disgust': 0.004342190158367474, 'fear': 2.3861753804892754, 'happy': 6.069401630091861, 'sad': 14.926408520508827, 'surprise': 0.3288088991190671, 'neutral': 41.32806555367298}, 'dominant_emotion': 'neutral', 'region': {'x': 1028, 'y': 289, 'w': 349, 'h': 349}}\n",
      "😐\n"
     ]
    },
    {
     "name": "stderr",
     "output_type": "stream",
     "text": [
      "Action: emotion: 100%|██████████| 1/1 [00:00<00:00, 33.21it/s]\n"
     ]
    },
    {
     "name": "stdout",
     "output_type": "stream",
     "text": [
      "{'emotion': {'angry': 4.040389241973525e-05, 'disgust': 1.317221345659918e-15, 'fear': 4.3486667527706454e-05, 'happy': 6.807337895673152e-12, 'sad': 0.0005444495270067311, 'surprise': 1.992900408024385e-07, 'neutral': 99.99937415119255}, 'dominant_emotion': 'neutral', 'region': {'x': 0, 'y': 0, 'w': 1920, 'h': 1080}}\n",
      "😐\n"
     ]
    },
    {
     "name": "stderr",
     "output_type": "stream",
     "text": [
      "Action: emotion: 100%|██████████| 1/1 [00:00<00:00, 31.88it/s]\n"
     ]
    },
    {
     "name": "stdout",
     "output_type": "stream",
     "text": [
      "{'emotion': {'angry': 5.6559387036646505e-05, 'disgust': 1.3705020373237052e-14, 'fear': 0.00027406012392093933, 'happy': 3.7284305471270046e-11, 'sad': 0.002921772094379099, 'surprise': 0.00020830672260816697, 'neutral': 99.99653696993214}, 'dominant_emotion': 'neutral', 'region': {'x': 0, 'y': 0, 'w': 1920, 'h': 1080}}\n",
      "😐\n"
     ]
    },
    {
     "name": "stderr",
     "output_type": "stream",
     "text": [
      "Action: emotion: 100%|██████████| 1/1 [00:00<00:00, 32.33it/s]\n"
     ]
    },
    {
     "name": "stdout",
     "output_type": "stream",
     "text": [
      "{'emotion': {'angry': 0.00011121245506728883, 'disgust': 1.0475304104297215e-14, 'fear': 5.838916763423185e-05, 'happy': 8.955232795549925e-12, 'sad': 0.0034213746403111145, 'surprise': 0.004457588147488423, 'neutral': 99.99195337295532}, 'dominant_emotion': 'neutral', 'region': {'x': 0, 'y': 0, 'w': 1920, 'h': 1080}}\n",
      "😐\n"
     ]
    },
    {
     "name": "stderr",
     "output_type": "stream",
     "text": [
      "Action: emotion: 100%|██████████| 1/1 [00:00<00:00, 32.00it/s]\n"
     ]
    },
    {
     "name": "stdout",
     "output_type": "stream",
     "text": [
      "{'emotion': {'angry': 0.0009194100130116567, 'disgust': 3.4420683059995134e-13, 'fear': 0.00017611070006751106, 'happy': 1.564954329319468e-10, 'sad': 0.004297760096960701, 'surprise': 0.8034578524529934, 'neutral': 99.19114708900452}, 'dominant_emotion': 'neutral', 'region': {'x': 0, 'y': 0, 'w': 1920, 'h': 1080}}\n",
      "😐\n"
     ]
    },
    {
     "name": "stderr",
     "output_type": "stream",
     "text": [
      "Action: emotion: 100%|██████████| 1/1 [00:00<00:00, 31.90it/s]\n"
     ]
    },
    {
     "name": "stdout",
     "output_type": "stream",
     "text": [
      "{'emotion': {'angry': 0.0011190770722535762, 'disgust': 7.415287219361501e-13, 'fear': 0.0002058993668582463, 'happy': 3.416544200705984e-10, 'sad': 0.006067480357817853, 'surprise': 0.2783076505890309, 'neutral': 99.71429709025657}, 'dominant_emotion': 'neutral', 'region': {'x': 0, 'y': 0, 'w': 1920, 'h': 1080}}\n",
      "😐\n"
     ]
    },
    {
     "name": "stderr",
     "output_type": "stream",
     "text": [
      "Action: emotion: 100%|██████████| 1/1 [00:00<00:00, 30.35it/s]\n"
     ]
    },
    {
     "name": "stdout",
     "output_type": "stream",
     "text": [
      "{'emotion': {'angry': 0.0008927457201934885, 'disgust': 5.888608624695681e-13, 'fear': 0.00023875113583926577, 'happy': 2.792206570123579e-10, 'sad': 0.004928256748826243, 'surprise': 1.3143748976290226, 'neutral': 98.67956638336182}, 'dominant_emotion': 'neutral', 'region': {'x': 0, 'y': 0, 'w': 1920, 'h': 1080}}\n",
      "😐\n"
     ]
    },
    {
     "name": "stderr",
     "output_type": "stream",
     "text": [
      "Action: emotion: 100%|██████████| 1/1 [00:00<00:00, 32.66it/s]\n"
     ]
    },
    {
     "name": "stdout",
     "output_type": "stream",
     "text": [
      "{'emotion': {'angry': 0.0005960790986136999, 'disgust': 2.4510141349653276e-13, 'fear': 0.0001526676328467147, 'happy': 1.1004112118045972e-10, 'sad': 0.0036338838981464505, 'surprise': 0.9894920513033867, 'neutral': 99.00612831115723}, 'dominant_emotion': 'neutral', 'region': {'x': 0, 'y': 0, 'w': 1920, 'h': 1080}}\n",
      "😐\n"
     ]
    },
    {
     "name": "stderr",
     "output_type": "stream",
     "text": [
      "Action: emotion: 100%|██████████| 1/1 [00:00<00:00, 32.04it/s]\n"
     ]
    },
    {
     "name": "stdout",
     "output_type": "stream",
     "text": [
      "{'emotion': {'angry': 0.00015259713563864352, 'disgust': 1.577859988636905e-14, 'fear': 0.0001326844312643516, 'happy': 1.7866297905098222e-11, 'sad': 0.0015924189938232303, 'surprise': 0.07361635216511786, 'neutral': 99.92450475692749}, 'dominant_emotion': 'neutral', 'region': {'x': 0, 'y': 0, 'w': 1920, 'h': 1080}}\n",
      "😐\n"
     ]
    },
    {
     "name": "stderr",
     "output_type": "stream",
     "text": [
      "Action: emotion: 100%|██████████| 1/1 [00:00<00:00, 27.46it/s]\n"
     ]
    },
    {
     "name": "stdout",
     "output_type": "stream",
     "text": [
      "{'emotion': {'angry': 6.945003569126129, 'disgust': 0.38788276724517345, 'fear': 11.248189210891724, 'happy': 2.543778717517853, 'sad': 66.2879228591919, 'surprise': 0.004198874739813618, 'neutral': 12.58302628993988}, 'dominant_emotion': 'sad', 'region': {'x': 987, 'y': 306, 'w': 354, 'h': 354}}\n",
      "😢\n"
     ]
    },
    {
     "name": "stderr",
     "output_type": "stream",
     "text": [
      "Action: emotion: 100%|██████████| 1/1 [00:00<00:00, 28.74it/s]\n"
     ]
    },
    {
     "name": "stdout",
     "output_type": "stream",
     "text": [
      "{'emotion': {'angry': 0.02247708494349674, 'disgust': 1.0637884859405544e-06, 'fear': 0.0021274048059756728, 'happy': 7.105279961146375e-07, 'sad': 0.32921967362974003, 'surprise': 0.03882357096819479, 'neutral': 99.60734848888535}, 'dominant_emotion': 'neutral', 'region': {'x': 0, 'y': 0, 'w': 1920, 'h': 1080}}\n",
      "😐\n"
     ]
    },
    {
     "name": "stderr",
     "output_type": "stream",
     "text": [
      "Action: emotion: 100%|██████████| 1/1 [00:00<00:00, 29.20it/s]\n"
     ]
    },
    {
     "name": "stdout",
     "output_type": "stream",
     "text": [
      "{'emotion': {'angry': 6.960873544237245e-09, 'disgust': 1.5955794960313527e-16, 'fear': 0.0011598094715736806, 'happy': 6.179767808589531e-09, 'sad': 1.6117384404878976e-05, 'surprise': 10.531654208898544, 'neutral': 89.46716785430908}, 'dominant_emotion': 'neutral', 'region': {'x': 0, 'y': 0, 'w': 1920, 'h': 1080}}\n",
      "😐\n"
     ]
    },
    {
     "name": "stderr",
     "output_type": "stream",
     "text": [
      "Action: emotion: 100%|██████████| 1/1 [00:00<00:00, 33.96it/s]\n"
     ]
    },
    {
     "name": "stdout",
     "output_type": "stream",
     "text": [
      "{'emotion': {'angry': 4.924828106301137e-16, 'disgust': 3.469797982950411e-31, 'fear': 0.001322416107237461, 'happy': 3.3676671316390546e-11, 'sad': 3.066971512485116e-09, 'surprise': 3.451825139035293, 'neutral': 96.54685238282993}, 'dominant_emotion': 'neutral', 'region': {'x': 0, 'y': 0, 'w': 1920, 'h': 1080}}\n",
      "😐\n"
     ]
    },
    {
     "name": "stderr",
     "output_type": "stream",
     "text": [
      "Action: emotion: 100%|██████████| 1/1 [00:00<00:00, 32.03it/s]\n"
     ]
    },
    {
     "name": "stdout",
     "output_type": "stream",
     "text": [
      "{'emotion': {'angry': 7.443689144523839e-15, 'disgust': 8.588898615128804e-31, 'fear': 0.005588439671555534, 'happy': 1.767802077683525e-11, 'sad': 4.896217320471408e-08, 'surprise': 0.23202737793326378, 'neutral': 99.7623860836029}, 'dominant_emotion': 'neutral', 'region': {'x': 0, 'y': 0, 'w': 1920, 'h': 1080}}\n",
      "😐\n"
     ]
    },
    {
     "name": "stderr",
     "output_type": "stream",
     "text": [
      "Action: emotion: 100%|██████████| 1/1 [00:00<00:00, 31.87it/s]\n"
     ]
    },
    {
     "name": "stdout",
     "output_type": "stream",
     "text": [
      "{'emotion': {'angry': 1.467113532042057e-18, 'disgust': 5.179781446827617e-35, 'fear': 0.00017246304868869926, 'happy': 4.453488302781836e-12, 'sad': 9.421053091454165e-10, 'surprise': 0.04229260162594448, 'neutral': 99.95753169566015}, 'dominant_emotion': 'neutral', 'region': {'x': 0, 'y': 0, 'w': 1920, 'h': 1080}}\n",
      "😐\n"
     ]
    },
    {
     "name": "stderr",
     "output_type": "stream",
     "text": [
      "Action: emotion: 100%|██████████| 1/1 [00:00<00:00, 25.47it/s]\n"
     ]
    },
    {
     "name": "stdout",
     "output_type": "stream",
     "text": [
      "{'emotion': {'angry': 2.149581333144482e-17, 'disgust': 1.8057277836012984e-33, 'fear': 1.3172176238640532e-05, 'happy': 1.420804256581712e-11, 'sad': 1.291272783143782e-08, 'surprise': 0.009418845002073795, 'neutral': 99.99057054519653}, 'dominant_emotion': 'neutral', 'region': {'x': 0, 'y': 0, 'w': 1920, 'h': 1080}}\n",
      "😐\n"
     ]
    },
    {
     "name": "stderr",
     "output_type": "stream",
     "text": [
      "Action: emotion: 100%|██████████| 1/1 [00:00<00:00, 25.28it/s]\n"
     ]
    },
    {
     "name": "stdout",
     "output_type": "stream",
     "text": [
      "{'emotion': {'angry': 8.395067617329254e-16, 'disgust': 6.176921593143723e-32, 'fear': 5.314375925991044e-05, 'happy': 8.333089806297073e-12, 'sad': 5.332334018781637e-08, 'surprise': 0.014599734276998788, 'neutral': 99.98534917831421}, 'dominant_emotion': 'neutral', 'region': {'x': 0, 'y': 0, 'w': 1920, 'h': 1080}}\n",
      "😐\n"
     ]
    },
    {
     "name": "stderr",
     "output_type": "stream",
     "text": [
      "Action: emotion: 100%|██████████| 1/1 [00:00<00:00, 29.39it/s]\n"
     ]
    },
    {
     "name": "stdout",
     "output_type": "stream",
     "text": [
      "{'emotion': {'angry': 4.447160804428442e-15, 'disgust': 6.054022432695735e-29, 'fear': 2.2025591553387284e-07, 'happy': 4.122119124571705e-10, 'sad': 8.299523341445421e-07, 'surprise': 6.514371013441467e-05, 'neutral': 99.99993443488684}, 'dominant_emotion': 'neutral', 'region': {'x': 0, 'y': 0, 'w': 1920, 'h': 1080}}\n",
      "😐\n"
     ]
    },
    {
     "name": "stderr",
     "output_type": "stream",
     "text": [
      "Action: emotion: 100%|██████████| 1/1 [00:00<00:00, 28.46it/s]\n"
     ]
    },
    {
     "name": "stdout",
     "output_type": "stream",
     "text": [
      "{'emotion': {'angry': 6.715745027362292e-09, 'disgust': 4.220175974282119e-19, 'fear': 0.017782937689319264, 'happy': 2.7516899289483953e-07, 'sad': 0.2994892831587364, 'surprise': 0.038817364242217794, 'neutral': 99.64390990995824}, 'dominant_emotion': 'neutral', 'region': {'x': 0, 'y': 0, 'w': 1920, 'h': 1080}}\n",
      "😐\n"
     ]
    },
    {
     "name": "stderr",
     "output_type": "stream",
     "text": [
      "Action: emotion: 100%|██████████| 1/1 [00:00<00:00, 30.95it/s]\n"
     ]
    },
    {
     "name": "stdout",
     "output_type": "stream",
     "text": [
      "{'emotion': {'angry': 2.443817793908419e-08, 'disgust': 6.8706530502677805e-18, 'fear': 86.47615828968038, 'happy': 6.67483885758178e-08, 'sad': 9.295774805293966, 'surprise': 0.004144132864521354, 'neutral': 4.2239266171411645}, 'dominant_emotion': 'fear', 'region': {'x': 0, 'y': 0, 'w': 1920, 'h': 1080}}\n",
      "😨\n"
     ]
    },
    {
     "name": "stderr",
     "output_type": "stream",
     "text": [
      "Action: emotion: 100%|██████████| 1/1 [00:00<00:00, 29.94it/s]\n"
     ]
    },
    {
     "name": "stdout",
     "output_type": "stream",
     "text": [
      "{'emotion': {'angry': 2.6034235878213963e-08, 'disgust': 1.1682461784133356e-17, 'fear': 33.02137553691864, 'happy': 5.1309405080246506e-05, 'sad': 64.95489478111267, 'surprise': 0.007465004455298185, 'neutral': 2.016216143965721}, 'dominant_emotion': 'sad', 'region': {'x': 0, 'y': 0, 'w': 1920, 'h': 1080}}\n",
      "😢\n"
     ]
    },
    {
     "name": "stderr",
     "output_type": "stream",
     "text": [
      "Action: emotion: 100%|██████████| 1/1 [00:00<00:00, 26.80it/s]\n"
     ]
    },
    {
     "name": "stdout",
     "output_type": "stream",
     "text": [
      "{'emotion': {'angry': 3.919864779988735e-09, 'disgust': 7.10779821378051e-19, 'fear': 0.002753906483121682, 'happy': 7.066509158289982e-13, 'sad': 99.92855191230774, 'surprise': 6.967107716282311e-18, 'neutral': 0.06869471981190145}, 'dominant_emotion': 'sad', 'region': {'x': 0, 'y': 0, 'w': 1920, 'h': 1080}}\n",
      "😢\n"
     ]
    },
    {
     "name": "stderr",
     "output_type": "stream",
     "text": [
      "Action: emotion: 100%|██████████| 1/1 [00:00<00:00, 28.79it/s]\n"
     ]
    },
    {
     "name": "stdout",
     "output_type": "stream",
     "text": [
      "{'emotion': {'angry': 0.0721351127140224, 'disgust': 8.160578000071562e-20, 'fear': 8.837334197764335e-08, 'happy': 6.973477351124302e-07, 'sad': 4.193369299173355, 'surprise': 2.378113862202443e-16, 'neutral': 95.73449492454529}, 'dominant_emotion': 'neutral', 'region': {'x': 0, 'y': 0, 'w': 1920, 'h': 1080}}\n",
      "😐\n"
     ]
    },
    {
     "name": "stderr",
     "output_type": "stream",
     "text": [
      "Action: emotion: 100%|██████████| 1/1 [00:00<00:00, 26.86it/s]\n"
     ]
    },
    {
     "name": "stdout",
     "output_type": "stream",
     "text": [
      "{'emotion': {'angry': 35.08736789226532, 'disgust': 5.480760143010367e-13, 'fear': 0.000796860422269674, 'happy': 1.2207453936596835e-07, 'sad': 20.28401792049408, 'surprise': 1.724767927170813e-14, 'neutral': 44.62781846523285}, 'dominant_emotion': 'neutral', 'region': {'x': 0, 'y': 0, 'w': 1920, 'h': 1080}}\n",
      "😐\n"
     ]
    },
    {
     "name": "stderr",
     "output_type": "stream",
     "text": [
      "Action: emotion: 100%|██████████| 1/1 [00:00<00:00, 33.35it/s]\n"
     ]
    },
    {
     "name": "stdout",
     "output_type": "stream",
     "text": [
      "{'emotion': {'angry': 98.73412251472473, 'disgust': 3.4889788540909406e-12, 'fear': 6.317849283732357e-05, 'happy': 6.282347824468695e-12, 'sad': 1.255662739276886, 'surprise': 6.672546761447617e-18, 'neutral': 0.010152939648833126}, 'dominant_emotion': 'angry', 'region': {'x': 0, 'y': 0, 'w': 1920, 'h': 1080}}\n",
      "😡\n"
     ]
    },
    {
     "name": "stderr",
     "output_type": "stream",
     "text": [
      "Action: emotion: 100%|██████████| 1/1 [00:00<00:00, 32.32it/s]\n"
     ]
    },
    {
     "name": "stdout",
     "output_type": "stream",
     "text": [
      "{'emotion': {'angry': 94.27516392173337, 'disgust': 8.083989198061893e-06, 'fear': 0.028648495713255787, 'happy': 2.1002213318572198e-05, 'sad': 5.51542891745912, 'surprise': 8.692136589173515e-12, 'neutral': 0.18073567015506867}, 'dominant_emotion': 'angry', 'region': {'x': 0, 'y': 0, 'w': 1920, 'h': 1080}}\n",
      "😡\n"
     ]
    },
    {
     "name": "stderr",
     "output_type": "stream",
     "text": [
      "Action: emotion: 100%|██████████| 1/1 [00:00<00:00, 33.84it/s]\n"
     ]
    },
    {
     "name": "stdout",
     "output_type": "stream",
     "text": [
      "{'emotion': {'angry': 98.04211854934692, 'disgust': 8.207879709232202e-07, 'fear': 0.003999919135821983, 'happy': 1.9572836407188987e-08, 'sad': 1.935606263577938, 'surprise': 3.726257854792109e-11, 'neutral': 0.01827650994528085}, 'dominant_emotion': 'angry', 'region': {'x': 0, 'y': 0, 'w': 1920, 'h': 1080}}\n",
      "😡\n"
     ]
    },
    {
     "name": "stderr",
     "output_type": "stream",
     "text": [
      "Action: emotion: 100%|██████████| 1/1 [00:00<00:00, 30.88it/s]\n"
     ]
    },
    {
     "name": "stdout",
     "output_type": "stream",
     "text": [
      "{'emotion': {'angry': 98.70684735219761, 'disgust': 0.0008240192564725712, 'fear': 0.3022949391481244, 'happy': 1.730101036749967e-05, 'sad': 0.5574971769748436, 'surprise': 9.209938250326115e-06, 'neutral': 0.432510699779433}, 'dominant_emotion': 'angry', 'region': {'x': 0, 'y': 0, 'w': 1920, 'h': 1080}}\n",
      "😡\n"
     ]
    },
    {
     "name": "stderr",
     "output_type": "stream",
     "text": [
      "Action: emotion: 100%|██████████| 1/1 [00:00<00:00, 32.16it/s]\n"
     ]
    },
    {
     "name": "stdout",
     "output_type": "stream",
     "text": [
      "{'emotion': {'angry': 99.99966025350453, 'disgust': 5.791949487746662e-08, 'fear': 0.0002501447092013074, 'happy': 1.2668455928879828e-07, 'sad': 9.074842609815174e-05, 'surprise': 1.0042380720494358e-09, 'neutral': 2.2422802729921205e-06}, 'dominant_emotion': 'angry', 'region': {'x': 0, 'y': 0, 'w': 1920, 'h': 1080}}\n",
      "😡\n"
     ]
    },
    {
     "name": "stderr",
     "output_type": "stream",
     "text": [
      "Action: emotion: 100%|██████████| 1/1 [00:00<00:00, 30.79it/s]\n"
     ]
    },
    {
     "name": "stdout",
     "output_type": "stream",
     "text": [
      "{'emotion': {'angry': 100.0, 'disgust': 1.1157935686512133e-09, 'fear': 2.8208615887592714e-06, 'happy': 8.511993329152548e-12, 'sad': 6.012023767709707e-07, 'surprise': 2.537015295924188e-13, 'neutral': 5.080364514492564e-10}, 'dominant_emotion': 'angry', 'region': {'x': 0, 'y': 0, 'w': 1920, 'h': 1080}}\n",
      "😡\n"
     ]
    },
    {
     "name": "stderr",
     "output_type": "stream",
     "text": [
      "Action: emotion: 100%|██████████| 1/1 [00:00<00:00, 31.70it/s]\n"
     ]
    },
    {
     "name": "stdout",
     "output_type": "stream",
     "text": [
      "{'emotion': {'angry': 99.99612569855145, 'disgust': 1.9865218211499378e-06, 'fear': 0.0012071873623167794, 'happy': 4.3475773350092766e-10, 'sad': 0.0025079333420582415, 'surprise': 9.173388731981019e-08, 'neutral': 0.00015235157664480917}, 'dominant_emotion': 'angry', 'region': {'x': 0, 'y': 0, 'w': 1920, 'h': 1080}}\n",
      "😡\n"
     ]
    },
    {
     "name": "stderr",
     "output_type": "stream",
     "text": [
      "Action: emotion: 100%|██████████| 1/1 [00:00<00:00, 22.23it/s]\n"
     ]
    },
    {
     "name": "stdout",
     "output_type": "stream",
     "text": [
      "{'emotion': {'angry': 1.879905462557403, 'disgust': 2.6313366943906547e-08, 'fear': 5.732132463582305, 'happy': 0.36628034286381855, 'sad': 1.5167318257231608, 'surprise': 0.0018952944849024965, 'neutral': 90.50305429119196}, 'dominant_emotion': 'neutral', 'region': {'x': 498, 'y': 513, 'w': 77, 'h': 77}}\n",
      "😐\n"
     ]
    },
    {
     "name": "stderr",
     "output_type": "stream",
     "text": [
      "Action: emotion: 100%|██████████| 1/1 [00:00<00:00, 31.80it/s]\n"
     ]
    },
    {
     "name": "stdout",
     "output_type": "stream",
     "text": [
      "{'emotion': {'angry': 99.99967813491821, 'disgust': 1.2909927349369354e-06, 'fear': 0.0002655374828464119, 'happy': 8.706682293538326e-11, 'sad': 5.638337938762561e-05, 'surprise': 1.2753419847966185e-09, 'neutral': 1.6722204732033674e-07}, 'dominant_emotion': 'angry', 'region': {'x': 0, 'y': 0, 'w': 1920, 'h': 1080}}\n",
      "😡\n"
     ]
    },
    {
     "name": "stderr",
     "output_type": "stream",
     "text": [
      "Action: emotion: 100%|██████████| 1/1 [00:00<00:00, 31.61it/s]\n"
     ]
    },
    {
     "name": "stdout",
     "output_type": "stream",
     "text": [
      "{'emotion': {'angry': 99.99982118608699, 'disgust': 1.627659377535956e-05, 'fear': 0.00015767986208864852, 'happy': 2.629471660034611e-07, 'sad': 3.1200993621881358e-06, 'surprise': 3.04858713013939e-08, 'neutral': 1.1505686142261726e-07}, 'dominant_emotion': 'angry', 'region': {'x': 0, 'y': 0, 'w': 1920, 'h': 1080}}\n",
      "😡\n"
     ]
    },
    {
     "name": "stderr",
     "output_type": "stream",
     "text": [
      "Action: emotion: 100%|██████████| 1/1 [00:00<00:00, 30.71it/s]\n"
     ]
    },
    {
     "name": "stdout",
     "output_type": "stream",
     "text": [
      "{'emotion': {'angry': 99.99981522559018, 'disgust': 6.921309662716294e-05, 'fear': 0.00010354644408473155, 'happy': 1.2767208496449507e-06, 'sad': 5.660157125084022e-06, 'surprise': 1.1751651464066964e-07, 'neutral': 3.4455821584603403e-06}, 'dominant_emotion': 'angry', 'region': {'x': 0, 'y': 0, 'w': 1920, 'h': 1080}}\n",
      "😡\n"
     ]
    },
    {
     "name": "stderr",
     "output_type": "stream",
     "text": [
      "Action: emotion: 100%|██████████| 1/1 [00:00<00:00, 30.86it/s]\n"
     ]
    },
    {
     "name": "stdout",
     "output_type": "stream",
     "text": [
      "{'emotion': {'angry': 99.99740123779759, 'disgust': 7.498041115665506e-05, 'fear': 0.002371398194714944, 'happy': 2.9243982946293425e-05, 'sad': 0.00010597697028914495, 'surprise': 2.1699755847766576e-06, 'neutral': 1.2733005308800356e-05}, 'dominant_emotion': 'angry', 'region': {'x': 0, 'y': 0, 'w': 1920, 'h': 1080}}\n",
      "😡\n"
     ]
    },
    {
     "name": "stderr",
     "output_type": "stream",
     "text": [
      "Action: emotion: 100%|██████████| 1/1 [00:00<00:00, 30.92it/s]\n"
     ]
    },
    {
     "name": "stdout",
     "output_type": "stream",
     "text": [
      "{'emotion': {'angry': 99.99856948852539, 'disgust': 8.468373380310368e-05, 'fear': 0.0012656049875658937, 'happy': 5.050149809449067e-06, 'sad': 5.8919528100886964e-05, 'surprise': 4.53777388997878e-06, 'neutral': 1.1689571266515486e-05}, 'dominant_emotion': 'angry', 'region': {'x': 0, 'y': 0, 'w': 1920, 'h': 1080}}\n",
      "😡\n"
     ]
    },
    {
     "name": "stderr",
     "output_type": "stream",
     "text": [
      "Action: emotion: 100%|██████████| 1/1 [00:00<00:00, 32.14it/s]\n"
     ]
    },
    {
     "name": "stdout",
     "output_type": "stream",
     "text": [
      "{'emotion': {'angry': 99.99967813487984, 'disgust': 3.774010674230455e-05, 'fear': 0.00027689028346918645, 'happy': 5.085583760844779e-06, 'sad': 8.080910416020825e-06, 'surprise': 3.0257371329401325e-07, 'neutral': 2.18218198434484e-06}, 'dominant_emotion': 'angry', 'region': {'x': 0, 'y': 0, 'w': 1920, 'h': 1080}}\n",
      "😡\n"
     ]
    },
    {
     "name": "stderr",
     "output_type": "stream",
     "text": [
      "Action: emotion: 100%|██████████| 1/1 [00:00<00:00, 23.53it/s]\n"
     ]
    },
    {
     "name": "stdout",
     "output_type": "stream",
     "text": [
      "{'emotion': {'angry': 99.99987483023851, 'disgust': 8.141398014735987e-05, 'fear': 4.3280098531253807e-05, 'happy': 3.6322700347546504e-07, 'sad': 1.8413355494306112e-06, 'surprise': 4.11596170587948e-08, 'neutral': 1.4821362798973344e-06}, 'dominant_emotion': 'angry', 'region': {'x': 0, 'y': 0, 'w': 1920, 'h': 1080}}\n",
      "😡\n"
     ]
    },
    {
     "name": "stderr",
     "output_type": "stream",
     "text": [
      "Action: emotion: 100%|██████████| 1/1 [00:00<00:00, 29.01it/s]\n"
     ]
    },
    {
     "name": "stdout",
     "output_type": "stream",
     "text": [
      "{'emotion': {'angry': 99.99996423721313, 'disgust': 2.646217183155386e-05, 'fear': 1.1436640079409699e-05, 'happy': 1.8946013646825577e-07, 'sad': 9.693158276036229e-07, 'surprise': 2.1942395123097924e-08, 'neutral': 1.4090313804615562e-06}, 'dominant_emotion': 'angry', 'region': {'x': 0, 'y': 0, 'w': 1920, 'h': 1080}}\n",
      "😡\n"
     ]
    },
    {
     "name": "stderr",
     "output_type": "stream",
     "text": [
      "Action: emotion: 100%|██████████| 1/1 [00:00<00:00, 33.98it/s]\n"
     ]
    },
    {
     "name": "stdout",
     "output_type": "stream",
     "text": [
      "{'emotion': {'angry': 99.99996423721313, 'disgust': 2.1720323672980157e-05, 'fear': 1.218408982595065e-05, 'happy': 1.723393094898995e-07, 'sad': 6.587039802496975e-07, 'surprise': 1.44572728788539e-08, 'neutral': 6.988514655859035e-07}, 'dominant_emotion': 'angry', 'region': {'x': 0, 'y': 0, 'w': 1920, 'h': 1080}}\n",
      "😡\n"
     ]
    },
    {
     "name": "stderr",
     "output_type": "stream",
     "text": [
      "Action: emotion: 100%|██████████| 1/1 [00:00<00:00, 31.87it/s]\n"
     ]
    },
    {
     "name": "stdout",
     "output_type": "stream",
     "text": [
      "{'emotion': {'angry': 99.9999821186055, 'disgust': 7.853283292136232e-06, 'fear': 9.76360099900135e-06, 'happy': 3.8901479913486025e-07, 'sad': 6.903738437193535e-07, 'surprise': 1.934213737888945e-08, 'neutral': 1.0672385389841974e-06}, 'dominant_emotion': 'angry', 'region': {'x': 0, 'y': 0, 'w': 1920, 'h': 1080}}\n",
      "😡\n"
     ]
    },
    {
     "name": "stderr",
     "output_type": "stream",
     "text": [
      "Action: emotion: 100%|██████████| 1/1 [00:00<00:00, 29.36it/s]\n"
     ]
    },
    {
     "name": "stdout",
     "output_type": "stream",
     "text": [
      "{'emotion': {'angry': 99.99959468841553, 'disgust': 7.874567131693766e-06, 'fear': 0.0003839258624793729, 'happy': 3.3195036053257354e-06, 'sad': 1.1160828705669701e-05, 'surprise': 1.640300784089277e-07, 'neutral': 9.54577483724961e-07}, 'dominant_emotion': 'angry', 'region': {'x': 0, 'y': 0, 'w': 1920, 'h': 1080}}\n",
      "😡\n"
     ]
    },
    {
     "name": "stderr",
     "output_type": "stream",
     "text": [
      "Action: emotion: 100%|██████████| 1/1 [00:00<00:00, 31.70it/s]\n"
     ]
    },
    {
     "name": "stdout",
     "output_type": "stream",
     "text": [
      "{'emotion': {'angry': 99.96092916000734, 'disgust': 1.2218958964637397e-05, 'fear': 0.03761483664652417, 'happy': 7.0526772452389994e-06, 'sad': 0.0014243227390681294, 'surprise': 1.8810168956077664e-07, 'neutral': 1.0062665944420813e-05}, 'dominant_emotion': 'angry', 'region': {'x': 0, 'y': 0, 'w': 1920, 'h': 1080}}\n",
      "😡\n"
     ]
    },
    {
     "name": "stderr",
     "output_type": "stream",
     "text": [
      "Action: emotion: 100%|██████████| 1/1 [00:00<00:00, 32.93it/s]\n"
     ]
    },
    {
     "name": "stdout",
     "output_type": "stream",
     "text": [
      "{'emotion': {'angry': 99.85222220420837, 'disgust': 2.4055410108303477e-05, 'fear': 0.13276662211865187, 'happy': 3.642887804744532e-05, 'sad': 0.014459408703260124, 'surprise': 2.2211311900832698e-06, 'neutral': 0.0004895596248388756}, 'dominant_emotion': 'angry', 'region': {'x': 0, 'y': 0, 'w': 1920, 'h': 1080}}\n",
      "😡\n"
     ]
    },
    {
     "name": "stderr",
     "output_type": "stream",
     "text": [
      "Action: emotion: 100%|██████████| 1/1 [00:00<00:00, 32.90it/s]\n"
     ]
    },
    {
     "name": "stdout",
     "output_type": "stream",
     "text": [
      "{'emotion': {'angry': 99.73077176396679, 'disgust': 2.5318947027064964e-05, 'fear': 0.2487677064921085, 'happy': 0.00014458730399899064, 'sad': 0.020036264061760997, 'surprise': 2.0857436133531275e-06, 'neutral': 0.00025338692158217356}, 'dominant_emotion': 'angry', 'region': {'x': 0, 'y': 0, 'w': 1920, 'h': 1080}}\n",
      "😡\n"
     ]
    },
    {
     "name": "stderr",
     "output_type": "stream",
     "text": [
      "Action: emotion: 100%|██████████| 1/1 [00:00<00:00, 21.77it/s]\n"
     ]
    },
    {
     "name": "stdout",
     "output_type": "stream",
     "text": [
      "{'emotion': {'angry': 99.83128309249878, 'disgust': 2.81023375237055e-05, 'fear': 0.15112353721633554, 'happy': 6.531216740768286e-05, 'sad': 0.01731935190036893, 'surprise': 1.2885139177853944e-06, 'neutral': 0.00018476765717423405}, 'dominant_emotion': 'angry', 'region': {'x': 0, 'y': 0, 'w': 1920, 'h': 1080}}\n",
      "😡\n"
     ]
    },
    {
     "name": "stderr",
     "output_type": "stream",
     "text": [
      "Action: emotion: 100%|██████████| 1/1 [00:00<00:00, 32.64it/s]\n"
     ]
    },
    {
     "name": "stdout",
     "output_type": "stream",
     "text": [
      "{'emotion': {'angry': 99.9183714389801, 'disgust': 9.225936281609393e-06, 'fear': 0.06917513674125075, 'happy': 6.566195764889926e-06, 'sad': 0.012301142851356417, 'surprise': 1.9492805147791614e-07, 'neutral': 0.00013164617485017516}, 'dominant_emotion': 'angry', 'region': {'x': 0, 'y': 0, 'w': 1920, 'h': 1080}}\n",
      "😡\n"
     ]
    },
    {
     "name": "stderr",
     "output_type": "stream",
     "text": [
      "Action: emotion: 100%|██████████| 1/1 [00:00<00:00, 31.69it/s]\n"
     ]
    },
    {
     "name": "stdout",
     "output_type": "stream",
     "text": [
      "{'emotion': {'angry': 99.93046522140503, 'disgust': 4.6122746510945944e-06, 'fear': 0.05679811001755297, 'happy': 5.682468326995149e-05, 'sad': 0.012187036918476224, 'surprise': 1.3560049971772514e-06, 'neutral': 0.00048700608203944284}, 'dominant_emotion': 'angry', 'region': {'x': 0, 'y': 0, 'w': 1920, 'h': 1080}}\n",
      "😡\n"
     ]
    },
    {
     "name": "stderr",
     "output_type": "stream",
     "text": [
      "Action: emotion: 100%|██████████| 1/1 [00:00<00:00, 32.41it/s]\n"
     ]
    },
    {
     "name": "stdout",
     "output_type": "stream",
     "text": [
      "{'emotion': {'angry': 99.92395042919817, 'disgust': 6.882879388127898e-06, 'fear': 0.06866656885916406, 'happy': 3.057524975591111e-05, 'sad': 0.007247332246116608, 'surprise': 5.348113826380757e-07, 'neutral': 9.936184734376914e-05}, 'dominant_emotion': 'angry', 'region': {'x': 0, 'y': 0, 'w': 1920, 'h': 1080}}\n",
      "😡\n"
     ]
    },
    {
     "name": "stderr",
     "output_type": "stream",
     "text": [
      "Action: emotion: 100%|██████████| 1/1 [00:00<00:00, 30.89it/s]\n"
     ]
    },
    {
     "name": "stdout",
     "output_type": "stream",
     "text": [
      "{'emotion': {'angry': 99.98556971463977, 'disgust': 1.1440157947838262e-06, 'fear': 0.01353071501102835, 'happy': 1.777464859106146e-06, 'sad': 0.0008998484727021327, 'surprise': 1.7322591616685875e-08, 'neutral': 2.10141179215327e-06}, 'dominant_emotion': 'angry', 'region': {'x': 0, 'y': 0, 'w': 1920, 'h': 1080}}\n",
      "😡\n"
     ]
    },
    {
     "name": "stderr",
     "output_type": "stream",
     "text": [
      "Action: emotion: 100%|██████████| 1/1 [00:00<00:00, 34.46it/s]\n"
     ]
    },
    {
     "name": "stdout",
     "output_type": "stream",
     "text": [
      "{'emotion': {'angry': 99.99559521648855, 'disgust': 1.7685717278997612e-07, 'fear': 0.004169835550123337, 'happy': 2.72769023639458e-07, 'sad': 0.00023521664881187308, 'surprise': 1.2705772955574614e-09, 'neutral': 2.137760762599591e-07}, 'dominant_emotion': 'angry', 'region': {'x': 0, 'y': 0, 'w': 1920, 'h': 1080}}\n",
      "😡\n"
     ]
    },
    {
     "name": "stderr",
     "output_type": "stream",
     "text": [
      "Action: emotion: 100%|██████████| 1/1 [00:00<00:00, 31.90it/s]\n"
     ]
    },
    {
     "name": "stdout",
     "output_type": "stream",
     "text": [
      "{'emotion': {'angry': 99.9965131280728, 'disgust': 3.7589413823886683e-07, 'fear': 0.0032333568123260846, 'happy': 1.2526680440184718e-07, 'sad': 0.00025817547968453095, 'surprise': 1.855528168190801e-09, 'neutral': 1.3994258808781634e-07}, 'dominant_emotion': 'angry', 'region': {'x': 0, 'y': 0, 'w': 1920, 'h': 1080}}\n",
      "😡\n"
     ]
    },
    {
     "name": "stderr",
     "output_type": "stream",
     "text": [
      "Action: emotion: 100%|██████████| 1/1 [00:00<00:00, 19.75it/s]\n"
     ]
    },
    {
     "name": "stdout",
     "output_type": "stream",
     "text": [
      "{'emotion': {'angry': 99.98931288655477, 'disgust': 1.0933521407118186e-06, 'fear': 0.009978772735820575, 'happy': 1.3298273497881065e-06, 'sad': 0.0007108620562458379, 'surprise': 2.5193965083703752e-08, 'neutral': 1.7580292048607606e-06}, 'dominant_emotion': 'angry', 'region': {'x': 0, 'y': 0, 'w': 1920, 'h': 1080}}\n",
      "😡\n"
     ]
    },
    {
     "name": "stderr",
     "output_type": "stream",
     "text": [
      "Action: emotion: 100%|██████████| 1/1 [00:00<00:00, 29.99it/s]\n"
     ]
    },
    {
     "name": "stdout",
     "output_type": "stream",
     "text": [
      "{'emotion': {'angry': 99.94829893112183, 'disgust': 2.2240909558490785e-06, 'fear': 0.04826713993679732, 'happy': 2.4958477951031455e-06, 'sad': 0.0034266584407305345, 'surprise': 2.1374579883826073e-08, 'neutral': 3.2726614307421187e-06}, 'dominant_emotion': 'angry', 'region': {'x': 0, 'y': 0, 'w': 1920, 'h': 1080}}\n",
      "😡\n"
     ]
    },
    {
     "name": "stderr",
     "output_type": "stream",
     "text": [
      "Action: emotion: 100%|██████████| 1/1 [00:00<00:00, 32.13it/s]\n"
     ]
    },
    {
     "name": "stdout",
     "output_type": "stream",
     "text": [
      "{'emotion': {'angry': 99.95240568831001, 'disgust': 1.1558031310384776e-05, 'fear': 0.04421261519157083, 'happy': 2.4969359624962592e-06, 'sad': 0.0033631700902412515, 'surprise': 9.460878200781042e-08, 'neutral': 4.357878584617475e-06}, 'dominant_emotion': 'angry', 'region': {'x': 0, 'y': 0, 'w': 1920, 'h': 1080}}\n",
      "😡\n"
     ]
    },
    {
     "name": "stderr",
     "output_type": "stream",
     "text": [
      "Action: emotion: 100%|██████████| 1/1 [00:00<00:00, 34.13it/s]\n"
     ]
    },
    {
     "name": "stdout",
     "output_type": "stream",
     "text": [
      "{'emotion': {'angry': 99.95248913481767, 'disgust': 3.587509170402883e-05, 'fear': 0.04389918147078493, 'happy': 2.69153018150939e-06, 'sad': 0.0035631337900790968, 'surprise': 2.491218713258954e-07, 'neutral': 1.1731257376431753e-05}, 'dominant_emotion': 'angry', 'region': {'x': 0, 'y': 0, 'w': 1920, 'h': 1080}}\n",
      "😡\n"
     ]
    },
    {
     "name": "stderr",
     "output_type": "stream",
     "text": [
      "Action: emotion: 100%|██████████| 1/1 [00:00<00:00, 33.79it/s]\n"
     ]
    },
    {
     "name": "stdout",
     "output_type": "stream",
     "text": [
      "{'emotion': {'angry': 99.95717406272888, 'disgust': 4.612629993516748e-05, 'fear': 0.04038559563923627, 'happy': 4.375535667122676e-06, 'sad': 0.0023791044441168196, 'surprise': 3.2859988063904666e-07, 'neutral': 8.946801699494245e-06}, 'dominant_emotion': 'angry', 'region': {'x': 0, 'y': 0, 'w': 1920, 'h': 1080}}\n",
      "😡\n"
     ]
    },
    {
     "name": "stderr",
     "output_type": "stream",
     "text": [
      "Action: emotion: 100%|██████████| 1/1 [00:00<00:00, 32.24it/s]\n"
     ]
    },
    {
     "name": "stdout",
     "output_type": "stream",
     "text": [
      "{'emotion': {'angry': 99.96235370635986, 'disgust': 8.885019155968621e-05, 'fear': 0.0342005689162761, 'happy': 2.371309548721001e-06, 'sad': 0.003345216464367695, 'surprise': 5.311987738565449e-07, 'neutral': 1.560228497510252e-05}, 'dominant_emotion': 'angry', 'region': {'x': 0, 'y': 0, 'w': 1920, 'h': 1080}}\n",
      "😡\n"
     ]
    },
    {
     "name": "stderr",
     "output_type": "stream",
     "text": [
      "Action: emotion: 100%|██████████| 1/1 [00:00<00:00, 31.38it/s]\n"
     ]
    },
    {
     "name": "stdout",
     "output_type": "stream",
     "text": [
      "{'emotion': {'angry': 99.94849561723989, 'disgust': 0.000150452960570197, 'fear': 0.046115659157937916, 'happy': 2.3996796399921683e-06, 'sad': 0.00521427848540849, 'surprise': 8.347742657675088e-07, 'neutral': 2.5906210879264387e-05}, 'dominant_emotion': 'angry', 'region': {'x': 0, 'y': 0, 'w': 1920, 'h': 1080}}\n",
      "😡\n"
     ]
    },
    {
     "name": "stderr",
     "output_type": "stream",
     "text": [
      "Action: emotion: 100%|██████████| 1/1 [00:00<00:00, 24.85it/s]\n"
     ]
    },
    {
     "name": "stdout",
     "output_type": "stream",
     "text": [
      "{'emotion': {'angry': 99.95009899139404, 'disgust': 0.00010573870667940355, 'fear': 0.04498305206652731, 'happy': 2.0991643978618413e-06, 'sad': 0.004777639696840197, 'surprise': 1.0556328255972858e-06, 'neutral': 2.7514388989402505e-05}, 'dominant_emotion': 'angry', 'region': {'x': 0, 'y': 0, 'w': 1920, 'h': 1080}}\n",
      "😡\n"
     ]
    },
    {
     "name": "stderr",
     "output_type": "stream",
     "text": [
      "Action: emotion: 100%|██████████| 1/1 [00:00<00:00, 34.18it/s]\n"
     ]
    },
    {
     "name": "stdout",
     "output_type": "stream",
     "text": [
      "{'emotion': {'angry': 99.93904232615485, 'disgust': 0.00017425270372752966, 'fear': 0.05480650324152429, 'happy': 1.6064091459749123e-06, 'sad': 0.0059475078067188145, 'surprise': 8.853869277001811e-07, 'neutral': 3.0419771627375807e-05}, 'dominant_emotion': 'angry', 'region': {'x': 0, 'y': 0, 'w': 1920, 'h': 1080}}\n",
      "😡\n"
     ]
    },
    {
     "name": "stderr",
     "output_type": "stream",
     "text": [
      "Action: emotion: 100%|██████████| 1/1 [00:00<00:00, 30.45it/s]\n"
     ]
    },
    {
     "name": "stdout",
     "output_type": "stream",
     "text": [
      "{'emotion': {'angry': 99.92291926418773, 'disgust': 0.0002992826823425091, 'fear': 0.06922579730013577, 'happy': 1.6247447992064284e-06, 'sad': 0.007529409946887263, 'surprise': 1.1896935522752422e-06, 'neutral': 3.221481776787241e-05}, 'dominant_emotion': 'angry', 'region': {'x': 0, 'y': 0, 'w': 1920, 'h': 1080}}\n",
      "😡\n"
     ]
    },
    {
     "name": "stderr",
     "output_type": "stream",
     "text": [
      "Action: emotion: 100%|██████████| 1/1 [00:00<00:00, 31.85it/s]\n"
     ]
    },
    {
     "name": "stdout",
     "output_type": "stream",
     "text": [
      "{'emotion': {'angry': 99.93200302124023, 'disgust': 0.00018098813825417892, 'fear': 0.06128083332441747, 'happy': 1.2312209918263761e-06, 'sad': 0.0065156731579918414, 'surprise': 1.0273922157466586e-06, 'neutral': 2.516856625334185e-05}, 'dominant_emotion': 'angry', 'region': {'x': 0, 'y': 0, 'w': 1920, 'h': 1080}}\n",
      "😡\n"
     ]
    },
    {
     "name": "stderr",
     "output_type": "stream",
     "text": [
      "Action: emotion: 100%|██████████| 1/1 [00:00<00:00, 29.21it/s]\n"
     ]
    },
    {
     "name": "stdout",
     "output_type": "stream",
     "text": [
      "{'emotion': {'angry': 99.90709423465098, 'disgust': 0.00021505269532435108, 'fear': 0.08376752874918453, 'happy': 1.5214205913778824e-06, 'sad': 0.008889750990964531, 'surprise': 1.0530796418626119e-06, 'neutral': 3.4679950224731525e-05}, 'dominant_emotion': 'angry', 'region': {'x': 0, 'y': 0, 'w': 1920, 'h': 1080}}\n",
      "😡\n"
     ]
    },
    {
     "name": "stderr",
     "output_type": "stream",
     "text": [
      "Action: emotion: 100%|██████████| 1/1 [00:00<00:00, 32.07it/s]\n"
     ]
    },
    {
     "name": "stdout",
     "output_type": "stream",
     "text": [
      "{'emotion': {'angry': 99.95241760923967, 'disgust': 0.00010251952218706666, 'fear': 0.04226566195022535, 'happy': 8.137348169590722e-07, 'sad': 0.0051949412777100145, 'surprise': 6.719643908812562e-07, 'neutral': 2.005980212710637e-05}, 'dominant_emotion': 'angry', 'region': {'x': 0, 'y': 0, 'w': 1920, 'h': 1080}}\n",
      "😡\n"
     ]
    },
    {
     "name": "stderr",
     "output_type": "stream",
     "text": [
      "Action: emotion: 100%|██████████| 1/1 [00:00<00:00, 32.50it/s]\n"
     ]
    },
    {
     "name": "stdout",
     "output_type": "stream",
     "text": [
      "{'emotion': {'angry': 99.95410442352295, 'disgust': 9.751795460033463e-05, 'fear': 0.04093608004041016, 'happy': 8.617813129774277e-07, 'sad': 0.004844179420615546, 'surprise': 5.598164154463348e-07, 'neutral': 1.7979445487981138e-05}, 'dominant_emotion': 'angry', 'region': {'x': 0, 'y': 0, 'w': 1920, 'h': 1080}}\n",
      "😡\n"
     ]
    },
    {
     "name": "stderr",
     "output_type": "stream",
     "text": [
      "Action: emotion: 100%|██████████| 1/1 [00:00<00:00, 24.23it/s]\n"
     ]
    },
    {
     "name": "stdout",
     "output_type": "stream",
     "text": [
      "{'emotion': {'angry': 99.90898369657799, 'disgust': 0.00019991523568322898, 'fear': 0.08313176631076828, 'happy': 2.21732543224496e-06, 'sad': 0.0076616672269938565, 'surprise': 6.385409851570503e-07, 'neutral': 2.587244434030529e-05}, 'dominant_emotion': 'angry', 'region': {'x': 0, 'y': 0, 'w': 1920, 'h': 1080}}\n",
      "😡\n"
     ]
    },
    {
     "name": "stderr",
     "output_type": "stream",
     "text": [
      "Action: emotion: 100%|██████████| 1/1 [00:00<00:00, 32.66it/s]\n"
     ]
    },
    {
     "name": "stdout",
     "output_type": "stream",
     "text": [
      "{'emotion': {'angry': 99.90738631398841, 'disgust': 0.0006236308020192733, 'fear': 0.08215715827782055, 'happy': 1.8101241013195374e-06, 'sad': 0.009811159829070364, 'surprise': 1.7989542154137195e-07, 'neutral': 1.5727628523153066e-05}, 'dominant_emotion': 'angry', 'region': {'x': 0, 'y': 0, 'w': 1920, 'h': 1080}}\n",
      "😡\n"
     ]
    },
    {
     "name": "stderr",
     "output_type": "stream",
     "text": [
      "Action: emotion: 100%|██████████| 1/1 [00:00<00:00, 32.75it/s]\n"
     ]
    },
    {
     "name": "stdout",
     "output_type": "stream",
     "text": [
      "{'emotion': {'angry': 99.92076755514532, 'disgust': 1.5857656407211163e-05, 'fear': 0.07549484990226031, 'happy': 3.060506505315326e-06, 'sad': 0.003718510481673906, 'surprise': 2.2776375290695456e-08, 'neutral': 3.113223796225184e-06}, 'dominant_emotion': 'angry', 'region': {'x': 0, 'y': 0, 'w': 1920, 'h': 1080}}\n",
      "😡\n"
     ]
    },
    {
     "name": "stderr",
     "output_type": "stream",
     "text": [
      "Action: emotion: 100%|██████████| 1/1 [00:00<00:00, 33.20it/s]\n"
     ]
    },
    {
     "name": "stdout",
     "output_type": "stream",
     "text": [
      "{'emotion': {'angry': 97.80770566371612, 'disgust': 0.0003136309113795225, 'fear': 1.841173101523745, 'happy': 0.00021085299737303643, 'sad': 0.3503244651094717, 'surprise': 3.6514147349423802e-06, 'neutral': 0.00025746220785905595}, 'dominant_emotion': 'angry', 'region': {'x': 0, 'y': 0, 'w': 1920, 'h': 1080}}\n",
      "😡\n"
     ]
    },
    {
     "name": "stderr",
     "output_type": "stream",
     "text": [
      "Action: emotion: 100%|██████████| 1/1 [00:00<00:00, 32.47it/s]\n"
     ]
    },
    {
     "name": "stdout",
     "output_type": "stream",
     "text": [
      "{'emotion': {'angry': 95.45767226058345, 'disgust': 0.0007353937185910474, 'fear': 2.9818532732462777, 'happy': 4.467124714003563e-05, 'sad': 1.5586714253434106, 'surprise': 1.0068116142551552e-06, 'neutral': 0.001026381052538205}, 'dominant_emotion': 'angry', 'region': {'x': 0, 'y': 0, 'w': 1920, 'h': 1080}}\n",
      "😡\n"
     ]
    },
    {
     "name": "stderr",
     "output_type": "stream",
     "text": [
      "Action: emotion: 100%|██████████| 1/1 [00:00<00:00, 34.35it/s]\n"
     ]
    },
    {
     "name": "stdout",
     "output_type": "stream",
     "text": [
      "{'emotion': {'angry': 98.35792183876038, 'disgust': 0.0004577041181619279, 'fear': 1.0227317921817303, 'happy': 6.973572652668736e-06, 'sad': 0.6186515558511019, 'surprise': 3.768133804982199e-07, 'neutral': 0.0002280836724821711}, 'dominant_emotion': 'angry', 'region': {'x': 0, 'y': 0, 'w': 1920, 'h': 1080}}\n",
      "😡\n"
     ]
    },
    {
     "name": "stderr",
     "output_type": "stream",
     "text": [
      "Action: emotion: 100%|██████████| 1/1 [00:00<00:00, 30.90it/s]\n"
     ]
    },
    {
     "name": "stdout",
     "output_type": "stream",
     "text": [
      "{'emotion': {'angry': 99.61011409759521, 'disgust': 0.0005632644842989976, 'fear': 0.22274081129580736, 'happy': 7.824471737194472e-06, 'sad': 0.1662063063122332, 'surprise': 4.882391824168053e-07, 'neutral': 0.0003636587507571676}, 'dominant_emotion': 'angry', 'region': {'x': 0, 'y': 0, 'w': 1920, 'h': 1080}}\n",
      "😡\n"
     ]
    },
    {
     "name": "stderr",
     "output_type": "stream",
     "text": [
      "Action: emotion: 100%|██████████| 1/1 [00:00<00:00, 33.79it/s]\n"
     ]
    },
    {
     "name": "stdout",
     "output_type": "stream",
     "text": [
      "{'emotion': {'angry': 99.54333895961511, 'disgust': 0.0011160551787575826, 'fear': 0.24319233477918326, 'happy': 1.450816457837768e-05, 'sad': 0.2114908323351541, 'surprise': 8.970444124394409e-07, 'neutral': 0.0008541746974136785}, 'dominant_emotion': 'angry', 'region': {'x': 0, 'y': 0, 'w': 1920, 'h': 1080}}\n",
      "😡\n"
     ]
    },
    {
     "name": "stderr",
     "output_type": "stream",
     "text": [
      "Action: emotion: 100%|██████████| 1/1 [00:00<00:00, 23.69it/s]\n"
     ]
    },
    {
     "name": "stdout",
     "output_type": "stream",
     "text": [
      "{'emotion': {'angry': 99.16226267814636, 'disgust': 0.0017957787349587306, 'fear': 0.47960677184164524, 'happy': 4.9124651013698895e-05, 'sad': 0.3536236472427845, 'surprise': 2.387901965050787e-06, 'neutral': 0.0026652123779058456}, 'dominant_emotion': 'angry', 'region': {'x': 0, 'y': 0, 'w': 1920, 'h': 1080}}\n",
      "😡\n"
     ]
    },
    {
     "name": "stderr",
     "output_type": "stream",
     "text": [
      "Action: emotion: 100%|██████████| 1/1 [00:00<00:00, 31.68it/s]\n"
     ]
    },
    {
     "name": "stdout",
     "output_type": "stream",
     "text": [
      "{'emotion': {'angry': 99.49016571044922, 'disgust': 0.0004542075203062268, 'fear': 0.188557303044945, 'happy': 8.751589319899722e-06, 'sad': 0.31810367945581675, 'surprise': 1.6032373650887166e-06, 'neutral': 0.0027115465854876675}, 'dominant_emotion': 'angry', 'region': {'x': 0, 'y': 0, 'w': 1920, 'h': 1080}}\n",
      "😡\n"
     ]
    },
    {
     "name": "stderr",
     "output_type": "stream",
     "text": [
      "Action: emotion: 100%|██████████| 1/1 [00:00<00:00, 29.52it/s]\n"
     ]
    },
    {
     "name": "stdout",
     "output_type": "stream",
     "text": [
      "{'emotion': {'angry': 99.70345497131348, 'disgust': 0.00017888042975755525, 'fear': 0.13882126659154892, 'happy': 1.081290932347656e-05, 'sad': 0.15627866378054023, 'surprise': 1.221710732579595e-06, 'neutral': 0.0012555965440697037}, 'dominant_emotion': 'angry', 'region': {'x': 0, 'y': 0, 'w': 1920, 'h': 1080}}\n",
      "😡\n"
     ]
    },
    {
     "name": "stderr",
     "output_type": "stream",
     "text": [
      "Action: emotion: 100%|██████████| 1/1 [00:00<00:00, 32.19it/s]\n"
     ]
    },
    {
     "name": "stdout",
     "output_type": "stream",
     "text": [
      "{'emotion': {'angry': 99.01924723501487, 'disgust': 0.0004931504302650015, 'fear': 0.7175557277384834, 'happy': 0.00029420943454289, 'sad': 0.25922180301528, 'surprise': 6.696350540189113e-06, 'neutral': 0.003181580003463775}, 'dominant_emotion': 'angry', 'region': {'x': 0, 'y': 0, 'w': 1920, 'h': 1080}}\n",
      "😡\n"
     ]
    },
    {
     "name": "stderr",
     "output_type": "stream",
     "text": [
      "Action: emotion: 100%|██████████| 1/1 [00:00<00:00, 28.14it/s]\n"
     ]
    },
    {
     "name": "stdout",
     "output_type": "stream",
     "text": [
      "{'emotion': {'angry': 88.33270529898468, 'disgust': 0.007135704923067456, 'fear': 8.16075526604119, 'happy': 0.0373919509920941, 'sad': 3.2202337050716525, 'surprise': 0.0010571973130654134, 'neutral': 0.24072821793445562}, 'dominant_emotion': 'angry', 'region': {'x': 0, 'y': 0, 'w': 1920, 'h': 1080}}\n",
      "😡\n"
     ]
    },
    {
     "name": "stderr",
     "output_type": "stream",
     "text": [
      "Action: emotion: 100%|██████████| 1/1 [00:00<00:00, 35.46it/s]\n"
     ]
    },
    {
     "name": "stdout",
     "output_type": "stream",
     "text": [
      "{'emotion': {'angry': 85.71201733207496, 'disgust': 0.0009856283857622805, 'fear': 12.263307003580689, 'happy': 0.33696322410247037, 'sad': 1.395665222178075, 'surprise': 0.007708171133048921, 'neutral': 0.2833520888638987}, 'dominant_emotion': 'angry', 'region': {'x': 0, 'y': 0, 'w': 1920, 'h': 1080}}\n",
      "😡\n"
     ]
    },
    {
     "name": "stderr",
     "output_type": "stream",
     "text": [
      "Action: emotion: 100%|██████████| 1/1 [00:00<00:00, 30.93it/s]\n"
     ]
    },
    {
     "name": "stdout",
     "output_type": "stream",
     "text": [
      "{'emotion': {'angry': 90.9446011847733, 'disgust': 0.0005238807546756123, 'fear': 8.261450140303356, 'happy': 0.11030811432801314, 'sad': 0.5263055047326678, 'surprise': 0.00400648229957583, 'neutral': 0.1527997133709832}, 'dominant_emotion': 'angry', 'region': {'x': 0, 'y': 0, 'w': 1920, 'h': 1080}}\n",
      "😡\n"
     ]
    },
    {
     "name": "stderr",
     "output_type": "stream",
     "text": [
      "Action: emotion: 100%|██████████| 1/1 [00:00<00:00, 21.35it/s]\n"
     ]
    },
    {
     "name": "stdout",
     "output_type": "stream",
     "text": [
      "{'emotion': {'angry': 89.49243301062977, 'disgust': 0.0003692525282519158, 'fear': 9.759482414660742, 'happy': 0.13789509437100225, 'sad': 0.42498866505785765, 'surprise': 0.005386288017681675, 'neutral': 0.17944511302651323}, 'dominant_emotion': 'angry', 'region': {'x': 0, 'y': 0, 'w': 1920, 'h': 1080}}\n",
      "😡\n"
     ]
    },
    {
     "name": "stderr",
     "output_type": "stream",
     "text": [
      "Action: emotion: 100%|██████████| 1/1 [00:00<00:00, 34.31it/s]\n"
     ]
    },
    {
     "name": "stdout",
     "output_type": "stream",
     "text": [
      "{'emotion': {'angry': 71.59732580184937, 'disgust': 0.00041168968891724944, 'fear': 26.77180767059326, 'happy': 0.45057120732963085, 'sad': 0.7892152294516563, 'surprise': 0.027560480521060526, 'neutral': 0.363109284080565}, 'dominant_emotion': 'angry', 'region': {'x': 0, 'y': 0, 'w': 1920, 'h': 1080}}\n",
      "😡\n"
     ]
    },
    {
     "name": "stderr",
     "output_type": "stream",
     "text": [
      "Action: emotion: 100%|██████████| 1/1 [00:00<00:00, 30.89it/s]\n"
     ]
    },
    {
     "name": "stdout",
     "output_type": "stream",
     "text": [
      "{'emotion': {'angry': 73.50431960872646, 'disgust': 0.0004778149674422488, 'fear': 23.068229623821928, 'happy': 2.1262730212537075, 'sad': 0.7442546498632013, 'surprise': 0.11650796738734452, 'neutral': 0.43994314625181513}, 'dominant_emotion': 'angry', 'region': {'x': 0, 'y': 0, 'w': 1920, 'h': 1080}}\n",
      "😡\n"
     ]
    },
    {
     "name": "stderr",
     "output_type": "stream",
     "text": [
      "Action: emotion: 100%|██████████| 1/1 [00:00<00:00, 31.19it/s]\n"
     ]
    },
    {
     "name": "stdout",
     "output_type": "stream",
     "text": [
      "{'emotion': {'angry': 89.79437825612763, 'disgust': 0.0014359605194970001, 'fear': 8.057892538057867, 'happy': 1.2897396135019796, 'sad': 0.38990802123046175, 'surprise': 0.09051196890467035, 'neutral': 0.37613790309582984}, 'dominant_emotion': 'angry', 'region': {'x': 0, 'y': 0, 'w': 1920, 'h': 1080}}\n",
      "😡\n"
     ]
    },
    {
     "name": "stderr",
     "output_type": "stream",
     "text": [
      "Action: emotion: 100%|██████████| 1/1 [00:00<00:00, 30.62it/s]\n"
     ]
    },
    {
     "name": "stdout",
     "output_type": "stream",
     "text": [
      "{'emotion': {'angry': 95.03409325670084, 'disgust': 0.0003772190898936419, 'fear': 3.6018955884104265, 'happy': 0.9795470858160155, 'sad': 0.23024386775566724, 'surprise': 0.04308889397384745, 'neutral': 0.1107489092500318}, 'dominant_emotion': 'angry', 'region': {'x': 0, 'y': 0, 'w': 1920, 'h': 1080}}\n",
      "😡\n"
     ]
    },
    {
     "name": "stderr",
     "output_type": "stream",
     "text": [
      "Action: emotion: 100%|██████████| 1/1 [00:00<00:00, 31.58it/s]\n"
     ]
    },
    {
     "name": "stdout",
     "output_type": "stream",
     "text": [
      "{'emotion': {'angry': 85.54173880317941, 'disgust': 0.0008294448810220279, 'fear': 10.920065084688057, 'happy': 2.705268611875938, 'sad': 0.46292090857971807, 'surprise': 0.1183437508083879, 'neutral': 0.25082863205479}, 'dominant_emotion': 'angry', 'region': {'x': 0, 'y': 0, 'w': 1920, 'h': 1080}}\n",
      "😡\n"
     ]
    },
    {
     "name": "stderr",
     "output_type": "stream",
     "text": [
      "Action: emotion: 100%|██████████| 1/1 [00:00<00:00, 31.17it/s]\n"
     ]
    },
    {
     "name": "stdout",
     "output_type": "stream",
     "text": [
      "{'emotion': {'angry': 82.53432512283325, 'disgust': 0.0014504113096336368, 'fear': 15.407952666282654, 'happy': 0.30874842777848244, 'sad': 1.183934137225151, 'surprise': 0.03300776006653905, 'neutral': 0.5305897444486618}, 'dominant_emotion': 'angry', 'region': {'x': 0, 'y': 0, 'w': 1920, 'h': 1080}}\n",
      "😡\n"
     ]
    },
    {
     "name": "stderr",
     "output_type": "stream",
     "text": [
      "Action: emotion: 100%|██████████| 1/1 [00:00<00:00, 18.63it/s]\n"
     ]
    },
    {
     "name": "stdout",
     "output_type": "stream",
     "text": [
      "{'emotion': {'angry': 92.6441490650177, 'disgust': 0.0003910120994987665, 'fear': 6.91361129283905, 'happy': 0.0621690705884248, 'sad': 0.285122892819345, 'surprise': 0.014183862367644906, 'neutral': 0.08037452935241163}, 'dominant_emotion': 'angry', 'region': {'x': 0, 'y': 0, 'w': 1920, 'h': 1080}}\n",
      "😡\n"
     ]
    },
    {
     "name": "stderr",
     "output_type": "stream",
     "text": [
      "Action: emotion: 100%|██████████| 1/1 [00:00<00:00, 29.48it/s]\n"
     ]
    },
    {
     "name": "stdout",
     "output_type": "stream",
     "text": [
      "{'emotion': {'angry': 94.14736032485962, 'disgust': 0.0006349902832880616, 'fear': 5.096243694424629, 'happy': 0.2942026359960437, 'sad': 0.2741515636444092, 'surprise': 0.0412589666666463, 'neutral': 0.1461485750041902}, 'dominant_emotion': 'angry', 'region': {'x': 0, 'y': 0, 'w': 1920, 'h': 1080}}\n",
      "😡\n"
     ]
    },
    {
     "name": "stderr",
     "output_type": "stream",
     "text": [
      "Action: emotion: 100%|██████████| 1/1 [00:00<00:00, 31.27it/s]\n"
     ]
    },
    {
     "name": "stdout",
     "output_type": "stream",
     "text": [
      "{'emotion': {'angry': 94.49254870414734, 'disgust': 0.00033581598017917713, 'fear': 4.899279400706291, 'happy': 0.21671608556061983, 'sad': 0.28239237144589424, 'surprise': 0.022363664174918085, 'neutral': 0.0863653898704797}, 'dominant_emotion': 'angry', 'region': {'x': 0, 'y': 0, 'w': 1920, 'h': 1080}}\n",
      "😡\n"
     ]
    },
    {
     "name": "stderr",
     "output_type": "stream",
     "text": [
      "Action: emotion: 100%|██████████| 1/1 [00:00<00:00, 30.69it/s]\n"
     ]
    },
    {
     "name": "stdout",
     "output_type": "stream",
     "text": [
      "{'emotion': {'angry': 93.33663582801819, 'disgust': 0.0006006811418046709, 'fear': 5.898210406303406, 'happy': 0.1891918946057558, 'sad': 0.4146783147007227, 'surprise': 0.03041350282728672, 'neutral': 0.13026549713686109}, 'dominant_emotion': 'angry', 'region': {'x': 0, 'y': 0, 'w': 1920, 'h': 1080}}\n",
      "😡\n"
     ]
    },
    {
     "name": "stderr",
     "output_type": "stream",
     "text": [
      "Action: emotion: 100%|██████████| 1/1 [00:00<00:00, 30.59it/s]\n"
     ]
    },
    {
     "name": "stdout",
     "output_type": "stream",
     "text": [
      "{'emotion': {'angry': 94.43756308779497, 'disgust': 0.000841203887038444, 'fear': 4.825801317441542, 'happy': 0.1783387492538243, 'sad': 0.38349751806244364, 'surprise': 0.03375072757252172, 'neutral': 0.1402110177776824}, 'dominant_emotion': 'angry', 'region': {'x': 0, 'y': 0, 'w': 1920, 'h': 1080}}\n",
      "😡\n"
     ]
    },
    {
     "name": "stderr",
     "output_type": "stream",
     "text": [
      "Action: emotion: 100%|██████████| 1/1 [00:00<00:00, 30.50it/s]\n"
     ]
    },
    {
     "name": "stdout",
     "output_type": "stream",
     "text": [
      "{'emotion': {'angry': 93.13759803771973, 'disgust': 0.0008894113307178486, 'fear': 5.971145257353783, 'happy': 0.26081243995577097, 'sad': 0.4026624374091625, 'surprise': 0.04712312656920403, 'neutral': 0.17976973904296756}, 'dominant_emotion': 'angry', 'region': {'x': 0, 'y': 0, 'w': 1920, 'h': 1080}}\n",
      "😡\n"
     ]
    },
    {
     "name": "stderr",
     "output_type": "stream",
     "text": [
      "Action: emotion: 100%|██████████| 1/1 [00:00<00:00, 30.98it/s]\n"
     ]
    },
    {
     "name": "stdout",
     "output_type": "stream",
     "text": [
      "{'emotion': {'angry': 40.36759848980922, 'disgust': 0.0005539635161684546, 'fear': 48.14661465327565, 'happy': 10.349854338186462, 'sad': 0.5222070339671333, 'surprise': 0.5411485961945538, 'neutral': 0.0720194571479312}, 'dominant_emotion': 'fear', 'region': {'x': 0, 'y': 0, 'w': 1920, 'h': 1080}}\n",
      "😨\n"
     ]
    },
    {
     "name": "stderr",
     "output_type": "stream",
     "text": [
      "Action: emotion: 100%|██████████| 1/1 [00:00<00:00, 32.68it/s]\n"
     ]
    },
    {
     "name": "stdout",
     "output_type": "stream",
     "text": [
      "{'emotion': {'angry': 91.58427119255066, 'disgust': 0.00737218651920557, 'fear': 4.401997849345207, 'happy': 2.0371556282043457, 'sad': 1.461752038449049, 'surprise': 0.009939954907167703, 'neutral': 0.49750590696930885}, 'dominant_emotion': 'angry', 'region': {'x': 0, 'y': 0, 'w': 1920, 'h': 1080}}\n",
      "😡\n"
     ]
    },
    {
     "name": "stderr",
     "output_type": "stream",
     "text": [
      "Action: emotion: 100%|██████████| 1/1 [00:00<00:00, 12.63it/s]\n"
     ]
    },
    {
     "name": "stdout",
     "output_type": "stream",
     "text": [
      "{'emotion': {'angry': 93.14750514656244, 'disgust': 0.004141736514733849, 'fear': 1.6462793473864379, 'happy': 0.02383814141966207, 'sad': 4.361060486905517, 'surprise': 0.007150685144320411, 'neutral': 0.8100184577681473}, 'dominant_emotion': 'angry', 'region': {'x': 0, 'y': 0, 'w': 1920, 'h': 1080}}\n",
      "😡\n"
     ]
    },
    {
     "name": "stderr",
     "output_type": "stream",
     "text": [
      "Action: emotion: 100%|██████████| 1/1 [00:00<00:00, 33.49it/s]\n"
     ]
    },
    {
     "name": "stdout",
     "output_type": "stream",
     "text": [
      "{'emotion': {'angry': 98.3688235282898, 'disgust': 1.5879212611480398e-06, 'fear': 0.01256041432498023, 'happy': 3.124356606765133e-08, 'sad': 1.6182363033294678, 'surprise': 4.5258445428852934e-10, 'neutral': 0.000386141527997097}, 'dominant_emotion': 'angry', 'region': {'x': 0, 'y': 0, 'w': 1920, 'h': 1080}}\n",
      "😡\n"
     ]
    },
    {
     "name": "stderr",
     "output_type": "stream",
     "text": [
      "Action: emotion: 100%|██████████| 1/1 [00:00<00:00, 30.54it/s]\n"
     ]
    },
    {
     "name": "stdout",
     "output_type": "stream",
     "text": [
      "{'emotion': {'angry': 99.25976391194844, 'disgust': 3.358270750703816e-07, 'fear': 0.04823938939936545, 'happy': 1.3159795219109956e-09, 'sad': 0.6919502693087023, 'surprise': 9.780467297254391e-09, 'neutral': 5.0350721084928277e-05}, 'dominant_emotion': 'angry', 'region': {'x': 0, 'y': 0, 'w': 1920, 'h': 1080}}\n",
      "😡\n"
     ]
    },
    {
     "name": "stderr",
     "output_type": "stream",
     "text": [
      "Action: emotion: 100%|██████████| 1/1 [00:00<00:00, 29.57it/s]\n"
     ]
    },
    {
     "name": "stdout",
     "output_type": "stream",
     "text": [
      "{'emotion': {'angry': 99.70740079879761, 'disgust': 5.8646004719165035e-08, 'fear': 0.04594915080815554, 'happy': 1.0692536266121433e-09, 'sad': 0.24663498625159264, 'surprise': 1.3190235015336782e-08, 'neutral': 1.5213414883419318e-05}, 'dominant_emotion': 'angry', 'region': {'x': 0, 'y': 0, 'w': 1920, 'h': 1080}}\n",
      "😡\n"
     ]
    },
    {
     "name": "stderr",
     "output_type": "stream",
     "text": [
      "Action: emotion: 100%|██████████| 1/1 [00:00<00:00, 31.94it/s]\n"
     ]
    },
    {
     "name": "stdout",
     "output_type": "stream",
     "text": [
      "{'emotion': {'angry': 98.60165731887135, 'disgust': 4.5920710644355143e-07, 'fear': 0.3538893812356137, 'happy': 5.365495949077047e-09, 'sad': 1.0443168378690675, 'surprise': 7.960698372973552e-08, 'neutral': 0.00013452141262679053}, 'dominant_emotion': 'angry', 'region': {'x': 0, 'y': 0, 'w': 1920, 'h': 1080}}\n",
      "😡\n"
     ]
    }
   ],
   "source": [
    "vid = cv2.VideoCapture(0)\n",
    "\n",
    "# Marca de inicio\n",
    "disponible = 0\n",
    "while (True):\n",
    "    # fotograma a fotograma\n",
    "    ret, frame = vid.read()\n",
    "\n",
    "    if ret:\n",
    "        obj = DeepFace.analyze(frame,\n",
    "                         enforce_detection=False, actions=['emotion'])\n",
    "\n",
    "        obj = obj[0]\n",
    "\n",
    "        #cv2.putText(frame, \"Gender: \" + str(obj[\"gender\"]), (10, 100), cv2.FONT_HERSHEY_SIMPLEX, 1, (0, 0, 255), 2)\n",
    "        cv2.putText(frame, \"Emotion: \" + str(obj[\"emotion\"]), (10, 250), cv2.FONT_HERSHEY_SIMPLEX, 1, (0, 0, 255), 2)\n",
    "        cv2.putText(frame, \"Dominant Emotion: \" + str(obj[\"dominant_emotion\"]), (10, 300), cv2.FONT_HERSHEY_SIMPLEX, 1, (0, 0, 255), 2)\n",
    "\n",
    "        frame = addEmojiOverUsersFace(frame, obj)\n",
    "\n",
    "        cv2.imshow(\"Emociones\", frame)\n",
    "\n",
    "    # Detenemos pulsado ESC\n",
    "    if cv2.waitKey(20) == 27:\n",
    "        break\n",
    "\n",
    "# Libera el objeto de captura\n",
    "vid.release()\n",
    "# Destruye ventanas\n",
    "cv2.destroyAllWindows()"
   ]
  }
 ],
 "metadata": {
  "kernelspec": {
   "display_name": "VC_P6",
   "language": "python",
   "name": "python3"
  },
  "language_info": {
   "codemirror_mode": {
    "name": "ipython",
    "version": 3
   },
   "file_extension": ".py",
   "mimetype": "text/x-python",
   "name": "python",
   "nbconvert_exporter": "python",
   "pygments_lexer": "ipython3",
   "version": "3.11.5"
  }
 },
 "nbformat": 4,
 "nbformat_minor": 2
}
