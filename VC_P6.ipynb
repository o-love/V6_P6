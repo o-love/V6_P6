{
 "cells": [
  {
   "cell_type": "code",
   "execution_count": 8,
   "metadata": {},
   "outputs": [],
   "source": [
    "import cv2\n",
    "from deepface import DeepFace\n",
    "from PIL import Image, ImageFont, ImageDraw\n",
    "import numpy as np\n",
    "import matplotlib.pyplot as plt\n"
   ]
  },
  {
   "cell_type": "code",
   "execution_count": 2,
   "metadata": {},
   "outputs": [],
   "source": [
    "font = ImageFont.truetype(\"NotoColorEmoji-Regular.ttf\", 100)"
   ]
  },
  {
   "cell_type": "code",
   "execution_count": 40,
   "metadata": {},
   "outputs": [],
   "source": [
    "def addEmojiOverUsersFace(frame, deepFaceObject):\n",
    "    obj = deepFaceObject\n",
    "\n",
    "    print(obj)\n",
    "    region = obj[\"region\"]\n",
    "    top_left = (region[\"x\"], region[\"y\"])\n",
    "    bottom_right = (region[\"x\"] + region[\"w\"], region[\"y\"] + region[\"h\"])\n",
    "    mid_point = tuple(np.array([top_left, bottom_right]).mean(axis=0))\n",
    "\n",
    "    cv2.rectangle(frame, top_left, bottom_right, (0, 255, 0), 2)\n",
    "\n",
    "    emotion = obj[\"dominant_emotion\"]\n",
    "    if emotion == \"happy\":\n",
    "        emoji = u\"\\U0001F600\"\n",
    "    elif emotion == \"sad\":\n",
    "        emoji = u\"\\U0001F614\"\n",
    "    elif emotion == \"angry\":\n",
    "        emoji = u\"\\U0001F620\"\n",
    "    elif emotion == \"neutral\":\n",
    "        emoji = u\"\\U0001F636\"\n",
    "    elif emotion == \"surprise\":\n",
    "        emoji = u\"\\U0001F632\"\n",
    "    elif emotion == \"fear\":\n",
    "        emoji = u\"\\U0001F631\"\n",
    "    elif emotion == \"disgust\":\n",
    "        emoji = u\"\\U0001F922\"\n",
    "    else:\n",
    "        emoji = \"\"\n",
    "\n",
    "    print(emoji)\n",
    "\n",
    "    try:\n",
    "        # Loading the font file\n",
    "        font = ImageFont.truetype(\n",
    "            \"/System/Library/Fonts/Apple Color Emoji.ttc\", 50, index=1)\n",
    "    except Exception as e:\n",
    "        print(f\"Error loading font: {e}\")\n",
    "        return frame\n",
    "\n",
    "    try:\n",
    "        # Converting frame format and drawing\n",
    "        frame_rgb = cv2.cvtColor(frame, cv2.COLOR_BGR2RGB)\n",
    "        pil_image = Image.fromarray(frame_rgb)\n",
    "        draw = ImageDraw.Draw(pil_image)\n",
    "        draw.text((10, 10), emoji, font=font)\n",
    "\n",
    "        plt.imshow(np.array(pil_image))\n",
    "        plt.show()\n",
    "        new_frame = cv2.cvtColor(np.asarray(pil_image), cv2.COLOR_RGB2BGR)\n",
    "        cv2.imshow(\"frame\", new_frame)\n",
    "\n",
    "        return new_frame\n",
    "\n",
    "    except Exception as e:\n",
    "        print(f\"Error during drawing: {e}\")\n",
    "        return frame  # Returning the original frame if drawing fails"
   ]
  },
  {
   "cell_type": "code",
   "execution_count": 41,
   "metadata": {},
   "outputs": [
    {
     "name": "stderr",
     "output_type": "stream",
     "text": [
      "Action: emotion: 100%|██████████| 1/1 [00:00<00:00, 28.50it/s]\n"
     ]
    },
    {
     "name": "stdout",
     "output_type": "stream",
     "text": [
      "{'emotion': {'angry': 81.55336599905897, 'disgust': 0.001864180154059958, 'fear': 0.06494021898848187, 'happy': 2.1491998107195127, 'sad': 3.1513418970892553, 'surprise': 2.9778288852776424, 'neutral': 10.101451265638916}, 'dominant_emotion': 'angry', 'region': {'x': 0, 'y': 0, 'w': 1920, 'h': 1080}}\n",
      "😠\n",
      "Error loading font: invalid pixel size\n"
     ]
    },
    {
     "name": "stderr",
     "output_type": "stream",
     "text": [
      "Action: emotion: 100%|██████████| 1/1 [00:00<00:00, 31.21it/s]\n"
     ]
    },
    {
     "name": "stdout",
     "output_type": "stream",
     "text": [
      "{'emotion': {'angry': 0.02414626072559378, 'disgust': 0.0001767729161929495, 'fear': 3.8817319116911992, 'happy': 0.3346688646472854, 'sad': 5.554289081181397, 'surprise': 0.03737665383684292, 'neutral': 90.16760704903518}, 'dominant_emotion': 'neutral', 'region': {'x': 707, 'y': 364, 'w': 332, 'h': 332}}\n",
      "😶\n",
      "Error loading font: invalid pixel size\n"
     ]
    },
    {
     "name": "stderr",
     "output_type": "stream",
     "text": [
      "Action: emotion: 100%|██████████| 1/1 [00:00<00:00, 31.08it/s]\n"
     ]
    },
    {
     "name": "stdout",
     "output_type": "stream",
     "text": [
      "{'emotion': {'angry': 8.677515904755348, 'disgust': 0.00018298090889569434, 'fear': 58.08335292836147, 'happy': 0.0007008444262560627, 'sad': 30.93192165684233, 'surprise': 0.6448869512162776, 'neutral': 1.6614356137177715}, 'dominant_emotion': 'fear', 'region': {'x': 706, 'y': 371, 'w': 326, 'h': 326}}\n",
      "😱\n",
      "Error loading font: invalid pixel size\n"
     ]
    },
    {
     "name": "stderr",
     "output_type": "stream",
     "text": [
      "Action: emotion: 100%|██████████| 1/1 [00:00<00:00, 30.51it/s]\n"
     ]
    },
    {
     "name": "stdout",
     "output_type": "stream",
     "text": [
      "{'emotion': {'angry': 42.24175810813904, 'disgust': 0.09287763386964798, 'fear': 28.978365659713745, 'happy': 0.45394226908683777, 'sad': 9.723865240812302, 'surprise': 3.5413969308137894, 'neutral': 14.967793226242065}, 'dominant_emotion': 'angry', 'region': {'x': 696, 'y': 369, 'w': 333, 'h': 333}}\n",
      "😠\n",
      "Error loading font: invalid pixel size\n"
     ]
    },
    {
     "name": "stderr",
     "output_type": "stream",
     "text": [
      "Action: emotion: 100%|██████████| 1/1 [00:00<00:00, 30.40it/s]\n"
     ]
    },
    {
     "name": "stdout",
     "output_type": "stream",
     "text": [
      "{'emotion': {'angry': 42.09391929398524, 'disgust': 0.1058705806053723, 'fear': 17.451129993998407, 'happy': 0.6675508601309407, 'sad': 27.486475256647214, 'surprise': 0.5493535711205431, 'neutral': 11.64570584518418}, 'dominant_emotion': 'angry', 'region': {'x': 698, 'y': 370, 'w': 323, 'h': 323}}\n",
      "😠\n",
      "Error loading font: invalid pixel size\n"
     ]
    },
    {
     "name": "stderr",
     "output_type": "stream",
     "text": [
      "Action: emotion: 100%|██████████| 1/1 [00:00<00:00, 20.97it/s]\n"
     ]
    },
    {
     "name": "stdout",
     "output_type": "stream",
     "text": [
      "{'emotion': {'angry': 0.8082267828285694, 'disgust': 0.000592307151237037, 'fear': 2.373228035867214, 'happy': 0.035299803130328655, 'sad': 52.31459140777588, 'surprise': 0.060351035790517926, 'neutral': 44.407716393470764}, 'dominant_emotion': 'sad', 'region': {'x': 704, 'y': 368, 'w': 316, 'h': 316}}\n",
      "😔\n",
      "Error loading font: invalid pixel size\n"
     ]
    },
    {
     "name": "stderr",
     "output_type": "stream",
     "text": [
      "Action: emotion: 100%|██████████| 1/1 [00:00<00:00, 30.26it/s]\n"
     ]
    },
    {
     "name": "stdout",
     "output_type": "stream",
     "text": [
      "{'emotion': {'angry': 24.361123106546586, 'disgust': 0.04408501234971061, 'fear': 26.32517971546529, 'happy': 0.12979127541802976, 'sad': 42.83909158939669, 'surprise': 0.03215429797570693, 'neutral': 6.268575416122402}, 'dominant_emotion': 'sad', 'region': {'x': 704, 'y': 368, 'w': 320, 'h': 320}}\n",
      "😔\n",
      "Error loading font: invalid pixel size\n"
     ]
    },
    {
     "name": "stderr",
     "output_type": "stream",
     "text": [
      "Action: emotion: 100%|██████████| 1/1 [00:00<00:00, 33.53it/s]\n"
     ]
    },
    {
     "name": "stdout",
     "output_type": "stream",
     "text": [
      "{'emotion': {'angry': 0.967775471508503, 'disgust': 0.0004692286438512383, 'fear': 10.44125035405159, 'happy': 0.6377062760293484, 'sad': 82.45605826377869, 'surprise': 0.00021772516447526868, 'neutral': 5.496525391936302}, 'dominant_emotion': 'sad', 'region': {'x': 695, 'y': 362, 'w': 328, 'h': 328}}\n",
      "😔\n",
      "Error loading font: invalid pixel size\n"
     ]
    },
    {
     "name": "stderr",
     "output_type": "stream",
     "text": [
      "Action: emotion: 100%|██████████| 1/1 [00:00<00:00, 35.69it/s]\n"
     ]
    },
    {
     "name": "stdout",
     "output_type": "stream",
     "text": [
      "{'emotion': {'angry': 0.14209248527154503, 'disgust': 1.7546916714860857e-14, 'fear': 0.0006826012036345628, 'happy': 0.007132859777886373, 'sad': 2.469469871286169, 'surprise': 3.2707452635798457e-10, 'neutral': 97.38062055341952}, 'dominant_emotion': 'neutral', 'region': {'x': 0, 'y': 0, 'w': 1920, 'h': 1080}}\n",
      "😶\n",
      "Error loading font: invalid pixel size\n"
     ]
    },
    {
     "name": "stderr",
     "output_type": "stream",
     "text": [
      "Action: emotion: 100%|██████████| 1/1 [00:00<00:00, 30.91it/s]\n"
     ]
    },
    {
     "name": "stdout",
     "output_type": "stream",
     "text": [
      "{'emotion': {'angry': 0.12490464141592383, 'disgust': 1.3768913633845737e-14, 'fear': 0.0007718019332969561, 'happy': 0.015295829507522285, 'sad': 0.9542124345898628, 'surprise': 1.688136609667712e-09, 'neutral': 98.9048182964325}, 'dominant_emotion': 'neutral', 'region': {'x': 0, 'y': 0, 'w': 1920, 'h': 1080}}\n",
      "😶\n",
      "Error loading font: invalid pixel size\n"
     ]
    },
    {
     "name": "stderr",
     "output_type": "stream",
     "text": [
      "Action: emotion: 100%|██████████| 1/1 [00:00<00:00, 33.41it/s]\n"
     ]
    },
    {
     "name": "stdout",
     "output_type": "stream",
     "text": [
      "{'emotion': {'angry': 1.5196128748357296, 'disgust': 1.7691719733647915e-05, 'fear': 4.43090945482254, 'happy': 1.0229662992060184, 'sad': 8.193445205688477, 'surprise': 1.8815377727150917, 'neutral': 82.95151591300964}, 'dominant_emotion': 'neutral', 'region': {'x': 690, 'y': 359, 'w': 344, 'h': 344}}\n",
      "😶\n",
      "Error loading font: invalid pixel size\n"
     ]
    },
    {
     "name": "stderr",
     "output_type": "stream",
     "text": [
      "Action: emotion: 100%|██████████| 1/1 [00:00<00:00, 31.95it/s]\n"
     ]
    },
    {
     "name": "stdout",
     "output_type": "stream",
     "text": [
      "{'emotion': {'angry': 0.012303310364868364, 'disgust': 0.0004894401918827065, 'fear': 0.0011315100656744505, 'happy': 97.29213102413004, 'sad': 0.13406467258943155, 'surprise': 0.00014683177789517448, 'neutral': 2.559735964818952}, 'dominant_emotion': 'happy', 'region': {'x': 692, 'y': 360, 'w': 345, 'h': 345}}\n",
      "😀\n",
      "Error loading font: invalid pixel size\n"
     ]
    },
    {
     "name": "stderr",
     "output_type": "stream",
     "text": [
      "Action: emotion: 100%|██████████| 1/1 [00:00<00:00, 35.49it/s]\n"
     ]
    },
    {
     "name": "stdout",
     "output_type": "stream",
     "text": [
      "{'emotion': {'angry': 0.1768744899891317, 'disgust': 5.4367725573891486e-14, 'fear': 0.0007838703822926618, 'happy': 0.028526692767627537, 'sad': 1.363111287355423, 'surprise': 8.415677009432354e-10, 'neutral': 98.4307050704956}, 'dominant_emotion': 'neutral', 'region': {'x': 0, 'y': 0, 'w': 1920, 'h': 1080}}\n",
      "😶\n",
      "Error loading font: invalid pixel size\n"
     ]
    },
    {
     "name": "stderr",
     "output_type": "stream",
     "text": [
      "Action: emotion: 100%|██████████| 1/1 [00:00<00:00, 35.72it/s]\n"
     ]
    },
    {
     "name": "stdout",
     "output_type": "stream",
     "text": [
      "{'emotion': {'angry': 0.009663250966696069, 'disgust': 2.991627725473583e-15, 'fear': 0.003354295768076554, 'happy': 0.013591778406407684, 'sad': 1.4796918258070946, 'surprise': 5.22139484426809e-09, 'neutral': 98.49370121955872}, 'dominant_emotion': 'neutral', 'region': {'x': 0, 'y': 0, 'w': 1920, 'h': 1080}}\n",
      "😶\n",
      "Error loading font: invalid pixel size\n"
     ]
    },
    {
     "name": "stderr",
     "output_type": "stream",
     "text": [
      "Action: emotion: 100%|██████████| 1/1 [00:00<00:00, 21.99it/s]\n"
     ]
    },
    {
     "name": "stdout",
     "output_type": "stream",
     "text": [
      "{'emotion': {'angry': 1.918174064030609e-05, 'disgust': 5.017903777945411e-18, 'fear': 78.86551022529602, 'happy': 6.0675131408061134e-05, 'sad': 8.39720368385315, 'surprise': 9.106774001566009e-07, 'neutral': 12.737210094928741}, 'dominant_emotion': 'fear', 'region': {'x': 0, 'y': 0, 'w': 1920, 'h': 1080}}\n",
      "😱\n",
      "Error loading font: invalid pixel size\n"
     ]
    },
    {
     "name": "stderr",
     "output_type": "stream",
     "text": [
      "Action: emotion: 100%|██████████| 1/1 [00:00<00:00, 30.25it/s]\n"
     ]
    },
    {
     "name": "stdout",
     "output_type": "stream",
     "text": [
      "{'emotion': {'angry': 2.1288160004683685e-08, 'disgust': 5.796333182531258e-19, 'fear': 0.0001618483662304193, 'happy': 1.2667031373876446e-09, 'sad': 99.99539256068424, 'surprise': 2.153706895573554e-17, 'neutral': 0.004448555675062875}, 'dominant_emotion': 'sad', 'region': {'x': 0, 'y': 0, 'w': 1920, 'h': 1080}}\n",
      "😔\n",
      "Error loading font: invalid pixel size\n"
     ]
    },
    {
     "name": "stderr",
     "output_type": "stream",
     "text": [
      "Action: emotion: 100%|██████████| 1/1 [00:00<00:00, 29.04it/s]\n"
     ]
    },
    {
     "name": "stdout",
     "output_type": "stream",
     "text": [
      "{'emotion': {'angry': 3.5831255461133423e-13, 'disgust': 2.7878122281537724e-24, 'fear': 0.0005302231152223574, 'happy': 5.950684418924245e-13, 'sad': 99.99941587455083, 'surprise': 2.923175258304686e-23, 'neutral': 4.849546248224464e-05}, 'dominant_emotion': 'sad', 'region': {'x': 0, 'y': 0, 'w': 1920, 'h': 1080}}\n",
      "😔\n",
      "Error loading font: invalid pixel size\n"
     ]
    },
    {
     "name": "stderr",
     "output_type": "stream",
     "text": [
      "Action: emotion: 100%|██████████| 1/1 [00:00<00:00, 29.18it/s]\n"
     ]
    },
    {
     "name": "stdout",
     "output_type": "stream",
     "text": [
      "{'emotion': {'angry': 2.732555171212281e-16, 'disgust': 4.8079327024903484e-29, 'fear': 2.8254862627363764e-05, 'happy': 1.4658229142337992e-13, 'sad': 99.99896287918091, 'surprise': 1.0121035339807027e-24, 'neutral': 0.001012928260024637}, 'dominant_emotion': 'sad', 'region': {'x': 0, 'y': 0, 'w': 1920, 'h': 1080}}\n",
      "😔\n",
      "Error loading font: invalid pixel size\n"
     ]
    },
    {
     "name": "stderr",
     "output_type": "stream",
     "text": [
      "Action: emotion: 100%|██████████| 1/1 [00:00<00:00, 29.45it/s]\n"
     ]
    },
    {
     "name": "stdout",
     "output_type": "stream",
     "text": [
      "{'emotion': {'angry': 6.551441654712824e-16, 'disgust': 2.529964450123265e-29, 'fear': 0.0012121074900612043, 'happy': 9.358561601374308e-14, 'sad': 99.99869465820161, 'surprise': 1.501252774444569e-24, 'neutral': 9.699406869604289e-05}, 'dominant_emotion': 'sad', 'region': {'x': 0, 'y': 0, 'w': 1920, 'h': 1080}}\n",
      "😔\n",
      "Error loading font: invalid pixel size\n"
     ]
    },
    {
     "name": "stderr",
     "output_type": "stream",
     "text": [
      "Action: emotion: 100%|██████████| 1/1 [00:00<00:00, 29.42it/s]\n"
     ]
    },
    {
     "name": "stdout",
     "output_type": "stream",
     "text": [
      "{'emotion': {'angry': 9.890788008656827e-16, 'disgust': 7.937905523701682e-29, 'fear': 0.0008631345735921059, 'happy': 5.492388740705866e-14, 'sad': 99.99908208847046, 'surprise': 4.152877346478352e-25, 'neutral': 5.627287009701831e-05}, 'dominant_emotion': 'sad', 'region': {'x': 0, 'y': 0, 'w': 1920, 'h': 1080}}\n",
      "😔\n",
      "Error loading font: invalid pixel size\n"
     ]
    },
    {
     "name": "stderr",
     "output_type": "stream",
     "text": [
      "Action: emotion: 100%|██████████| 1/1 [00:00<00:00, 31.87it/s]\n"
     ]
    },
    {
     "name": "stdout",
     "output_type": "stream",
     "text": [
      "{'emotion': {'angry': 4.582254270792121e-16, 'disgust': 2.1531083336158528e-29, 'fear': 0.0004927641384711023, 'happy': 1.5337524684443115e-14, 'sad': 99.99948740005493, 'surprise': 3.474679268452113e-26, 'neutral': 2.172456987636906e-05}, 'dominant_emotion': 'sad', 'region': {'x': 0, 'y': 0, 'w': 1920, 'h': 1080}}\n",
      "😔\n",
      "Error loading font: invalid pixel size\n"
     ]
    },
    {
     "name": "stderr",
     "output_type": "stream",
     "text": [
      "Action: emotion: 100%|██████████| 1/1 [00:00<00:00, 33.98it/s]\n"
     ]
    },
    {
     "name": "stdout",
     "output_type": "stream",
     "text": [
      "{'emotion': {'angry': 9.1034830073224e-16, 'disgust': 7.409702750987531e-29, 'fear': 0.0005094811816792196, 'happy': 3.265897188457167e-14, 'sad': 99.99946951862988, 'surprise': 9.392482601735174e-26, 'neutral': 2.124423856890864e-05}, 'dominant_emotion': 'sad', 'region': {'x': 0, 'y': 0, 'w': 1920, 'h': 1080}}\n",
      "😔\n",
      "Error loading font: invalid pixel size\n"
     ]
    },
    {
     "name": "stderr",
     "output_type": "stream",
     "text": [
      "Action: emotion: 100%|██████████| 1/1 [00:00<00:00, 27.33it/s]\n"
     ]
    },
    {
     "name": "stdout",
     "output_type": "stream",
     "text": [
      "{'emotion': {'angry': 2.0015742163330983e-16, 'disgust': 9.921342767620976e-30, 'fear': 0.00036160047329758527, 'happy': 1.537955340049469e-14, 'sad': 99.99963045120239, 'surprise': 6.2582052336987045e-27, 'neutral': 9.778942455795914e-06}, 'dominant_emotion': 'sad', 'region': {'x': 0, 'y': 0, 'w': 1920, 'h': 1080}}\n",
      "😔\n",
      "Error loading font: invalid pixel size\n"
     ]
    },
    {
     "name": "stderr",
     "output_type": "stream",
     "text": [
      "Action: emotion: 100%|██████████| 1/1 [00:00<00:00, 31.04it/s]\n"
     ]
    },
    {
     "name": "stdout",
     "output_type": "stream",
     "text": [
      "{'emotion': {'angry': 1.9397702917145992e-16, 'disgust': 5.898687427744247e-30, 'fear': 0.0003563616004198719, 'happy': 1.0316525084524759e-14, 'sad': 99.9996364116452, 'surprise': 5.8455853230406055e-27, 'neutral': 6.669371941446988e-06}, 'dominant_emotion': 'sad', 'region': {'x': 0, 'y': 0, 'w': 1920, 'h': 1080}}\n",
      "😔\n",
      "Error loading font: invalid pixel size\n"
     ]
    },
    {
     "name": "stderr",
     "output_type": "stream",
     "text": [
      "Action: emotion: 100%|██████████| 1/1 [00:00<00:00, 29.61it/s]\n"
     ]
    },
    {
     "name": "stdout",
     "output_type": "stream",
     "text": [
      "{'emotion': {'angry': 2.1742134276178156e-16, 'disgust': 8.288199666411977e-30, 'fear': 0.00037966801755828783, 'happy': 1.2680489531513762e-14, 'sad': 99.99960660934448, 'surprise': 9.946783578081811e-27, 'neutral': 9.41389828312822e-06}, 'dominant_emotion': 'sad', 'region': {'x': 0, 'y': 0, 'w': 1920, 'h': 1080}}\n",
      "😔\n",
      "Error loading font: invalid pixel size\n"
     ]
    },
    {
     "name": "stderr",
     "output_type": "stream",
     "text": [
      "Action: emotion: 100%|██████████| 1/1 [00:00<00:00, 30.83it/s]\n"
     ]
    },
    {
     "name": "stdout",
     "output_type": "stream",
     "text": [
      "{'emotion': {'angry': 1.186622331763325e-16, 'disgust': 7.48142850608387e-30, 'fear': 0.0003324501903989585, 'happy': 3.4737387620182333e-14, 'sad': 99.9996542930603, 'surprise': 1.037645674311528e-26, 'neutral': 1.3013418254104181e-05}, 'dominant_emotion': 'sad', 'region': {'x': 0, 'y': 0, 'w': 1920, 'h': 1080}}\n",
      "😔\n",
      "Error loading font: invalid pixel size\n"
     ]
    },
    {
     "name": "stderr",
     "output_type": "stream",
     "text": [
      "Action: emotion: 100%|██████████| 1/1 [00:00<00:00, 31.65it/s]\n"
     ]
    },
    {
     "name": "stdout",
     "output_type": "stream",
     "text": [
      "{'emotion': {'angry': 1.2877768013063627e-16, 'disgust': 9.376874943218407e-30, 'fear': 0.00031465344818570884, 'happy': 3.3357343309000503e-14, 'sad': 99.99967813491821, 'surprise': 9.472268143558823e-27, 'neutral': 8.476996526951552e-06}, 'dominant_emotion': 'sad', 'region': {'x': 0, 'y': 0, 'w': 1920, 'h': 1080}}\n",
      "😔\n",
      "Error loading font: invalid pixel size\n"
     ]
    },
    {
     "name": "stderr",
     "output_type": "stream",
     "text": [
      "Action: emotion: 100%|██████████| 1/1 [00:00<00:00, 32.89it/s]\n"
     ]
    },
    {
     "name": "stdout",
     "output_type": "stream",
     "text": [
      "{'emotion': {'angry': 9.527865977936396e-17, 'disgust': 4.656393773148485e-30, 'fear': 0.00037865665928224447, 'happy': 1.8909883296138063e-14, 'sad': 99.99961256978587, 'surprise': 3.250902532346491e-27, 'neutral': 6.852317522155755e-06}, 'dominant_emotion': 'sad', 'region': {'x': 0, 'y': 0, 'w': 1920, 'h': 1080}}\n",
      "😔\n",
      "Error loading font: invalid pixel size\n"
     ]
    },
    {
     "name": "stderr",
     "output_type": "stream",
     "text": [
      "Action: emotion: 100%|██████████| 1/1 [00:00<00:00, 31.03it/s]\n"
     ]
    },
    {
     "name": "stdout",
     "output_type": "stream",
     "text": [
      "{'emotion': {'angry': 9.191878148678742e-17, 'disgust': 5.020834958710092e-30, 'fear': 0.00042459519650268847, 'happy': 2.29927729746632e-14, 'sad': 99.99957084650646, 'surprise': 3.2314402989276084e-27, 'neutral': 7.731394402634876e-06}, 'dominant_emotion': 'sad', 'region': {'x': 0, 'y': 0, 'w': 1920, 'h': 1080}}\n",
      "😔\n",
      "Error loading font: invalid pixel size\n"
     ]
    },
    {
     "name": "stderr",
     "output_type": "stream",
     "text": [
      "Action: emotion: 100%|██████████| 1/1 [00:00<00:00, 31.54it/s]\n"
     ]
    },
    {
     "name": "stdout",
     "output_type": "stream",
     "text": [
      "{'emotion': {'angry': 8.83981296750057e-17, 'disgust': 4.102611886249203e-30, 'fear': 0.00038332848373267143, 'happy': 1.7412229694451844e-14, 'sad': 99.99961256978587, 'surprise': 2.2871907534678944e-27, 'neutral': 7.729849221808216e-06}, 'dominant_emotion': 'sad', 'region': {'x': 0, 'y': 0, 'w': 1920, 'h': 1080}}\n",
      "😔\n",
      "Error loading font: invalid pixel size\n"
     ]
    },
    {
     "name": "stderr",
     "output_type": "stream",
     "text": [
      "Action: emotion: 100%|██████████| 1/1 [00:00<00:00, 29.61it/s]\n"
     ]
    },
    {
     "name": "stdout",
     "output_type": "stream",
     "text": [
      "{'emotion': {'angry': 6.197102732397743e-17, 'disgust': 2.434073083171076e-30, 'fear': 0.0005015102487959666, 'happy': 1.7949586358340206e-14, 'sad': 99.99948740005493, 'surprise': 2.4827758747672402e-27, 'neutral': 1.1116839004898793e-05}, 'dominant_emotion': 'sad', 'region': {'x': 0, 'y': 0, 'w': 1920, 'h': 1080}}\n",
      "😔\n",
      "Error loading font: invalid pixel size\n"
     ]
    },
    {
     "name": "stderr",
     "output_type": "stream",
     "text": [
      "Action: emotion: 100%|██████████| 1/1 [00:00<00:00, 26.19it/s]\n"
     ]
    },
    {
     "name": "stdout",
     "output_type": "stream",
     "text": [
      "{'emotion': {'angry': 6.910381398383877e-17, 'disgust': 3.283957506598564e-30, 'fear': 0.0006021820617472324, 'happy': 1.5571257341542584e-14, 'sad': 99.99939203255082, 'surprise': 2.7553807535062983e-27, 'neutral': 7.346205586947561e-06}, 'dominant_emotion': 'sad', 'region': {'x': 0, 'y': 0, 'w': 1920, 'h': 1080}}\n",
      "😔\n",
      "Error loading font: invalid pixel size\n"
     ]
    },
    {
     "name": "stderr",
     "output_type": "stream",
     "text": [
      "Action: emotion: 100%|██████████| 1/1 [00:00<00:00, 36.43it/s]\n"
     ]
    },
    {
     "name": "stdout",
     "output_type": "stream",
     "text": [
      "{'emotion': {'angry': 6.345152791821523e-17, 'disgust': 4.702801397699514e-30, 'fear': 0.0004959753960142617, 'happy': 3.942431943163907e-14, 'sad': 99.9994993209242, 'surprise': 5.82007793001673e-27, 'neutral': 8.571933163730522e-06}, 'dominant_emotion': 'sad', 'region': {'x': 0, 'y': 0, 'w': 1920, 'h': 1080}}\n",
      "😔\n",
      "Error loading font: invalid pixel size\n"
     ]
    },
    {
     "name": "stderr",
     "output_type": "stream",
     "text": [
      "Action: emotion: 100%|██████████| 1/1 [00:00<00:00, 33.30it/s]\n"
     ]
    },
    {
     "name": "stdout",
     "output_type": "stream",
     "text": [
      "{'emotion': {'angry': 1.748226966832188e-17, 'disgust': 7.3036197040954385e-31, 'fear': 0.0004895528945780825, 'happy': 2.2285770361483623e-14, 'sad': 99.99951124191284, 'surprise': 1.5727638950047186e-27, 'neutral': 5.506185729586832e-06}, 'dominant_emotion': 'sad', 'region': {'x': 0, 'y': 0, 'w': 1920, 'h': 1080}}\n",
      "😔\n",
      "Error loading font: invalid pixel size\n"
     ]
    },
    {
     "name": "stderr",
     "output_type": "stream",
     "text": [
      "Action: emotion: 100%|██████████| 1/1 [00:00<00:00, 32.73it/s]\n"
     ]
    },
    {
     "name": "stdout",
     "output_type": "stream",
     "text": [
      "{'emotion': {'angry': 8.420898322359571e-18, 'disgust': 2.3586831386901723e-32, 'fear': 0.0010400291102996562, 'happy': 6.842966760886189e-15, 'sad': 99.998939037323, 'surprise': 3.382485242755539e-26, 'neutral': 2.7360744070392684e-05}, 'dominant_emotion': 'sad', 'region': {'x': 0, 'y': 0, 'w': 1920, 'h': 1080}}\n",
      "😔\n",
      "Error loading font: invalid pixel size\n"
     ]
    },
    {
     "name": "stderr",
     "output_type": "stream",
     "text": [
      "Action: emotion: 100%|██████████| 1/1 [00:00<00:00, 34.28it/s]\n"
     ]
    },
    {
     "name": "stdout",
     "output_type": "stream",
     "text": [
      "{'emotion': {'angry': 4.216433768757593e-11, 'disgust': 6.926600493683577e-23, 'fear': 1.3096345437845316, 'happy': 1.1446507757783782e-07, 'sad': 98.29868664137642, 'surprise': 3.471518005535738e-16, 'neutral': 0.3916772781567143}, 'dominant_emotion': 'sad', 'region': {'x': 0, 'y': 0, 'w': 1920, 'h': 1080}}\n",
      "😔\n",
      "Error loading font: invalid pixel size\n"
     ]
    },
    {
     "name": "stderr",
     "output_type": "stream",
     "text": [
      "Action: emotion: 100%|██████████| 1/1 [00:00<00:00, 33.40it/s]\n"
     ]
    },
    {
     "name": "stdout",
     "output_type": "stream",
     "text": [
      "{'emotion': {'angry': 3.026595196686799e-07, 'disgust': 2.5868931020738006e-11, 'fear': 0.0008018647349672392, 'happy': 99.89038705825806, 'sad': 0.02999294374603778, 'surprise': 9.711227733077976e-06, 'neutral': 0.07880794000811875}, 'dominant_emotion': 'happy', 'region': {'x': 636, 'y': 371, 'w': 254, 'h': 254}}\n",
      "😀\n",
      "Error loading font: invalid pixel size\n"
     ]
    },
    {
     "name": "stderr",
     "output_type": "stream",
     "text": [
      "Action: emotion: 100%|██████████| 1/1 [00:00<00:00, 34.09it/s]\n"
     ]
    },
    {
     "name": "stdout",
     "output_type": "stream",
     "text": [
      "{'emotion': {'angry': 2.973769098406603e-07, 'disgust': 6.7663159245607385e-18, 'fear': 90.56145661336701, 'happy': 4.771620183031882e-05, 'sad': 4.672048801535511, 'surprise': 1.576148912232677e-07, 'neutral': 4.766444666213433}, 'dominant_emotion': 'fear', 'region': {'x': 0, 'y': 0, 'w': 1920, 'h': 1080}}\n",
      "😱\n",
      "Error loading font: invalid pixel size\n"
     ]
    },
    {
     "name": "stderr",
     "output_type": "stream",
     "text": [
      "Action: emotion: 100%|██████████| 1/1 [00:00<00:00, 35.55it/s]\n"
     ]
    },
    {
     "name": "stdout",
     "output_type": "stream",
     "text": [
      "{'emotion': {'angry': 2.1727741739141493e-05, 'disgust': 1.0987823061165479e-15, 'fear': 66.59756898880005, 'happy': 0.0010108145033882465, 'sad': 16.872194409370422, 'surprise': 6.748463593497789e-09, 'neutral': 16.529202461242676}, 'dominant_emotion': 'fear', 'region': {'x': 0, 'y': 0, 'w': 1920, 'h': 1080}}\n",
      "😱\n",
      "Error loading font: invalid pixel size\n"
     ]
    },
    {
     "name": "stderr",
     "output_type": "stream",
     "text": [
      "Action: emotion: 100%|██████████| 1/1 [00:00<00:00, 33.04it/s]\n"
     ]
    },
    {
     "name": "stdout",
     "output_type": "stream",
     "text": [
      "{'emotion': {'angry': 0.00042728725020424463, 'disgust': 4.111100465688042e-16, 'fear': 32.64014422893524, 'happy': 0.0002729817651925259, 'sad': 51.44161581993103, 'surprise': 4.5735127924412255e-11, 'neutral': 15.917544066905975}, 'dominant_emotion': 'sad', 'region': {'x': 0, 'y': 0, 'w': 1920, 'h': 1080}}\n",
      "😔\n",
      "Error loading font: invalid pixel size\n"
     ]
    },
    {
     "name": "stderr",
     "output_type": "stream",
     "text": [
      "Action: emotion: 100%|██████████| 1/1 [00:00<00:00, 34.30it/s]\n"
     ]
    },
    {
     "name": "stdout",
     "output_type": "stream",
     "text": [
      "{'emotion': {'angry': 0.010825816571014002, 'disgust': 2.529833409425919e-05, 'fear': 0.010278671106789261, 'happy': 0.7458936423063278, 'sad': 0.6906395778059959, 'surprise': 0.001093780610972317, 'neutral': 98.54124188423157}, 'dominant_emotion': 'neutral', 'region': {'x': 651, 'y': 355, 'w': 330, 'h': 330}}\n",
      "😶\n",
      "Error loading font: invalid pixel size\n"
     ]
    },
    {
     "name": "stderr",
     "output_type": "stream",
     "text": [
      "Action: emotion: 100%|██████████| 1/1 [00:00<00:00, 23.48it/s]\n"
     ]
    },
    {
     "name": "stdout",
     "output_type": "stream",
     "text": [
      "{'emotion': {'angry': 0.0014110775737208314, 'disgust': 2.2388075837653787e-07, 'fear': 6.405541057574737e-05, 'happy': 13.045713305473328, 'sad': 0.041001560748554766, 'surprise': 0.0006655657671217341, 'neutral': 86.911141872406}, 'dominant_emotion': 'neutral', 'region': {'x': 660, 'y': 355, 'w': 330, 'h': 330}}\n",
      "😶\n",
      "Error loading font: invalid pixel size\n"
     ]
    },
    {
     "name": "stderr",
     "output_type": "stream",
     "text": [
      "Action: emotion: 100%|██████████| 1/1 [00:00<00:00, 34.69it/s]\n"
     ]
    },
    {
     "name": "stdout",
     "output_type": "stream",
     "text": [
      "{'emotion': {'angry': 27.213310931526312, 'disgust': 0.0022950590384262083, 'fear': 14.222091231096837, 'happy': 0.1319416757779806, 'sad': 50.43992990971447, 'surprise': 5.610392318917237, 'neutral': 2.3800353476363005}, 'dominant_emotion': 'sad', 'region': {'x': 661, 'y': 359, 'w': 333, 'h': 333}}\n",
      "😔\n",
      "Error loading font: invalid pixel size\n"
     ]
    },
    {
     "name": "stderr",
     "output_type": "stream",
     "text": [
      "Action: emotion: 100%|██████████| 1/1 [00:00<00:00, 32.94it/s]\n"
     ]
    },
    {
     "name": "stdout",
     "output_type": "stream",
     "text": [
      "{'emotion': {'angry': 0.003324528006487526, 'disgust': 6.890198278597381e-05, 'fear': 0.0004761310719914036, 'happy': 50.23762583732605, 'sad': 0.9586109779775143, 'surprise': 1.9245312898874545e-05, 'neutral': 48.799875378608704}, 'dominant_emotion': 'happy', 'region': {'x': 667, 'y': 362, 'w': 338, 'h': 338}}\n",
      "😀\n",
      "Error loading font: invalid pixel size\n"
     ]
    },
    {
     "name": "stderr",
     "output_type": "stream",
     "text": [
      "Action: emotion: 100%|██████████| 1/1 [00:00<00:00, 31.69it/s]\n"
     ]
    },
    {
     "name": "stdout",
     "output_type": "stream",
     "text": [
      "{'emotion': {'angry': 0.007746079791104421, 'disgust': 0.00018495688891562168, 'fear': 0.07902327342890203, 'happy': 1.0292399674654007, 'sad': 5.21315298974514, 'surprise': 7.878821861595497e-05, 'neutral': 93.67057085037231}, 'dominant_emotion': 'neutral', 'region': {'x': 668, 'y': 366, 'w': 334, 'h': 334}}\n",
      "😶\n",
      "Error loading font: invalid pixel size\n"
     ]
    },
    {
     "name": "stderr",
     "output_type": "stream",
     "text": [
      "Action: emotion: 100%|██████████| 1/1 [00:00<00:00, 33.75it/s]\n"
     ]
    },
    {
     "name": "stdout",
     "output_type": "stream",
     "text": [
      "{'emotion': {'angry': 8.290237399986835e-05, 'disgust': 3.688571543235183e-09, 'fear': 1.123970139563432e-06, 'happy': 80.08086562638674, 'sad': 0.003787137255307086, 'surprise': 3.924689856110922e-05, 'neutral': 19.915224308682937}, 'dominant_emotion': 'happy', 'region': {'x': 656, 'y': 358, 'w': 334, 'h': 334}}\n",
      "😀\n",
      "Error loading font: invalid pixel size\n"
     ]
    },
    {
     "name": "stderr",
     "output_type": "stream",
     "text": [
      "Action: emotion: 100%|██████████| 1/1 [00:00<00:00, 36.82it/s]\n"
     ]
    },
    {
     "name": "stdout",
     "output_type": "stream",
     "text": [
      "{'emotion': {'angry': 0.05257673328742385, 'disgust': 0.11858207872137427, 'fear': 0.307366787455976, 'happy': 78.15766334533691, 'sad': 0.9114631451666355, 'surprise': 0.11893236078321934, 'neutral': 20.333421230316162}, 'dominant_emotion': 'happy', 'region': {'x': 651, 'y': 366, 'w': 258, 'h': 258}}\n",
      "😀\n",
      "Error loading font: invalid pixel size\n"
     ]
    },
    {
     "name": "stderr",
     "output_type": "stream",
     "text": [
      "Action: emotion: 100%|██████████| 1/1 [00:00<00:00, 31.67it/s]\n"
     ]
    },
    {
     "name": "stdout",
     "output_type": "stream",
     "text": [
      "{'emotion': {'angry': 5.597244623345432e-06, 'disgust': 3.0369752012951147e-18, 'fear': 0.023558104294352233, 'happy': 3.215852473203995e-06, 'sad': 96.26062512397766, 'surprise': 1.329341944663147e-15, 'neutral': 3.71580608189106}, 'dominant_emotion': 'sad', 'region': {'x': 0, 'y': 0, 'w': 1920, 'h': 1080}}\n",
      "😔\n",
      "Error loading font: invalid pixel size\n"
     ]
    },
    {
     "name": "stderr",
     "output_type": "stream",
     "text": [
      "Action: emotion: 100%|██████████| 1/1 [00:00<00:00, 34.28it/s]\n"
     ]
    },
    {
     "name": "stdout",
     "output_type": "stream",
     "text": [
      "{'emotion': {'angry': 1.1269902789852806e-11, 'disgust': 1.922379947054225e-23, 'fear': 0.0014036999345989898, 'happy': 8.599358204686158e-11, 'sad': 99.9836802482605, 'surprise': 7.124850489854144e-22, 'neutral': 0.014910742174834013}, 'dominant_emotion': 'sad', 'region': {'x': 0, 'y': 0, 'w': 1920, 'h': 1080}}\n",
      "😔\n",
      "Error loading font: invalid pixel size\n"
     ]
    },
    {
     "name": "stderr",
     "output_type": "stream",
     "text": [
      "Action: emotion: 100%|██████████| 1/1 [00:00<00:00, 34.92it/s]\n"
     ]
    },
    {
     "name": "stdout",
     "output_type": "stream",
     "text": [
      "{'emotion': {'angry': 3.352815173797907e-13, 'disgust': 1.051641026846226e-24, 'fear': 0.0035027107514906675, 'happy': 3.8145276867740385e-10, 'sad': 99.99080896377563, 'surprise': 3.901740747102954e-21, 'neutral': 0.005684923962689936}, 'dominant_emotion': 'sad', 'region': {'x': 0, 'y': 0, 'w': 1920, 'h': 1080}}\n",
      "😔\n",
      "Error loading font: invalid pixel size\n"
     ]
    },
    {
     "name": "stderr",
     "output_type": "stream",
     "text": [
      "Action: emotion: 100%|██████████| 1/1 [00:00<00:00, 33.49it/s]\n"
     ]
    },
    {
     "name": "stdout",
     "output_type": "stream",
     "text": [
      "{'emotion': {'angry': 3.1058689119543425e-14, 'disgust': 1.962110584693116e-26, 'fear': 0.008317436004290357, 'happy': 2.5262823517141486e-10, 'sad': 99.97796416282654, 'surprise': 3.663995109664894e-21, 'neutral': 0.013719242997467518}, 'dominant_emotion': 'sad', 'region': {'x': 0, 'y': 0, 'w': 1920, 'h': 1080}}\n",
      "😔\n",
      "Error loading font: invalid pixel size\n"
     ]
    },
    {
     "name": "stderr",
     "output_type": "stream",
     "text": [
      "Action: emotion: 100%|██████████| 1/1 [00:00<00:00, 26.23it/s]\n"
     ]
    },
    {
     "name": "stdout",
     "output_type": "stream",
     "text": [
      "{'emotion': {'angry': 1.1681434022562016e-14, 'disgust': 4.886170935757915e-27, 'fear': 0.008306892414111644, 'happy': 1.8581661816868822e-10, 'sad': 99.98109936714172, 'surprise': 1.889521292041163e-21, 'neutral': 0.010596343781799078}, 'dominant_emotion': 'sad', 'region': {'x': 0, 'y': 0, 'w': 1920, 'h': 1080}}\n",
      "😔\n",
      "Error loading font: invalid pixel size\n"
     ]
    },
    {
     "name": "stderr",
     "output_type": "stream",
     "text": [
      "Action: emotion: 100%|██████████| 1/1 [00:00<00:00, 27.53it/s]\n"
     ]
    },
    {
     "name": "stdout",
     "output_type": "stream",
     "text": [
      "{'emotion': {'angry': 2.0012286285449798e-14, 'disgust': 1.1468457817876628e-26, 'fear': 0.011203997564734891, 'happy': 3.5058475220117735e-10, 'sad': 99.9723494052887, 'surprise': 2.0463126034358137e-21, 'neutral': 0.016449173563160002}, 'dominant_emotion': 'sad', 'region': {'x': 0, 'y': 0, 'w': 1920, 'h': 1080}}\n",
      "😔\n",
      "Error loading font: invalid pixel size\n"
     ]
    },
    {
     "name": "stderr",
     "output_type": "stream",
     "text": [
      "Action: emotion: 100%|██████████| 1/1 [00:00<00:00, 33.76it/s]\n"
     ]
    },
    {
     "name": "stdout",
     "output_type": "stream",
     "text": [
      "{'emotion': {'angry': 1.472016207385886e-14, 'disgust': 7.862033626390005e-27, 'fear': 0.00809397388366051, 'happy': 2.4899490021906834e-10, 'sad': 99.98003840446472, 'surprise': 8.96970900179659e-22, 'neutral': 0.011867217108374462}, 'dominant_emotion': 'sad', 'region': {'x': 0, 'y': 0, 'w': 1920, 'h': 1080}}\n",
      "😔\n",
      "Error loading font: invalid pixel size\n"
     ]
    },
    {
     "name": "stderr",
     "output_type": "stream",
     "text": [
      "Action: emotion: 100%|██████████| 1/1 [00:00<00:00, 27.96it/s]\n"
     ]
    },
    {
     "name": "stdout",
     "output_type": "stream",
     "text": [
      "{'emotion': {'angry': 7.724082196355634e-15, 'disgust': 1.3751673947557878e-27, 'fear': 0.0057796354667516425, 'happy': 6.801297806197093e-11, 'sad': 99.98761415481567, 'surprise': 2.188365034892541e-22, 'neutral': 0.006605210364796221}, 'dominant_emotion': 'sad', 'region': {'x': 0, 'y': 0, 'w': 1920, 'h': 1080}}\n",
      "😔\n"
     ]
    },
    {
     "ename": "KeyboardInterrupt",
     "evalue": "",
     "output_type": "error",
     "traceback": [
      "\u001b[0;31m---------------------------------------------------------------------------\u001b[0m",
      "\u001b[0;31mOSError\u001b[0m                                   Traceback (most recent call last)",
      "File \u001b[0;32m~/anaconda3/envs/VC_P6/lib/python3.11/site-packages/PIL/ImageFont.py:797\u001b[0m, in \u001b[0;36mtruetype\u001b[0;34m(font, size, index, encoding, layout_engine)\u001b[0m\n\u001b[1;32m    796\u001b[0m \u001b[38;5;28;01mtry\u001b[39;00m:\n\u001b[0;32m--> 797\u001b[0m     \u001b[38;5;28;01mreturn\u001b[39;00m \u001b[43mfreetype\u001b[49m\u001b[43m(\u001b[49m\u001b[43mfont\u001b[49m\u001b[43m)\u001b[49m\n\u001b[1;32m    798\u001b[0m \u001b[38;5;28;01mexcept\u001b[39;00m \u001b[38;5;167;01mOSError\u001b[39;00m:\n",
      "File \u001b[0;32m~/anaconda3/envs/VC_P6/lib/python3.11/site-packages/PIL/ImageFont.py:794\u001b[0m, in \u001b[0;36mtruetype.<locals>.freetype\u001b[0;34m(font)\u001b[0m\n\u001b[1;32m    793\u001b[0m \u001b[38;5;28;01mdef\u001b[39;00m \u001b[38;5;21mfreetype\u001b[39m(font):\n\u001b[0;32m--> 794\u001b[0m     \u001b[38;5;28;01mreturn\u001b[39;00m \u001b[43mFreeTypeFont\u001b[49m\u001b[43m(\u001b[49m\u001b[43mfont\u001b[49m\u001b[43m,\u001b[49m\u001b[43m \u001b[49m\u001b[43msize\u001b[49m\u001b[43m,\u001b[49m\u001b[43m \u001b[49m\u001b[43mindex\u001b[49m\u001b[43m,\u001b[49m\u001b[43m \u001b[49m\u001b[43mencoding\u001b[49m\u001b[43m,\u001b[49m\u001b[43m \u001b[49m\u001b[43mlayout_engine\u001b[49m\u001b[43m)\u001b[49m\n",
      "File \u001b[0;32m~/anaconda3/envs/VC_P6/lib/python3.11/site-packages/PIL/ImageFont.py:226\u001b[0m, in \u001b[0;36mFreeTypeFont.__init__\u001b[0;34m(self, font, size, index, encoding, layout_engine)\u001b[0m\n\u001b[1;32m    225\u001b[0m             \u001b[38;5;28;01mreturn\u001b[39;00m\n\u001b[0;32m--> 226\u001b[0m     \u001b[38;5;28mself\u001b[39m\u001b[38;5;241m.\u001b[39mfont \u001b[38;5;241m=\u001b[39m \u001b[43mcore\u001b[49m\u001b[38;5;241;43m.\u001b[39;49m\u001b[43mgetfont\u001b[49m\u001b[43m(\u001b[49m\n\u001b[1;32m    227\u001b[0m \u001b[43m        \u001b[49m\u001b[43mfont\u001b[49m\u001b[43m,\u001b[49m\u001b[43m \u001b[49m\u001b[43msize\u001b[49m\u001b[43m,\u001b[49m\u001b[43m \u001b[49m\u001b[43mindex\u001b[49m\u001b[43m,\u001b[49m\u001b[43m \u001b[49m\u001b[43mencoding\u001b[49m\u001b[43m,\u001b[49m\u001b[43m \u001b[49m\u001b[43mlayout_engine\u001b[49m\u001b[38;5;241;43m=\u001b[39;49m\u001b[43mlayout_engine\u001b[49m\n\u001b[1;32m    228\u001b[0m \u001b[43m    \u001b[49m\u001b[43m)\u001b[49m\n\u001b[1;32m    229\u001b[0m \u001b[38;5;28;01melse\u001b[39;00m:\n",
      "\u001b[0;31mOSError\u001b[0m: invalid pixel size",
      "\nDuring handling of the above exception, another exception occurred:\n",
      "\u001b[0;31mKeyboardInterrupt\u001b[0m                         Traceback (most recent call last)",
      "Cell \u001b[0;32mIn[41], line 18\u001b[0m\n\u001b[1;32m     15\u001b[0m     cv2\u001b[38;5;241m.\u001b[39mputText(frame, \u001b[38;5;124m\"\u001b[39m\u001b[38;5;124mEmotion: \u001b[39m\u001b[38;5;124m\"\u001b[39m \u001b[38;5;241m+\u001b[39m \u001b[38;5;28mstr\u001b[39m(obj[\u001b[38;5;124m\"\u001b[39m\u001b[38;5;124memotion\u001b[39m\u001b[38;5;124m\"\u001b[39m]), (\u001b[38;5;241m10\u001b[39m, \u001b[38;5;241m250\u001b[39m), cv2\u001b[38;5;241m.\u001b[39mFONT_HERSHEY_SIMPLEX, \u001b[38;5;241m1\u001b[39m, (\u001b[38;5;241m0\u001b[39m, \u001b[38;5;241m0\u001b[39m, \u001b[38;5;241m255\u001b[39m), \u001b[38;5;241m2\u001b[39m)\n\u001b[1;32m     16\u001b[0m     cv2\u001b[38;5;241m.\u001b[39mputText(frame, \u001b[38;5;124m\"\u001b[39m\u001b[38;5;124mDominant Emotion: \u001b[39m\u001b[38;5;124m\"\u001b[39m \u001b[38;5;241m+\u001b[39m \u001b[38;5;28mstr\u001b[39m(obj[\u001b[38;5;124m\"\u001b[39m\u001b[38;5;124mdominant_emotion\u001b[39m\u001b[38;5;124m\"\u001b[39m]), (\u001b[38;5;241m10\u001b[39m, \u001b[38;5;241m300\u001b[39m), cv2\u001b[38;5;241m.\u001b[39mFONT_HERSHEY_SIMPLEX, \u001b[38;5;241m1\u001b[39m, (\u001b[38;5;241m0\u001b[39m, \u001b[38;5;241m0\u001b[39m, \u001b[38;5;241m255\u001b[39m), \u001b[38;5;241m2\u001b[39m)\n\u001b[0;32m---> 18\u001b[0m     frame \u001b[38;5;241m=\u001b[39m \u001b[43maddEmojiOverUsersFace\u001b[49m\u001b[43m(\u001b[49m\u001b[43mframe\u001b[49m\u001b[43m,\u001b[49m\u001b[43m \u001b[49m\u001b[43mobj\u001b[49m\u001b[43m)\u001b[49m\n\u001b[1;32m     20\u001b[0m     cv2\u001b[38;5;241m.\u001b[39mimshow(\u001b[38;5;124m\"\u001b[39m\u001b[38;5;124mEmociones\u001b[39m\u001b[38;5;124m\"\u001b[39m, frame)\n\u001b[1;32m     22\u001b[0m \u001b[38;5;66;03m# Detenemos pulsado ESC\u001b[39;00m\n",
      "Cell \u001b[0;32mIn[40], line 34\u001b[0m, in \u001b[0;36maddEmojiOverUsersFace\u001b[0;34m(frame, deepFaceObject)\u001b[0m\n\u001b[1;32m     30\u001b[0m \u001b[38;5;28mprint\u001b[39m(emoji)\n\u001b[1;32m     32\u001b[0m \u001b[38;5;28;01mtry\u001b[39;00m:\n\u001b[1;32m     33\u001b[0m     \u001b[38;5;66;03m# Loading the font file\u001b[39;00m\n\u001b[0;32m---> 34\u001b[0m     font \u001b[38;5;241m=\u001b[39m \u001b[43mImageFont\u001b[49m\u001b[38;5;241;43m.\u001b[39;49m\u001b[43mtruetype\u001b[49m\u001b[43m(\u001b[49m\n\u001b[1;32m     35\u001b[0m \u001b[43m        \u001b[49m\u001b[38;5;124;43m\"\u001b[39;49m\u001b[38;5;124;43m/System/Library/Fonts/Apple Color Emoji.ttc\u001b[39;49m\u001b[38;5;124;43m\"\u001b[39;49m\u001b[43m,\u001b[49m\u001b[43m \u001b[49m\u001b[38;5;241;43m50\u001b[39;49m\u001b[43m,\u001b[49m\u001b[43m \u001b[49m\u001b[43mindex\u001b[49m\u001b[38;5;241;43m=\u001b[39;49m\u001b[38;5;241;43m1\u001b[39;49m\u001b[43m)\u001b[49m\n\u001b[1;32m     36\u001b[0m \u001b[38;5;28;01mexcept\u001b[39;00m \u001b[38;5;167;01mException\u001b[39;00m \u001b[38;5;28;01mas\u001b[39;00m e:\n\u001b[1;32m     37\u001b[0m     \u001b[38;5;28mprint\u001b[39m(\u001b[38;5;124mf\u001b[39m\u001b[38;5;124m\"\u001b[39m\u001b[38;5;124mError loading font: \u001b[39m\u001b[38;5;132;01m{\u001b[39;00me\u001b[38;5;132;01m}\u001b[39;00m\u001b[38;5;124m\"\u001b[39m)\n",
      "File \u001b[0;32m~/anaconda3/envs/VC_P6/lib/python3.11/site-packages/PIL/ImageFont.py:799\u001b[0m, in \u001b[0;36mtruetype\u001b[0;34m(font, size, index, encoding, layout_engine)\u001b[0m\n\u001b[1;32m    797\u001b[0m     \u001b[38;5;28;01mreturn\u001b[39;00m freetype(font)\n\u001b[1;32m    798\u001b[0m \u001b[38;5;28;01mexcept\u001b[39;00m \u001b[38;5;167;01mOSError\u001b[39;00m:\n\u001b[0;32m--> 799\u001b[0m     \u001b[38;5;28;01mif\u001b[39;00m \u001b[38;5;129;01mnot\u001b[39;00m \u001b[43mis_path\u001b[49m\u001b[43m(\u001b[49m\u001b[43mfont\u001b[49m\u001b[43m)\u001b[49m:\n\u001b[1;32m    800\u001b[0m         \u001b[38;5;28;01mraise\u001b[39;00m\n\u001b[1;32m    801\u001b[0m     ttf_filename \u001b[38;5;241m=\u001b[39m os\u001b[38;5;241m.\u001b[39mpath\u001b[38;5;241m.\u001b[39mbasename(font)\n",
      "File \u001b[0;32m~/anaconda3/envs/VC_P6/lib/python3.11/site-packages/PIL/_util.py:5\u001b[0m, in \u001b[0;36mis_path\u001b[0;34m(f)\u001b[0m\n\u001b[1;32m      1\u001b[0m \u001b[38;5;28;01mimport\u001b[39;00m \u001b[38;5;21;01mos\u001b[39;00m\n\u001b[1;32m      2\u001b[0m \u001b[38;5;28;01mfrom\u001b[39;00m \u001b[38;5;21;01mpathlib\u001b[39;00m \u001b[38;5;28;01mimport\u001b[39;00m Path\n\u001b[0;32m----> 5\u001b[0m \u001b[38;5;28;01mdef\u001b[39;00m \u001b[38;5;21mis_path\u001b[39m(f):\n\u001b[1;32m      6\u001b[0m     \u001b[38;5;28;01mreturn\u001b[39;00m \u001b[38;5;28misinstance\u001b[39m(f, (\u001b[38;5;28mbytes\u001b[39m, \u001b[38;5;28mstr\u001b[39m, Path))\n\u001b[1;32m      9\u001b[0m \u001b[38;5;28;01mdef\u001b[39;00m \u001b[38;5;21mis_directory\u001b[39m(f):\n",
      "\u001b[0;31mKeyboardInterrupt\u001b[0m: "
     ]
    }
   ],
   "source": [
    "vid = cv2.VideoCapture(0)\n",
    "\n",
    "# Marca de inicio\n",
    "disponible = 0\n",
    "while (True):\n",
    "    # fotograma a fotograma\n",
    "    ret, frame = vid.read()\n",
    "\n",
    "    if ret:\n",
    "        obj = DeepFace.analyze(frame,\n",
    "                         enforce_detection=False, actions=['emotion'])\n",
    "\n",
    "        obj = obj[0]\n",
    "\n",
    "        cv2.putText(frame, \"Emotion: \" + str(obj[\"emotion\"]), (10, 250), cv2.FONT_HERSHEY_SIMPLEX, 1, (0, 0, 255), 2)\n",
    "        cv2.putText(frame, \"Dominant Emotion: \" + str(obj[\"dominant_emotion\"]), (10, 300), cv2.FONT_HERSHEY_SIMPLEX, 1, (0, 0, 255), 2)\n",
    "\n",
    "        frame = addEmojiOverUsersFace(frame, obj)\n",
    "\n",
    "        cv2.imshow(\"Emociones\", frame)\n",
    "\n",
    "    # Detenemos pulsado ESC\n",
    "    if cv2.waitKey(20) == 27:\n",
    "        break\n",
    "\n",
    "# Libera el objeto de captura\n",
    "vid.release()\n",
    "# Destruye ventanas\n",
    "cv2.destroyAllWindows()"
   ]
  }
 ],
 "metadata": {
  "kernelspec": {
   "display_name": "VC_P6",
   "language": "python",
   "name": "python3"
  },
  "language_info": {
   "codemirror_mode": {
    "name": "ipython",
    "version": 3
   },
   "file_extension": ".py",
   "mimetype": "text/x-python",
   "name": "python",
   "nbconvert_exporter": "python",
   "pygments_lexer": "ipython3",
   "version": "3.11.5"
  }
 },
 "nbformat": 4,
 "nbformat_minor": 2
}
