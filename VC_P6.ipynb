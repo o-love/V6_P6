{
 "cells": [
  {
   "cell_type": "code",
   "execution_count": 8,
   "metadata": {},
   "outputs": [],
   "source": [
    "import cv2\n",
    "from deepface import DeepFace\n",
    "from PIL import Image, ImageFont, ImageDraw\n",
    "import numpy as np"
   ]
  },
  {
   "cell_type": "code",
   "execution_count": null,
   "metadata": {},
   "outputs": [],
   "source": [
    "font = ImageFont.truetype(\"NotoColorEmoji-Regular.ttf\", 100)"
   ]
  },
  {
   "cell_type": "code",
   "execution_count": 15,
   "metadata": {},
   "outputs": [],
   "source": [
    "def addEmojiOverUsersFace(frame, deepFaceObject):\n",
    "    obj = deepFaceObject\n",
    "\n",
    "    print(obj)\n",
    "    region = obj[\"region\"]\n",
    "    top_left = (region[\"x\"], region[\"y\"])\n",
    "    bottom_right = (region[\"x\"] + region[\"w\"], region[\"y\"] + region[\"h\"])\n",
    "    mid_point = tuple(np.array([top_left, bottom_right]).mean(axis=0))\n",
    "\n",
    "    cv2.rectangle(frame, top_left, bottom_right, (0, 255, 0), 2)\n",
    "\n",
    "    emotion = obj[\"dominant_emotion\"]\n",
    "    if emotion == \"happy\":\n",
    "        emoji = \"😀\"\n",
    "    elif emotion == \"sad\":\n",
    "        emoji = \"😢\"\n",
    "    elif emotion == \"angry\":\n",
    "        emoji = \"😡\"\n",
    "    elif emotion == \"neutral\":\n",
    "        emoji = \"😐\"\n",
    "    elif emotion == \"surprise\":\n",
    "        emoji = \"😮\"\n",
    "    elif emotion == \"fear\":\n",
    "        emoji = \"😨\"\n",
    "    elif emotion == \"disgust\":\n",
    "        emoji = \"🤢\"\n",
    "    else:\n",
    "        emoji = \"\"\n",
    "\n",
    "    print(emoji)\n",
    "\n",
    "    font = ImageFont.truetype(\"NotoColorEmoji-Regular.ttf\", min(region[\"w\"], region[\"h\"]))\n",
    "\n",
    "    frame_rgb = cv2.cvtColor(frame, cv2.COLOR_BGR2RGB)\n",
    "    pil_image = Image.fromarray(frame_rgb)\n",
    "    draw = ImageDraw.Draw(pil_image)\n",
    "    draw.text(mid_point, emoji, font=font, fill=(0, 0, 255))\n",
    "\n",
    "    new_frame = cv2.cvtColor(np.array(pil_image), cv2.COLOR_RGB2BGR)\n",
    "    cv2.imshow(\"frame\", new_frame)\n",
    "\n",
    "    return new_frame\n",
    "    "
   ]
  },
  {
   "cell_type": "code",
   "execution_count": 16,
   "metadata": {},
   "outputs": [
    {
     "name": "stderr",
     "output_type": "stream",
     "text": [
      "Action: emotion: 100%|██████████| 1/1 [00:00<00:00, 27.50it/s]\n"
     ]
    },
    {
     "name": "stdout",
     "output_type": "stream",
     "text": [
      "{'emotion': {'angry': 81.55336599905897, 'disgust': 0.001864180154059958, 'fear': 0.06494021898848187, 'happy': 2.1491998107195127, 'sad': 3.1513418970892553, 'surprise': 2.9778288852776424, 'neutral': 10.101451265638916}, 'dominant_emotion': 'angry', 'region': {'x': 0, 'y': 0, 'w': 1920, 'h': 1080}}\n",
      "😡\n"
     ]
    },
    {
     "name": "stderr",
     "output_type": "stream",
     "text": [
      "Action: emotion: 100%|██████████| 1/1 [00:00<00:00, 24.32it/s]\n"
     ]
    },
    {
     "name": "stdout",
     "output_type": "stream",
     "text": [
      "{'emotion': {'angry': 2.5846253346018154e-07, 'disgust': 5.100122263471863e-14, 'fear': 20.19808263767258, 'happy': 3.660631911793421e-10, 'sad': 79.7826397289419, 'surprise': 8.413849817124617e-13, 'neutral': 0.019278925595666505}, 'dominant_emotion': 'sad', 'region': {'x': 0, 'y': 0, 'w': 1920, 'h': 1080}}\n",
      "😢\n"
     ]
    },
    {
     "name": "stderr",
     "output_type": "stream",
     "text": [
      "Action: emotion: 100%|██████████| 1/1 [00:00<00:00, 26.94it/s]\n"
     ]
    },
    {
     "name": "stdout",
     "output_type": "stream",
     "text": [
      "{'emotion': {'angry': 2.5886868204594293e-07, 'disgust': 1.3569637387039465e-15, 'fear': 12.082002311944962, 'happy': 3.717009068159721e-11, 'sad': 87.89914846420288, 'surprise': 4.109236348003205e-13, 'neutral': 0.018845936574507505}, 'dominant_emotion': 'sad', 'region': {'x': 0, 'y': 0, 'w': 1920, 'h': 1080}}\n",
      "😢\n"
     ]
    },
    {
     "name": "stderr",
     "output_type": "stream",
     "text": [
      "Action: emotion: 100%|██████████| 1/1 [00:00<00:00, 25.39it/s]\n"
     ]
    },
    {
     "name": "stdout",
     "output_type": "stream",
     "text": [
      "{'emotion': {'angry': 3.219034067081239e-09, 'disgust': 1.2404548695964738e-19, 'fear': 6.126895546913147, 'happy': 4.4494268024771605e-13, 'sad': 93.86898279190063, 'surprise': 1.1523107682852426e-14, 'neutral': 0.00412632325605955}, 'dominant_emotion': 'sad', 'region': {'x': 0, 'y': 0, 'w': 1920, 'h': 1080}}\n",
      "😢\n"
     ]
    },
    {
     "name": "stderr",
     "output_type": "stream",
     "text": [
      "Action: emotion: 100%|██████████| 1/1 [00:00<00:00, 27.67it/s]\n"
     ]
    },
    {
     "name": "stdout",
     "output_type": "stream",
     "text": [
      "{'emotion': {'angry': 5.907735780609491e-11, 'disgust': 8.608894278940267e-23, 'fear': 14.183007180690765, 'happy': 1.6263007440991945e-14, 'sad': 85.81653237342834, 'surprise': 2.3728600659008433e-15, 'neutral': 0.00046375030251510907}, 'dominant_emotion': 'sad', 'region': {'x': 0, 'y': 0, 'w': 1920, 'h': 1080}}\n",
      "😢\n"
     ]
    },
    {
     "name": "stderr",
     "output_type": "stream",
     "text": [
      "Action: emotion: 100%|██████████| 1/1 [00:00<00:00, 28.43it/s]\n"
     ]
    },
    {
     "name": "stdout",
     "output_type": "stream",
     "text": [
      "{'emotion': {'angry': 1.4198035717814185e-12, 'disgust': 8.20904792269619e-24, 'fear': 9.706201237809731, 'happy': 8.202038892824719e-16, 'sad': 90.29379429184165, 'surprise': 6.925213854412113e-19, 'neutral': 7.465273644578859e-06}, 'dominant_emotion': 'sad', 'region': {'x': 0, 'y': 0, 'w': 1920, 'h': 1080}}\n",
      "😢\n"
     ]
    },
    {
     "name": "stderr",
     "output_type": "stream",
     "text": [
      "Action: emotion: 100%|██████████| 1/1 [00:00<00:00, 28.93it/s]\n"
     ]
    },
    {
     "name": "stdout",
     "output_type": "stream",
     "text": [
      "{'emotion': {'angry': 9.801174933774751e-14, 'disgust': 1.231921763002776e-25, 'fear': 2.762862481176853, 'happy': 5.772760629121689e-17, 'sad': 97.23713994026184, 'surprise': 5.246755027609766e-20, 'neutral': 1.8354567643541486e-06}, 'dominant_emotion': 'sad', 'region': {'x': 0, 'y': 0, 'w': 1920, 'h': 1080}}\n",
      "😢\n"
     ]
    },
    {
     "name": "stderr",
     "output_type": "stream",
     "text": [
      "Action: emotion: 100%|██████████| 1/1 [00:00<00:00, 15.69it/s]\n"
     ]
    },
    {
     "name": "stdout",
     "output_type": "stream",
     "text": [
      "{'emotion': {'angry': 1.4001028560541116e-12, 'disgust': 2.181030150729014e-25, 'fear': 1.6345217823982239, 'happy': 2.6388273360038973e-16, 'sad': 98.3654797077179, 'surprise': 2.8607465932230013e-19, 'neutral': 2.676360644215947e-06}, 'dominant_emotion': 'sad', 'region': {'x': 0, 'y': 0, 'w': 1920, 'h': 1080}}\n",
      "😢\n"
     ]
    },
    {
     "name": "stderr",
     "output_type": "stream",
     "text": [
      "Action: emotion: 100%|██████████| 1/1 [00:00<00:00, 29.10it/s]\n"
     ]
    },
    {
     "name": "stdout",
     "output_type": "stream",
     "text": [
      "{'emotion': {'angry': 3.288094053118034e-13, 'disgust': 5.29922476252456e-29, 'fear': 1.5217663768808392, 'happy': 7.646699034802106e-16, 'sad': 98.46321362695531, 'surprise': 1.7314475019975725e-14, 'neutral': 0.015016522622094587}, 'dominant_emotion': 'sad', 'region': {'x': 0, 'y': 0, 'w': 1920, 'h': 1080}}\n",
      "😢\n"
     ]
    },
    {
     "name": "stderr",
     "output_type": "stream",
     "text": [
      "Action: emotion: 100%|██████████| 1/1 [00:00<00:00, 32.63it/s]\n"
     ]
    },
    {
     "name": "stdout",
     "output_type": "stream",
     "text": [
      "{'emotion': {'angry': 2.382158595901261e-09, 'disgust': 6.07850308283315e-22, 'fear': 0.9276394557786637, 'happy': 3.997013153966742e-12, 'sad': 74.64719120893584, 'surprise': 6.541268753631747e-13, 'neutral': 24.42516542373116}, 'dominant_emotion': 'sad', 'region': {'x': 0, 'y': 0, 'w': 1920, 'h': 1080}}\n",
      "😢\n"
     ]
    },
    {
     "name": "stderr",
     "output_type": "stream",
     "text": [
      "Action: emotion: 100%|██████████| 1/1 [00:00<00:00, 30.78it/s]\n"
     ]
    },
    {
     "name": "stdout",
     "output_type": "stream",
     "text": [
      "{'emotion': {'angry': 17.33548790216446, 'disgust': 0.25285251904278994, 'fear': 2.744583413004875, 'happy': 5.184553936123848, 'sad': 61.60874962806702, 'surprise': 0.04005487426184118, 'neutral': 12.833718955516815}, 'dominant_emotion': 'sad', 'region': {'x': 929, 'y': 473, 'w': 250, 'h': 250}}\n",
      "😢\n"
     ]
    },
    {
     "name": "stderr",
     "output_type": "stream",
     "text": [
      "Action: emotion: 100%|██████████| 1/1 [00:00<00:00, 28.62it/s]\n"
     ]
    },
    {
     "name": "stdout",
     "output_type": "stream",
     "text": [
      "{'emotion': {'angry': 4.2232168283307114e-11, 'disgust': 1.727232984619969e-24, 'fear': 98.13715815544128, 'happy': 5.247494883064974e-07, 'sad': 0.0064896681578829885, 'surprise': 0.00020603124539775308, 'neutral': 1.8561454489827156}, 'dominant_emotion': 'fear', 'region': {'x': 0, 'y': 0, 'w': 1920, 'h': 1080}}\n",
      "😨\n"
     ]
    },
    {
     "name": "stderr",
     "output_type": "stream",
     "text": [
      "Action: emotion: 100%|██████████| 1/1 [00:00<00:00, 30.96it/s]\n"
     ]
    },
    {
     "name": "stdout",
     "output_type": "stream",
     "text": [
      "{'emotion': {'angry': 1.542436329118768, 'disgust': 9.255944670549233e-07, 'fear': 0.25154669508149563, 'happy': 0.0006337384848533208, 'sad': 9.003301293051397, 'surprise': 2.593433261996765e-05, 'neutral': 89.20205702806199}, 'dominant_emotion': 'neutral', 'region': {'x': 857, 'y': 414, 'w': 313, 'h': 313}}\n",
      "😐\n"
     ]
    },
    {
     "name": "stderr",
     "output_type": "stream",
     "text": [
      "Action: emotion: 100%|██████████| 1/1 [00:00<00:00, 29.08it/s]\n"
     ]
    },
    {
     "name": "stdout",
     "output_type": "stream",
     "text": [
      "{'emotion': {'angry': 0.04309540929562058, 'disgust': 5.46605363022814e-09, 'fear': 1.0203208451164272, 'happy': 0.02228167855742148, 'sad': 82.45315447170464, 'surprise': 8.802981269047613e-06, 'neutral': 16.46114089853411}, 'dominant_emotion': 'sad', 'region': {'x': 840, 'y': 387, 'w': 318, 'h': 318}}\n",
      "😢\n"
     ]
    },
    {
     "name": "stderr",
     "output_type": "stream",
     "text": [
      "Action: emotion: 100%|██████████| 1/1 [00:00<00:00, 30.29it/s]\n"
     ]
    },
    {
     "name": "stdout",
     "output_type": "stream",
     "text": [
      "{'emotion': {'angry': 1.1451891623437405, 'disgust': 0.0006823855073889717, 'fear': 0.9367932565510273, 'happy': 0.15460745198652148, 'sad': 16.61076694726944, 'surprise': 0.009133247658610344, 'neutral': 81.14282488822937}, 'dominant_emotion': 'neutral', 'region': {'x': 828, 'y': 371, 'w': 312, 'h': 312}}\n",
      "😐\n"
     ]
    },
    {
     "name": "stderr",
     "output_type": "stream",
     "text": [
      "Action: emotion: 100%|██████████| 1/1 [00:00<00:00, 20.73it/s]\n"
     ]
    },
    {
     "name": "stdout",
     "output_type": "stream",
     "text": [
      "{'emotion': {'angry': 15.77608734369278, 'disgust': 0.01686502801021561, 'fear': 18.497487902641296, 'happy': 0.00546171868336387, 'sad': 29.485952854156494, 'surprise': 0.0011037169315386564, 'neutral': 36.217039823532104}, 'dominant_emotion': 'neutral', 'region': {'x': 800, 'y': 351, 'w': 320, 'h': 320}}\n",
      "😐\n"
     ]
    },
    {
     "name": "stderr",
     "output_type": "stream",
     "text": [
      "Action: emotion: 100%|██████████| 1/1 [00:00<00:00, 32.11it/s]\n"
     ]
    },
    {
     "name": "stdout",
     "output_type": "stream",
     "text": [
      "{'emotion': {'angry': 4.320406913757324, 'disgust': 0.0006152726655273, 'fear': 1.4903771691024303, 'happy': 0.05708300741389394, 'sad': 10.583768784999847, 'surprise': 0.002345083703403361, 'neutral': 83.54540467262268}, 'dominant_emotion': 'neutral', 'region': {'x': 784, 'y': 338, 'w': 315, 'h': 315}}\n",
      "😐\n"
     ]
    },
    {
     "name": "stderr",
     "output_type": "stream",
     "text": [
      "Action: emotion: 100%|██████████| 1/1 [00:00<00:00, 29.75it/s]\n"
     ]
    },
    {
     "name": "stdout",
     "output_type": "stream",
     "text": [
      "{'emotion': {'angry': 2.543269842863083, 'disgust': 0.0017999318515649065, 'fear': 0.8061551488935947, 'happy': 0.8740073069930077, 'sad': 7.954660803079605, 'surprise': 0.007902731886133552, 'neutral': 87.8122091293335}, 'dominant_emotion': 'neutral', 'region': {'x': 770, 'y': 321, 'w': 318, 'h': 318}}\n",
      "😐\n"
     ]
    },
    {
     "name": "stderr",
     "output_type": "stream",
     "text": [
      "Action: emotion: 100%|██████████| 1/1 [00:00<00:00, 27.65it/s]\n"
     ]
    },
    {
     "name": "stdout",
     "output_type": "stream",
     "text": [
      "{'emotion': {'angry': 5.375757813453674, 'disgust': 0.022143704700283706, 'fear': 2.1453697234392166, 'happy': 2.6270730420947075, 'sad': 7.144100219011307, 'surprise': 0.002729331754380837, 'neutral': 82.68282413482666}, 'dominant_emotion': 'neutral', 'region': {'x': 753, 'y': 282, 'w': 315, 'h': 315}}\n",
      "😐\n"
     ]
    },
    {
     "name": "stderr",
     "output_type": "stream",
     "text": [
      "Action: emotion: 100%|██████████| 1/1 [00:00<00:00, 28.22it/s]\n"
     ]
    },
    {
     "name": "stdout",
     "output_type": "stream",
     "text": [
      "{'emotion': {'angry': 57.116538286209106, 'disgust': 13.043279945850372, 'fear': 16.18576943874359, 'happy': 0.30672051943838596, 'sad': 11.066553741693497, 'surprise': 0.07505907560698688, 'neutral': 2.2060727700591087}, 'dominant_emotion': 'angry', 'region': {'x': 731, 'y': 273, 'w': 317, 'h': 317}}\n",
      "😡\n"
     ]
    },
    {
     "name": "stderr",
     "output_type": "stream",
     "text": [
      "Action: emotion: 100%|██████████| 1/1 [00:00<00:00, 31.16it/s]\n"
     ]
    },
    {
     "name": "stdout",
     "output_type": "stream",
     "text": [
      "{'emotion': {'angry': 38.51868075355062, 'disgust': 0.14044705822805265, 'fear': 36.24687626920655, 'happy': 0.8344303879952893, 'sad': 15.767863782389615, 'surprise': 1.078462636138515, 'neutral': 7.413246621280506}, 'dominant_emotion': 'angry', 'region': {'x': 715, 'y': 262, 'w': 328, 'h': 328}}\n",
      "😡\n"
     ]
    },
    {
     "name": "stderr",
     "output_type": "stream",
     "text": [
      "Action: emotion: 100%|██████████| 1/1 [00:00<00:00, 28.09it/s]\n"
     ]
    },
    {
     "name": "stdout",
     "output_type": "stream",
     "text": [
      "{'emotion': {'angry': 59.03846025466919, 'disgust': 0.03465406771283597, 'fear': 16.869960725307465, 'happy': 0.17365171806886792, 'sad': 20.627422630786896, 'surprise': 1.0856488719582558, 'neutral': 2.1701963618397713}, 'dominant_emotion': 'angry', 'region': {'x': 709, 'y': 272, 'w': 321, 'h': 321}}\n",
      "😡\n"
     ]
    },
    {
     "name": "stderr",
     "output_type": "stream",
     "text": [
      "Action: emotion: 100%|██████████| 1/1 [00:00<00:00, 29.00it/s]\n"
     ]
    },
    {
     "name": "stdout",
     "output_type": "stream",
     "text": [
      "{'emotion': {'angry': 58.04535054619902, 'disgust': 0.0008803106398917623, 'fear': 7.859444426364371, 'happy': 0.1940293122681305, 'sad': 31.256037204737996, 'surprise': 0.5361016200659728, 'neutral': 2.108154939633019}, 'dominant_emotion': 'angry', 'region': {'x': 717, 'y': 275, 'w': 331, 'h': 331}}\n",
      "😡\n"
     ]
    },
    {
     "name": "stderr",
     "output_type": "stream",
     "text": [
      "Action: emotion: 100%|██████████| 1/1 [00:00<00:00, 15.90it/s]\n"
     ]
    },
    {
     "name": "stdout",
     "output_type": "stream",
     "text": [
      "{'emotion': {'angry': 0.018551082408306444, 'disgust': 0.0014844637892436538, 'fear': 9.196511459142652, 'happy': 3.9496558278593916, 'sad': 73.47889980548022, 'surprise': 1.997705089408192e-05, 'neutral': 13.354881903820152}, 'dominant_emotion': 'sad', 'region': {'x': 733, 'y': 270, 'w': 332, 'h': 332}}\n",
      "😢\n"
     ]
    },
    {
     "name": "stderr",
     "output_type": "stream",
     "text": [
      "Action: emotion: 100%|██████████| 1/1 [00:00<00:00, 30.64it/s]\n"
     ]
    },
    {
     "name": "stdout",
     "output_type": "stream",
     "text": [
      "{'emotion': {'angry': 0.0035840141208609566, 'disgust': 9.270152645513008e-05, 'fear': 3.3849604427814484, 'happy': 0.2195324283093214, 'sad': 67.02963709831238, 'surprise': 1.9921500893360644e-05, 'neutral': 29.362183809280396}, 'dominant_emotion': 'sad', 'region': {'x': 743, 'y': 261, 'w': 345, 'h': 345}}\n",
      "😢\n"
     ]
    },
    {
     "name": "stderr",
     "output_type": "stream",
     "text": [
      "Action: emotion: 100%|██████████| 1/1 [00:00<00:00, 31.45it/s]\n"
     ]
    },
    {
     "name": "stdout",
     "output_type": "stream",
     "text": [
      "{'emotion': {'angry': 0.020784575974301306, 'disgust': 9.824311195048775e-05, 'fear': 47.32300623196401, 'happy': 0.8545830423881436, 'sad': 15.830078174476515, 'surprise': 0.03794234588584875, 'neutral': 35.93350863060407}, 'dominant_emotion': 'fear', 'region': {'x': 736, 'y': 255, 'w': 374, 'h': 374}}\n",
      "😨\n"
     ]
    },
    {
     "name": "stderr",
     "output_type": "stream",
     "text": [
      "Action: emotion: 100%|██████████| 1/1 [00:00<00:00, 26.10it/s]\n"
     ]
    },
    {
     "name": "stdout",
     "output_type": "stream",
     "text": [
      "{'emotion': {'angry': 45.701444149017334, 'disgust': 0.041577540105208755, 'fear': 9.066875278949738, 'happy': 0.34123703371733427, 'sad': 36.99171841144562, 'surprise': 3.1921863555908203, 'neutral': 4.664957895874977}, 'dominant_emotion': 'angry', 'region': {'x': 747, 'y': 260, 'w': 357, 'h': 357}}\n",
      "😡\n"
     ]
    },
    {
     "name": "stderr",
     "output_type": "stream",
     "text": [
      "Action: emotion: 100%|██████████| 1/1 [00:00<00:00, 28.40it/s]\n"
     ]
    },
    {
     "name": "stdout",
     "output_type": "stream",
     "text": [
      "{'emotion': {'angry': 0.00017565364487381885, 'disgust': 6.9348772058219765e-06, 'fear': 0.18757754005491734, 'happy': 11.161462217569351, 'sad': 2.4128712713718414, 'surprise': 0.0002857558683899697, 'neutral': 86.23762726783752}, 'dominant_emotion': 'neutral', 'region': {'x': 744, 'y': 261, 'w': 358, 'h': 358}}\n",
      "😐\n"
     ]
    },
    {
     "name": "stderr",
     "output_type": "stream",
     "text": [
      "Action: emotion: 100%|██████████| 1/1 [00:00<00:00, 30.21it/s]\n"
     ]
    },
    {
     "name": "stdout",
     "output_type": "stream",
     "text": [
      "{'emotion': {'angry': 0.00178670870809583, 'disgust': 3.3756982986687945e-06, 'fear': 0.09351587505079806, 'happy': 68.77627372741699, 'sad': 5.294124409556389, 'surprise': 3.6015379123455205e-05, 'neutral': 25.834262371063232}, 'dominant_emotion': 'happy', 'region': {'x': 733, 'y': 260, 'w': 368, 'h': 368}}\n",
      "😀\n"
     ]
    },
    {
     "name": "stderr",
     "output_type": "stream",
     "text": [
      "Action: emotion: 100%|██████████| 1/1 [00:00<00:00, 32.98it/s]\n"
     ]
    },
    {
     "name": "stdout",
     "output_type": "stream",
     "text": [
      "{'emotion': {'angry': 8.036104190978222e-05, 'disgust': 9.351285079617355e-07, 'fear': 0.5198326427489519, 'happy': 89.35220837593079, 'sad': 0.242354953661561, 'surprise': 0.0029535280191339552, 'neutral': 9.882567077875137}, 'dominant_emotion': 'happy', 'region': {'x': 732, 'y': 265, 'w': 362, 'h': 362}}\n",
      "😀\n"
     ]
    },
    {
     "name": "stderr",
     "output_type": "stream",
     "text": [
      "Action: emotion: 100%|██████████| 1/1 [00:00<00:00, 34.39it/s]\n"
     ]
    },
    {
     "name": "stdout",
     "output_type": "stream",
     "text": [
      "{'emotion': {'angry': 9.98574449795342e-06, 'disgust': 9.186051919130023e-08, 'fear': 0.22864663042128086, 'happy': 29.288288950920105, 'sad': 0.8896646089851856, 'surprise': 0.0001800521317818493, 'neutral': 69.59320902824402}, 'dominant_emotion': 'neutral', 'region': {'x': 740, 'y': 272, 'w': 349, 'h': 349}}\n",
      "😐\n"
     ]
    },
    {
     "name": "stderr",
     "output_type": "stream",
     "text": [
      "Action: emotion: 100%|██████████| 1/1 [00:00<00:00, 22.49it/s]\n"
     ]
    },
    {
     "name": "stdout",
     "output_type": "stream",
     "text": [
      "{'emotion': {'angry': 7.97194985580063e-06, 'disgust': 5.196705843424354e-08, 'fear': 0.1560367876663804, 'happy': 46.34934961795807, 'sad': 0.9285745210945606, 'surprise': 0.0015030987924546935, 'neutral': 52.56452560424805}, 'dominant_emotion': 'neutral', 'region': {'x': 739, 'y': 270, 'w': 352, 'h': 352}}\n",
      "😐\n"
     ]
    },
    {
     "name": "stderr",
     "output_type": "stream",
     "text": [
      "Action: emotion: 100%|██████████| 1/1 [00:00<00:00, 27.93it/s]\n"
     ]
    },
    {
     "name": "stdout",
     "output_type": "stream",
     "text": [
      "{'emotion': {'angry': 2.291334420442581, 'disgust': 0.0024101822418742813, 'fear': 6.777653098106384, 'happy': 0.1710232812911272, 'sad': 1.1625989340245724, 'surprise': 87.84223198890686, 'neutral': 1.7527494579553604}, 'dominant_emotion': 'surprise', 'region': {'x': 731, 'y': 261, 'w': 367, 'h': 367}}\n",
      "😮\n"
     ]
    },
    {
     "name": "stderr",
     "output_type": "stream",
     "text": [
      "Action: emotion: 100%|██████████| 1/1 [00:00<00:00, 29.07it/s]\n"
     ]
    },
    {
     "name": "stdout",
     "output_type": "stream",
     "text": [
      "{'emotion': {'angry': 0.011245412315474823, 'disgust': 0.0007160426321206614, 'fear': 8.637557923793793, 'happy': 83.7119996547699, 'sad': 2.8090298175811768, 'surprise': 0.01262207661056891, 'neutral': 4.816821962594986}, 'dominant_emotion': 'happy', 'region': {'x': 732, 'y': 272, 'w': 359, 'h': 359}}\n",
      "😀\n"
     ]
    },
    {
     "name": "stderr",
     "output_type": "stream",
     "text": [
      "Action: emotion: 100%|██████████| 1/1 [00:00<00:00, 30.93it/s]\n"
     ]
    },
    {
     "name": "stdout",
     "output_type": "stream",
     "text": [
      "{'emotion': {'angry': 0.00047456469474127516, 'disgust': 6.746397218648781e-06, 'fear': 0.5378212779760361, 'happy': 50.79665184020996, 'sad': 3.2420825213193893, 'surprise': 0.03710807068273425, 'neutral': 45.38585543632507}, 'dominant_emotion': 'happy', 'region': {'x': 728, 'y': 274, 'w': 364, 'h': 364}}\n",
      "😀\n"
     ]
    },
    {
     "name": "stderr",
     "output_type": "stream",
     "text": [
      "Action: emotion: 100%|██████████| 1/1 [00:00<00:00, 28.35it/s]\n"
     ]
    },
    {
     "name": "stdout",
     "output_type": "stream",
     "text": [
      "{'emotion': {'angry': 0.0032043386454461142, 'disgust': 0.0002492053681635298, 'fear': 28.34293842315674, 'happy': 52.43803858757019, 'sad': 4.932250827550888, 'surprise': 0.7541523315012455, 'neutral': 13.529175519943237}, 'dominant_emotion': 'happy', 'region': {'x': 725, 'y': 273, 'w': 359, 'h': 359}}\n",
      "😀\n"
     ]
    },
    {
     "name": "stderr",
     "output_type": "stream",
     "text": [
      "Action: emotion: 100%|██████████| 1/1 [00:00<00:00, 28.70it/s]\n"
     ]
    },
    {
     "name": "stdout",
     "output_type": "stream",
     "text": [
      "{'emotion': {'angry': 0.006800704431952909, 'disgust': 0.0002196592504333239, 'fear': 5.62216192483902, 'happy': 67.7116870880127, 'sad': 1.7418421804904938, 'surprise': 0.007201988773886114, 'neutral': 24.910083413124084}, 'dominant_emotion': 'happy', 'region': {'x': 718, 'y': 278, 'w': 361, 'h': 361}}\n",
      "😀\n"
     ]
    },
    {
     "name": "stderr",
     "output_type": "stream",
     "text": [
      "Action: emotion: 100%|██████████| 1/1 [00:00<00:00, 28.31it/s]\n"
     ]
    },
    {
     "name": "stdout",
     "output_type": "stream",
     "text": [
      "{'emotion': {'angry': 0.0011811487140080095, 'disgust': 0.0002478520332383944, 'fear': 6.250312924347767, 'happy': 76.61999146700008, 'sad': 0.33581632377161696, 'surprise': 0.07710781309772276, 'neutral': 16.715338323672018}, 'dominant_emotion': 'happy', 'region': {'x': 711, 'y': 280, 'w': 358, 'h': 358}}\n",
      "😀\n"
     ]
    },
    {
     "name": "stderr",
     "output_type": "stream",
     "text": [
      "Action: emotion: 100%|██████████| 1/1 [00:00<00:00, 30.39it/s]\n"
     ]
    },
    {
     "name": "stdout",
     "output_type": "stream",
     "text": [
      "{'emotion': {'angry': 0.007508034468628466, 'disgust': 2.045048148602291e-05, 'fear': 66.99542999267578, 'happy': 0.23665388580411673, 'sad': 24.434350430965424, 'surprise': 0.028051502886228263, 'neutral': 8.297985792160034}, 'dominant_emotion': 'fear', 'region': {'x': 701, 'y': 277, 'w': 373, 'h': 373}}\n",
      "😨\n"
     ]
    },
    {
     "name": "stderr",
     "output_type": "stream",
     "text": [
      "Action: emotion: 100%|██████████| 1/1 [00:00<00:00, 28.56it/s]\n"
     ]
    },
    {
     "name": "stdout",
     "output_type": "stream",
     "text": [
      "{'emotion': {'angry': 0.11322589125484228, 'disgust': 1.838598251424628e-05, 'fear': 1.1482806876301765, 'happy': 0.02571152290329337, 'sad': 0.01238586992258206, 'surprise': 98.18684458732605, 'neutral': 0.5135399289429188}, 'dominant_emotion': 'surprise', 'region': {'x': 698, 'y': 279, 'w': 374, 'h': 374}}\n",
      "😮\n"
     ]
    },
    {
     "name": "stderr",
     "output_type": "stream",
     "text": [
      "Action: emotion: 100%|██████████| 1/1 [00:00<00:00, 30.75it/s]\n"
     ]
    },
    {
     "name": "stdout",
     "output_type": "stream",
     "text": [
      "{'emotion': {'angry': 0.02652178518474102, 'disgust': 0.0024246630346169695, 'fear': 44.67385411262512, 'happy': 12.073548138141632, 'sad': 42.0464962720871, 'surprise': 0.0029041093512205407, 'neutral': 1.1742539703845978}, 'dominant_emotion': 'fear', 'region': {'x': 700, 'y': 280, 'w': 371, 'h': 371}}\n",
      "😨\n"
     ]
    },
    {
     "name": "stderr",
     "output_type": "stream",
     "text": [
      "Action: emotion: 100%|██████████| 1/1 [00:00<00:00, 33.78it/s]\n"
     ]
    },
    {
     "name": "stdout",
     "output_type": "stream",
     "text": [
      "{'emotion': {'angry': 0.06286403306135732, 'disgust': 3.5991572402730244e-05, 'fear': 77.40062936548169, 'happy': 0.06287926018635989, 'sad': 17.97973173735927, 'surprise': 0.039305799305970925, 'neutral': 4.454557118091412}, 'dominant_emotion': 'fear', 'region': {'x': 692, 'y': 278, 'w': 386, 'h': 386}}\n",
      "😨\n"
     ]
    },
    {
     "name": "stderr",
     "output_type": "stream",
     "text": [
      "Action: emotion: 100%|██████████| 1/1 [00:00<00:00, 32.17it/s]\n"
     ]
    },
    {
     "name": "stdout",
     "output_type": "stream",
     "text": [
      "{'emotion': {'angry': 0.02566449999348819, 'disgust': 7.201620354799874e-05, 'fear': 93.45651190954588, 'happy': 0.05832898427370003, 'sad': 6.2716387238071825, 'surprise': 0.04205893702669436, 'neutral': 0.1457263307207919}, 'dominant_emotion': 'fear', 'region': {'x': 695, 'y': 280, 'w': 378, 'h': 378}}\n",
      "😨\n"
     ]
    },
    {
     "name": "stderr",
     "output_type": "stream",
     "text": [
      "Action: emotion: 100%|██████████| 1/1 [00:00<00:00, 30.84it/s]\n"
     ]
    },
    {
     "name": "stdout",
     "output_type": "stream",
     "text": [
      "{'emotion': {'angry': 0.018903178786492798, 'disgust': 2.859494600033646e-05, 'fear': 86.98809587813567, 'happy': 0.08447762654455025, 'sad': 12.064821966269252, 'surprise': 0.1360548705933834, 'neutral': 0.7076230743674129}, 'dominant_emotion': 'fear', 'region': {'x': 696, 'y': 281, 'w': 379, 'h': 379}}\n",
      "😨\n"
     ]
    },
    {
     "name": "stderr",
     "output_type": "stream",
     "text": [
      "Action: emotion: 100%|██████████| 1/1 [00:00<00:00, 31.19it/s]\n"
     ]
    },
    {
     "name": "stdout",
     "output_type": "stream",
     "text": [
      "{'emotion': {'angry': 0.8773308770257757, 'disgust': 0.0007282305866513705, 'fear': 8.859881541721913, 'happy': 0.22513248436942604, 'sad': 0.4670063777718769, 'surprise': 85.46749266788319, 'neutral': 4.102429619576312}, 'dominant_emotion': 'surprise', 'region': {'x': 697, 'y': 280, 'w': 377, 'h': 377}}\n",
      "😮\n"
     ]
    },
    {
     "name": "stderr",
     "output_type": "stream",
     "text": [
      "Action: emotion: 100%|██████████| 1/1 [00:00<00:00, 30.90it/s]\n"
     ]
    },
    {
     "name": "stdout",
     "output_type": "stream",
     "text": [
      "{'emotion': {'angry': 0.1011404674500227, 'disgust': 2.7939267965848558e-05, 'fear': 3.729577735066414, 'happy': 0.06028428906574845, 'sad': 0.09008566266857088, 'surprise': 94.6666419506073, 'neutral': 1.3522466644644737}, 'dominant_emotion': 'surprise', 'region': {'x': 693, 'y': 276, 'w': 387, 'h': 387}}\n",
      "😮\n"
     ]
    },
    {
     "name": "stderr",
     "output_type": "stream",
     "text": [
      "Action: emotion: 100%|██████████| 1/1 [00:00<00:00, 19.93it/s]\n"
     ]
    },
    {
     "name": "stdout",
     "output_type": "stream",
     "text": [
      "{'emotion': {'angry': 0.030131472158245742, 'disgust': 3.0951082408137154e-05, 'fear': 32.31811821460724, 'happy': 0.027133134426549077, 'sad': 48.60474169254303, 'surprise': 0.009355754446005449, 'neutral': 19.010484218597412}, 'dominant_emotion': 'sad', 'region': {'x': 697, 'y': 281, 'w': 376, 'h': 376}}\n",
      "😢\n"
     ]
    },
    {
     "name": "stderr",
     "output_type": "stream",
     "text": [
      "Action: emotion: 100%|██████████| 1/1 [00:00<00:00, 31.28it/s]\n"
     ]
    },
    {
     "name": "stdout",
     "output_type": "stream",
     "text": [
      "{'emotion': {'angry': 0.04852239506359518, 'disgust': 5.969792571947961e-07, 'fear': 1.5840842401435518, 'happy': 0.027241370285346823, 'sad': 0.03237072571341549, 'surprise': 96.95885163300345, 'neutral': 1.3489308639723578}, 'dominant_emotion': 'surprise', 'region': {'x': 703, 'y': 281, 'w': 375, 'h': 375}}\n",
      "😮\n"
     ]
    },
    {
     "name": "stderr",
     "output_type": "stream",
     "text": [
      "Action: emotion: 100%|██████████| 1/1 [00:00<00:00, 25.82it/s]\n"
     ]
    },
    {
     "name": "stdout",
     "output_type": "stream",
     "text": [
      "{'emotion': {'angry': 2.8978854417800903, 'disgust': 6.912264893799147e-05, 'fear': 3.120144084095955, 'happy': 0.15766292344778776, 'sad': 2.5813598185777664, 'surprise': 19.860783219337463, 'neutral': 71.38209939002991}, 'dominant_emotion': 'neutral', 'region': {'x': 703, 'y': 279, 'w': 385, 'h': 385}}\n",
      "😐\n"
     ]
    },
    {
     "name": "stderr",
     "output_type": "stream",
     "text": [
      "Action: emotion: 100%|██████████| 1/1 [00:00<00:00, 30.42it/s]\n"
     ]
    },
    {
     "name": "stdout",
     "output_type": "stream",
     "text": [
      "{'emotion': {'angry': 0.00015882728422894596, 'disgust': 1.241070683176637e-06, 'fear': 0.29341598279517683, 'happy': 86.06573773214075, 'sad': 6.429918131818549, 'surprise': 0.00025051318319607523, 'neutral': 7.2105177891871675}, 'dominant_emotion': 'happy', 'region': {'x': 716, 'y': 287, 'w': 365, 'h': 365}}\n",
      "😀\n"
     ]
    },
    {
     "name": "stderr",
     "output_type": "stream",
     "text": [
      "Action: emotion: 100%|██████████| 1/1 [00:00<00:00, 29.63it/s]\n"
     ]
    },
    {
     "name": "stdout",
     "output_type": "stream",
     "text": [
      "{'emotion': {'angry': 0.0027164493076270446, 'disgust': 0.00012729112768283812, 'fear': 73.81203174591064, 'happy': 9.672751277685165, 'sad': 1.2569470331072807, 'surprise': 0.3790563438087702, 'neutral': 14.87637609243393}, 'dominant_emotion': 'fear', 'region': {'x': 717, 'y': 279, 'w': 376, 'h': 376}}\n",
      "😨\n"
     ]
    },
    {
     "name": "stderr",
     "output_type": "stream",
     "text": [
      "Action: emotion: 100%|██████████| 1/1 [00:00<00:00, 31.59it/s]\n"
     ]
    },
    {
     "name": "stdout",
     "output_type": "stream",
     "text": [
      "{'emotion': {'angry': 0.00021502296476683114, 'disgust': 2.118950348517501e-07, 'fear': 31.60659670829773, 'happy': 0.2799342153593898, 'sad': 30.103889107704163, 'surprise': 9.672094165580347e-05, 'neutral': 38.009271025657654}, 'dominant_emotion': 'neutral', 'region': {'x': 713, 'y': 283, 'w': 375, 'h': 375}}\n",
      "😐\n"
     ]
    },
    {
     "name": "stderr",
     "output_type": "stream",
     "text": [
      "Action: emotion: 100%|██████████| 1/1 [00:00<00:00, 32.27it/s]\n"
     ]
    },
    {
     "name": "stdout",
     "output_type": "stream",
     "text": [
      "{'emotion': {'angry': 0.016840891752221688, 'disgust': 0.00052919266152564, 'fear': 86.98472303061027, 'happy': 3.8852105370289407, 'sad': 0.9457368036053659, 'surprise': 5.525518910617763, 'neutral': 2.6414442519214303}, 'dominant_emotion': 'fear', 'region': {'x': 718, 'y': 283, 'w': 370, 'h': 370}}\n",
      "😨\n"
     ]
    },
    {
     "name": "stderr",
     "output_type": "stream",
     "text": [
      "Action: emotion: 100%|██████████| 1/1 [00:00<00:00, 34.92it/s]\n"
     ]
    },
    {
     "name": "stdout",
     "output_type": "stream",
     "text": [
      "{'emotion': {'angry': 0.004380410973681137, 'disgust': 0.00016921206906772568, 'fear': 81.54354691505432, 'happy': 0.2600097795948386, 'sad': 7.934045046567917, 'surprise': 0.5802687257528305, 'neutral': 9.67758521437645}, 'dominant_emotion': 'fear', 'region': {'x': 721, 'y': 286, 'w': 366, 'h': 366}}\n",
      "😨\n"
     ]
    },
    {
     "name": "stderr",
     "output_type": "stream",
     "text": [
      "Action: emotion: 100%|██████████| 1/1 [00:00<00:00, 23.07it/s]\n"
     ]
    },
    {
     "name": "stdout",
     "output_type": "stream",
     "text": [
      "{'emotion': {'angry': 0.0031855561246629804, 'disgust': 0.0001607404328751727, 'fear': 4.725808650255203, 'happy': 48.04810881614685, 'sad': 9.708600491285324, 'surprise': 0.00317760968755465, 'neutral': 37.51095533370972}, 'dominant_emotion': 'happy', 'region': {'x': 718, 'y': 288, 'w': 362, 'h': 362}}\n",
      "😀\n"
     ]
    },
    {
     "name": "stderr",
     "output_type": "stream",
     "text": [
      "Action: emotion: 100%|██████████| 1/1 [00:00<00:00, 31.27it/s]\n"
     ]
    },
    {
     "name": "stdout",
     "output_type": "stream",
     "text": [
      "{'emotion': {'angry': 0.003843519152724184, 'disgust': 1.38984034947498e-05, 'fear': 48.38725030422211, 'happy': 22.126950323581696, 'sad': 3.6118511110544205, 'surprise': 0.5205754190683365, 'neutral': 25.349515676498413}, 'dominant_emotion': 'fear', 'region': {'x': 718, 'y': 287, 'w': 365, 'h': 365}}\n",
      "😨\n"
     ]
    },
    {
     "name": "stderr",
     "output_type": "stream",
     "text": [
      "Action: emotion: 100%|██████████| 1/1 [00:00<00:00, 31.11it/s]\n"
     ]
    },
    {
     "name": "stdout",
     "output_type": "stream",
     "text": [
      "{'emotion': {'angry': 0.009982583155050241, 'disgust': 0.00036137475825221934, 'fear': 16.98369038007798, 'happy': 69.54858717611951, 'sad': 5.516383008145273, 'surprise': 0.005924420828035039, 'neutral': 7.935073699657542}, 'dominant_emotion': 'happy', 'region': {'x': 706, 'y': 283, 'w': 377, 'h': 377}}\n",
      "😀\n"
     ]
    },
    {
     "name": "stderr",
     "output_type": "stream",
     "text": [
      "Action: emotion: 100%|██████████| 1/1 [00:00<00:00, 32.82it/s]\n"
     ]
    },
    {
     "name": "stdout",
     "output_type": "stream",
     "text": [
      "{'emotion': {'angry': 0.004325817492832766, 'disgust': 9.856286131359287e-05, 'fear': 10.769196060991757, 'happy': 85.27115759001283, 'sad': 0.26980751702993905, 'surprise': 0.8905975949051863, 'neutral': 2.794809865080134}, 'dominant_emotion': 'happy', 'region': {'x': 711, 'y': 285, 'w': 371, 'h': 371}}\n",
      "😀\n"
     ]
    },
    {
     "name": "stderr",
     "output_type": "stream",
     "text": [
      "Action: emotion: 100%|██████████| 1/1 [00:00<00:00, 32.80it/s]\n"
     ]
    },
    {
     "name": "stdout",
     "output_type": "stream",
     "text": [
      "{'emotion': {'angry': 0.31893940176814795, 'disgust': 0.0002282599325553747, 'fear': 6.110477074980736, 'happy': 85.96816062927246, 'sad': 7.318530231714249, 'surprise': 0.0003678127086459426, 'neutral': 0.2832954516634345}, 'dominant_emotion': 'happy', 'region': {'x': 710, 'y': 282, 'w': 370, 'h': 370}}\n",
      "😀\n"
     ]
    },
    {
     "name": "stderr",
     "output_type": "stream",
     "text": [
      "Action: emotion: 100%|██████████| 1/1 [00:00<00:00, 23.75it/s]\n"
     ]
    },
    {
     "name": "stdout",
     "output_type": "stream",
     "text": [
      "{'emotion': {'angry': 0.01097373606171459, 'disgust': 0.00204001298698131, 'fear': 18.649187684059143, 'happy': 80.53295612335205, 'sad': 0.7033469155430794, 'surprise': 0.011496516526676714, 'neutral': 0.08999891579151154}, 'dominant_emotion': 'happy', 'region': {'x': 712, 'y': 282, 'w': 373, 'h': 373}}\n",
      "😀\n"
     ]
    },
    {
     "name": "stderr",
     "output_type": "stream",
     "text": [
      "Action: emotion: 100%|██████████| 1/1 [00:00<00:00, 30.18it/s]\n"
     ]
    },
    {
     "name": "stdout",
     "output_type": "stream",
     "text": [
      "{'emotion': {'angry': 0.0003975746949436143, 'disgust': 1.3429168177481188e-05, 'fear': 0.7347803562879562, 'happy': 53.85332703590393, 'sad': 21.384257078170776, 'surprise': 3.7841934386051435e-05, 'neutral': 24.027185142040253}, 'dominant_emotion': 'happy', 'region': {'x': 715, 'y': 287, 'w': 355, 'h': 355}}\n",
      "😀\n"
     ]
    },
    {
     "name": "stderr",
     "output_type": "stream",
     "text": [
      "Action: emotion: 100%|██████████| 1/1 [00:00<00:00, 31.36it/s]\n"
     ]
    },
    {
     "name": "stdout",
     "output_type": "stream",
     "text": [
      "{'emotion': {'angry': 1.362415780192805e-06, 'disgust': 2.650721710271281e-11, 'fear': 1.187564805150032, 'happy': 0.025985098909586668, 'sad': 0.5303424783051014, 'surprise': 0.00771495106164366, 'neutral': 98.24839234352112}, 'dominant_emotion': 'neutral', 'region': {'x': 695, 'y': 266, 'w': 367, 'h': 367}}\n",
      "😐\n"
     ]
    },
    {
     "name": "stderr",
     "output_type": "stream",
     "text": [
      "Action: emotion: 100%|██████████| 1/1 [00:00<00:00, 26.83it/s]\n"
     ]
    },
    {
     "name": "stdout",
     "output_type": "stream",
     "text": [
      "{'emotion': {'angry': 0.000300639812578748, 'disgust': 7.424436175403206e-07, 'fear': 0.38547278351174497, 'happy': 1.7424457813767065, 'sad': 1.1324003082454388, 'surprise': 0.017942985483306525, 'neutral': 96.72143439778294}, 'dominant_emotion': 'neutral', 'region': {'x': 705, 'y': 271, 'w': 347, 'h': 347}}\n",
      "😐\n"
     ]
    },
    {
     "name": "stderr",
     "output_type": "stream",
     "text": [
      "Action: emotion: 100%|██████████| 1/1 [00:00<00:00, 31.00it/s]\n"
     ]
    },
    {
     "name": "stdout",
     "output_type": "stream",
     "text": [
      "{'emotion': {'angry': 0.0025002202164614573, 'disgust': 2.883456251545624e-08, 'fear': 0.08320403867401183, 'happy': 0.024775229394435883, 'sad': 0.6577475927770138, 'surprise': 0.0023653443349758163, 'neutral': 99.22940731048584}, 'dominant_emotion': 'neutral', 'region': {'x': 700, 'y': 258, 'w': 329, 'h': 329}}\n",
      "😐\n"
     ]
    },
    {
     "name": "stderr",
     "output_type": "stream",
     "text": [
      "Action: emotion: 100%|██████████| 1/1 [00:00<00:00, 29.54it/s]\n"
     ]
    },
    {
     "name": "stdout",
     "output_type": "stream",
     "text": [
      "{'emotion': {'angry': 9.096635137251261e-14, 'disgust': 3.2914081649868346e-27, 'fear': 99.34339531142767, 'happy': 0.44877952202802635, 'sad': 1.3697979079636143e-13, 'surprise': 0.13609076391941144, 'neutral': 0.0717284770857123}, 'dominant_emotion': 'fear', 'region': {'x': 0, 'y': 0, 'w': 1920, 'h': 1080}}\n",
      "😨\n"
     ]
    },
    {
     "name": "stderr",
     "output_type": "stream",
     "text": [
      "Action: emotion: 100%|██████████| 1/1 [00:00<00:00, 31.90it/s]\n"
     ]
    },
    {
     "name": "stdout",
     "output_type": "stream",
     "text": [
      "{'emotion': {'angry': 7.345293126516904e-13, 'disgust': 4.6884114322119843e-26, 'fear': 65.26559980306624, 'happy': 0.039172692929443295, 'sad': 3.826230586408923e-13, 'surprise': 33.912362689516705, 'neutral': 0.7828667295197683}, 'dominant_emotion': 'fear', 'region': {'x': 0, 'y': 0, 'w': 1920, 'h': 1080}}\n",
      "😨\n"
     ]
    },
    {
     "name": "stderr",
     "output_type": "stream",
     "text": [
      "Action: emotion: 100%|██████████| 1/1 [00:00<00:00, 31.34it/s]\n"
     ]
    },
    {
     "name": "stdout",
     "output_type": "stream",
     "text": [
      "{'emotion': {'angry': 3.880189084533997e-11, 'disgust': 4.2809801915432805e-24, 'fear': 67.6846981048584, 'happy': 9.515215456485748, 'sad': 6.989074846208004e-12, 'surprise': 22.752900421619415, 'neutral': 0.04718749551102519}, 'dominant_emotion': 'fear', 'region': {'x': 0, 'y': 0, 'w': 1920, 'h': 1080}}\n",
      "😨\n"
     ]
    },
    {
     "name": "stderr",
     "output_type": "stream",
     "text": [
      "Action: emotion: 100%|██████████| 1/1 [00:00<00:00, 29.87it/s]\n"
     ]
    },
    {
     "name": "stdout",
     "output_type": "stream",
     "text": [
      "{'emotion': {'angry': 1.14701503503567e-09, 'disgust': 4.2939089438525125e-23, 'fear': 87.35470771789551, 'happy': 3.3298298716545105, 'sad': 1.3582010949947376e-10, 'surprise': 8.957341313362122, 'neutral': 0.3581192344427109}, 'dominant_emotion': 'fear', 'region': {'x': 0, 'y': 0, 'w': 1920, 'h': 1080}}\n",
      "😨\n"
     ]
    },
    {
     "name": "stderr",
     "output_type": "stream",
     "text": [
      "Action: emotion: 100%|██████████| 1/1 [00:00<00:00, 28.69it/s]\n"
     ]
    },
    {
     "name": "stdout",
     "output_type": "stream",
     "text": [
      "{'emotion': {'angry': 3.3368655603417674e-11, 'disgust': 3.509450190631425e-24, 'fear': 86.84824109077454, 'happy': 0.10931167053058743, 'sad': 1.7250057719048195e-11, 'surprise': 13.011375069618225, 'neutral': 0.031075530569069088}, 'dominant_emotion': 'fear', 'region': {'x': 0, 'y': 0, 'w': 1920, 'h': 1080}}\n",
      "😨\n"
     ]
    },
    {
     "name": "stderr",
     "output_type": "stream",
     "text": [
      "Action: emotion: 100%|██████████| 1/1 [00:00<00:00, 30.25it/s]\n"
     ]
    },
    {
     "name": "stdout",
     "output_type": "stream",
     "text": [
      "{'emotion': {'angry': 1.447567651684245e-11, 'disgust': 1.128348967638423e-24, 'fear': 86.21617555618286, 'happy': 0.027274119202047586, 'sad': 6.800808559966759e-12, 'surprise': 13.737571239471436, 'neutral': 0.018978586012963206}, 'dominant_emotion': 'fear', 'region': {'x': 0, 'y': 0, 'w': 1920, 'h': 1080}}\n",
      "😨\n"
     ]
    },
    {
     "name": "stderr",
     "output_type": "stream",
     "text": [
      "Action: emotion: 100%|██████████| 1/1 [00:00<00:00, 17.24it/s]\n"
     ]
    },
    {
     "name": "stdout",
     "output_type": "stream",
     "text": [
      "{'emotion': {'angry': 1.6205470938692595e-11, 'disgust': 1.8346172916407616e-24, 'fear': 86.40024065971375, 'happy': 0.039555589319206774, 'sad': 5.516537205339789e-12, 'surprise': 13.546562194824219, 'neutral': 0.013643717102240771}, 'dominant_emotion': 'fear', 'region': {'x': 0, 'y': 0, 'w': 1920, 'h': 1080}}\n",
      "😨\n"
     ]
    },
    {
     "name": "stderr",
     "output_type": "stream",
     "text": [
      "Action: emotion: 100%|██████████| 1/1 [00:00<00:00, 31.88it/s]\n"
     ]
    },
    {
     "name": "stdout",
     "output_type": "stream",
     "text": [
      "{'emotion': {'angry': 2.7620334947138503e-11, 'disgust': 7.768927913606006e-25, 'fear': 53.7947952747345, 'happy': 0.006928500079084188, 'sad': 1.2119521051068716e-12, 'surprise': 46.161046624183655, 'neutral': 0.03722874680534005}, 'dominant_emotion': 'fear', 'region': {'x': 0, 'y': 0, 'w': 1920, 'h': 1080}}\n",
      "😨\n"
     ]
    },
    {
     "name": "stderr",
     "output_type": "stream",
     "text": [
      "Action: emotion: 100%|██████████| 1/1 [00:00<00:00, 29.76it/s]\n"
     ]
    },
    {
     "name": "stdout",
     "output_type": "stream",
     "text": [
      "{'emotion': {'angry': 1.3439091949552096e-11, 'disgust': 8.078256625707524e-24, 'fear': 38.714101237899136, 'happy': 0.0008552116524216679, 'sad': 1.0053167834798404e-12, 'surprise': 61.213347984155895, 'neutral': 0.07169947921183581}, 'dominant_emotion': 'surprise', 'region': {'x': 0, 'y': 0, 'w': 1920, 'h': 1080}}\n",
      "😮\n"
     ]
    },
    {
     "name": "stderr",
     "output_type": "stream",
     "text": [
      "Action: emotion: 100%|██████████| 1/1 [00:00<00:00, 30.89it/s]\n"
     ]
    },
    {
     "name": "stdout",
     "output_type": "stream",
     "text": [
      "{'emotion': {'angry': 7.808902102744418e-11, 'disgust': 4.7305652456416226e-24, 'fear': 53.934422369862936, 'happy': 0.006228224454546688, 'sad': 4.443498853139088e-12, 'surprise': 46.00665843526473, 'neutral': 0.05268897243970468}, 'dominant_emotion': 'fear', 'region': {'x': 0, 'y': 0, 'w': 1920, 'h': 1080}}\n",
      "😨\n"
     ]
    },
    {
     "name": "stderr",
     "output_type": "stream",
     "text": [
      "Action: emotion: 100%|██████████| 1/1 [00:00<00:00, 26.53it/s]\n"
     ]
    },
    {
     "name": "stdout",
     "output_type": "stream",
     "text": [
      "{'emotion': {'angry': 5.980806466938417e-14, 'disgust': 1.2637783776198908e-26, 'fear': 6.034493446350098, 'happy': 5.29773238611142e-06, 'sad': 1.5446525913353923e-15, 'surprise': 93.9653992652893, 'neutral': 0.00010149726676900173}, 'dominant_emotion': 'surprise', 'region': {'x': 0, 'y': 0, 'w': 1920, 'h': 1080}}\n",
      "😮\n"
     ]
    },
    {
     "name": "stderr",
     "output_type": "stream",
     "text": [
      "Action: emotion: 100%|██████████| 1/1 [00:00<00:00, 29.36it/s]\n"
     ]
    },
    {
     "name": "stdout",
     "output_type": "stream",
     "text": [
      "{'emotion': {'angry': 2.672316307041761e-11, 'disgust': 1.6378427181067844e-24, 'fear': 51.4867901802063, 'happy': 0.002120440149155911, 'sad': 1.0990576396023577e-11, 'surprise': 48.2635498046875, 'neutral': 0.2475431188941002}, 'dominant_emotion': 'fear', 'region': {'x': 0, 'y': 0, 'w': 1920, 'h': 1080}}\n",
      "😨\n"
     ]
    },
    {
     "name": "stderr",
     "output_type": "stream",
     "text": [
      "Action: emotion: 100%|██████████| 1/1 [00:00<00:00, 27.70it/s]\n"
     ]
    },
    {
     "name": "stdout",
     "output_type": "stream",
     "text": [
      "{'emotion': {'angry': 3.2503727343014626e-09, 'disgust': 1.87707608184736e-19, 'fear': 0.4047200790625858, 'happy': 5.300515187399981e-06, 'sad': 8.456626181554029e-09, 'surprise': 99.58425757791147, 'neutral': 0.011017284779908347}, 'dominant_emotion': 'surprise', 'region': {'x': 0, 'y': 0, 'w': 1920, 'h': 1080}}\n",
      "😮\n"
     ]
    },
    {
     "name": "stderr",
     "output_type": "stream",
     "text": [
      "Action: emotion: 100%|██████████| 1/1 [00:00<00:00, 29.45it/s]\n"
     ]
    },
    {
     "name": "stdout",
     "output_type": "stream",
     "text": [
      "{'emotion': {'angry': 9.668110753699365e-21, 'disgust': 5.7978768802990165e-36, 'fear': 87.06099390983582, 'happy': 3.3679442833787e-12, 'sad': 3.0475009182850954e-07, 'surprise': 3.5439395862368883e-07, 'neutral': 12.939006090164185}, 'dominant_emotion': 'fear', 'region': {'x': 0, 'y': 0, 'w': 1920, 'h': 1080}}\n",
      "😨\n"
     ]
    },
    {
     "name": "stderr",
     "output_type": "stream",
     "text": [
      "Action: emotion: 100%|██████████| 1/1 [00:00<00:00, 28.55it/s]\n"
     ]
    },
    {
     "name": "stdout",
     "output_type": "stream",
     "text": [
      "{'emotion': {'angry': 5.345833237437924e-27, 'disgust': 0.0, 'fear': 37.5638484954834, 'happy': 6.13749443316978e-13, 'sad': 1.131000362808443e-08, 'surprise': 7.960078451420272e-11, 'neutral': 62.4361515045166}, 'dominant_emotion': 'neutral', 'region': {'x': 0, 'y': 0, 'w': 1920, 'h': 1080}}\n",
      "😐\n"
     ]
    },
    {
     "name": "stderr",
     "output_type": "stream",
     "text": [
      "Action: emotion: 100%|██████████| 1/1 [00:00<00:00, 31.08it/s]\n"
     ]
    },
    {
     "name": "stdout",
     "output_type": "stream",
     "text": [
      "{'emotion': {'angry': 2.53862101577565e-18, 'disgust': 4.825101126622526e-28, 'fear': 23.520518839359283, 'happy': 9.033201964214754e-09, 'sad': 4.7978511474866536e-05, 'surprise': 5.5852639180287156e-08, 'neutral': 76.47943496704102}, 'dominant_emotion': 'neutral', 'region': {'x': 0, 'y': 0, 'w': 1920, 'h': 1080}}\n",
      "😐\n"
     ]
    },
    {
     "name": "stderr",
     "output_type": "stream",
     "text": [
      "Action: emotion: 100%|██████████| 1/1 [00:00<00:00, 30.46it/s]\n"
     ]
    },
    {
     "name": "stdout",
     "output_type": "stream",
     "text": [
      "{'emotion': {'angry': 1.815072853849276e-17, 'disgust': 5.873502344787581e-29, 'fear': 0.10660463012754917, 'happy': 4.129917328260513e-10, 'sad': 4.879535140389635e-05, 'surprise': 6.783749451934329e-11, 'neutral': 99.8933494091034}, 'dominant_emotion': 'neutral', 'region': {'x': 0, 'y': 0, 'w': 1920, 'h': 1080}}\n",
      "😐\n"
     ]
    },
    {
     "name": "stderr",
     "output_type": "stream",
     "text": [
      "Action: emotion: 100%|██████████| 1/1 [00:00<00:00, 25.71it/s]\n"
     ]
    },
    {
     "name": "stdout",
     "output_type": "stream",
     "text": [
      "{'emotion': {'angry': 4.944380382400613e-17, 'disgust': 7.726770741924513e-29, 'fear': 1.2796410190845142, 'happy': 1.2755284785455777e-10, 'sad': 0.0019713928206303534, 'surprise': 1.7577498326047907e-12, 'neutral': 98.71838681211393}, 'dominant_emotion': 'neutral', 'region': {'x': 0, 'y': 0, 'w': 1920, 'h': 1080}}\n",
      "😐\n"
     ]
    },
    {
     "name": "stderr",
     "output_type": "stream",
     "text": [
      "Action: emotion: 100%|██████████| 1/1 [00:00<00:00, 27.78it/s]\n"
     ]
    },
    {
     "name": "stdout",
     "output_type": "stream",
     "text": [
      "{'emotion': {'angry': 7.49924524144086e-15, 'disgust': 9.44973223542644e-26, 'fear': 1.9455976784229279, 'happy': 2.0674404896392495e-09, 'sad': 0.0006925831712578656, 'surprise': 2.208481227755632e-10, 'neutral': 98.05371165275574}, 'dominant_emotion': 'neutral', 'region': {'x': 0, 'y': 0, 'w': 1920, 'h': 1080}}\n",
      "😐\n"
     ]
    },
    {
     "name": "stderr",
     "output_type": "stream",
     "text": [
      "Action: emotion: 100%|██████████| 1/1 [00:00<00:00, 31.84it/s]\n"
     ]
    },
    {
     "name": "stdout",
     "output_type": "stream",
     "text": [
      "{'emotion': {'angry': 3.59269123839585e-15, 'disgust': 5.975782653682007e-27, 'fear': 0.19853340927511454, 'happy': 1.5824187446500382e-09, 'sad': 0.0005340193638403434, 'surprise': 2.6128420607673952e-09, 'neutral': 99.80093836784363}, 'dominant_emotion': 'neutral', 'region': {'x': 0, 'y': 0, 'w': 1920, 'h': 1080}}\n",
      "😐\n"
     ]
    },
    {
     "name": "stderr",
     "output_type": "stream",
     "text": [
      "Action: emotion: 100%|██████████| 1/1 [00:00<00:00, 28.08it/s]\n"
     ]
    },
    {
     "name": "stdout",
     "output_type": "stream",
     "text": [
      "{'emotion': {'angry': 2.0310044753471225e-16, 'disgust': 8.185111231710186e-33, 'fear': 0.03760113613680005, 'happy': 4.763998440529549e-11, 'sad': 8.67653682234959e-07, 'surprise': 1.0221429822335204e-10, 'neutral': 99.96240139007568}, 'dominant_emotion': 'neutral', 'region': {'x': 0, 'y': 0, 'w': 1920, 'h': 1080}}\n",
      "😐\n"
     ]
    },
    {
     "name": "stderr",
     "output_type": "stream",
     "text": [
      "Action: emotion: 100%|██████████| 1/1 [00:00<00:00, 31.55it/s]\n"
     ]
    },
    {
     "name": "stdout",
     "output_type": "stream",
     "text": [
      "{'emotion': {'angry': 6.469695113395712e-15, 'disgust': 2.3032182468404663e-30, 'fear': 0.040067276448373323, 'happy': 2.3978548924577972e-09, 'sad': 1.235677990285662e-06, 'surprise': 1.3488384147603872e-09, 'neutral': 99.95992780209448}, 'dominant_emotion': 'neutral', 'region': {'x': 0, 'y': 0, 'w': 1920, 'h': 1080}}\n",
      "😐\n"
     ]
    },
    {
     "name": "stderr",
     "output_type": "stream",
     "text": [
      "Action: emotion: 100%|██████████| 1/1 [00:00<00:00, 19.35it/s]\n"
     ]
    },
    {
     "name": "stdout",
     "output_type": "stream",
     "text": [
      "{'emotion': {'angry': 1.1316781719345873e-14, 'disgust': 4.0412097000752753e-29, 'fear': 0.13388014265180484, 'happy': 2.7830977030367745e-09, 'sad': 8.660763289837435e-06, 'surprise': 2.348032672249194e-09, 'neutral': 99.86611007846058}, 'dominant_emotion': 'neutral', 'region': {'x': 0, 'y': 0, 'w': 1920, 'h': 1080}}\n",
      "😐\n"
     ]
    },
    {
     "name": "stderr",
     "output_type": "stream",
     "text": [
      "Action: emotion: 100%|██████████| 1/1 [00:00<00:00, 29.16it/s]\n"
     ]
    },
    {
     "name": "stdout",
     "output_type": "stream",
     "text": [
      "{'emotion': {'angry': 1.4847336129955211e-15, 'disgust': 7.450833326867843e-30, 'fear': 0.09956809226423502, 'happy': 7.288310580055857e-10, 'sad': 3.0544256901521294e-06, 'surprise': 9.393289618353506e-09, 'neutral': 99.90043044090271}, 'dominant_emotion': 'neutral', 'region': {'x': 0, 'y': 0, 'w': 1920, 'h': 1080}}\n",
      "😐\n"
     ]
    },
    {
     "name": "stderr",
     "output_type": "stream",
     "text": [
      "Action: emotion: 100%|██████████| 1/1 [00:00<00:00, 30.86it/s]\n"
     ]
    },
    {
     "name": "stdout",
     "output_type": "stream",
     "text": [
      "{'emotion': {'angry': 2.0620253447764433e-14, 'disgust': 5.587702522481197e-29, 'fear': 0.2568617928773165, 'happy': 3.336031104139714e-09, 'sad': 2.5743364773234134e-06, 'surprise': 2.087456596466808e-08, 'neutral': 99.74313378334045}, 'dominant_emotion': 'neutral', 'region': {'x': 0, 'y': 0, 'w': 1920, 'h': 1080}}\n",
      "😐\n"
     ]
    },
    {
     "name": "stderr",
     "output_type": "stream",
     "text": [
      "Action: emotion: 100%|██████████| 1/1 [00:00<00:00, 32.47it/s]\n"
     ]
    },
    {
     "name": "stdout",
     "output_type": "stream",
     "text": [
      "{'emotion': {'angry': 4.2099697751367404e-11, 'disgust': 4.7655082354020666e-23, 'fear': 3.636501356959343, 'happy': 1.3928980635569133e-06, 'sad': 0.00012909983979625395, 'surprise': 2.973583832499571e-05, 'neutral': 96.36334180831909}, 'dominant_emotion': 'neutral', 'region': {'x': 0, 'y': 0, 'w': 1920, 'h': 1080}}\n",
      "😐\n"
     ]
    },
    {
     "name": "stderr",
     "output_type": "stream",
     "text": [
      "Action: emotion: 100%|██████████| 1/1 [00:00<00:00, 30.44it/s]\n"
     ]
    },
    {
     "name": "stdout",
     "output_type": "stream",
     "text": [
      "{'emotion': {'angry': 1.630368715066226e-07, 'disgust': 1.9232016021402692e-20, 'fear': 99.98505711466414, 'happy': 3.2528176537142325e-08, 'sad': 0.014431085715619369, 'surprise': 1.2361069114623174e-13, 'neutral': 0.0005103413363446906}, 'dominant_emotion': 'fear', 'region': {'x': 0, 'y': 0, 'w': 1920, 'h': 1080}}\n",
      "😨\n"
     ]
    },
    {
     "name": "stderr",
     "output_type": "stream",
     "text": [
      "Action: emotion: 100%|██████████| 1/1 [00:00<00:00, 31.45it/s]\n"
     ]
    },
    {
     "name": "stdout",
     "output_type": "stream",
     "text": [
      "{'emotion': {'angry': 4.950746843729315e-10, 'disgust': 2.4707959213967096e-18, 'fear': 0.00018739627876129816, 'happy': 0.0013299017155077308, 'sad': 1.4378069899976254, 'surprise': 1.0820031055478428e-12, 'neutral': 98.56067895889282}, 'dominant_emotion': 'neutral', 'region': {'x': 0, 'y': 0, 'w': 1920, 'h': 1080}}\n",
      "😐\n"
     ]
    },
    {
     "name": "stderr",
     "output_type": "stream",
     "text": [
      "Action: emotion: 100%|██████████| 1/1 [00:00<00:00, 27.88it/s]\n"
     ]
    },
    {
     "name": "stdout",
     "output_type": "stream",
     "text": [
      "{'emotion': {'angry': 4.4552973772661175e-07, 'disgust': 2.426839101832451e-15, 'fear': 61.22012004612445, 'happy': 0.013457056626208826, 'sad': 3.193625799581313, 'surprise': 0.09291906082663705, 'neutral': 35.47987514974175}, 'dominant_emotion': 'fear', 'region': {'x': 0, 'y': 0, 'w': 1920, 'h': 1080}}\n",
      "😨\n"
     ]
    },
    {
     "name": "stderr",
     "output_type": "stream",
     "text": [
      "Action: emotion: 100%|██████████| 1/1 [00:00<00:00, 29.63it/s]\n"
     ]
    },
    {
     "name": "stdout",
     "output_type": "stream",
     "text": [
      "{'emotion': {'angry': 4.3838547353760385e-10, 'disgust': 3.808247805542559e-19, 'fear': 95.74031880613342, 'happy': 2.321007820142643e-06, 'sad': 2.9849153179031234, 'surprise': 8.962566153294146e-06, 'neutral': 1.2747473426464389}, 'dominant_emotion': 'fear', 'region': {'x': 0, 'y': 0, 'w': 1920, 'h': 1080}}\n",
      "😨\n"
     ]
    },
    {
     "name": "stderr",
     "output_type": "stream",
     "text": [
      "Action: emotion: 100%|██████████| 1/1 [00:00<00:00, 19.16it/s]\n"
     ]
    },
    {
     "name": "stdout",
     "output_type": "stream",
     "text": [
      "{'emotion': {'angry': 1.324431786464686e-07, 'disgust': 2.189331849032478e-15, 'fear': 98.74277114868164, 'happy': 0.000810333585832268, 'sad': 0.09624042431823909, 'surprise': 0.08110522758215666, 'neutral': 1.0790754109621048}, 'dominant_emotion': 'fear', 'region': {'x': 0, 'y': 0, 'w': 1920, 'h': 1080}}\n",
      "😨\n"
     ]
    },
    {
     "name": "stderr",
     "output_type": "stream",
     "text": [
      "Action: emotion: 100%|██████████| 1/1 [00:00<00:00, 28.90it/s]\n"
     ]
    },
    {
     "name": "stdout",
     "output_type": "stream",
     "text": [
      "{'emotion': {'angry': 1.4917649060475213e-08, 'disgust': 5.0420111814164446e-17, 'fear': 98.93961548805237, 'happy': 0.0003696226713145734, 'sad': 0.03553716524038464, 'surprise': 0.84812231361866, 'neutral': 0.1763557898811996}, 'dominant_emotion': 'fear', 'region': {'x': 0, 'y': 0, 'w': 1920, 'h': 1080}}\n",
      "😨\n"
     ]
    },
    {
     "name": "stderr",
     "output_type": "stream",
     "text": [
      "Action: emotion: 100%|██████████| 1/1 [00:00<00:00, 30.60it/s]\n"
     ]
    },
    {
     "name": "stdout",
     "output_type": "stream",
     "text": [
      "{'emotion': {'angry': 1.6632805014368167e-07, 'disgust': 2.0892236972402153e-14, 'fear': 80.847244313195, 'happy': 0.00113423936848768, 'sad': 16.75208906841809, 'surprise': 8.365394636015938e-05, 'neutral': 2.3994519874126903}, 'dominant_emotion': 'fear', 'region': {'x': 0, 'y': 0, 'w': 1920, 'h': 1080}}\n",
      "😨\n"
     ]
    },
    {
     "name": "stderr",
     "output_type": "stream",
     "text": [
      "Action: emotion: 100%|██████████| 1/1 [00:00<00:00, 29.10it/s]\n"
     ]
    },
    {
     "name": "stdout",
     "output_type": "stream",
     "text": [
      "{'emotion': {'angry': 5.4215868382074215e-09, 'disgust': 1.001574485392232e-15, 'fear': 45.6439887709631, 'happy': 0.0012047874789332996, 'sad': 52.391963912014496, 'surprise': 1.5094387938732674e-06, 'neutral': 1.9628347351748068}, 'dominant_emotion': 'sad', 'region': {'x': 0, 'y': 0, 'w': 1920, 'h': 1080}}\n",
      "😢\n"
     ]
    },
    {
     "name": "stderr",
     "output_type": "stream",
     "text": [
      "Action: emotion: 100%|██████████| 1/1 [00:00<00:00, 32.45it/s]\n"
     ]
    },
    {
     "name": "stdout",
     "output_type": "stream",
     "text": [
      "{'emotion': {'angry': 3.21536913497213e-10, 'disgust': 1.67343391257746e-17, 'fear': 51.23709745628223, 'happy': 3.523482444884344e-05, 'sad': 47.06459325936993, 'surprise': 2.8581443361435705e-07, 'neutral': 1.6982763155267426}, 'dominant_emotion': 'fear', 'region': {'x': 0, 'y': 0, 'w': 1920, 'h': 1080}}\n",
      "😨\n"
     ]
    },
    {
     "name": "stderr",
     "output_type": "stream",
     "text": [
      "Action: emotion: 100%|██████████| 1/1 [00:00<00:00, 29.89it/s]\n"
     ]
    },
    {
     "name": "stdout",
     "output_type": "stream",
     "text": [
      "{'emotion': {'angry': 2.867112580337561e-10, 'disgust': 9.176662332331552e-26, 'fear': 99.47905540466309, 'happy': 6.02965697458894e-15, 'sad': 0.45678652822971344, 'surprise': 1.7021361533794965e-10, 'neutral': 0.06415913230739534}, 'dominant_emotion': 'fear', 'region': {'x': 0, 'y': 0, 'w': 1920, 'h': 1080}}\n",
      "😨\n"
     ]
    },
    {
     "name": "stderr",
     "output_type": "stream",
     "text": [
      "Action: emotion: 100%|██████████| 1/1 [00:00<00:00, 30.05it/s]\n"
     ]
    },
    {
     "name": "stdout",
     "output_type": "stream",
     "text": [
      "{'emotion': {'angry': 0.00011455375670266221, 'disgust': 4.9142966951386865e-14, 'fear': 56.8352997303009, 'happy': 6.140116965980269e-05, 'sad': 0.06083762273192406, 'surprise': 1.3286876310303342e-05, 'neutral': 43.10367703437805}, 'dominant_emotion': 'fear', 'region': {'x': 0, 'y': 0, 'w': 1920, 'h': 1080}}\n",
      "😨\n"
     ]
    },
    {
     "name": "stderr",
     "output_type": "stream",
     "text": [
      "Action: emotion: 100%|██████████| 1/1 [00:00<00:00, 21.34it/s]\n"
     ]
    },
    {
     "name": "stdout",
     "output_type": "stream",
     "text": [
      "{'emotion': {'angry': 0.018486962653696537, 'disgust': 4.567833114657366e-13, 'fear': 2.6654137298464775, 'happy': 3.376345887318166e-05, 'sad': 0.1596180140040815, 'surprise': 0.00030844955745124025, 'neutral': 97.15614318847656}, 'dominant_emotion': 'neutral', 'region': {'x': 0, 'y': 0, 'w': 1920, 'h': 1080}}\n",
      "😐\n"
     ]
    },
    {
     "name": "stderr",
     "output_type": "stream",
     "text": [
      "Action: emotion: 100%|██████████| 1/1 [00:00<00:00, 31.21it/s]\n"
     ]
    },
    {
     "name": "stdout",
     "output_type": "stream",
     "text": [
      "{'emotion': {'angry': 1.4334528941617464e-05, 'disgust': 8.067143030420875e-17, 'fear': 0.07952260202728212, 'happy': 0.00010235164609184721, 'sad': 0.0021127076252014376, 'surprise': 1.1703296109999428e-07, 'neutral': 99.91825222969055}, 'dominant_emotion': 'neutral', 'region': {'x': 0, 'y': 0, 'w': 1920, 'h': 1080}}\n",
      "😐\n"
     ]
    },
    {
     "name": "stderr",
     "output_type": "stream",
     "text": [
      "Action: emotion: 100%|██████████| 1/1 [00:00<00:00, 24.95it/s]\n"
     ]
    },
    {
     "name": "stdout",
     "output_type": "stream",
     "text": [
      "{'emotion': {'angry': 7.16414945145516e-05, 'disgust': 1.1638887822319229e-14, 'fear': 0.07344952318817377, 'happy': 1.4168143991355464e-06, 'sad': 6.591370701789856, 'surprise': 5.421937313183911e-11, 'neutral': 93.33510398864746}, 'dominant_emotion': 'neutral', 'region': {'x': 0, 'y': 0, 'w': 1920, 'h': 1080}}\n",
      "😐\n"
     ]
    },
    {
     "name": "stderr",
     "output_type": "stream",
     "text": [
      "Action: emotion: 100%|██████████| 1/1 [00:00<00:00, 33.52it/s]\n"
     ]
    },
    {
     "name": "stdout",
     "output_type": "stream",
     "text": [
      "{'emotion': {'angry': 6.731602297804784e-05, 'disgust': 3.417684158683182e-11, 'fear': 2.3064183096721536e-05, 'happy': 0.13425536453723907, 'sad': 0.02352293231524527, 'surprise': 0.000475364367957809, 'neutral': 99.8416543006897}, 'dominant_emotion': 'neutral', 'region': {'x': 644, 'y': 320, 'w': 238, 'h': 238}}\n",
      "😐\n"
     ]
    },
    {
     "name": "stderr",
     "output_type": "stream",
     "text": [
      "Action: emotion: 100%|██████████| 1/1 [00:00<00:00, 30.53it/s]\n"
     ]
    },
    {
     "name": "stdout",
     "output_type": "stream",
     "text": [
      "{'emotion': {'angry': 8.055237249796066e-12, 'disgust': 1.5305142784618188e-23, 'fear': 99.6898889541626, 'happy': 2.869891620898603e-14, 'sad': 0.30001034028828144, 'surprise': 6.081088323867112e-11, 'neutral': 0.010105659021064639}, 'dominant_emotion': 'fear', 'region': {'x': 0, 'y': 0, 'w': 1920, 'h': 1080}}\n",
      "😨\n"
     ]
    },
    {
     "name": "stderr",
     "output_type": "stream",
     "text": [
      "Action: emotion: 100%|██████████| 1/1 [00:00<00:00, 24.25it/s]\n"
     ]
    },
    {
     "name": "stdout",
     "output_type": "stream",
     "text": [
      "{'emotion': {'angry': 63.269761995658996, 'disgust': 0.00977882577068624, 'fear': 1.9216182855736188, 'happy': 34.73856358161947, 'sad': 0.05978762994185865, 'surprise': 9.290720569312418e-06, 'neutral': 0.0004750193794560528}, 'dominant_emotion': 'angry', 'region': {'x': 654, 'y': 286, 'w': 261, 'h': 261}}\n",
      "😡\n"
     ]
    },
    {
     "name": "stderr",
     "output_type": "stream",
     "text": [
      "Action: emotion: 100%|██████████| 1/1 [00:00<00:00, 29.32it/s]\n"
     ]
    },
    {
     "name": "stdout",
     "output_type": "stream",
     "text": [
      "{'emotion': {'angry': 3.492877126371113e-07, 'disgust': 2.503571277981438e-14, 'fear': 99.87550975376251, 'happy': 0.0001840405510642421, 'sad': 0.013499757761164575, 'surprise': 1.5290089148399997e-05, 'neutral': 0.11078878149300438}, 'dominant_emotion': 'fear', 'region': {'x': 0, 'y': 0, 'w': 1920, 'h': 1080}}\n",
      "😨\n"
     ]
    },
    {
     "name": "stderr",
     "output_type": "stream",
     "text": [
      "Action: emotion: 100%|██████████| 1/1 [00:00<00:00, 30.61it/s]\n"
     ]
    },
    {
     "name": "stdout",
     "output_type": "stream",
     "text": [
      "{'emotion': {'angry': 32.369011640548706, 'disgust': 5.326354539647582e-05, 'fear': 23.75730276107788, 'happy': 5.319526419043541, 'sad': 29.89380955696106, 'surprise': 0.0008961176718003117, 'neutral': 8.659405261278152}, 'dominant_emotion': 'angry', 'region': {'x': 662, 'y': 548, 'w': 150, 'h': 150}}\n",
      "😡\n"
     ]
    },
    {
     "name": "stderr",
     "output_type": "stream",
     "text": [
      "Action: emotion: 100%|██████████| 1/1 [00:00<00:00, 26.88it/s]\n"
     ]
    },
    {
     "name": "stdout",
     "output_type": "stream",
     "text": [
      "{'emotion': {'angry': 48.402115607387756, 'disgust': 0.00018588199253096013, 'fear': 4.48343408009017, 'happy': 0.015129331760832325, 'sad': 1.5676139856942883, 'surprise': 39.27934403892422, 'neutral': 6.2521804125416525}, 'dominant_emotion': 'angry', 'region': {'x': 703, 'y': 282, 'w': 319, 'h': 319}}\n",
      "😡\n"
     ]
    },
    {
     "name": "stderr",
     "output_type": "stream",
     "text": [
      "Action: emotion: 100%|██████████| 1/1 [00:00<00:00, 28.12it/s]\n"
     ]
    },
    {
     "name": "stdout",
     "output_type": "stream",
     "text": [
      "{'emotion': {'angry': 0.03318472777246949, 'disgust': 1.4515821257638573e-07, 'fear': 0.037048019243267866, 'happy': 0.0003416818619508149, 'sad': 0.00025696560107372053, 'surprise': 99.92858768360762, 'neutral': 0.0005769548118927368}, 'dominant_emotion': 'surprise', 'region': {'x': 698, 'y': 286, 'w': 322, 'h': 322}}\n",
      "😮\n"
     ]
    },
    {
     "name": "stderr",
     "output_type": "stream",
     "text": [
      "Action: emotion: 100%|██████████| 1/1 [00:00<00:00, 28.41it/s]\n"
     ]
    },
    {
     "name": "stdout",
     "output_type": "stream",
     "text": [
      "{'emotion': {'angry': 0.032129421015270054, 'disgust': 3.628609634986901e-07, 'fear': 0.13463504146784544, 'happy': 0.0005986490577924997, 'sad': 0.002001051871047821, 'surprise': 99.78598952293396, 'neutral': 0.04464141675271094}, 'dominant_emotion': 'surprise', 'region': {'x': 696, 'y': 290, 'w': 331, 'h': 331}}\n",
      "😮\n"
     ]
    },
    {
     "name": "stderr",
     "output_type": "stream",
     "text": [
      "Action: emotion: 100%|██████████| 1/1 [00:00<00:00, 30.50it/s]\n"
     ]
    },
    {
     "name": "stdout",
     "output_type": "stream",
     "text": [
      "{'emotion': {'angry': 15.254578903590376, 'disgust': 0.0001850557506512029, 'fear': 19.04351377746545, 'happy': 0.022467803385052287, 'sad': 1.2930647309461076, 'surprise': 58.50073447827902, 'neutral': 5.885450520244272}, 'dominant_emotion': 'surprise', 'region': {'x': 701, 'y': 301, 'w': 328, 'h': 328}}\n",
      "😮\n"
     ]
    },
    {
     "name": "stderr",
     "output_type": "stream",
     "text": [
      "Action: emotion: 100%|██████████| 1/1 [00:00<00:00, 32.39it/s]\n"
     ]
    },
    {
     "name": "stdout",
     "output_type": "stream",
     "text": [
      "{'emotion': {'angry': 92.4692089837318, 'disgust': 0.08676270307303685, 'fear': 4.848324051399472, 'happy': 0.00983280537584754, 'sad': 0.5777908833498289, 'surprise': 1.6681482147066722, 'neutral': 0.33993262029782656}, 'dominant_emotion': 'angry', 'region': {'x': 696, 'y': 299, 'w': 335, 'h': 335}}\n",
      "😡\n"
     ]
    },
    {
     "name": "stderr",
     "output_type": "stream",
     "text": [
      "Action: emotion: 100%|██████████| 1/1 [00:00<00:00, 26.30it/s]\n"
     ]
    },
    {
     "name": "stdout",
     "output_type": "stream",
     "text": [
      "{'emotion': {'angry': 13.439707345997412, 'disgust': 0.00040049498921354896, 'fear': 3.593085277904835, 'happy': 0.021248801581238767, 'sad': 0.09012951139679415, 'surprise': 82.6565226725909, 'neutral': 0.19890244541735108}, 'dominant_emotion': 'surprise', 'region': {'x': 702, 'y': 306, 'w': 325, 'h': 325}}\n",
      "😮\n"
     ]
    },
    {
     "name": "stderr",
     "output_type": "stream",
     "text": [
      "Action: emotion: 100%|██████████| 1/1 [00:00<00:00, 27.92it/s]\n"
     ]
    },
    {
     "name": "stdout",
     "output_type": "stream",
     "text": [
      "{'emotion': {'angry': 83.96074580678294, 'disgust': 0.0014070374021896044, 'fear': 9.41071100958717, 'happy': 0.00753368893807026, 'sad': 4.787501145899433, 'surprise': 0.8233459716553654, 'neutral': 1.0087547163670918}, 'dominant_emotion': 'angry', 'region': {'x': 712, 'y': 303, 'w': 315, 'h': 315}}\n",
      "😡\n"
     ]
    },
    {
     "name": "stderr",
     "output_type": "stream",
     "text": [
      "Action: emotion: 100%|██████████| 1/1 [00:00<00:00, 15.57it/s]\n"
     ]
    },
    {
     "name": "stdout",
     "output_type": "stream",
     "text": [
      "{'emotion': {'angry': 72.19159867663367, 'disgust': 0.0009540952533417776, 'fear': 11.322520532908504, 'happy': 0.0061572325712775525, 'sad': 14.617528273764643, 'surprise': 0.421966196980023, 'neutral': 1.4392820971348401}, 'dominant_emotion': 'angry', 'region': {'x': 712, 'y': 300, 'w': 316, 'h': 316}}\n",
      "😡\n"
     ]
    },
    {
     "name": "stderr",
     "output_type": "stream",
     "text": [
      "Action: emotion: 100%|██████████| 1/1 [00:00<00:00, 30.29it/s]\n"
     ]
    },
    {
     "name": "stdout",
     "output_type": "stream",
     "text": [
      "{'emotion': {'angry': 75.56078884367876, 'disgust': 0.002474691029584711, 'fear': 7.008728802724409, 'happy': 0.0233270692922477, 'sad': 9.03762632832684, 'surprise': 7.341255685165863, 'neutral': 1.0258034483077196}, 'dominant_emotion': 'angry', 'region': {'x': 704, 'y': 296, 'w': 330, 'h': 330}}\n",
      "😡\n"
     ]
    },
    {
     "name": "stderr",
     "output_type": "stream",
     "text": [
      "Action: emotion: 100%|██████████| 1/1 [00:00<00:00, 30.05it/s]\n"
     ]
    },
    {
     "name": "stdout",
     "output_type": "stream",
     "text": [
      "{'emotion': {'angry': 0.7840531878173351, 'disgust': 6.392048703673936e-05, 'fear': 0.3863034304231405, 'happy': 0.002879605926864315, 'sad': 0.011200243898201734, 'surprise': 98.61791133880615, 'neutral': 0.19759079441428185}, 'dominant_emotion': 'surprise', 'region': {'x': 704, 'y': 283, 'w': 336, 'h': 336}}\n",
      "😮\n"
     ]
    },
    {
     "name": "stderr",
     "output_type": "stream",
     "text": [
      "Action: emotion: 100%|██████████| 1/1 [00:00<00:00, 28.88it/s]\n"
     ]
    },
    {
     "name": "stdout",
     "output_type": "stream",
     "text": [
      "{'emotion': {'angry': 0.11990486844645519, 'disgust': 0.00016347334264830537, 'fear': 0.7255092795331145, 'happy': 0.003798515446870609, 'sad': 0.0035240383459470156, 'surprise': 99.14073358288603, 'neutral': 0.006362213722324598}, 'dominant_emotion': 'surprise', 'region': {'x': 711, 'y': 279, 'w': 329, 'h': 329}}\n",
      "😮\n"
     ]
    },
    {
     "name": "stderr",
     "output_type": "stream",
     "text": [
      "Action: emotion: 100%|██████████| 1/1 [00:00<00:00, 27.01it/s]\n"
     ]
    },
    {
     "name": "stdout",
     "output_type": "stream",
     "text": [
      "{'emotion': {'angry': 0.0009256529307673103, 'disgust': 1.0952843729790462e-07, 'fear': 0.10122686529394181, 'happy': 0.0012095861886986681, 'sad': 5.759182274626955e-05, 'surprise': 99.89380835853865, 'neutral': 0.002770497650605952}, 'dominant_emotion': 'surprise', 'region': {'x': 710, 'y': 281, 'w': 329, 'h': 329}}\n",
      "😮\n"
     ]
    },
    {
     "name": "stderr",
     "output_type": "stream",
     "text": [
      "Action: emotion: 100%|██████████| 1/1 [00:00<00:00, 31.10it/s]\n"
     ]
    },
    {
     "name": "stdout",
     "output_type": "stream",
     "text": [
      "{'emotion': {'angry': 0.006560451247374415, 'disgust': 2.2643666070712515e-06, 'fear': 0.0613408840036174, 'happy': 0.0006640090700934692, 'sad': 3.227733508568002e-05, 'surprise': 99.93062614981092, 'neutral': 0.0007740068674368686}, 'dominant_emotion': 'surprise', 'region': {'x': 709, 'y': 276, 'w': 328, 'h': 328}}\n",
      "😮\n"
     ]
    },
    {
     "name": "stderr",
     "output_type": "stream",
     "text": [
      "Action: emotion: 100%|██████████| 1/1 [00:00<00:00, 28.38it/s]\n"
     ]
    },
    {
     "name": "stdout",
     "output_type": "stream",
     "text": [
      "{'emotion': {'angry': 0.006727238360326737, 'disgust': 1.6725132923056663e-05, 'fear': 0.09233546443283558, 'happy': 0.0020400359062477946, 'sad': 3.7812105802004226e-05, 'surprise': 99.89849925041199, 'neutral': 0.0003438865860516671}, 'dominant_emotion': 'surprise', 'region': {'x': 703, 'y': 272, 'w': 336, 'h': 336}}\n",
      "😮\n"
     ]
    },
    {
     "name": "stderr",
     "output_type": "stream",
     "text": [
      "Action: emotion: 100%|██████████| 1/1 [00:00<00:00, 20.94it/s]\n"
     ]
    },
    {
     "name": "stdout",
     "output_type": "stream",
     "text": [
      "{'emotion': {'angry': 0.00015854535604375997, 'disgust': 2.5330182396032797e-08, 'fear': 0.021678519260603935, 'happy': 0.00011190519444426172, 'sad': 2.1663138838334817e-06, 'surprise': 99.9778687953949, 'neutral': 0.00018361386082688114}, 'dominant_emotion': 'surprise', 'region': {'x': 708, 'y': 271, 'w': 335, 'h': 335}}\n",
      "😮\n"
     ]
    },
    {
     "name": "stderr",
     "output_type": "stream",
     "text": [
      "Action: emotion: 100%|██████████| 1/1 [00:00<00:00, 30.62it/s]\n"
     ]
    },
    {
     "name": "stdout",
     "output_type": "stream",
     "text": [
      "{'emotion': {'angry': 0.0003240649289402078, 'disgust': 1.2961471771735862e-05, 'fear': 0.10040035671438495, 'happy': 0.001110935367603342, 'sad': 1.5886580822179057e-06, 'surprise': 99.89812971375827, 'neutral': 1.3902274295379452e-05}, 'dominant_emotion': 'surprise', 'region': {'x': 725, 'y': 274, 'w': 330, 'h': 330}}\n",
      "😮\n"
     ]
    },
    {
     "name": "stderr",
     "output_type": "stream",
     "text": [
      "Action: emotion: 100%|██████████| 1/1 [00:00<00:00, 26.02it/s]\n"
     ]
    },
    {
     "name": "stdout",
     "output_type": "stream",
     "text": [
      "{'emotion': {'angry': 0.01960894644964007, 'disgust': 0.00199063773751107, 'fear': 1.059348754960447, 'happy': 0.05501442282288697, 'sad': 0.0007689132864625187, 'surprise': 98.85947717911277, 'neutral': 0.003788237794167886}, 'dominant_emotion': 'surprise', 'region': {'x': 746, 'y': 277, 'w': 311, 'h': 311}}\n",
      "😮\n"
     ]
    }
   ],
   "source": [
    "vid = cv2.VideoCapture(0)\n",
    "\n",
    "# Marca de inicio\n",
    "disponible = 0\n",
    "while (True):\n",
    "    # fotograma a fotograma\n",
    "    ret, frame = vid.read()\n",
    "\n",
    "    if ret:\n",
    "        obj = DeepFace.analyze(frame,\n",
    "                         enforce_detection=False, actions=['emotion'])\n",
    "\n",
    "        obj = obj[0]\n",
    "\n",
    "        #cv2.putText(frame, \"Gender: \" + str(obj[\"gender\"]), (10, 100), cv2.FONT_HERSHEY_SIMPLEX, 1, (0, 0, 255), 2)\n",
    "        cv2.putText(frame, \"Emotion: \" + str(obj[\"emotion\"]), (10, 250), cv2.FONT_HERSHEY_SIMPLEX, 1, (0, 0, 255), 2)\n",
    "        cv2.putText(frame, \"Dominant Emotion: \" + str(obj[\"dominant_emotion\"]), (10, 300), cv2.FONT_HERSHEY_SIMPLEX, 1, (0, 0, 255), 2)\n",
    "\n",
    "        frame = addEmojiOverUsersFace(frame, obj)\n",
    "\n",
    "        cv2.imshow(\"Emociones\", frame)\n",
    "\n",
    "    # Detenemos pulsado ESC\n",
    "    if cv2.waitKey(20) == 27:\n",
    "        break\n",
    "\n",
    "# Libera el objeto de captura\n",
    "vid.release()\n",
    "# Destruye ventanas\n",
    "cv2.destroyAllWindows()"
   ]
  }
 ],
 "metadata": {
  "kernelspec": {
   "display_name": "VC_P6",
   "language": "python",
   "name": "python3"
  },
  "language_info": {
   "codemirror_mode": {
    "name": "ipython",
    "version": 3
   },
   "file_extension": ".py",
   "mimetype": "text/x-python",
   "name": "python",
   "nbconvert_exporter": "python",
   "pygments_lexer": "ipython3",
   "version": "3.11.5"
  }
 },
 "nbformat": 4,
 "nbformat_minor": 2
}
