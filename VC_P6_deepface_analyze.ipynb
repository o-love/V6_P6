{
 "cells": [
  {
   "cell_type": "code",
   "execution_count": 1,
   "id": "4442edb1",
   "metadata": {},
   "outputs": [],
   "source": [
    "import os\n",
    "import cv2\n",
    "from deepface import DeepFace\n",
    "\n"
   ]
  },
  {
   "cell_type": "code",
   "execution_count": null,
   "metadata": {},
   "outputs": [],
   "source": []
  },
  {
   "cell_type": "markdown",
   "id": "c6fd4a50",
   "metadata": {},
   "source": [
    "# Process image folder"
   ]
  },
  {
   "cell_type": "code",
   "execution_count": 5,
   "id": "frank-length",
   "metadata": {},
   "outputs": [
    {
     "name": "stdout",
     "output_type": "stream",
     "text": [
      "./faces\n"
     ]
    },
    {
     "name": "stderr",
     "output_type": "stream",
     "text": [
      "Action: age:   0%|          | 0/4 [00:00<?, ?it/s]    "
     ]
    },
    {
     "name": "stderr",
     "output_type": "stream",
     "text": [
      "Action: emotion: 100%|██████████| 4/4 [00:00<00:00,  7.96it/s]\n"
     ]
    },
    {
     "name": "stdout",
     "output_type": "stream",
     "text": [
      "happy.jpg\n",
      "{'x': 114, 'y': 92, 'w': 172, 'h': 172}\n",
      "33\n",
      "{'Woman': 0.7492887321859598, 'Man': 99.25071597099304}\n",
      "{'asian': 0.21307321942725413, 'indian': 0.18618903014082075, 'black': 0.013073120602275652, 'white': 67.57248253494294, 'middle eastern': 9.647385435984782, 'latino hispanic': 22.367804928756346}\n",
      "white\n",
      "{'angry': 7.673785218376139e-09, 'disgust': 4.9954264372689894e-17, 'fear': 7.287636426533137e-14, 'happy': 99.99966621398926, 'sad': 9.892946921732926e-11, 'surprise': 1.8001022547564638e-09, 'neutral': 0.00033459307360317325}\n",
      "happy\n"
     ]
    },
    {
     "name": "stderr",
     "output_type": "stream",
     "text": [
      "Action: emotion: 100%|██████████| 4/4 [00:00<00:00,  8.12it/s]\n"
     ]
    },
    {
     "name": "stdout",
     "output_type": "stream",
     "text": [
      "face.jpg\n",
      "{'x': 168, 'y': 206, 'w': 685, 'h': 685}\n",
      "31\n",
      "{'Woman': 99.96367692947388, 'Man': 0.03632221487350762}\n",
      "{'asian': 99.88231062889099, 'indian': 0.04763604956679046, 'black': 2.1404301264738024e-05, 'white': 0.002086001586576458, 'middle eastern': 4.271586462323285e-06, 'latino hispanic': 0.06794185610488057}\n",
      "asian\n",
      "{'angry': 5.672605440931733e-09, 'disgust': 1.2499190194164952e-17, 'fear': 4.9032975596441375e-09, 'happy': 98.28952550888062, 'sad': 1.6383832068811444e-07, 'surprise': 0.002308143302798271, 'neutral': 1.7081674188375473}\n",
      "happy\n"
     ]
    },
    {
     "name": "stderr",
     "output_type": "stream",
     "text": [
      "Action: emotion: 100%|██████████| 4/4 [00:00<00:00,  7.53it/s]"
     ]
    },
    {
     "name": "stdout",
     "output_type": "stream",
     "text": [
      "face2.jpg\n",
      "{'x': 162, 'y': 215, 'w': 690, 'h': 690}\n",
      "33\n",
      "{'Woman': 0.0032345215004170313, 'Man': 99.99676942825317}\n",
      "{'asian': 5.3213397473167396e-05, 'indian': 9.247385043342318e-06, 'black': 2.6760923617716544e-07, 'white': 99.95562434725471, 'middle eastern': 0.020072916749088704, 'latino hispanic': 0.024233141469916227}\n",
      "white\n",
      "{'angry': 8.862370393103447e-07, 'disgust': 1.4375161488684035e-11, 'fear': 5.714962281189173e-07, 'happy': 99.99663829803467, 'sad': 1.8166365078897684e-07, 'surprise': 1.9857127053768409e-07, 'neutral': 0.003360685150255449}\n",
      "happy\n"
     ]
    },
    {
     "name": "stderr",
     "output_type": "stream",
     "text": [
      "\n"
     ]
    }
   ],
   "source": [
    "folder = './faces'\n",
    "\n",
    "print(folder)\n",
    "\n",
    "for file_name in os.listdir(folder):\n",
    "    # Asume imágenes en formato png o jpg\n",
    "    if file_name.endswith('.png') or file_name.endswith('.jpg'):\n",
    "        # Procesa la imagen que asume hay cara, no fuerza la detección\n",
    "        obj = DeepFace.analyze(img_path = os.path.join(folder, file_name), enforce_detection=False, actions =['age', 'gender', 'race', 'emotion'])\n",
    "        print(file_name)\n",
    "        obj = obj[0]\n",
    "        print(obj[\"region\"])\n",
    "        print(obj[\"age\"])      \n",
    "        print(obj[\"gender\"])      \n",
    "        print(obj[\"race\"])       \n",
    "        print(obj[\"dominant_race\"]) \n",
    "        print(obj[\"emotion\"])\n",
    "        print(obj[\"dominant_emotion\"])\n",
    "       \n",
    "        \n"
   ]
  },
  {
   "cell_type": "code",
   "execution_count": null,
   "id": "6b1843aa",
   "metadata": {},
   "outputs": [],
   "source": []
  }
 ],
 "metadata": {
  "kernelspec": {
   "display_name": "Python 3.9.0 ('deepface')",
   "language": "python",
   "name": "python3"
  },
  "language_info": {
   "codemirror_mode": {
    "name": "ipython",
    "version": 3
   },
   "file_extension": ".py",
   "mimetype": "text/x-python",
   "name": "python",
   "nbconvert_exporter": "python",
   "pygments_lexer": "ipython3",
   "version": "3.11.5"
  },
  "vscode": {
   "interpreter": {
    "hash": "12028effb1af0cd2244438ff9b17d06bb1d7695ec7a554a144e43ec4b8b79006"
   }
  }
 },
 "nbformat": 4,
 "nbformat_minor": 5
}
